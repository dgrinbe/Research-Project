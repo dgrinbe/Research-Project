{
 "cells": [
  {
   "cell_type": "markdown",
   "id": "e7697f30",
   "metadata": {},
   "source": [
    "<a id='title'></a>\n",
    "\n",
    "# Analyzing the 2020 American Presidential Election using Twitter\n",
    "## Page 3: Twitter Sentiment Analysis\n",
    "\n",
    "<i> David Grinberg</i>\n",
    "___________________"
   ]
  },
  {
   "cell_type": "markdown",
   "id": "28505be3",
   "metadata": {},
   "source": [
    "<a id='contents'> </a>\n",
    "## Table of Contents\n",
    "1. [<b>Project Introduction and 2020 Background Info](./Final_Project_1.ipynb)<br>\n",
    "1. [<b>Analyzing Polling Data](./Final_Project_2.ipynb)<br>\n",
    "1. [<b>Twitter Sentiment Analysis](#title)<br>\n",
    "    3.1 [Packages Used](#packageimports)<br>\n",
    "    3.2 [Reading Data into a DataFrame](#readcsv)<br>\n",
    "    3.3 [Sorting and Cleaning Data](#sorting)<br>\n",
    "    3.4 [Running Sentiment Analysis](#sentimentanalysis)<br>\n",
    "    3.5 [Exporting the Data](#export)<br>    \n",
    "1. [<b>Comparing Polling Data with Sentiment Analysis Data](./Final_Project_4.ipynb)<br>\n",
    "1. [<b>Project Conclusion](./Final_Project_5.ipynb)<br>\n",
    "\n",
    "\n",
    "\n",
    "\n",
    "________________________"
   ]
  },
  {
   "cell_type": "markdown",
   "id": "bfe0441c",
   "metadata": {},
   "source": [
    "<a id='packageimports'></a>\n",
    "### Packages used\n",
    "\n",
    "\n",
    "- Pandas is used to import, edit, manipulate, and create .csv files\n",
    "- NLTK is used to perform Natural Language Processing on the individual tweets used (NLP).\n",
    "\n",
    "[Table of Contents](#contents)\n",
    "________________________"
   ]
  },
  {
   "cell_type": "code",
   "execution_count": 5,
   "id": "571c020e",
   "metadata": {},
   "outputs": [],
   "source": [
    "import pandas as pd\n",
    "import nltk\n",
    "from nltk.sentiment.vader import SentimentIntensityAnalyzer"
   ]
  },
  {
   "cell_type": "markdown",
   "id": "ac7d4442",
   "metadata": {},
   "source": [
    "<div class=\"alert alert-block alert-danger\"> \n",
    "<b> WARNING: Running this notebook uses a large amount of memory and time. This code takes at least 5 hours to run, so please plan accordingly if you intend to run the code in this notebook.\n",
    "</b>    \n",
    "    \n",
    "</div>\n"
   ]
  },
  {
   "cell_type": "markdown",
   "id": "36a719a0",
   "metadata": {},
   "source": [
    "<a id='readcsv'></a>\n",
    "### Reading the data into a Pandas DataFrame\n",
    "\n",
    "In this notebook, we will be using a data set of over 6 million tweets, downloaded from Twitter by Christo Tarazi and Wei Xiao. Like the previous notebook, we will be reading the .csv file into a pandas DataFrame object. Once in a DataFrame, we can then manipulate the data.\n",
    "\n",
    "\n",
    "[[Table of Contents]](#contents)\n",
    "\n",
    "<br>\n",
    "\n",
    "___________________"
   ]
  },
  {
   "cell_type": "code",
   "execution_count": 2,
   "id": "aba2cc6f",
   "metadata": {},
   "outputs": [
    {
     "ename": "FileNotFoundError",
     "evalue": "[Errno 2] No such file or directory: 'F:/Final Project Econ/Sep1toSep16.csv'",
     "output_type": "error",
     "traceback": [
      "\u001b[1;31m---------------------------------------------------------------------------\u001b[0m",
      "\u001b[1;31mFileNotFoundError\u001b[0m                         Traceback (most recent call last)",
      "Input \u001b[1;32mIn [2]\u001b[0m, in \u001b[0;36m<cell line: 3>\u001b[1;34m()\u001b[0m\n\u001b[0;32m      1\u001b[0m pd\u001b[38;5;241m.\u001b[39moptions\u001b[38;5;241m.\u001b[39mdisplay\u001b[38;5;241m.\u001b[39mmax_colwidth\u001b[38;5;241m=\u001b[39m\u001b[38;5;241m999\u001b[39m\n\u001b[1;32m----> 3\u001b[0m df_1\u001b[38;5;241m=\u001b[39m \u001b[43mpd\u001b[49m\u001b[38;5;241;43m.\u001b[39;49m\u001b[43mread_csv\u001b[49m\u001b[43m(\u001b[49m\u001b[38;5;124;43mr\u001b[39;49m\u001b[38;5;124;43m'\u001b[39;49m\u001b[38;5;124;43mF:/Final Project Econ/Sep1toSep16.csv\u001b[39;49m\u001b[38;5;124;43m'\u001b[39;49m\u001b[43m,\u001b[49m\u001b[43mdtype\u001b[49m\u001b[38;5;241;43m=\u001b[39;49m\u001b[43m{\u001b[49m\u001b[38;5;124;43m'\u001b[39;49m\u001b[38;5;124;43mid_str\u001b[39;49m\u001b[38;5;124;43m'\u001b[39;49m\u001b[43m:\u001b[49m\u001b[38;5;28;43mstr\u001b[39;49m\u001b[43m,\u001b[49m\u001b[43m \u001b[49m\u001b[38;5;124;43m'\u001b[39;49m\u001b[38;5;124;43mcreated_at\u001b[39;49m\u001b[38;5;124;43m'\u001b[39;49m\u001b[43m:\u001b[49m\u001b[38;5;28;43mstr\u001b[39;49m\u001b[43m,\u001b[49m\u001b[43m \u001b[49m\u001b[38;5;124;43m'\u001b[39;49m\u001b[38;5;124;43mtext\u001b[39;49m\u001b[38;5;124;43m'\u001b[39;49m\u001b[43m:\u001b[49m\u001b[38;5;28;43mstr\u001b[39;49m\u001b[43m,\u001b[49m\u001b[43m \u001b[49m\u001b[38;5;124;43m'\u001b[39;49m\u001b[38;5;124;43muser_screen_name\u001b[39;49m\u001b[38;5;124;43m'\u001b[39;49m\u001b[43m:\u001b[49m\u001b[38;5;28;43mstr\u001b[39;49m\u001b[43m,\u001b[49m\n\u001b[0;32m      4\u001b[0m \u001b[43m                                           \u001b[49m\u001b[38;5;124;43m'\u001b[39;49m\u001b[38;5;124;43muser_created_at\u001b[39;49m\u001b[38;5;124;43m'\u001b[39;49m\u001b[43m:\u001b[49m\u001b[38;5;28;43mstr\u001b[39;49m\u001b[43m,\u001b[49m\u001b[43m \u001b[49m\u001b[38;5;124;43m'\u001b[39;49m\u001b[38;5;124;43mfavorite_count\u001b[39;49m\u001b[38;5;124;43m'\u001b[39;49m\u001b[43m:\u001b[49m\u001b[38;5;28;43mstr\u001b[39;49m\u001b[43m,\u001b[49m\u001b[43m \u001b[49m\u001b[38;5;124;43m'\u001b[39;49m\u001b[38;5;124;43muser_favourites_count\u001b[39;49m\u001b[38;5;124;43m'\u001b[39;49m\u001b[43m:\u001b[49m\u001b[38;5;28;43mstr\u001b[39;49m\u001b[43m,\u001b[49m\n\u001b[0;32m      5\u001b[0m \u001b[43m                                           \u001b[49m\u001b[38;5;124;43m'\u001b[39;49m\u001b[38;5;124;43muser_followers_count\u001b[39;49m\u001b[38;5;124;43m'\u001b[39;49m\u001b[43m:\u001b[49m\u001b[38;5;28;43mstr\u001b[39;49m\u001b[43m,\u001b[49m\u001b[38;5;124;43m'\u001b[39;49m\u001b[38;5;124;43muser_friends_count\u001b[39;49m\u001b[38;5;124;43m'\u001b[39;49m\u001b[43m:\u001b[49m\u001b[38;5;28;43mstr\u001b[39;49m\u001b[43m,\u001b[49m\u001b[43m \u001b[49m\u001b[38;5;124;43m'\u001b[39;49m\u001b[38;5;124;43mis_quote\u001b[39;49m\u001b[38;5;124;43m'\u001b[39;49m\u001b[43m:\u001b[49m\u001b[38;5;28;43mstr\u001b[39;49m\u001b[43m,\u001b[49m\n\u001b[0;32m      6\u001b[0m \u001b[43m                                           \u001b[49m\u001b[38;5;124;43m'\u001b[39;49m\u001b[38;5;124;43mretweeted\u001b[39;49m\u001b[38;5;124;43m'\u001b[39;49m\u001b[43m:\u001b[49m\u001b[38;5;28;43mstr\u001b[39;49m\u001b[43m,\u001b[49m\u001b[43m \u001b[49m\u001b[38;5;124;43m'\u001b[39;49m\u001b[38;5;124;43muser_listed_count\u001b[39;49m\u001b[38;5;124;43m'\u001b[39;49m\u001b[43m:\u001b[49m\u001b[38;5;28;43mstr\u001b[39;49m\u001b[43m,\u001b[49m\u001b[38;5;124;43m'\u001b[39;49m\u001b[38;5;124;43mretweet_count\u001b[39;49m\u001b[38;5;124;43m'\u001b[39;49m\u001b[43m:\u001b[49m\u001b[38;5;28;43mstr\u001b[39;49m\u001b[43m,\u001b[49m\u001b[43m \u001b[49m\u001b[38;5;124;43m'\u001b[39;49m\u001b[38;5;124;43muser_statuses_count\u001b[39;49m\u001b[38;5;124;43m'\u001b[39;49m\u001b[43m:\u001b[49m\u001b[38;5;28;43mstr\u001b[39;49m\u001b[43m,\u001b[49m\n\u001b[0;32m      7\u001b[0m \u001b[43m                                           \u001b[49m\u001b[38;5;124;43m'\u001b[39;49m\u001b[38;5;124;43muser_id_str\u001b[39;49m\u001b[38;5;124;43m'\u001b[39;49m\u001b[43m:\u001b[49m\u001b[38;5;28;43mstr\u001b[39;49m\u001b[43m,\u001b[49m\u001b[43m \u001b[49m\u001b[38;5;124;43m'\u001b[39;49m\u001b[38;5;124;43muser_verified\u001b[39;49m\u001b[38;5;124;43m'\u001b[39;49m\u001b[43m:\u001b[49m\u001b[38;5;28;43mstr\u001b[39;49m\u001b[43m,\u001b[49m\u001b[38;5;124;43m'\u001b[39;49m\u001b[38;5;124;43muser_description\u001b[39;49m\u001b[38;5;124;43m'\u001b[39;49m\u001b[43m:\u001b[49m\u001b[38;5;28;43mstr\u001b[39;49m\u001b[43m,\u001b[49m\u001b[43m \u001b[49m\u001b[38;5;124;43m'\u001b[39;49m\u001b[38;5;124;43muser_location\u001b[39;49m\u001b[38;5;124;43m'\u001b[39;49m\u001b[43m:\u001b[49m\u001b[38;5;28;43mstr\u001b[39;49m\u001b[43m,\u001b[49m\n\u001b[0;32m      8\u001b[0m \u001b[43m                                           \u001b[49m\u001b[38;5;124;43m'\u001b[39;49m\u001b[38;5;124;43muser_name\u001b[39;49m\u001b[38;5;124;43m'\u001b[39;49m\u001b[43m:\u001b[49m\u001b[38;5;28;43mstr\u001b[39;49m\u001b[43m,\u001b[49m\u001b[43m \u001b[49m\u001b[38;5;124;43m'\u001b[39;49m\u001b[38;5;124;43mgeo\u001b[39;49m\u001b[38;5;124;43m'\u001b[39;49m\u001b[43m:\u001b[49m\u001b[38;5;28;43mstr\u001b[39;49m\u001b[43m,\u001b[49m\u001b[43m \u001b[49m\u001b[38;5;124;43m'\u001b[39;49m\u001b[38;5;124;43mlongitutde\u001b[39;49m\u001b[38;5;124;43m'\u001b[39;49m\u001b[43m:\u001b[49m\u001b[38;5;28;43mstr\u001b[39;49m\u001b[43m,\u001b[49m\u001b[38;5;124;43m'\u001b[39;49m\u001b[38;5;124;43mlatitude\u001b[39;49m\u001b[38;5;124;43m'\u001b[39;49m\u001b[43m:\u001b[49m\u001b[38;5;28;43mstr\u001b[39;49m\u001b[43m,\u001b[49m\u001b[43m \u001b[49m\u001b[38;5;124;43m'\u001b[39;49m\u001b[38;5;124;43mplace\u001b[39;49m\u001b[38;5;124;43m'\u001b[39;49m\u001b[43m:\u001b[49m\u001b[38;5;28;43mstr\u001b[39;49m\u001b[43m,\u001b[49m\u001b[43m \u001b[49m\u001b[38;5;124;43m'\u001b[39;49m\u001b[38;5;124;43mlang\u001b[39;49m\u001b[38;5;124;43m'\u001b[39;49m\u001b[43m:\u001b[49m\u001b[38;5;28;43mstr\u001b[39;49m\u001b[43m,\u001b[49m\n\u001b[0;32m      9\u001b[0m \u001b[43m                                           \u001b[49m\u001b[38;5;124;43m'\u001b[39;49m\u001b[38;5;124;43mreply_count\u001b[39;49m\u001b[38;5;124;43m'\u001b[39;49m\u001b[43m:\u001b[49m\u001b[38;5;28;43mstr\u001b[39;49m\u001b[43m,\u001b[49m\u001b[43m \u001b[49m\u001b[38;5;124;43m'\u001b[39;49m\u001b[38;5;124;43mquote_count\u001b[39;49m\u001b[38;5;124;43m'\u001b[39;49m\u001b[43m:\u001b[49m\u001b[38;5;28;43mstr\u001b[39;49m\u001b[43m,\u001b[49m\u001b[43m \u001b[49m\u001b[38;5;124;43m'\u001b[39;49m\u001b[38;5;124;43mcandidate\u001b[39;49m\u001b[38;5;124;43m'\u001b[39;49m\u001b[43m:\u001b[49m\u001b[38;5;28;43mstr\u001b[39;49m\u001b[43m,\u001b[49m\u001b[38;5;124;43m'\u001b[39;49m\u001b[38;5;124;43mpolarity\u001b[39;49m\u001b[38;5;124;43m'\u001b[39;49m\u001b[43m:\u001b[49m\u001b[38;5;28;43mstr\u001b[39;49m\u001b[43m,\u001b[49m\u001b[43m \u001b[49m\u001b[38;5;124;43m'\u001b[39;49m\u001b[38;5;124;43mpolarity_origin\u001b[39;49m\u001b[38;5;124;43m'\u001b[39;49m\u001b[43m:\u001b[49m\u001b[38;5;28;43mstr\u001b[39;49m\u001b[43m}\u001b[49m\u001b[43m)\u001b[49m\n",
      "File \u001b[1;32mC:\\ProgramData\\Anaconda3\\lib\\site-packages\\pandas\\util\\_decorators.py:311\u001b[0m, in \u001b[0;36mdeprecate_nonkeyword_arguments.<locals>.decorate.<locals>.wrapper\u001b[1;34m(*args, **kwargs)\u001b[0m\n\u001b[0;32m    305\u001b[0m \u001b[38;5;28;01mif\u001b[39;00m \u001b[38;5;28mlen\u001b[39m(args) \u001b[38;5;241m>\u001b[39m num_allow_args:\n\u001b[0;32m    306\u001b[0m     warnings\u001b[38;5;241m.\u001b[39mwarn(\n\u001b[0;32m    307\u001b[0m         msg\u001b[38;5;241m.\u001b[39mformat(arguments\u001b[38;5;241m=\u001b[39marguments),\n\u001b[0;32m    308\u001b[0m         \u001b[38;5;167;01mFutureWarning\u001b[39;00m,\n\u001b[0;32m    309\u001b[0m         stacklevel\u001b[38;5;241m=\u001b[39mstacklevel,\n\u001b[0;32m    310\u001b[0m     )\n\u001b[1;32m--> 311\u001b[0m \u001b[38;5;28;01mreturn\u001b[39;00m func(\u001b[38;5;241m*\u001b[39margs, \u001b[38;5;241m*\u001b[39m\u001b[38;5;241m*\u001b[39mkwargs)\n",
      "File \u001b[1;32mC:\\ProgramData\\Anaconda3\\lib\\site-packages\\pandas\\io\\parsers\\readers.py:680\u001b[0m, in \u001b[0;36mread_csv\u001b[1;34m(filepath_or_buffer, sep, delimiter, header, names, index_col, usecols, squeeze, prefix, mangle_dupe_cols, dtype, engine, converters, true_values, false_values, skipinitialspace, skiprows, skipfooter, nrows, na_values, keep_default_na, na_filter, verbose, skip_blank_lines, parse_dates, infer_datetime_format, keep_date_col, date_parser, dayfirst, cache_dates, iterator, chunksize, compression, thousands, decimal, lineterminator, quotechar, quoting, doublequote, escapechar, comment, encoding, encoding_errors, dialect, error_bad_lines, warn_bad_lines, on_bad_lines, delim_whitespace, low_memory, memory_map, float_precision, storage_options)\u001b[0m\n\u001b[0;32m    665\u001b[0m kwds_defaults \u001b[38;5;241m=\u001b[39m _refine_defaults_read(\n\u001b[0;32m    666\u001b[0m     dialect,\n\u001b[0;32m    667\u001b[0m     delimiter,\n\u001b[1;32m   (...)\u001b[0m\n\u001b[0;32m    676\u001b[0m     defaults\u001b[38;5;241m=\u001b[39m{\u001b[38;5;124m\"\u001b[39m\u001b[38;5;124mdelimiter\u001b[39m\u001b[38;5;124m\"\u001b[39m: \u001b[38;5;124m\"\u001b[39m\u001b[38;5;124m,\u001b[39m\u001b[38;5;124m\"\u001b[39m},\n\u001b[0;32m    677\u001b[0m )\n\u001b[0;32m    678\u001b[0m kwds\u001b[38;5;241m.\u001b[39mupdate(kwds_defaults)\n\u001b[1;32m--> 680\u001b[0m \u001b[38;5;28;01mreturn\u001b[39;00m \u001b[43m_read\u001b[49m\u001b[43m(\u001b[49m\u001b[43mfilepath_or_buffer\u001b[49m\u001b[43m,\u001b[49m\u001b[43m \u001b[49m\u001b[43mkwds\u001b[49m\u001b[43m)\u001b[49m\n",
      "File \u001b[1;32mC:\\ProgramData\\Anaconda3\\lib\\site-packages\\pandas\\io\\parsers\\readers.py:575\u001b[0m, in \u001b[0;36m_read\u001b[1;34m(filepath_or_buffer, kwds)\u001b[0m\n\u001b[0;32m    572\u001b[0m _validate_names(kwds\u001b[38;5;241m.\u001b[39mget(\u001b[38;5;124m\"\u001b[39m\u001b[38;5;124mnames\u001b[39m\u001b[38;5;124m\"\u001b[39m, \u001b[38;5;28;01mNone\u001b[39;00m))\n\u001b[0;32m    574\u001b[0m \u001b[38;5;66;03m# Create the parser.\u001b[39;00m\n\u001b[1;32m--> 575\u001b[0m parser \u001b[38;5;241m=\u001b[39m TextFileReader(filepath_or_buffer, \u001b[38;5;241m*\u001b[39m\u001b[38;5;241m*\u001b[39mkwds)\n\u001b[0;32m    577\u001b[0m \u001b[38;5;28;01mif\u001b[39;00m chunksize \u001b[38;5;129;01mor\u001b[39;00m iterator:\n\u001b[0;32m    578\u001b[0m     \u001b[38;5;28;01mreturn\u001b[39;00m parser\n",
      "File \u001b[1;32mC:\\ProgramData\\Anaconda3\\lib\\site-packages\\pandas\\io\\parsers\\readers.py:933\u001b[0m, in \u001b[0;36mTextFileReader.__init__\u001b[1;34m(self, f, engine, **kwds)\u001b[0m\n\u001b[0;32m    930\u001b[0m     \u001b[38;5;28mself\u001b[39m\u001b[38;5;241m.\u001b[39moptions[\u001b[38;5;124m\"\u001b[39m\u001b[38;5;124mhas_index_names\u001b[39m\u001b[38;5;124m\"\u001b[39m] \u001b[38;5;241m=\u001b[39m kwds[\u001b[38;5;124m\"\u001b[39m\u001b[38;5;124mhas_index_names\u001b[39m\u001b[38;5;124m\"\u001b[39m]\n\u001b[0;32m    932\u001b[0m \u001b[38;5;28mself\u001b[39m\u001b[38;5;241m.\u001b[39mhandles: IOHandles \u001b[38;5;241m|\u001b[39m \u001b[38;5;28;01mNone\u001b[39;00m \u001b[38;5;241m=\u001b[39m \u001b[38;5;28;01mNone\u001b[39;00m\n\u001b[1;32m--> 933\u001b[0m \u001b[38;5;28mself\u001b[39m\u001b[38;5;241m.\u001b[39m_engine \u001b[38;5;241m=\u001b[39m \u001b[38;5;28;43mself\u001b[39;49m\u001b[38;5;241;43m.\u001b[39;49m\u001b[43m_make_engine\u001b[49m\u001b[43m(\u001b[49m\u001b[43mf\u001b[49m\u001b[43m,\u001b[49m\u001b[43m \u001b[49m\u001b[38;5;28;43mself\u001b[39;49m\u001b[38;5;241;43m.\u001b[39;49m\u001b[43mengine\u001b[49m\u001b[43m)\u001b[49m\n",
      "File \u001b[1;32mC:\\ProgramData\\Anaconda3\\lib\\site-packages\\pandas\\io\\parsers\\readers.py:1217\u001b[0m, in \u001b[0;36mTextFileReader._make_engine\u001b[1;34m(self, f, engine)\u001b[0m\n\u001b[0;32m   1213\u001b[0m     mode \u001b[38;5;241m=\u001b[39m \u001b[38;5;124m\"\u001b[39m\u001b[38;5;124mrb\u001b[39m\u001b[38;5;124m\"\u001b[39m\n\u001b[0;32m   1214\u001b[0m \u001b[38;5;66;03m# error: No overload variant of \"get_handle\" matches argument types\u001b[39;00m\n\u001b[0;32m   1215\u001b[0m \u001b[38;5;66;03m# \"Union[str, PathLike[str], ReadCsvBuffer[bytes], ReadCsvBuffer[str]]\"\u001b[39;00m\n\u001b[0;32m   1216\u001b[0m \u001b[38;5;66;03m# , \"str\", \"bool\", \"Any\", \"Any\", \"Any\", \"Any\", \"Any\"\u001b[39;00m\n\u001b[1;32m-> 1217\u001b[0m \u001b[38;5;28mself\u001b[39m\u001b[38;5;241m.\u001b[39mhandles \u001b[38;5;241m=\u001b[39m \u001b[43mget_handle\u001b[49m\u001b[43m(\u001b[49m\u001b[43m  \u001b[49m\u001b[38;5;66;43;03m# type: ignore[call-overload]\u001b[39;49;00m\n\u001b[0;32m   1218\u001b[0m \u001b[43m    \u001b[49m\u001b[43mf\u001b[49m\u001b[43m,\u001b[49m\n\u001b[0;32m   1219\u001b[0m \u001b[43m    \u001b[49m\u001b[43mmode\u001b[49m\u001b[43m,\u001b[49m\n\u001b[0;32m   1220\u001b[0m \u001b[43m    \u001b[49m\u001b[43mencoding\u001b[49m\u001b[38;5;241;43m=\u001b[39;49m\u001b[38;5;28;43mself\u001b[39;49m\u001b[38;5;241;43m.\u001b[39;49m\u001b[43moptions\u001b[49m\u001b[38;5;241;43m.\u001b[39;49m\u001b[43mget\u001b[49m\u001b[43m(\u001b[49m\u001b[38;5;124;43m\"\u001b[39;49m\u001b[38;5;124;43mencoding\u001b[39;49m\u001b[38;5;124;43m\"\u001b[39;49m\u001b[43m,\u001b[49m\u001b[43m \u001b[49m\u001b[38;5;28;43;01mNone\u001b[39;49;00m\u001b[43m)\u001b[49m\u001b[43m,\u001b[49m\n\u001b[0;32m   1221\u001b[0m \u001b[43m    \u001b[49m\u001b[43mcompression\u001b[49m\u001b[38;5;241;43m=\u001b[39;49m\u001b[38;5;28;43mself\u001b[39;49m\u001b[38;5;241;43m.\u001b[39;49m\u001b[43moptions\u001b[49m\u001b[38;5;241;43m.\u001b[39;49m\u001b[43mget\u001b[49m\u001b[43m(\u001b[49m\u001b[38;5;124;43m\"\u001b[39;49m\u001b[38;5;124;43mcompression\u001b[39;49m\u001b[38;5;124;43m\"\u001b[39;49m\u001b[43m,\u001b[49m\u001b[43m \u001b[49m\u001b[38;5;28;43;01mNone\u001b[39;49;00m\u001b[43m)\u001b[49m\u001b[43m,\u001b[49m\n\u001b[0;32m   1222\u001b[0m \u001b[43m    \u001b[49m\u001b[43mmemory_map\u001b[49m\u001b[38;5;241;43m=\u001b[39;49m\u001b[38;5;28;43mself\u001b[39;49m\u001b[38;5;241;43m.\u001b[39;49m\u001b[43moptions\u001b[49m\u001b[38;5;241;43m.\u001b[39;49m\u001b[43mget\u001b[49m\u001b[43m(\u001b[49m\u001b[38;5;124;43m\"\u001b[39;49m\u001b[38;5;124;43mmemory_map\u001b[39;49m\u001b[38;5;124;43m\"\u001b[39;49m\u001b[43m,\u001b[49m\u001b[43m \u001b[49m\u001b[38;5;28;43;01mFalse\u001b[39;49;00m\u001b[43m)\u001b[49m\u001b[43m,\u001b[49m\n\u001b[0;32m   1223\u001b[0m \u001b[43m    \u001b[49m\u001b[43mis_text\u001b[49m\u001b[38;5;241;43m=\u001b[39;49m\u001b[43mis_text\u001b[49m\u001b[43m,\u001b[49m\n\u001b[0;32m   1224\u001b[0m \u001b[43m    \u001b[49m\u001b[43merrors\u001b[49m\u001b[38;5;241;43m=\u001b[39;49m\u001b[38;5;28;43mself\u001b[39;49m\u001b[38;5;241;43m.\u001b[39;49m\u001b[43moptions\u001b[49m\u001b[38;5;241;43m.\u001b[39;49m\u001b[43mget\u001b[49m\u001b[43m(\u001b[49m\u001b[38;5;124;43m\"\u001b[39;49m\u001b[38;5;124;43mencoding_errors\u001b[39;49m\u001b[38;5;124;43m\"\u001b[39;49m\u001b[43m,\u001b[49m\u001b[43m \u001b[49m\u001b[38;5;124;43m\"\u001b[39;49m\u001b[38;5;124;43mstrict\u001b[39;49m\u001b[38;5;124;43m\"\u001b[39;49m\u001b[43m)\u001b[49m\u001b[43m,\u001b[49m\n\u001b[0;32m   1225\u001b[0m \u001b[43m    \u001b[49m\u001b[43mstorage_options\u001b[49m\u001b[38;5;241;43m=\u001b[39;49m\u001b[38;5;28;43mself\u001b[39;49m\u001b[38;5;241;43m.\u001b[39;49m\u001b[43moptions\u001b[49m\u001b[38;5;241;43m.\u001b[39;49m\u001b[43mget\u001b[49m\u001b[43m(\u001b[49m\u001b[38;5;124;43m\"\u001b[39;49m\u001b[38;5;124;43mstorage_options\u001b[39;49m\u001b[38;5;124;43m\"\u001b[39;49m\u001b[43m,\u001b[49m\u001b[43m \u001b[49m\u001b[38;5;28;43;01mNone\u001b[39;49;00m\u001b[43m)\u001b[49m\u001b[43m,\u001b[49m\n\u001b[0;32m   1226\u001b[0m \u001b[43m\u001b[49m\u001b[43m)\u001b[49m\n\u001b[0;32m   1227\u001b[0m \u001b[38;5;28;01massert\u001b[39;00m \u001b[38;5;28mself\u001b[39m\u001b[38;5;241m.\u001b[39mhandles \u001b[38;5;129;01mis\u001b[39;00m \u001b[38;5;129;01mnot\u001b[39;00m \u001b[38;5;28;01mNone\u001b[39;00m\n\u001b[0;32m   1228\u001b[0m f \u001b[38;5;241m=\u001b[39m \u001b[38;5;28mself\u001b[39m\u001b[38;5;241m.\u001b[39mhandles\u001b[38;5;241m.\u001b[39mhandle\n",
      "File \u001b[1;32mC:\\ProgramData\\Anaconda3\\lib\\site-packages\\pandas\\io\\common.py:789\u001b[0m, in \u001b[0;36mget_handle\u001b[1;34m(path_or_buf, mode, encoding, compression, memory_map, is_text, errors, storage_options)\u001b[0m\n\u001b[0;32m    784\u001b[0m \u001b[38;5;28;01melif\u001b[39;00m \u001b[38;5;28misinstance\u001b[39m(handle, \u001b[38;5;28mstr\u001b[39m):\n\u001b[0;32m    785\u001b[0m     \u001b[38;5;66;03m# Check whether the filename is to be opened in binary mode.\u001b[39;00m\n\u001b[0;32m    786\u001b[0m     \u001b[38;5;66;03m# Binary mode does not support 'encoding' and 'newline'.\u001b[39;00m\n\u001b[0;32m    787\u001b[0m     \u001b[38;5;28;01mif\u001b[39;00m ioargs\u001b[38;5;241m.\u001b[39mencoding \u001b[38;5;129;01mand\u001b[39;00m \u001b[38;5;124m\"\u001b[39m\u001b[38;5;124mb\u001b[39m\u001b[38;5;124m\"\u001b[39m \u001b[38;5;129;01mnot\u001b[39;00m \u001b[38;5;129;01min\u001b[39;00m ioargs\u001b[38;5;241m.\u001b[39mmode:\n\u001b[0;32m    788\u001b[0m         \u001b[38;5;66;03m# Encoding\u001b[39;00m\n\u001b[1;32m--> 789\u001b[0m         handle \u001b[38;5;241m=\u001b[39m \u001b[38;5;28;43mopen\u001b[39;49m\u001b[43m(\u001b[49m\n\u001b[0;32m    790\u001b[0m \u001b[43m            \u001b[49m\u001b[43mhandle\u001b[49m\u001b[43m,\u001b[49m\n\u001b[0;32m    791\u001b[0m \u001b[43m            \u001b[49m\u001b[43mioargs\u001b[49m\u001b[38;5;241;43m.\u001b[39;49m\u001b[43mmode\u001b[49m\u001b[43m,\u001b[49m\n\u001b[0;32m    792\u001b[0m \u001b[43m            \u001b[49m\u001b[43mencoding\u001b[49m\u001b[38;5;241;43m=\u001b[39;49m\u001b[43mioargs\u001b[49m\u001b[38;5;241;43m.\u001b[39;49m\u001b[43mencoding\u001b[49m\u001b[43m,\u001b[49m\n\u001b[0;32m    793\u001b[0m \u001b[43m            \u001b[49m\u001b[43merrors\u001b[49m\u001b[38;5;241;43m=\u001b[39;49m\u001b[43merrors\u001b[49m\u001b[43m,\u001b[49m\n\u001b[0;32m    794\u001b[0m \u001b[43m            \u001b[49m\u001b[43mnewline\u001b[49m\u001b[38;5;241;43m=\u001b[39;49m\u001b[38;5;124;43m\"\u001b[39;49m\u001b[38;5;124;43m\"\u001b[39;49m\u001b[43m,\u001b[49m\n\u001b[0;32m    795\u001b[0m \u001b[43m        \u001b[49m\u001b[43m)\u001b[49m\n\u001b[0;32m    796\u001b[0m     \u001b[38;5;28;01melse\u001b[39;00m:\n\u001b[0;32m    797\u001b[0m         \u001b[38;5;66;03m# Binary mode\u001b[39;00m\n\u001b[0;32m    798\u001b[0m         handle \u001b[38;5;241m=\u001b[39m \u001b[38;5;28mopen\u001b[39m(handle, ioargs\u001b[38;5;241m.\u001b[39mmode)\n",
      "\u001b[1;31mFileNotFoundError\u001b[0m: [Errno 2] No such file or directory: 'F:/Final Project Econ/Sep1toSep16.csv'"
     ]
    }
   ],
   "source": [
    "pd.options.display.max_colwidth=999\n",
    "\n",
    "df_1= pd.read_csv(r'F:/Final Project Econ/Sep1toSep16.csv',dtype={'id_str':str, 'created_at':str, 'text':str, 'user_screen_name':str,\n",
    "                                           'user_created_at':str, 'favorite_count':str, 'user_favourites_count':str,\n",
    "                                           'user_followers_count':str,'user_friends_count':str, 'is_quote':str,\n",
    "                                           'retweeted':str, 'user_listed_count':str,'retweet_count':str, 'user_statuses_count':str,\n",
    "                                           'user_id_str':str, 'user_verified':str,'user_description':str, 'user_location':str,\n",
    "                                           'user_name':str, 'geo':str, 'longitutde':str,'latitude':str, 'place':str, 'lang':str,\n",
    "                                           'reply_count':str, 'quote_count':str, 'candidate':str,'polarity':str, 'polarity_origin':str})\n",
    "\n"
   ]
  },
  {
   "cell_type": "code",
   "execution_count": null,
   "id": "f20d5d00",
   "metadata": {},
   "outputs": [],
   "source": [
    "df_1=df_1.loc[:,['created_at','text']]\n",
    "df_1['created_at']=pd.to_datetime(df_1['created_at']).dt.date\n"
   ]
  },
  {
   "cell_type": "code",
   "execution_count": null,
   "id": "df1730b7",
   "metadata": {},
   "outputs": [],
   "source": [
    "df_2= pd.read_csv(r'F:/Final Project Econ/Sep16toNov20.csv',dtype={'id_str':str, 'created_at':str, 'text':str, 'user_screen_name':str,\n",
    "                                           'user_created_at':str, 'favorite_count':str, 'user_favourites_count':str,\n",
    "                                           'user_followers_count':str,'user_friends_count':str, 'is_quote':str,\n",
    "                                           'retweeted':str, 'user_listed_count':str,'retweet_count':str, 'user_statuses_count':str,\n",
    "                                           'user_id_str':str, 'user_verified':str,'user_description':str, 'user_location':str,\n",
    "                                           'user_name':str, 'geo':str, 'longitutde':str,'latitude':str, 'place':str, 'lang':str,\n",
    "                                           'reply_count':str, 'quote_count':str, 'candidate':str,'polarity':str, 'polarity_origin':str})\n",
    "\n",
    "\n",
    "\n",
    "df_2=df_2.loc[:,['created_at','text']]\n",
    "df_2.sort_values(by=['created_at'],ascending=False)"
   ]
  },
  {
   "cell_type": "code",
   "execution_count": null,
   "id": "70859012",
   "metadata": {},
   "outputs": [],
   "source": [
    "df_2['created_at']=pd.to_datetime(df_2['created_at']).dt.date\n",
    "df_2=df_2.astype(str)\n",
    "df_2=df_2[df_2['created_at']!= \"2020-09-16\"]"
   ]
  },
  {
   "cell_type": "code",
   "execution_count": null,
   "id": "dbcec56e",
   "metadata": {},
   "outputs": [],
   "source": [
    "df_1=df_1.drop_duplicates(subset=['text'])\n",
    "df_2=df_2.drop_duplicates(subset=['text'])"
   ]
  },
  {
   "cell_type": "code",
   "execution_count": null,
   "id": "57a1a95b",
   "metadata": {},
   "outputs": [],
   "source": [
    "frames=[df_1,df_2]\n",
    "df=pd.concat(frames)\n",
    "\n",
    "del(df_1,df_2)\n",
    "df.sort_index(ascending=True)"
   ]
  },
  {
   "cell_type": "code",
   "execution_count": null,
   "id": "2fa878a0",
   "metadata": {},
   "outputs": [],
   "source": [
    "df['created_at']=pd.to_datetime(df['created_at'])\n",
    "df.set_index('created_at',inplace=True)\n",
    "df.head(2)"
   ]
  },
  {
   "cell_type": "code",
   "execution_count": null,
   "id": "ecb20a03",
   "metadata": {},
   "outputs": [],
   "source": [
    "df.drop_duplicates(inplace=True)\n",
    "df = df.replace(r'\\n',' ', regex=True) \n",
    "df = df.replace(r'\\r',' ', regex=True) "
   ]
  },
  {
   "cell_type": "code",
   "execution_count": null,
   "id": "800cf847",
   "metadata": {},
   "outputs": [],
   "source": [
    "df.to_csv(r'F:/Final Project Econ/twitter_data.csv')"
   ]
  },
  {
   "cell_type": "markdown",
   "id": "28253a00",
   "metadata": {},
   "source": [
    "<a id='sorting'></a>\n",
    "### Sorting and Cleaning the Data\n",
    "\n",
    "On Twitter, there are a lot of bots that are programmed to post the same Tweets at the same time. Before performing sentiment analysis, we will clean up the dataset by removing duplicate tweets. Once clean, we can isolate tweets based on which candidate they reference.\n",
    "\n",
    "\n",
    "\n",
    "[[Table of Contents]](#contents)\n",
    "\n",
    "\n",
    "___________________"
   ]
  },
  {
   "cell_type": "code",
   "execution_count": 1,
   "id": "e9c8c71f",
   "metadata": {},
   "outputs": [],
   "source": [
    "import pandas as pd\n",
    "import nltk\n",
    "from nltk.sentiment.vader import SentimentIntensityAnalyzer"
   ]
  },
  {
   "cell_type": "code",
   "execution_count": 2,
   "id": "be2a571a",
   "metadata": {},
   "outputs": [
    {
     "data": {
      "text/html": [
       "<div>\n",
       "<style scoped>\n",
       "    .dataframe tbody tr th:only-of-type {\n",
       "        vertical-align: middle;\n",
       "    }\n",
       "\n",
       "    .dataframe tbody tr th {\n",
       "        vertical-align: top;\n",
       "    }\n",
       "\n",
       "    .dataframe thead th {\n",
       "        text-align: right;\n",
       "    }\n",
       "</style>\n",
       "<table border=\"1\" class=\"dataframe\">\n",
       "  <thead>\n",
       "    <tr style=\"text-align: right;\">\n",
       "      <th></th>\n",
       "      <th>created_at</th>\n",
       "      <th>text</th>\n",
       "    </tr>\n",
       "  </thead>\n",
       "  <tbody>\n",
       "    <tr>\n",
       "      <th>0</th>\n",
       "      <td>2020-09-01</td>\n",
       "      <td>Anyone else notice that Trump supporters have ...</td>\n",
       "    </tr>\n",
       "    <tr>\n",
       "      <th>1</th>\n",
       "      <td>2020-09-01</td>\n",
       "      <td>Where in the f*ck is he?????</td>\n",
       "    </tr>\n",
       "    <tr>\n",
       "      <th>2</th>\n",
       "      <td>2020-09-01</td>\n",
       "      <td>First #TheCorruptPartyOfTrump #LootingDecency...</td>\n",
       "    </tr>\n",
       "    <tr>\n",
       "      <th>3</th>\n",
       "      <td>2020-09-01</td>\n",
       "      <td>Political and cultural elites like this rarely...</td>\n",
       "    </tr>\n",
       "    <tr>\n",
       "      <th>4</th>\n",
       "      <td>2020-09-01</td>\n",
       "      <td>Can we take the gloves off and tell the truth?...</td>\n",
       "    </tr>\n",
       "  </tbody>\n",
       "</table>\n",
       "</div>"
      ],
      "text/plain": [
       "   created_at                                               text\n",
       "0  2020-09-01  Anyone else notice that Trump supporters have ...\n",
       "1  2020-09-01                       Where in the f*ck is he?????\n",
       "2  2020-09-01   First #TheCorruptPartyOfTrump #LootingDecency...\n",
       "3  2020-09-01  Political and cultural elites like this rarely...\n",
       "4  2020-09-01  Can we take the gloves off and tell the truth?..."
      ]
     },
     "execution_count": 2,
     "metadata": {},
     "output_type": "execute_result"
    }
   ],
   "source": [
    "df=pd.read_csv(r'D:/Final Project Econ/twitter_data.csv')\n",
    "df.head()"
   ]
  },
  {
   "cell_type": "code",
   "execution_count": 3,
   "id": "92ef65eb",
   "metadata": {},
   "outputs": [
    {
     "name": "stderr",
     "output_type": "stream",
     "text": [
      "[nltk_data] Downloading package vader_lexicon to\n",
      "[nltk_data]     C:\\Users\\capma\\AppData\\Roaming\\nltk_data...\n",
      "[nltk_data]   Package vader_lexicon is already up-to-date!\n"
     ]
    }
   ],
   "source": [
    "nltk.download('vader_lexicon')\n",
    "analyzer = SentimentIntensityAnalyzer()\n",
    "df.dropna(inplace=True)\n"
   ]
  },
  {
   "cell_type": "code",
   "execution_count": 4,
   "id": "fdf8ebf7",
   "metadata": {},
   "outputs": [
    {
     "name": "stderr",
     "output_type": "stream",
     "text": [
      "C:\\Users\\capma\\AppData\\Local\\Temp\\ipykernel_28000\\2311146927.py:5: SettingWithCopyWarning: \n",
      "A value is trying to be set on a copy of a slice from a DataFrame.\n",
      "Try using .loc[row_indexer,col_indexer] = value instead\n",
      "\n",
      "See the caveats in the documentation: https://pandas.pydata.org/pandas-docs/stable/user_guide/indexing.html#returning-a-view-versus-a-copy\n",
      "  buttiegieg['neg'] = buttiegieg['text'].apply(lambda x:analyzer.polarity_scores(x)['neg'])\n"
     ]
    },
    {
     "name": "stdout",
     "output_type": "stream",
     "text": [
      "buttiegieg1/4\n"
     ]
    },
    {
     "name": "stderr",
     "output_type": "stream",
     "text": [
      "C:\\Users\\capma\\AppData\\Local\\Temp\\ipykernel_28000\\2311146927.py:8: SettingWithCopyWarning: \n",
      "A value is trying to be set on a copy of a slice from a DataFrame.\n",
      "Try using .loc[row_indexer,col_indexer] = value instead\n",
      "\n",
      "See the caveats in the documentation: https://pandas.pydata.org/pandas-docs/stable/user_guide/indexing.html#returning-a-view-versus-a-copy\n",
      "  buttiegieg['neu'] = buttiegieg['text'].apply(lambda x:analyzer.polarity_scores(x)['neu'])\n"
     ]
    },
    {
     "name": "stdout",
     "output_type": "stream",
     "text": [
      "buttiegieg2/4\n"
     ]
    },
    {
     "name": "stderr",
     "output_type": "stream",
     "text": [
      "C:\\Users\\capma\\AppData\\Local\\Temp\\ipykernel_28000\\2311146927.py:11: SettingWithCopyWarning: \n",
      "A value is trying to be set on a copy of a slice from a DataFrame.\n",
      "Try using .loc[row_indexer,col_indexer] = value instead\n",
      "\n",
      "See the caveats in the documentation: https://pandas.pydata.org/pandas-docs/stable/user_guide/indexing.html#returning-a-view-versus-a-copy\n",
      "  buttiegieg['pos'] = buttiegieg['text'].apply(lambda x:analyzer.polarity_scores(x)['pos'])\n"
     ]
    },
    {
     "name": "stdout",
     "output_type": "stream",
     "text": [
      "buttiegieg 3/4\n"
     ]
    },
    {
     "name": "stderr",
     "output_type": "stream",
     "text": [
      "C:\\Users\\capma\\AppData\\Local\\Temp\\ipykernel_28000\\2311146927.py:14: SettingWithCopyWarning: \n",
      "A value is trying to be set on a copy of a slice from a DataFrame.\n",
      "Try using .loc[row_indexer,col_indexer] = value instead\n",
      "\n",
      "See the caveats in the documentation: https://pandas.pydata.org/pandas-docs/stable/user_guide/indexing.html#returning-a-view-versus-a-copy\n",
      "  buttiegieg['compound'] = buttiegieg['text'].apply(lambda x:analyzer.polarity_scores(x)['compound'])\n"
     ]
    },
    {
     "name": "stdout",
     "output_type": "stream",
     "text": [
      "buttiegieg Sentiment Analysis Completed\n"
     ]
    }
   ],
   "source": [
    "buttiegieg=df.copy()\n",
    "buttiegieg = df['text'].str.contains(\"pete|buttiegieg\",case=False)\n",
    "buttiegieg=df[buttiegieg]\n",
    "\n",
    "buttiegieg['neg'] = buttiegieg['text'].apply(lambda x:analyzer.polarity_scores(x)['neg'])\n",
    "print(\"buttiegieg 1/4\")\n",
    "\n",
    "buttiegieg['neu'] = buttiegieg['text'].apply(lambda x:analyzer.polarity_scores(x)['neu'])\n",
    "print(\"buttiegieg 2/4\")\n",
    "\n",
    "buttiegieg['pos'] = buttiegieg['text'].apply(lambda x:analyzer.polarity_scores(x)['pos'])\n",
    "print(\"buttiegieg 3/4\")\n",
    "\n",
    "buttiegieg['compound'] = buttiegieg['text'].apply(lambda x:analyzer.polarity_scores(x)['compound'])\n",
    "print(\"buttiegieg Sentiment Analysis Completed\")\n",
    "buttiegieg.to_csv(r'D:/Final Project Econ/buttiegieg sentiment and tweets.csv',index=True)\n",
    "del buttiegieg\n"
   ]
  },
  {
   "cell_type": "code",
   "execution_count": 5,
   "id": "0f05912a",
   "metadata": {},
   "outputs": [
    {
     "name": "stderr",
     "output_type": "stream",
     "text": [
      "C:\\Users\\capma\\AppData\\Local\\Temp\\ipykernel_28000\\2422825058.py:5: SettingWithCopyWarning: \n",
      "A value is trying to be set on a copy of a slice from a DataFrame.\n",
      "Try using .loc[row_indexer,col_indexer] = value instead\n",
      "\n",
      "See the caveats in the documentation: https://pandas.pydata.org/pandas-docs/stable/user_guide/indexing.html#returning-a-view-versus-a-copy\n",
      "  tulsi['neg'] = tulsi['text'].apply(lambda x:analyzer.polarity_scores(x)['neg'])\n"
     ]
    },
    {
     "name": "stdout",
     "output_type": "stream",
     "text": [
      "tulsi1/4\n"
     ]
    },
    {
     "name": "stderr",
     "output_type": "stream",
     "text": [
      "C:\\Users\\capma\\AppData\\Local\\Temp\\ipykernel_28000\\2422825058.py:8: SettingWithCopyWarning: \n",
      "A value is trying to be set on a copy of a slice from a DataFrame.\n",
      "Try using .loc[row_indexer,col_indexer] = value instead\n",
      "\n",
      "See the caveats in the documentation: https://pandas.pydata.org/pandas-docs/stable/user_guide/indexing.html#returning-a-view-versus-a-copy\n",
      "  tulsi['neu'] = tulsi['text'].apply(lambda x:analyzer.polarity_scores(x)['neu'])\n"
     ]
    },
    {
     "name": "stdout",
     "output_type": "stream",
     "text": [
      "tulsi2/4\n"
     ]
    },
    {
     "name": "stderr",
     "output_type": "stream",
     "text": [
      "C:\\Users\\capma\\AppData\\Local\\Temp\\ipykernel_28000\\2422825058.py:11: SettingWithCopyWarning: \n",
      "A value is trying to be set on a copy of a slice from a DataFrame.\n",
      "Try using .loc[row_indexer,col_indexer] = value instead\n",
      "\n",
      "See the caveats in the documentation: https://pandas.pydata.org/pandas-docs/stable/user_guide/indexing.html#returning-a-view-versus-a-copy\n",
      "  tulsi['pos'] = tulsi['text'].apply(lambda x:analyzer.polarity_scores(x)['pos'])\n"
     ]
    },
    {
     "name": "stdout",
     "output_type": "stream",
     "text": [
      "tulsi 3/4\n"
     ]
    },
    {
     "name": "stderr",
     "output_type": "stream",
     "text": [
      "C:\\Users\\capma\\AppData\\Local\\Temp\\ipykernel_28000\\2422825058.py:14: SettingWithCopyWarning: \n",
      "A value is trying to be set on a copy of a slice from a DataFrame.\n",
      "Try using .loc[row_indexer,col_indexer] = value instead\n",
      "\n",
      "See the caveats in the documentation: https://pandas.pydata.org/pandas-docs/stable/user_guide/indexing.html#returning-a-view-versus-a-copy\n",
      "  tulsi['compound'] = tulsi['text'].apply(lambda x:analyzer.polarity_scores(x)['compound'])\n"
     ]
    },
    {
     "name": "stdout",
     "output_type": "stream",
     "text": [
      "tulsi Sentiment Analysis Completed\n"
     ]
    }
   ],
   "source": [
    "tulsi=df.copy()\n",
    "tulsi = df['text'].str.contains(\"tulsi|gabbard\",case=False)\n",
    "tulsi=df[tulsi]\n",
    "\n",
    "tulsi['neg'] = tulsi['text'].apply(lambda x:analyzer.polarity_scores(x)['neg'])\n",
    "print(\"tulsi 1/4\")\n",
    "\n",
    "tulsi['neu'] = tulsi['text'].apply(lambda x:analyzer.polarity_scores(x)['neu'])\n",
    "print(\"tulsi 2/4\")\n",
    "\n",
    "tulsi['pos'] = tulsi['text'].apply(lambda x:analyzer.polarity_scores(x)['pos'])\n",
    "print(\"tulsi 3/4\")\n",
    "\n",
    "tulsi['compound'] = tulsi['text'].apply(lambda x:analyzer.polarity_scores(x)['compound'])\n",
    "print(\"tulsi Sentiment Analysis Completed\")\n",
    "tulsi.to_csv(r'D:/Final Project Econ/tulsi sentiment and tweets.csv',index=True)\n",
    "del tulsi"
   ]
  },
  {
   "cell_type": "code",
   "execution_count": 6,
   "id": "3b7c8bc2",
   "metadata": {},
   "outputs": [
    {
     "name": "stderr",
     "output_type": "stream",
     "text": [
      "C:\\Users\\capma\\AppData\\Local\\Temp\\ipykernel_28000\\3020020109.py:5: SettingWithCopyWarning: \n",
      "A value is trying to be set on a copy of a slice from a DataFrame.\n",
      "Try using .loc[row_indexer,col_indexer] = value instead\n",
      "\n",
      "See the caveats in the documentation: https://pandas.pydata.org/pandas-docs/stable/user_guide/indexing.html#returning-a-view-versus-a-copy\n",
      "  yang['neg'] = yang['text'].apply(lambda x:analyzer.polarity_scores(x)['neg'])\n"
     ]
    },
    {
     "name": "stdout",
     "output_type": "stream",
     "text": [
      "yang1/4\n"
     ]
    },
    {
     "name": "stderr",
     "output_type": "stream",
     "text": [
      "C:\\Users\\capma\\AppData\\Local\\Temp\\ipykernel_28000\\3020020109.py:8: SettingWithCopyWarning: \n",
      "A value is trying to be set on a copy of a slice from a DataFrame.\n",
      "Try using .loc[row_indexer,col_indexer] = value instead\n",
      "\n",
      "See the caveats in the documentation: https://pandas.pydata.org/pandas-docs/stable/user_guide/indexing.html#returning-a-view-versus-a-copy\n",
      "  yang['neu'] = yang['text'].apply(lambda x:analyzer.polarity_scores(x)['neu'])\n"
     ]
    },
    {
     "name": "stdout",
     "output_type": "stream",
     "text": [
      "yang2/4\n"
     ]
    },
    {
     "name": "stderr",
     "output_type": "stream",
     "text": [
      "C:\\Users\\capma\\AppData\\Local\\Temp\\ipykernel_28000\\3020020109.py:11: SettingWithCopyWarning: \n",
      "A value is trying to be set on a copy of a slice from a DataFrame.\n",
      "Try using .loc[row_indexer,col_indexer] = value instead\n",
      "\n",
      "See the caveats in the documentation: https://pandas.pydata.org/pandas-docs/stable/user_guide/indexing.html#returning-a-view-versus-a-copy\n",
      "  yang['pos'] = yang['text'].apply(lambda x:analyzer.polarity_scores(x)['pos'])\n"
     ]
    },
    {
     "name": "stdout",
     "output_type": "stream",
     "text": [
      "yang 3/4\n"
     ]
    },
    {
     "name": "stderr",
     "output_type": "stream",
     "text": [
      "C:\\Users\\capma\\AppData\\Local\\Temp\\ipykernel_28000\\3020020109.py:14: SettingWithCopyWarning: \n",
      "A value is trying to be set on a copy of a slice from a DataFrame.\n",
      "Try using .loc[row_indexer,col_indexer] = value instead\n",
      "\n",
      "See the caveats in the documentation: https://pandas.pydata.org/pandas-docs/stable/user_guide/indexing.html#returning-a-view-versus-a-copy\n",
      "  yang['compound'] = yang['text'].apply(lambda x:analyzer.polarity_scores(x)['compound'])\n"
     ]
    },
    {
     "name": "stdout",
     "output_type": "stream",
     "text": [
      "yang Sentiment Analysis Completed\n"
     ]
    }
   ],
   "source": [
    "yang=df.copy()\n",
    "yang = df['text'].str.contains(\"yang|andrew\",case=False)\n",
    "yang=df[yang]\n",
    "\n",
    "yang['neg'] = yang['text'].apply(lambda x:analyzer.polarity_scores(x)['neg'])\n",
    "print(\"yang1/4\")\n",
    "\n",
    "yang['neu'] = yang['text'].apply(lambda x:analyzer.polarity_scores(x)['neu'])\n",
    "print(\"yang2/4\")\n",
    "\n",
    "yang['pos'] = yang['text'].apply(lambda x:analyzer.polarity_scores(x)['pos'])\n",
    "print(\"yang 3/4\")\n",
    "\n",
    "yang['compound'] = yang['text'].apply(lambda x:analyzer.polarity_scores(x)['compound'])\n",
    "print(\"yang Sentiment Analysis Completed\")\n",
    "yang.to_csv(r'D:/Final Project Econ/yang sentiment and tweets.csv',index=True)\n",
    "del yang"
   ]
  },
  {
   "cell_type": "code",
   "execution_count": 7,
   "id": "2ba37bf3",
   "metadata": {},
   "outputs": [
    {
     "name": "stderr",
     "output_type": "stream",
     "text": [
      "C:\\Users\\capma\\AppData\\Local\\Temp\\ipykernel_28000\\4050029206.py:5: SettingWithCopyWarning: \n",
      "A value is trying to be set on a copy of a slice from a DataFrame.\n",
      "Try using .loc[row_indexer,col_indexer] = value instead\n",
      "\n",
      "See the caveats in the documentation: https://pandas.pydata.org/pandas-docs/stable/user_guide/indexing.html#returning-a-view-versus-a-copy\n",
      "  bloomberg['neg'] = bloomberg['text'].apply(lambda x:analyzer.polarity_scores(x)['neg'])\n"
     ]
    },
    {
     "name": "stdout",
     "output_type": "stream",
     "text": [
      "bloomberg1/4\n"
     ]
    },
    {
     "name": "stderr",
     "output_type": "stream",
     "text": [
      "C:\\Users\\capma\\AppData\\Local\\Temp\\ipykernel_28000\\4050029206.py:8: SettingWithCopyWarning: \n",
      "A value is trying to be set on a copy of a slice from a DataFrame.\n",
      "Try using .loc[row_indexer,col_indexer] = value instead\n",
      "\n",
      "See the caveats in the documentation: https://pandas.pydata.org/pandas-docs/stable/user_guide/indexing.html#returning-a-view-versus-a-copy\n",
      "  bloomberg['neu'] = bloomberg['text'].apply(lambda x:analyzer.polarity_scores(x)['neu'])\n"
     ]
    },
    {
     "name": "stdout",
     "output_type": "stream",
     "text": [
      "bloomberg2/4\n"
     ]
    },
    {
     "name": "stderr",
     "output_type": "stream",
     "text": [
      "C:\\Users\\capma\\AppData\\Local\\Temp\\ipykernel_28000\\4050029206.py:11: SettingWithCopyWarning: \n",
      "A value is trying to be set on a copy of a slice from a DataFrame.\n",
      "Try using .loc[row_indexer,col_indexer] = value instead\n",
      "\n",
      "See the caveats in the documentation: https://pandas.pydata.org/pandas-docs/stable/user_guide/indexing.html#returning-a-view-versus-a-copy\n",
      "  bloomberg['pos'] = bloomberg['text'].apply(lambda x:analyzer.polarity_scores(x)['pos'])\n"
     ]
    },
    {
     "name": "stdout",
     "output_type": "stream",
     "text": [
      "bloomberg 3/4\n"
     ]
    },
    {
     "name": "stderr",
     "output_type": "stream",
     "text": [
      "C:\\Users\\capma\\AppData\\Local\\Temp\\ipykernel_28000\\4050029206.py:14: SettingWithCopyWarning: \n",
      "A value is trying to be set on a copy of a slice from a DataFrame.\n",
      "Try using .loc[row_indexer,col_indexer] = value instead\n",
      "\n",
      "See the caveats in the documentation: https://pandas.pydata.org/pandas-docs/stable/user_guide/indexing.html#returning-a-view-versus-a-copy\n",
      "  bloomberg['compound'] = bloomberg['text'].apply(lambda x:analyzer.polarity_scores(x)['compound'])\n"
     ]
    },
    {
     "name": "stdout",
     "output_type": "stream",
     "text": [
      "bloomberg Sentiment Analysis Completed\n"
     ]
    }
   ],
   "source": [
    "bloomberg=df.copy()\n",
    "bloomberg = df['text'].str.contains(\"bloomberg\",case=False)\n",
    "bloomberg=df[bloomberg]\n",
    "\n",
    "bloomberg['neg'] = bloomberg['text'].apply(lambda x:analyzer.polarity_scores(x)['neg'])\n",
    "print(\"bloomberg 1/4\")\n",
    "\n",
    "bloomberg['neu'] = bloomberg['text'].apply(lambda x:analyzer.polarity_scores(x)['neu'])\n",
    "print(\"bloomberg 2/4\")\n",
    "\n",
    "bloomberg['pos'] = bloomberg['text'].apply(lambda x:analyzer.polarity_scores(x)['pos'])\n",
    "print(\"bloomberg 3/4\")\n",
    "\n",
    "bloomberg['compound'] = bloomberg['text'].apply(lambda x:analyzer.polarity_scores(x)['compound'])\n",
    "print(\"bloomberg Sentiment Analysis Completed\")\n",
    "bloomberg.to_csv(r'D:/Final Project Econ/bloomberg sentiment and tweets.csv',index=True)\n",
    "del bloomberg"
   ]
  },
  {
   "cell_type": "code",
   "execution_count": null,
   "id": "baad21eb",
   "metadata": {},
   "outputs": [],
   "source": []
  },
  {
   "cell_type": "markdown",
   "id": "bb9d9830",
   "metadata": {},
   "source": [
    "trump=df.copy()\n",
    "trump = df['text'].str.contains(\"trump|don\",case=False)\n",
    "trump=df[trump]\n",
    "\n",
    "trump['neg'] = trump['text'].apply(lambda x:analyzer.polarity_scores(x)['neg'])\n",
    "print(\"Trump1/4\")\n",
    "\n",
    "trump['neu'] = trump['text'].apply(lambda x:analyzer.polarity_scores(x)['neu'])\n",
    "print(\"Trump2/4\")\n",
    "\n",
    "trump['pos'] = trump['text'].apply(lambda x:analyzer.polarity_scores(x)['pos'])\n",
    "print(\"Trump 3/4\")\n",
    "\n",
    "trump['compound'] = trump['text'].apply(lambda x:analyzer.polarity_scores(x)['compound'])\n",
    "print(\"Trump Sentiment Analysis Completed\")\n",
    "trump.to_csv(r'D:/Final Project Econ/trump sentiment and tweets.csv',index=True)\n",
    "del trump"
   ]
  },
  {
   "cell_type": "markdown",
   "id": "7621f719",
   "metadata": {},
   "source": [
    "biden=df.copy()\n",
    "biden = df['text'].str.contains(\"biden|joe\",case=False)\n",
    "biden=df[biden]\n",
    "\n",
    "biden['neg'] = biden['text'].apply(lambda x:analyzer.polarity_scores(x)['neg'])\n",
    "print(\"Biden 1/4\")\n",
    "\n",
    "biden['neu'] = biden['text'].apply(lambda x:analyzer.polarity_scores(x)['neu'])\n",
    "print(\"Biden2/4\")\n",
    "\n",
    "biden['pos'] = biden['text'].apply(lambda x:analyzer.polarity_scores(x)['pos'])\n",
    "print(\"Biden 3/4\")\n",
    "\n",
    "biden['compound'] =  biden['text'].apply(lambda x:analyzer.polarity_scores(x)['compound'])\n",
    "print(\"Biden Sentiment Analysis Completed\")\n",
    "biden.to_csv(r'D:/Final Project Econ/biden sentiment and tweets.csv',index=True)\n",
    "\n",
    "del biden"
   ]
  },
  {
   "cell_type": "markdown",
   "id": "9e6bf7c9",
   "metadata": {},
   "source": [
    "pence=df.copy()\n",
    "pence= df['text'].str.contains(\"pence|mike\",case=False)\n",
    "pence=df[pence]\n",
    "\n",
    "pence['neg'] = pence['text'].apply(lambda x:analyzer.polarity_scores(x)['neg'])\n",
    "print(\"pence 1/4\")\n",
    "\n",
    "pence['neu'] = pence['text'].apply(lambda x:analyzer.polarity_scores(x)['neu'])\n",
    "print(\"pence2/4\")\n",
    "\n",
    "pence['pos'] = pence['text'].apply(lambda x:analyzer.polarity_scores(x)['pos'])\n",
    "print(\"pence 3/4\")\n",
    "\n",
    "pence['compound'] =  pence['text'].apply(lambda x:analyzer.polarity_scores(x)['compound'])\n",
    "print(\"pence Sentiment Analysis Completed\")\n",
    "pence.to_csv(r'D:/Final Project Econ/pence sentiment and tweets.csv',index=True)\n",
    "\n",
    "del pence"
   ]
  },
  {
   "cell_type": "markdown",
   "id": "ad7a5775",
   "metadata": {},
   "source": [
    "kamala=df.copy()\n",
    "kamala= df['text'].str.contains(\"harris|kamala\",case=False)\n",
    "kamala=df[kamala]\n",
    "\n",
    "kamala['neg'] = kamala['text'].apply(lambda x:analyzer.polarity_scores(x)['neg'])\n",
    "print(\"kamala 1/4\")\n",
    "\n",
    "kamala['neu'] = kamala['text'].apply(lambda x:analyzer.polarity_scores(x)['neu'])\n",
    "print(\"kamala2/4\")\n",
    "\n",
    "kamala['pos'] = kamala['text'].apply(lambda x:analyzer.polarity_scores(x)['pos'])\n",
    "print(\"kamala 3/4\")\n",
    "\n",
    "kamala['compound'] =  kamala['text'].apply(lambda x:analyzer.polarity_scores(x)['compound'])\n",
    "print(\"kamala Sentiment Analysis Completed\")\n",
    "kamala.to_csv(r'D:/Final Project Econ/kamala sentiment and tweets.csv',index=True)\n",
    "\n",
    "del kamala"
   ]
  },
  {
   "cell_type": "markdown",
   "id": "e523edc2",
   "metadata": {},
   "source": [
    "dem=df.copy()\n",
    "dem= df['text'].str.contains(\"democrat|dem |dems\",case=False)\n",
    "dem=df[dem]\n",
    "\n",
    "dem['neg'] = dem['text'].apply(lambda x:analyzer.polarity_scores(x)['neg'])\n",
    "print(\"dem 1/4\")\n",
    "\n",
    "dem['neu'] = dem['text'].apply(lambda x:analyzer.polarity_scores(x)['neu'])\n",
    "print(\"dem 2/4\")\n",
    "\n",
    "dem['pos'] = dem['text'].apply(lambda x:analyzer.polarity_scores(x)['pos'])\n",
    "print(\"dem 3/4\")\n",
    "\n",
    "dem['compound'] =  dem['text'].apply(lambda x:analyzer.polarity_scores(x)['compound'])\n",
    "print(\"dem Sentiment Analysis Completed\")\n",
    "dem.to_csv(r'D:/Final Project Econ/dem sentiment and tweets.csv',index=True)\n",
    "\n",
    "del dem"
   ]
  },
  {
   "cell_type": "markdown",
   "id": "20733925",
   "metadata": {},
   "source": [
    "gop=df.copy()\n",
    "gop= df['text'].str.contains(\"gop|repub|republican\",case=False)\n",
    "gop=df[gop]\n",
    "\n",
    "gop['neg'] = gop['text'].apply(lambda x:analyzer.polarity_scores(x)['neg'])\n",
    "print(\"gop 1/4\")\n",
    "\n",
    "gop['neu'] = gop['text'].apply(lambda x:analyzer.polarity_scores(x)['neu'])\n",
    "print(\"gop2/4\")\n",
    "\n",
    "gop['pos'] = gop['text'].apply(lambda x:analyzer.polarity_scores(x)['pos'])\n",
    "print(\"gop 3/4\")\n",
    "\n",
    "gop['compound'] =  gop['text'].apply(lambda x:analyzer.polarity_scores(x)['compound'])\n",
    "print(\"gop Sentiment Analysis Completed\")\n",
    "gop.to_csv(r'D:/Final Project Econ/gop sentiment and tweets.csv',index=True)\n",
    "\n",
    "del gop"
   ]
  },
  {
   "cell_type": "markdown",
   "id": "bb722b8f",
   "metadata": {},
   "source": [
    "bernie=df.copy()\n",
    "bernie= df['text'].str.contains(\"bernie|bern|sanders\",case=False)\n",
    "bernie=df[bernie]\n",
    "\n",
    "bernie['neg'] = bernie['text'].apply(lambda x:analyzer.polarity_scores(x)['neg'])\n",
    "print(\"bernie 1/4\")\n",
    "\n",
    "bernie['neu'] = bernie['text'].apply(lambda x:analyzer.polarity_scores(x)['neu'])\n",
    "print(\"bernie2/4\")\n",
    "\n",
    "bernie['pos'] = bernie['text'].apply(lambda x:analyzer.polarity_scores(x)['pos'])\n",
    "print(\"bernie 3/4\")\n",
    "\n",
    "bernie['compound'] =  bernie['text'].apply(lambda x:analyzer.polarity_scores(x)['compound'])\n",
    "print(\"bernie Sentiment Analysis Completed\")\n",
    "bernie.to_csv(r'D:/Final Project Econ/bernie sentiment and tweets.csv',index=True)\n",
    "del bernie"
   ]
  },
  {
   "cell_type": "markdown",
   "id": "a981c9ba",
   "metadata": {},
   "source": [
    "pelosi=df.copy()\n",
    "pelosi= df['text'].str.contains(\"pelosi|nancy|speaker of the house\",case=False)\n",
    "pelosi=df[pelosi]\n",
    "\n",
    "pelosi['neg'] = pelosi['text'].apply(lambda x:analyzer.polarity_scores(x)['neg'])\n",
    "print(\"pelosi 1/4\")\n",
    "\n",
    "pelosi['neu'] = pelosi['text'].apply(lambda x:analyzer.polarity_scores(x)['neu'])\n",
    "print(\"pelosi2/4\")\n",
    "\n",
    "pelosi['pos'] = pelosi['text'].apply(lambda x:analyzer.polarity_scores(x)['pos'])\n",
    "print(\"pelosi 3/4\")\n",
    "\n",
    "pelosi['compound'] =  pelosi['text'].apply(lambda x:analyzer.polarity_scores(x)['compound'])\n",
    "print(\"pelosi Sentiment Analysis Completed\")\n",
    "pelosi.to_csv(r'D:/Final Project Econ/pelosi sentiment and tweets.csv',index=True)"
   ]
  },
  {
   "cell_type": "code",
   "execution_count": 8,
   "id": "c25de0e0",
   "metadata": {},
   "outputs": [
    {
     "name": "stderr",
     "output_type": "stream",
     "text": [
      "C:\\Users\\capma\\AppData\\Local\\Temp\\ipykernel_21624\\1488164770.py:5: SettingWithCopyWarning: \n",
      "A value is trying to be set on a copy of a slice from a DataFrame.\n",
      "Try using .loc[row_indexer,col_indexer] = value instead\n",
      "\n",
      "See the caveats in the documentation: https://pandas.pydata.org/pandas-docs/stable/user_guide/indexing.html#returning-a-view-versus-a-copy\n",
      "  aoc['neg'] = aoc['text'].apply(lambda x:analyzer.polarity_scores(x)['neg'])\n"
     ]
    },
    {
     "name": "stdout",
     "output_type": "stream",
     "text": [
      "aoc 1/4\n"
     ]
    },
    {
     "name": "stderr",
     "output_type": "stream",
     "text": [
      "C:\\Users\\capma\\AppData\\Local\\Temp\\ipykernel_21624\\1488164770.py:8: SettingWithCopyWarning: \n",
      "A value is trying to be set on a copy of a slice from a DataFrame.\n",
      "Try using .loc[row_indexer,col_indexer] = value instead\n",
      "\n",
      "See the caveats in the documentation: https://pandas.pydata.org/pandas-docs/stable/user_guide/indexing.html#returning-a-view-versus-a-copy\n",
      "  aoc['neu'] = aoc['text'].apply(lambda x:analyzer.polarity_scores(x)['neu'])\n"
     ]
    },
    {
     "name": "stdout",
     "output_type": "stream",
     "text": [
      "aoc2/4\n"
     ]
    },
    {
     "name": "stderr",
     "output_type": "stream",
     "text": [
      "C:\\Users\\capma\\AppData\\Local\\Temp\\ipykernel_21624\\1488164770.py:11: SettingWithCopyWarning: \n",
      "A value is trying to be set on a copy of a slice from a DataFrame.\n",
      "Try using .loc[row_indexer,col_indexer] = value instead\n",
      "\n",
      "See the caveats in the documentation: https://pandas.pydata.org/pandas-docs/stable/user_guide/indexing.html#returning-a-view-versus-a-copy\n",
      "  aoc['pos'] = aoc['text'].apply(lambda x:analyzer.polarity_scores(x)['pos'])\n"
     ]
    },
    {
     "name": "stdout",
     "output_type": "stream",
     "text": [
      "aoc 3/4\n"
     ]
    },
    {
     "name": "stderr",
     "output_type": "stream",
     "text": [
      "C:\\Users\\capma\\AppData\\Local\\Temp\\ipykernel_21624\\1488164770.py:14: SettingWithCopyWarning: \n",
      "A value is trying to be set on a copy of a slice from a DataFrame.\n",
      "Try using .loc[row_indexer,col_indexer] = value instead\n",
      "\n",
      "See the caveats in the documentation: https://pandas.pydata.org/pandas-docs/stable/user_guide/indexing.html#returning-a-view-versus-a-copy\n",
      "  aoc['compound'] =  aoc['text'].apply(lambda x:analyzer.polarity_scores(x)['compound'])\n"
     ]
    },
    {
     "name": "stdout",
     "output_type": "stream",
     "text": [
      "aoc Sentiment Analysis Completed\n"
     ]
    }
   ],
   "source": [
    "aoc=df.copy()\n",
    "aoc= df['text'].str.contains(\"aoc|alexandria|ocasio-cortez|cortez\",na=False,case=False)\n",
    "aoc=df[aoc]\n",
    "\n",
    "aoc['neg'] = aoc['text'].apply(lambda x:analyzer.polarity_scores(x)['neg'])\n",
    "print(\"aoc 1/4\")\n",
    "\n",
    "aoc['neu'] = aoc['text'].apply(lambda x:analyzer.polarity_scores(x)['neu'])\n",
    "print(\"aoc2/4\")\n",
    "\n",
    "aoc['pos'] = aoc['text'].apply(lambda x:analyzer.polarity_scores(x)['pos'])\n",
    "print(\"aoc 3/4\")\n",
    "\n",
    "aoc['compound'] =  aoc['text'].apply(lambda x:analyzer.polarity_scores(x)['compound'])\n",
    "print(\"aoc Sentiment Analysis Completed\")\n",
    "aoc.to_csv(r'D:/Final Project Econ/aoc sentiment and tweets.csv',index=True)\n",
    "del aoc"
   ]
  },
  {
   "cell_type": "code",
   "execution_count": 9,
   "id": "26eed8c2",
   "metadata": {},
   "outputs": [
    {
     "name": "stderr",
     "output_type": "stream",
     "text": [
      "C:\\Users\\capma\\AppData\\Local\\Temp\\ipykernel_21624\\3200358390.py:5: SettingWithCopyWarning: \n",
      "A value is trying to be set on a copy of a slice from a DataFrame.\n",
      "Try using .loc[row_indexer,col_indexer] = value instead\n",
      "\n",
      "See the caveats in the documentation: https://pandas.pydata.org/pandas-docs/stable/user_guide/indexing.html#returning-a-view-versus-a-copy\n",
      "  omar['neg'] = omar['text'].apply(lambda x:analyzer.polarity_scores(x)['neg'])\n"
     ]
    },
    {
     "name": "stdout",
     "output_type": "stream",
     "text": [
      "omar 1/4\n"
     ]
    },
    {
     "name": "stderr",
     "output_type": "stream",
     "text": [
      "C:\\Users\\capma\\AppData\\Local\\Temp\\ipykernel_21624\\3200358390.py:8: SettingWithCopyWarning: \n",
      "A value is trying to be set on a copy of a slice from a DataFrame.\n",
      "Try using .loc[row_indexer,col_indexer] = value instead\n",
      "\n",
      "See the caveats in the documentation: https://pandas.pydata.org/pandas-docs/stable/user_guide/indexing.html#returning-a-view-versus-a-copy\n",
      "  omar['neu'] = omar['text'].apply(lambda x:analyzer.polarity_scores(x)['neu'])\n"
     ]
    },
    {
     "name": "stdout",
     "output_type": "stream",
     "text": [
      "omar2/4\n"
     ]
    },
    {
     "name": "stderr",
     "output_type": "stream",
     "text": [
      "C:\\Users\\capma\\AppData\\Local\\Temp\\ipykernel_21624\\3200358390.py:11: SettingWithCopyWarning: \n",
      "A value is trying to be set on a copy of a slice from a DataFrame.\n",
      "Try using .loc[row_indexer,col_indexer] = value instead\n",
      "\n",
      "See the caveats in the documentation: https://pandas.pydata.org/pandas-docs/stable/user_guide/indexing.html#returning-a-view-versus-a-copy\n",
      "  omar['pos'] = omar['text'].apply(lambda x:analyzer.polarity_scores(x)['pos'])\n"
     ]
    },
    {
     "name": "stdout",
     "output_type": "stream",
     "text": [
      "omar 3/4\n"
     ]
    },
    {
     "name": "stderr",
     "output_type": "stream",
     "text": [
      "C:\\Users\\capma\\AppData\\Local\\Temp\\ipykernel_21624\\3200358390.py:14: SettingWithCopyWarning: \n",
      "A value is trying to be set on a copy of a slice from a DataFrame.\n",
      "Try using .loc[row_indexer,col_indexer] = value instead\n",
      "\n",
      "See the caveats in the documentation: https://pandas.pydata.org/pandas-docs/stable/user_guide/indexing.html#returning-a-view-versus-a-copy\n",
      "  omar['compound'] =  omar['text'].apply(lambda x:analyzer.polarity_scores(x)['compound'])\n"
     ]
    },
    {
     "name": "stdout",
     "output_type": "stream",
     "text": [
      "omar Sentiment Analysis Completed\n"
     ]
    }
   ],
   "source": [
    "omar=df.copy()\n",
    "omar= df['text'].str.contains(\"omar|ilhan|ilhan abdullahi\",na=False,case=False)\n",
    "omar=df[omar]\n",
    "\n",
    "omar['neg'] = omar['text'].apply(lambda x:analyzer.polarity_scores(x)['neg'])\n",
    "print(\"omar 1/4\")\n",
    "\n",
    "omar['neu'] = omar['text'].apply(lambda x:analyzer.polarity_scores(x)['neu'])\n",
    "print(\"omar2/4\")\n",
    "\n",
    "omar['pos'] = omar['text'].apply(lambda x:analyzer.polarity_scores(x)['pos'])\n",
    "print(\"omar 3/4\")\n",
    "\n",
    "omar['compound'] =  omar['text'].apply(lambda x:analyzer.polarity_scores(x)['compound'])\n",
    "print(\"omar Sentiment Analysis Completed\")\n",
    "omar.to_csv(r'D:/Final Project Econ/omar sentiment and tweets.csv',index=True)\n",
    "del omar"
   ]
  },
  {
   "cell_type": "code",
   "execution_count": 13,
   "id": "d082be49",
   "metadata": {},
   "outputs": [
    {
     "name": "stderr",
     "output_type": "stream",
     "text": [
      "C:\\Users\\capma\\AppData\\Local\\Temp\\ipykernel_26716\\1705238884.py:5: SettingWithCopyWarning: \n",
      "A value is trying to be set on a copy of a slice from a DataFrame.\n",
      "Try using .loc[row_indexer,col_indexer] = value instead\n",
      "\n",
      "See the caveats in the documentation: https://pandas.pydata.org/pandas-docs/stable/user_guide/indexing.html#returning-a-view-versus-a-copy\n",
      "  newsom['neg'] = newsom['text'].apply(lambda x:analyzer.polarity_scores(x)['neg'])\n"
     ]
    },
    {
     "name": "stdout",
     "output_type": "stream",
     "text": [
      "newsom 1/4\n"
     ]
    },
    {
     "name": "stderr",
     "output_type": "stream",
     "text": [
      "C:\\Users\\capma\\AppData\\Local\\Temp\\ipykernel_26716\\1705238884.py:8: SettingWithCopyWarning: \n",
      "A value is trying to be set on a copy of a slice from a DataFrame.\n",
      "Try using .loc[row_indexer,col_indexer] = value instead\n",
      "\n",
      "See the caveats in the documentation: https://pandas.pydata.org/pandas-docs/stable/user_guide/indexing.html#returning-a-view-versus-a-copy\n",
      "  newsom['neu'] = newsom['text'].apply(lambda x:analyzer.polarity_scores(x)['neu'])\n"
     ]
    },
    {
     "name": "stdout",
     "output_type": "stream",
     "text": [
      "newsom2/4\n"
     ]
    },
    {
     "name": "stderr",
     "output_type": "stream",
     "text": [
      "C:\\Users\\capma\\AppData\\Local\\Temp\\ipykernel_26716\\1705238884.py:11: SettingWithCopyWarning: \n",
      "A value is trying to be set on a copy of a slice from a DataFrame.\n",
      "Try using .loc[row_indexer,col_indexer] = value instead\n",
      "\n",
      "See the caveats in the documentation: https://pandas.pydata.org/pandas-docs/stable/user_guide/indexing.html#returning-a-view-versus-a-copy\n",
      "  newsom['pos'] = newsom['text'].apply(lambda x:analyzer.polarity_scores(x)['pos'])\n"
     ]
    },
    {
     "name": "stdout",
     "output_type": "stream",
     "text": [
      "newsom 3/4\n"
     ]
    },
    {
     "name": "stderr",
     "output_type": "stream",
     "text": [
      "C:\\Users\\capma\\AppData\\Local\\Temp\\ipykernel_26716\\1705238884.py:14: SettingWithCopyWarning: \n",
      "A value is trying to be set on a copy of a slice from a DataFrame.\n",
      "Try using .loc[row_indexer,col_indexer] = value instead\n",
      "\n",
      "See the caveats in the documentation: https://pandas.pydata.org/pandas-docs/stable/user_guide/indexing.html#returning-a-view-versus-a-copy\n",
      "  newsom['compound'] =  newsom['text'].apply(lambda x:analyzer.polarity_scores(x)['compound'])\n"
     ]
    },
    {
     "name": "stdout",
     "output_type": "stream",
     "text": [
      "newsom Sentiment Analysis Completed\n"
     ]
    }
   ],
   "source": [
    "newsom=df.copy()\n",
    "newsom= df['text'].str.contains(\"gavin|newsom\",case=False)\n",
    "newsom=df[newsom]\n",
    "\n",
    "newsom['neg'] = newsom['text'].apply(lambda x:analyzer.polarity_scores(x)['neg'])\n",
    "print(\"newsom 1/4\")\n",
    "\n",
    "newsom['neu'] = newsom['text'].apply(lambda x:analyzer.polarity_scores(x)['neu'])\n",
    "print(\"newsom2/4\")\n",
    "\n",
    "newsom['pos'] = newsom['text'].apply(lambda x:analyzer.polarity_scores(x)['pos'])\n",
    "print(\"newsom 3/4\")\n",
    "\n",
    "newsom['compound'] =  newsom['text'].apply(lambda x:analyzer.polarity_scores(x)['compound'])\n",
    "print(\"newsom Sentiment Analysis Completed\")\n",
    "newsom.to_csv(r'D:/Final Project Econ/newsom sentiment and tweets.csv',index=True)\n",
    "del newsom"
   ]
  },
  {
   "cell_type": "code",
   "execution_count": 14,
   "id": "58d9ea04",
   "metadata": {},
   "outputs": [
    {
     "name": "stderr",
     "output_type": "stream",
     "text": [
      "C:\\Users\\capma\\AppData\\Local\\Temp\\ipykernel_26716\\1114472451.py:5: SettingWithCopyWarning: \n",
      "A value is trying to be set on a copy of a slice from a DataFrame.\n",
      "Try using .loc[row_indexer,col_indexer] = value instead\n",
      "\n",
      "See the caveats in the documentation: https://pandas.pydata.org/pandas-docs/stable/user_guide/indexing.html#returning-a-view-versus-a-copy\n",
      "  schumer['neg'] = schumer['text'].apply(lambda x:analyzer.polarity_scores(x)['neg'])\n"
     ]
    },
    {
     "name": "stdout",
     "output_type": "stream",
     "text": [
      "schumer 1/4\n"
     ]
    },
    {
     "name": "stderr",
     "output_type": "stream",
     "text": [
      "C:\\Users\\capma\\AppData\\Local\\Temp\\ipykernel_26716\\1114472451.py:8: SettingWithCopyWarning: \n",
      "A value is trying to be set on a copy of a slice from a DataFrame.\n",
      "Try using .loc[row_indexer,col_indexer] = value instead\n",
      "\n",
      "See the caveats in the documentation: https://pandas.pydata.org/pandas-docs/stable/user_guide/indexing.html#returning-a-view-versus-a-copy\n",
      "  schumer['neu'] = schumer['text'].apply(lambda x:analyzer.polarity_scores(x)['neu'])\n"
     ]
    },
    {
     "name": "stdout",
     "output_type": "stream",
     "text": [
      "schumer2/4\n"
     ]
    },
    {
     "name": "stderr",
     "output_type": "stream",
     "text": [
      "C:\\Users\\capma\\AppData\\Local\\Temp\\ipykernel_26716\\1114472451.py:11: SettingWithCopyWarning: \n",
      "A value is trying to be set on a copy of a slice from a DataFrame.\n",
      "Try using .loc[row_indexer,col_indexer] = value instead\n",
      "\n",
      "See the caveats in the documentation: https://pandas.pydata.org/pandas-docs/stable/user_guide/indexing.html#returning-a-view-versus-a-copy\n",
      "  schumer['pos'] = schumer['text'].apply(lambda x:analyzer.polarity_scores(x)['pos'])\n"
     ]
    },
    {
     "name": "stdout",
     "output_type": "stream",
     "text": [
      "schumer 3/4\n"
     ]
    },
    {
     "name": "stderr",
     "output_type": "stream",
     "text": [
      "C:\\Users\\capma\\AppData\\Local\\Temp\\ipykernel_26716\\1114472451.py:14: SettingWithCopyWarning: \n",
      "A value is trying to be set on a copy of a slice from a DataFrame.\n",
      "Try using .loc[row_indexer,col_indexer] = value instead\n",
      "\n",
      "See the caveats in the documentation: https://pandas.pydata.org/pandas-docs/stable/user_guide/indexing.html#returning-a-view-versus-a-copy\n",
      "  schumer['compound'] =  schumer['text'].apply(lambda x:analyzer.polarity_scores(x)['compound'])\n"
     ]
    },
    {
     "name": "stdout",
     "output_type": "stream",
     "text": [
      "schumer Sentiment Analysis Completed\n"
     ]
    }
   ],
   "source": [
    "schumer=df.copy()\n",
    "schumer= df['text'].str.contains(\"chuck|schumer\",case=False)\n",
    "schumer=df[schumer]\n",
    "\n",
    "schumer['neg'] = schumer['text'].apply(lambda x:analyzer.polarity_scores(x)['neg'])\n",
    "print(\"schumer 1/4\")\n",
    "\n",
    "schumer['neu'] = schumer['text'].apply(lambda x:analyzer.polarity_scores(x)['neu'])\n",
    "print(\"schumer2/4\")\n",
    "\n",
    "schumer['pos'] = schumer['text'].apply(lambda x:analyzer.polarity_scores(x)['pos'])\n",
    "print(\"schumer 3/4\")\n",
    "\n",
    "schumer['compound'] =  schumer['text'].apply(lambda x:analyzer.polarity_scores(x)['compound'])\n",
    "print(\"schumer Sentiment Analysis Completed\")\n",
    "schumer.to_csv(r'D:/Final Project Econ/schumer sentiment and tweets.csv',index=True)\n",
    "del schumer"
   ]
  },
  {
   "cell_type": "code",
   "execution_count": 15,
   "id": "63de8760",
   "metadata": {},
   "outputs": [
    {
     "name": "stderr",
     "output_type": "stream",
     "text": [
      "C:\\Users\\capma\\AppData\\Local\\Temp\\ipykernel_26716\\857230171.py:5: SettingWithCopyWarning: \n",
      "A value is trying to be set on a copy of a slice from a DataFrame.\n",
      "Try using .loc[row_indexer,col_indexer] = value instead\n",
      "\n",
      "See the caveats in the documentation: https://pandas.pydata.org/pandas-docs/stable/user_guide/indexing.html#returning-a-view-versus-a-copy\n",
      "  warren['neg'] = warren['text'].apply(lambda x:analyzer.polarity_scores(x)['neg'])\n"
     ]
    },
    {
     "name": "stdout",
     "output_type": "stream",
     "text": [
      "warren 1/4\n"
     ]
    },
    {
     "name": "stderr",
     "output_type": "stream",
     "text": [
      "C:\\Users\\capma\\AppData\\Local\\Temp\\ipykernel_26716\\857230171.py:8: SettingWithCopyWarning: \n",
      "A value is trying to be set on a copy of a slice from a DataFrame.\n",
      "Try using .loc[row_indexer,col_indexer] = value instead\n",
      "\n",
      "See the caveats in the documentation: https://pandas.pydata.org/pandas-docs/stable/user_guide/indexing.html#returning-a-view-versus-a-copy\n",
      "  warren['neu'] = warren['text'].apply(lambda x:analyzer.polarity_scores(x)['neu'])\n"
     ]
    },
    {
     "name": "stdout",
     "output_type": "stream",
     "text": [
      "warren2/4\n"
     ]
    },
    {
     "name": "stderr",
     "output_type": "stream",
     "text": [
      "C:\\Users\\capma\\AppData\\Local\\Temp\\ipykernel_26716\\857230171.py:11: SettingWithCopyWarning: \n",
      "A value is trying to be set on a copy of a slice from a DataFrame.\n",
      "Try using .loc[row_indexer,col_indexer] = value instead\n",
      "\n",
      "See the caveats in the documentation: https://pandas.pydata.org/pandas-docs/stable/user_guide/indexing.html#returning-a-view-versus-a-copy\n",
      "  warren['pos'] = warren['text'].apply(lambda x:analyzer.polarity_scores(x)['pos'])\n"
     ]
    },
    {
     "name": "stdout",
     "output_type": "stream",
     "text": [
      "warren 3/4\n"
     ]
    },
    {
     "name": "stderr",
     "output_type": "stream",
     "text": [
      "C:\\Users\\capma\\AppData\\Local\\Temp\\ipykernel_26716\\857230171.py:14: SettingWithCopyWarning: \n",
      "A value is trying to be set on a copy of a slice from a DataFrame.\n",
      "Try using .loc[row_indexer,col_indexer] = value instead\n",
      "\n",
      "See the caveats in the documentation: https://pandas.pydata.org/pandas-docs/stable/user_guide/indexing.html#returning-a-view-versus-a-copy\n",
      "  warren['compound'] =  warren['text'].apply(lambda x:analyzer.polarity_scores(x)['compound'])\n"
     ]
    },
    {
     "name": "stdout",
     "output_type": "stream",
     "text": [
      "warren Sentiment Analysis Completed\n"
     ]
    }
   ],
   "source": [
    "warren=df.copy()\n",
    "warren= df['text'].str.contains(\"Elizabeth|warren\",case=False)\n",
    "warren=df[warren]\n",
    "\n",
    "warren['neg'] = warren['text'].apply(lambda x:analyzer.polarity_scores(x)['neg'])\n",
    "print(\"warren 1/4\")\n",
    "\n",
    "warren['neu'] = warren['text'].apply(lambda x:analyzer.polarity_scores(x)['neu'])\n",
    "print(\"warren2/4\")\n",
    "\n",
    "warren['pos'] = warren['text'].apply(lambda x:analyzer.polarity_scores(x)['pos'])\n",
    "print(\"warren 3/4\")\n",
    "\n",
    "warren['compound'] =  warren['text'].apply(lambda x:analyzer.polarity_scores(x)['compound'])\n",
    "print(\"warren Sentiment Analysis Completed\")\n",
    "warren.to_csv(r'D:/Final Project Econ/warren sentiment and tweets.csv',index=True)\n",
    "del warren"
   ]
  },
  {
   "cell_type": "code",
   "execution_count": 16,
   "id": "3b151bdf",
   "metadata": {},
   "outputs": [
    {
     "name": "stderr",
     "output_type": "stream",
     "text": [
      "C:\\Users\\capma\\AppData\\Local\\Temp\\ipykernel_26716\\463882468.py:5: SettingWithCopyWarning: \n",
      "A value is trying to be set on a copy of a slice from a DataFrame.\n",
      "Try using .loc[row_indexer,col_indexer] = value instead\n",
      "\n",
      "See the caveats in the documentation: https://pandas.pydata.org/pandas-docs/stable/user_guide/indexing.html#returning-a-view-versus-a-copy\n",
      "  klobuchar['neg'] = klobuchar['text'].apply(lambda x:analyzer.polarity_scores(x)['neg'])\n"
     ]
    },
    {
     "name": "stdout",
     "output_type": "stream",
     "text": [
      "klobuchar 1/4\n"
     ]
    },
    {
     "name": "stderr",
     "output_type": "stream",
     "text": [
      "C:\\Users\\capma\\AppData\\Local\\Temp\\ipykernel_26716\\463882468.py:8: SettingWithCopyWarning: \n",
      "A value is trying to be set on a copy of a slice from a DataFrame.\n",
      "Try using .loc[row_indexer,col_indexer] = value instead\n",
      "\n",
      "See the caveats in the documentation: https://pandas.pydata.org/pandas-docs/stable/user_guide/indexing.html#returning-a-view-versus-a-copy\n",
      "  klobuchar['neu'] = klobuchar['text'].apply(lambda x:analyzer.polarity_scores(x)['neu'])\n"
     ]
    },
    {
     "name": "stdout",
     "output_type": "stream",
     "text": [
      "klobuchar2/4\n"
     ]
    },
    {
     "name": "stderr",
     "output_type": "stream",
     "text": [
      "C:\\Users\\capma\\AppData\\Local\\Temp\\ipykernel_26716\\463882468.py:11: SettingWithCopyWarning: \n",
      "A value is trying to be set on a copy of a slice from a DataFrame.\n",
      "Try using .loc[row_indexer,col_indexer] = value instead\n",
      "\n",
      "See the caveats in the documentation: https://pandas.pydata.org/pandas-docs/stable/user_guide/indexing.html#returning-a-view-versus-a-copy\n",
      "  klobuchar['pos'] = klobuchar['text'].apply(lambda x:analyzer.polarity_scores(x)['pos'])\n"
     ]
    },
    {
     "name": "stdout",
     "output_type": "stream",
     "text": [
      "klobuchar 3/4\n"
     ]
    },
    {
     "name": "stderr",
     "output_type": "stream",
     "text": [
      "C:\\Users\\capma\\AppData\\Local\\Temp\\ipykernel_26716\\463882468.py:14: SettingWithCopyWarning: \n",
      "A value is trying to be set on a copy of a slice from a DataFrame.\n",
      "Try using .loc[row_indexer,col_indexer] = value instead\n",
      "\n",
      "See the caveats in the documentation: https://pandas.pydata.org/pandas-docs/stable/user_guide/indexing.html#returning-a-view-versus-a-copy\n",
      "  klobuchar['compound'] =  klobuchar['text'].apply(lambda x:analyzer.polarity_scores(x)['compound'])\n"
     ]
    },
    {
     "name": "stdout",
     "output_type": "stream",
     "text": [
      "klobuchar Sentiment Analysis Completed\n"
     ]
    }
   ],
   "source": [
    "klobuchar=df.copy()\n",
    "klobuchar= df['text'].str.contains(\"Amy|klobuchar\",case=False)\n",
    "klobuchar=df[klobuchar]\n",
    "\n",
    "klobuchar['neg'] = klobuchar['text'].apply(lambda x:analyzer.polarity_scores(x)['neg'])\n",
    "print(\"klobuchar 1/4\")\n",
    "\n",
    "klobuchar['neu'] = klobuchar['text'].apply(lambda x:analyzer.polarity_scores(x)['neu'])\n",
    "print(\"klobuchar2/4\")\n",
    "\n",
    "klobuchar['pos'] = klobuchar['text'].apply(lambda x:analyzer.polarity_scores(x)['pos'])\n",
    "print(\"klobuchar 3/4\")\n",
    "\n",
    "klobuchar['compound'] =  klobuchar['text'].apply(lambda x:analyzer.polarity_scores(x)['compound'])\n",
    "print(\"klobuchar Sentiment Analysis Completed\")\n",
    "klobuchar.to_csv(r'D:/Final Project Econ/klobuchar sentiment and tweets.csv',index=True)\n",
    "del klobuchar"
   ]
  },
  {
   "cell_type": "code",
   "execution_count": 17,
   "id": "c1d813c1",
   "metadata": {},
   "outputs": [
    {
     "name": "stderr",
     "output_type": "stream",
     "text": [
      "C:\\Users\\capma\\AppData\\Local\\Temp\\ipykernel_26716\\4003163159.py:5: SettingWithCopyWarning: \n",
      "A value is trying to be set on a copy of a slice from a DataFrame.\n",
      "Try using .loc[row_indexer,col_indexer] = value instead\n",
      "\n",
      "See the caveats in the documentation: https://pandas.pydata.org/pandas-docs/stable/user_guide/indexing.html#returning-a-view-versus-a-copy\n",
      "  booker['neg'] = booker['text'].apply(lambda x:analyzer.polarity_scores(x)['neg'])\n"
     ]
    },
    {
     "name": "stdout",
     "output_type": "stream",
     "text": [
      "booker 1/4\n"
     ]
    },
    {
     "name": "stderr",
     "output_type": "stream",
     "text": [
      "C:\\Users\\capma\\AppData\\Local\\Temp\\ipykernel_26716\\4003163159.py:8: SettingWithCopyWarning: \n",
      "A value is trying to be set on a copy of a slice from a DataFrame.\n",
      "Try using .loc[row_indexer,col_indexer] = value instead\n",
      "\n",
      "See the caveats in the documentation: https://pandas.pydata.org/pandas-docs/stable/user_guide/indexing.html#returning-a-view-versus-a-copy\n",
      "  booker['neu'] = booker['text'].apply(lambda x:analyzer.polarity_scores(x)['neu'])\n"
     ]
    },
    {
     "name": "stdout",
     "output_type": "stream",
     "text": [
      "booker2/4\n"
     ]
    },
    {
     "name": "stderr",
     "output_type": "stream",
     "text": [
      "C:\\Users\\capma\\AppData\\Local\\Temp\\ipykernel_26716\\4003163159.py:11: SettingWithCopyWarning: \n",
      "A value is trying to be set on a copy of a slice from a DataFrame.\n",
      "Try using .loc[row_indexer,col_indexer] = value instead\n",
      "\n",
      "See the caveats in the documentation: https://pandas.pydata.org/pandas-docs/stable/user_guide/indexing.html#returning-a-view-versus-a-copy\n",
      "  booker['pos'] = booker['text'].apply(lambda x:analyzer.polarity_scores(x)['pos'])\n"
     ]
    },
    {
     "name": "stdout",
     "output_type": "stream",
     "text": [
      "booker 3/4\n"
     ]
    },
    {
     "name": "stderr",
     "output_type": "stream",
     "text": [
      "C:\\Users\\capma\\AppData\\Local\\Temp\\ipykernel_26716\\4003163159.py:14: SettingWithCopyWarning: \n",
      "A value is trying to be set on a copy of a slice from a DataFrame.\n",
      "Try using .loc[row_indexer,col_indexer] = value instead\n",
      "\n",
      "See the caveats in the documentation: https://pandas.pydata.org/pandas-docs/stable/user_guide/indexing.html#returning-a-view-versus-a-copy\n",
      "  booker['compound'] =  booker['text'].apply(lambda x:analyzer.polarity_scores(x)['compound'])\n"
     ]
    },
    {
     "name": "stdout",
     "output_type": "stream",
     "text": [
      "booker Sentiment Analysis Completed\n"
     ]
    }
   ],
   "source": [
    "booker=df.copy()\n",
    "booker= df['text'].str.contains(\"cory|booker\",case=False)\n",
    "booker=df[booker]\n",
    "\n",
    "booker['neg'] = booker['text'].apply(lambda x:analyzer.polarity_scores(x)['neg'])\n",
    "print(\"booker 1/4\")\n",
    "\n",
    "booker['neu'] = booker['text'].apply(lambda x:analyzer.polarity_scores(x)['neu'])\n",
    "print(\"booker2/4\")\n",
    "\n",
    "booker['pos'] = booker['text'].apply(lambda x:analyzer.polarity_scores(x)['pos'])\n",
    "print(\"booker 3/4\")\n",
    "\n",
    "booker['compound'] =  booker['text'].apply(lambda x:analyzer.polarity_scores(x)['compound'])\n",
    "print(\"booker Sentiment Analysis Completed\")\n",
    "booker.to_csv(r'D:/Final Project Econ/booker sentiment and tweets.csv',index=True)\n",
    "del booker"
   ]
  },
  {
   "cell_type": "code",
   "execution_count": 18,
   "id": "f2a44b15",
   "metadata": {},
   "outputs": [
    {
     "name": "stderr",
     "output_type": "stream",
     "text": [
      "C:\\Users\\capma\\AppData\\Local\\Temp\\ipykernel_26716\\2361412192.py:5: SettingWithCopyWarning: \n",
      "A value is trying to be set on a copy of a slice from a DataFrame.\n",
      "Try using .loc[row_indexer,col_indexer] = value instead\n",
      "\n",
      "See the caveats in the documentation: https://pandas.pydata.org/pandas-docs/stable/user_guide/indexing.html#returning-a-view-versus-a-copy\n",
      "  beto['neg'] = beto['text'].apply(lambda x:analyzer.polarity_scores(x)['neg'])\n"
     ]
    },
    {
     "name": "stdout",
     "output_type": "stream",
     "text": [
      "beto 1/4\n"
     ]
    },
    {
     "name": "stderr",
     "output_type": "stream",
     "text": [
      "C:\\Users\\capma\\AppData\\Local\\Temp\\ipykernel_26716\\2361412192.py:8: SettingWithCopyWarning: \n",
      "A value is trying to be set on a copy of a slice from a DataFrame.\n",
      "Try using .loc[row_indexer,col_indexer] = value instead\n",
      "\n",
      "See the caveats in the documentation: https://pandas.pydata.org/pandas-docs/stable/user_guide/indexing.html#returning-a-view-versus-a-copy\n",
      "  beto['neu'] = beto['text'].apply(lambda x:analyzer.polarity_scores(x)['neu'])\n"
     ]
    },
    {
     "name": "stdout",
     "output_type": "stream",
     "text": [
      "beto2/4\n"
     ]
    },
    {
     "name": "stderr",
     "output_type": "stream",
     "text": [
      "C:\\Users\\capma\\AppData\\Local\\Temp\\ipykernel_26716\\2361412192.py:11: SettingWithCopyWarning: \n",
      "A value is trying to be set on a copy of a slice from a DataFrame.\n",
      "Try using .loc[row_indexer,col_indexer] = value instead\n",
      "\n",
      "See the caveats in the documentation: https://pandas.pydata.org/pandas-docs/stable/user_guide/indexing.html#returning-a-view-versus-a-copy\n",
      "  beto['pos'] = beto['text'].apply(lambda x:analyzer.polarity_scores(x)['pos'])\n"
     ]
    },
    {
     "name": "stdout",
     "output_type": "stream",
     "text": [
      "beto 3/4\n",
      "beto Sentiment Analysis Completed\n"
     ]
    },
    {
     "name": "stderr",
     "output_type": "stream",
     "text": [
      "C:\\Users\\capma\\AppData\\Local\\Temp\\ipykernel_26716\\2361412192.py:14: SettingWithCopyWarning: \n",
      "A value is trying to be set on a copy of a slice from a DataFrame.\n",
      "Try using .loc[row_indexer,col_indexer] = value instead\n",
      "\n",
      "See the caveats in the documentation: https://pandas.pydata.org/pandas-docs/stable/user_guide/indexing.html#returning-a-view-versus-a-copy\n",
      "  beto['compound'] =  beto['text'].apply(lambda x:analyzer.polarity_scores(x)['compound'])\n"
     ]
    }
   ],
   "source": [
    "beto=df.copy()\n",
    "beto= df['text'].str.contains(\"o'rourke|beto\",case=False)\n",
    "beto=df[beto]\n",
    "\n",
    "beto['neg'] = beto['text'].apply(lambda x:analyzer.polarity_scores(x)['neg'])\n",
    "print(\"beto 1/4\")\n",
    "\n",
    "beto['neu'] = beto['text'].apply(lambda x:analyzer.polarity_scores(x)['neu'])\n",
    "print(\"beto2/4\")\n",
    "\n",
    "beto['pos'] = beto['text'].apply(lambda x:analyzer.polarity_scores(x)['pos'])\n",
    "print(\"beto 3/4\")\n",
    "\n",
    "beto['compound'] =  beto['text'].apply(lambda x:analyzer.polarity_scores(x)['compound'])\n",
    "print(\"beto Sentiment Analysis Completed\")\n",
    "beto.to_csv(r'D:/Final Project Econ/beto sentiment and tweets.csv',index=True)\n",
    "del beto"
   ]
  },
  {
   "cell_type": "code",
   "execution_count": 19,
   "id": "04d11534",
   "metadata": {},
   "outputs": [
    {
     "name": "stderr",
     "output_type": "stream",
     "text": [
      "C:\\Users\\capma\\AppData\\Local\\Temp\\ipykernel_26716\\3760198680.py:5: SettingWithCopyWarning: \n",
      "A value is trying to be set on a copy of a slice from a DataFrame.\n",
      "Try using .loc[row_indexer,col_indexer] = value instead\n",
      "\n",
      "See the caveats in the documentation: https://pandas.pydata.org/pandas-docs/stable/user_guide/indexing.html#returning-a-view-versus-a-copy\n",
      "  romney['neg'] = romney['text'].apply(lambda x:analyzer.polarity_scores(x)['neg'])\n"
     ]
    },
    {
     "name": "stdout",
     "output_type": "stream",
     "text": [
      "romney 1/4\n"
     ]
    },
    {
     "name": "stderr",
     "output_type": "stream",
     "text": [
      "C:\\Users\\capma\\AppData\\Local\\Temp\\ipykernel_26716\\3760198680.py:8: SettingWithCopyWarning: \n",
      "A value is trying to be set on a copy of a slice from a DataFrame.\n",
      "Try using .loc[row_indexer,col_indexer] = value instead\n",
      "\n",
      "See the caveats in the documentation: https://pandas.pydata.org/pandas-docs/stable/user_guide/indexing.html#returning-a-view-versus-a-copy\n",
      "  romney['neu'] = romney['text'].apply(lambda x:analyzer.polarity_scores(x)['neu'])\n"
     ]
    },
    {
     "name": "stdout",
     "output_type": "stream",
     "text": [
      "romney2/4\n"
     ]
    },
    {
     "name": "stderr",
     "output_type": "stream",
     "text": [
      "C:\\Users\\capma\\AppData\\Local\\Temp\\ipykernel_26716\\3760198680.py:11: SettingWithCopyWarning: \n",
      "A value is trying to be set on a copy of a slice from a DataFrame.\n",
      "Try using .loc[row_indexer,col_indexer] = value instead\n",
      "\n",
      "See the caveats in the documentation: https://pandas.pydata.org/pandas-docs/stable/user_guide/indexing.html#returning-a-view-versus-a-copy\n",
      "  romney['pos'] = romney['text'].apply(lambda x:analyzer.polarity_scores(x)['pos'])\n"
     ]
    },
    {
     "name": "stdout",
     "output_type": "stream",
     "text": [
      "romney 3/4\n"
     ]
    },
    {
     "name": "stderr",
     "output_type": "stream",
     "text": [
      "C:\\Users\\capma\\AppData\\Local\\Temp\\ipykernel_26716\\3760198680.py:14: SettingWithCopyWarning: \n",
      "A value is trying to be set on a copy of a slice from a DataFrame.\n",
      "Try using .loc[row_indexer,col_indexer] = value instead\n",
      "\n",
      "See the caveats in the documentation: https://pandas.pydata.org/pandas-docs/stable/user_guide/indexing.html#returning-a-view-versus-a-copy\n",
      "  romney['compound'] =  romney['text'].apply(lambda x:analyzer.polarity_scores(x)['compound'])\n"
     ]
    },
    {
     "name": "stdout",
     "output_type": "stream",
     "text": [
      "romney Sentiment Analysis Completed\n"
     ]
    }
   ],
   "source": [
    "romney=df.copy()\n",
    "romney= df['text'].str.contains(\"mitt|romney\",case=False)\n",
    "romney=df[romney]\n",
    "\n",
    "romney['neg'] = romney['text'].apply(lambda x:analyzer.polarity_scores(x)['neg'])\n",
    "print(\"romney 1/4\")\n",
    "\n",
    "romney['neu'] = romney['text'].apply(lambda x:analyzer.polarity_scores(x)['neu'])\n",
    "print(\"romney2/4\")\n",
    "\n",
    "romney['pos'] = romney['text'].apply(lambda x:analyzer.polarity_scores(x)['pos'])\n",
    "print(\"romney 3/4\")\n",
    "\n",
    "romney['compound'] =  romney['text'].apply(lambda x:analyzer.polarity_scores(x)['compound'])\n",
    "print(\"romney Sentiment Analysis Completed\")\n",
    "romney.to_csv(r'D:/Final Project Econ/romney sentiment and tweets.csv',index=True)\n",
    "del romney"
   ]
  },
  {
   "cell_type": "code",
   "execution_count": 20,
   "id": "9b58e7a5",
   "metadata": {},
   "outputs": [
    {
     "name": "stderr",
     "output_type": "stream",
     "text": [
      "C:\\Users\\capma\\AppData\\Local\\Temp\\ipykernel_26716\\1301372130.py:5: SettingWithCopyWarning: \n",
      "A value is trying to be set on a copy of a slice from a DataFrame.\n",
      "Try using .loc[row_indexer,col_indexer] = value instead\n",
      "\n",
      "See the caveats in the documentation: https://pandas.pydata.org/pandas-docs/stable/user_guide/indexing.html#returning-a-view-versus-a-copy\n",
      "  mcconnell['neg'] = mcconnell['text'].apply(lambda x:analyzer.polarity_scores(x)['neg'])\n"
     ]
    },
    {
     "name": "stdout",
     "output_type": "stream",
     "text": [
      "McConnell 1/4\n"
     ]
    },
    {
     "name": "stderr",
     "output_type": "stream",
     "text": [
      "C:\\Users\\capma\\AppData\\Local\\Temp\\ipykernel_26716\\1301372130.py:8: SettingWithCopyWarning: \n",
      "A value is trying to be set on a copy of a slice from a DataFrame.\n",
      "Try using .loc[row_indexer,col_indexer] = value instead\n",
      "\n",
      "See the caveats in the documentation: https://pandas.pydata.org/pandas-docs/stable/user_guide/indexing.html#returning-a-view-versus-a-copy\n",
      "  mcconnell['neu'] = mcconnell['text'].apply(lambda x:analyzer.polarity_scores(x)['neu'])\n"
     ]
    },
    {
     "name": "stdout",
     "output_type": "stream",
     "text": [
      "McConnell2/4\n"
     ]
    },
    {
     "name": "stderr",
     "output_type": "stream",
     "text": [
      "C:\\Users\\capma\\AppData\\Local\\Temp\\ipykernel_26716\\1301372130.py:11: SettingWithCopyWarning: \n",
      "A value is trying to be set on a copy of a slice from a DataFrame.\n",
      "Try using .loc[row_indexer,col_indexer] = value instead\n",
      "\n",
      "See the caveats in the documentation: https://pandas.pydata.org/pandas-docs/stable/user_guide/indexing.html#returning-a-view-versus-a-copy\n",
      "  mcconnell['pos'] = mcconnell['text'].apply(lambda x:analyzer.polarity_scores(x)['pos'])\n"
     ]
    },
    {
     "name": "stdout",
     "output_type": "stream",
     "text": [
      "McConnell 3/4\n"
     ]
    },
    {
     "name": "stderr",
     "output_type": "stream",
     "text": [
      "C:\\Users\\capma\\AppData\\Local\\Temp\\ipykernel_26716\\1301372130.py:14: SettingWithCopyWarning: \n",
      "A value is trying to be set on a copy of a slice from a DataFrame.\n",
      "Try using .loc[row_indexer,col_indexer] = value instead\n",
      "\n",
      "See the caveats in the documentation: https://pandas.pydata.org/pandas-docs/stable/user_guide/indexing.html#returning-a-view-versus-a-copy\n",
      "  mcconnell['compound'] =  mcconnell['text'].apply(lambda x:analyzer.polarity_scores(x)['compound'])\n"
     ]
    },
    {
     "name": "stdout",
     "output_type": "stream",
     "text": [
      "McConnell Sentiment Analysis Completed\n"
     ]
    }
   ],
   "source": [
    "mcconnell=df.copy()\n",
    "mcconnell= df['text'].str.contains(\"mitch|Mcconnell\",case=False)\n",
    "mcconnell=df[mcconnell]\n",
    "\n",
    "mcconnell['neg'] = mcconnell['text'].apply(lambda x:analyzer.polarity_scores(x)['neg'])\n",
    "print(\"McConnell 1/4\")\n",
    "\n",
    "mcconnell['neu'] = mcconnell['text'].apply(lambda x:analyzer.polarity_scores(x)['neu'])\n",
    "print(\"McConnell2/4\")\n",
    "\n",
    "mcconnell['pos'] = mcconnell['text'].apply(lambda x:analyzer.polarity_scores(x)['pos'])\n",
    "print(\"McConnell 3/4\")\n",
    "\n",
    "mcconnell['compound'] =  mcconnell['text'].apply(lambda x:analyzer.polarity_scores(x)['compound'])\n",
    "print(\"McConnell Sentiment Analysis Completed\")\n",
    "mcconnell.to_csv(r'D:/Final Project Econ/mcconnell sentiment and tweets.csv',index=True)\n",
    "del mcconnell"
   ]
  },
  {
   "cell_type": "code",
   "execution_count": 21,
   "id": "6f94eaef",
   "metadata": {},
   "outputs": [
    {
     "name": "stderr",
     "output_type": "stream",
     "text": [
      "C:\\Users\\capma\\AppData\\Local\\Temp\\ipykernel_26716\\1980733334.py:5: SettingWithCopyWarning: \n",
      "A value is trying to be set on a copy of a slice from a DataFrame.\n",
      "Try using .loc[row_indexer,col_indexer] = value instead\n",
      "\n",
      "See the caveats in the documentation: https://pandas.pydata.org/pandas-docs/stable/user_guide/indexing.html#returning-a-view-versus-a-copy\n",
      "  desantis['neg'] = desantis['text'].apply(lambda x:analyzer.polarity_scores(x)['neg'])\n"
     ]
    },
    {
     "name": "stdout",
     "output_type": "stream",
     "text": [
      "desantis 1/4\n"
     ]
    },
    {
     "name": "stderr",
     "output_type": "stream",
     "text": [
      "C:\\Users\\capma\\AppData\\Local\\Temp\\ipykernel_26716\\1980733334.py:8: SettingWithCopyWarning: \n",
      "A value is trying to be set on a copy of a slice from a DataFrame.\n",
      "Try using .loc[row_indexer,col_indexer] = value instead\n",
      "\n",
      "See the caveats in the documentation: https://pandas.pydata.org/pandas-docs/stable/user_guide/indexing.html#returning-a-view-versus-a-copy\n",
      "  desantis['neu'] = desantis['text'].apply(lambda x:analyzer.polarity_scores(x)['neu'])\n"
     ]
    },
    {
     "name": "stdout",
     "output_type": "stream",
     "text": [
      "desantis2/4\n"
     ]
    },
    {
     "name": "stderr",
     "output_type": "stream",
     "text": [
      "C:\\Users\\capma\\AppData\\Local\\Temp\\ipykernel_26716\\1980733334.py:11: SettingWithCopyWarning: \n",
      "A value is trying to be set on a copy of a slice from a DataFrame.\n",
      "Try using .loc[row_indexer,col_indexer] = value instead\n",
      "\n",
      "See the caveats in the documentation: https://pandas.pydata.org/pandas-docs/stable/user_guide/indexing.html#returning-a-view-versus-a-copy\n",
      "  desantis['pos'] = desantis['text'].apply(lambda x:analyzer.polarity_scores(x)['pos'])\n"
     ]
    },
    {
     "name": "stdout",
     "output_type": "stream",
     "text": [
      "desantis 3/4\n"
     ]
    },
    {
     "name": "stderr",
     "output_type": "stream",
     "text": [
      "C:\\Users\\capma\\AppData\\Local\\Temp\\ipykernel_26716\\1980733334.py:14: SettingWithCopyWarning: \n",
      "A value is trying to be set on a copy of a slice from a DataFrame.\n",
      "Try using .loc[row_indexer,col_indexer] = value instead\n",
      "\n",
      "See the caveats in the documentation: https://pandas.pydata.org/pandas-docs/stable/user_guide/indexing.html#returning-a-view-versus-a-copy\n",
      "  desantis['compound'] =  desantis['text'].apply(lambda x:analyzer.polarity_scores(x)['compound'])\n"
     ]
    },
    {
     "name": "stdout",
     "output_type": "stream",
     "text": [
      "desantis Sentiment Analysis Completed\n"
     ]
    }
   ],
   "source": [
    "desantis=df.copy()\n",
    "desantis= df['text'].str.contains(\"ron|desantis\",case=False)\n",
    "desantis=df[desantis]\n",
    "\n",
    "desantis['neg'] = desantis['text'].apply(lambda x:analyzer.polarity_scores(x)['neg'])\n",
    "print(\"desantis 1/4\")\n",
    "\n",
    "desantis['neu'] = desantis['text'].apply(lambda x:analyzer.polarity_scores(x)['neu'])\n",
    "print(\"desantis2/4\")\n",
    "\n",
    "desantis['pos'] = desantis['text'].apply(lambda x:analyzer.polarity_scores(x)['pos'])\n",
    "print(\"desantis 3/4\")\n",
    "\n",
    "desantis['compound'] =  desantis['text'].apply(lambda x:analyzer.polarity_scores(x)['compound'])\n",
    "print(\"desantis Sentiment Analysis Completed\")\n",
    "desantis.to_csv(r'D:/Final Project Econ/desantis sentiment and tweets.csv',index=True)\n",
    "del desantis"
   ]
  },
  {
   "cell_type": "code",
   "execution_count": 22,
   "id": "5f881b33",
   "metadata": {},
   "outputs": [
    {
     "name": "stderr",
     "output_type": "stream",
     "text": [
      "C:\\Users\\capma\\AppData\\Local\\Temp\\ipykernel_26716\\4287327599.py:5: SettingWithCopyWarning: \n",
      "A value is trying to be set on a copy of a slice from a DataFrame.\n",
      "Try using .loc[row_indexer,col_indexer] = value instead\n",
      "\n",
      "See the caveats in the documentation: https://pandas.pydata.org/pandas-docs/stable/user_guide/indexing.html#returning-a-view-versus-a-copy\n",
      "  cruz['neg'] = cruz['text'].apply(lambda x:analyzer.polarity_scores(x)['neg'])\n"
     ]
    },
    {
     "name": "stdout",
     "output_type": "stream",
     "text": [
      "cruz 1/4\n"
     ]
    },
    {
     "name": "stderr",
     "output_type": "stream",
     "text": [
      "C:\\Users\\capma\\AppData\\Local\\Temp\\ipykernel_26716\\4287327599.py:8: SettingWithCopyWarning: \n",
      "A value is trying to be set on a copy of a slice from a DataFrame.\n",
      "Try using .loc[row_indexer,col_indexer] = value instead\n",
      "\n",
      "See the caveats in the documentation: https://pandas.pydata.org/pandas-docs/stable/user_guide/indexing.html#returning-a-view-versus-a-copy\n",
      "  cruz['neu'] = cruz['text'].apply(lambda x:analyzer.polarity_scores(x)['neu'])\n"
     ]
    },
    {
     "name": "stdout",
     "output_type": "stream",
     "text": [
      "cruz2/4\n"
     ]
    },
    {
     "name": "stderr",
     "output_type": "stream",
     "text": [
      "C:\\Users\\capma\\AppData\\Local\\Temp\\ipykernel_26716\\4287327599.py:11: SettingWithCopyWarning: \n",
      "A value is trying to be set on a copy of a slice from a DataFrame.\n",
      "Try using .loc[row_indexer,col_indexer] = value instead\n",
      "\n",
      "See the caveats in the documentation: https://pandas.pydata.org/pandas-docs/stable/user_guide/indexing.html#returning-a-view-versus-a-copy\n",
      "  cruz['pos'] = cruz['text'].apply(lambda x:analyzer.polarity_scores(x)['pos'])\n"
     ]
    },
    {
     "name": "stdout",
     "output_type": "stream",
     "text": [
      "cruz 3/4\n"
     ]
    },
    {
     "name": "stderr",
     "output_type": "stream",
     "text": [
      "C:\\Users\\capma\\AppData\\Local\\Temp\\ipykernel_26716\\4287327599.py:14: SettingWithCopyWarning: \n",
      "A value is trying to be set on a copy of a slice from a DataFrame.\n",
      "Try using .loc[row_indexer,col_indexer] = value instead\n",
      "\n",
      "See the caveats in the documentation: https://pandas.pydata.org/pandas-docs/stable/user_guide/indexing.html#returning-a-view-versus-a-copy\n",
      "  cruz['compound'] =  cruz['text'].apply(lambda x:analyzer.polarity_scores(x)['compound'])\n"
     ]
    },
    {
     "name": "stdout",
     "output_type": "stream",
     "text": [
      "cruz Sentiment Analysis Completed\n"
     ]
    }
   ],
   "source": [
    "cruz=df.copy()\n",
    "cruz= df['text'].str.contains(\"ted|cruz\",case=False)\n",
    "cruz=df[cruz]\n",
    "\n",
    "cruz['neg'] = cruz['text'].apply(lambda x:analyzer.polarity_scores(x)['neg'])\n",
    "print(\"cruz 1/4\")\n",
    "\n",
    "cruz['neu'] = cruz['text'].apply(lambda x:analyzer.polarity_scores(x)['neu'])\n",
    "print(\"cruz2/4\")\n",
    "\n",
    "cruz['pos'] = cruz['text'].apply(lambda x:analyzer.polarity_scores(x)['pos'])\n",
    "print(\"cruz 3/4\")\n",
    "\n",
    "cruz['compound'] =  cruz['text'].apply(lambda x:analyzer.polarity_scores(x)['compound'])\n",
    "print(\"cruz Sentiment Analysis Completed\")\n",
    "cruz.to_csv(r'D:/Final Project Econ/cruz sentiment and tweets.csv',index=True)\n",
    "del cruz"
   ]
  },
  {
   "cell_type": "code",
   "execution_count": 23,
   "id": "4ed658bb",
   "metadata": {},
   "outputs": [
    {
     "name": "stderr",
     "output_type": "stream",
     "text": [
      "C:\\Users\\capma\\AppData\\Local\\Temp\\ipykernel_26716\\2425370703.py:5: SettingWithCopyWarning: \n",
      "A value is trying to be set on a copy of a slice from a DataFrame.\n",
      "Try using .loc[row_indexer,col_indexer] = value instead\n",
      "\n",
      "See the caveats in the documentation: https://pandas.pydata.org/pandas-docs/stable/user_guide/indexing.html#returning-a-view-versus-a-copy\n",
      "  graham['neg'] = graham['text'].apply(lambda x:analyzer.polarity_scores(x)['neg'])\n"
     ]
    },
    {
     "name": "stdout",
     "output_type": "stream",
     "text": [
      "graham 1/4\n"
     ]
    },
    {
     "name": "stderr",
     "output_type": "stream",
     "text": [
      "C:\\Users\\capma\\AppData\\Local\\Temp\\ipykernel_26716\\2425370703.py:8: SettingWithCopyWarning: \n",
      "A value is trying to be set on a copy of a slice from a DataFrame.\n",
      "Try using .loc[row_indexer,col_indexer] = value instead\n",
      "\n",
      "See the caveats in the documentation: https://pandas.pydata.org/pandas-docs/stable/user_guide/indexing.html#returning-a-view-versus-a-copy\n",
      "  graham['neu'] = graham['text'].apply(lambda x:analyzer.polarity_scores(x)['neu'])\n"
     ]
    },
    {
     "name": "stdout",
     "output_type": "stream",
     "text": [
      "graham2/4\n"
     ]
    },
    {
     "name": "stderr",
     "output_type": "stream",
     "text": [
      "C:\\Users\\capma\\AppData\\Local\\Temp\\ipykernel_26716\\2425370703.py:11: SettingWithCopyWarning: \n",
      "A value is trying to be set on a copy of a slice from a DataFrame.\n",
      "Try using .loc[row_indexer,col_indexer] = value instead\n",
      "\n",
      "See the caveats in the documentation: https://pandas.pydata.org/pandas-docs/stable/user_guide/indexing.html#returning-a-view-versus-a-copy\n",
      "  graham['pos'] = graham['text'].apply(lambda x:analyzer.polarity_scores(x)['pos'])\n"
     ]
    },
    {
     "name": "stdout",
     "output_type": "stream",
     "text": [
      "graham 3/4\n"
     ]
    },
    {
     "name": "stderr",
     "output_type": "stream",
     "text": [
      "C:\\Users\\capma\\AppData\\Local\\Temp\\ipykernel_26716\\2425370703.py:14: SettingWithCopyWarning: \n",
      "A value is trying to be set on a copy of a slice from a DataFrame.\n",
      "Try using .loc[row_indexer,col_indexer] = value instead\n",
      "\n",
      "See the caveats in the documentation: https://pandas.pydata.org/pandas-docs/stable/user_guide/indexing.html#returning-a-view-versus-a-copy\n",
      "  graham['compound'] =  graham['text'].apply(lambda x:analyzer.polarity_scores(x)['compound'])\n"
     ]
    },
    {
     "name": "stdout",
     "output_type": "stream",
     "text": [
      "graham Sentiment Analysis Completed\n"
     ]
    }
   ],
   "source": [
    "graham=df.copy()\n",
    "graham= df['text'].str.contains(\"lindsay|graham\",case=False)\n",
    "graham=df[graham]\n",
    "\n",
    "graham['neg'] = graham['text'].apply(lambda x:analyzer.polarity_scores(x)['neg'])\n",
    "print(\"graham 1/4\")\n",
    "\n",
    "graham['neu'] = graham['text'].apply(lambda x:analyzer.polarity_scores(x)['neu'])\n",
    "print(\"graham2/4\")\n",
    "\n",
    "graham['pos'] = graham['text'].apply(lambda x:analyzer.polarity_scores(x)['pos'])\n",
    "print(\"graham 3/4\")\n",
    "\n",
    "graham['compound'] =  graham['text'].apply(lambda x:analyzer.polarity_scores(x)['compound'])\n",
    "print(\"graham Sentiment Analysis Completed\")\n",
    "graham.to_csv(r'D:/Final Project Econ/graham sentiment and tweets.csv',index=True)\n",
    "del graham"
   ]
  },
  {
   "cell_type": "code",
   "execution_count": 24,
   "id": "a766c59c",
   "metadata": {},
   "outputs": [
    {
     "name": "stderr",
     "output_type": "stream",
     "text": [
      "C:\\Users\\capma\\AppData\\Local\\Temp\\ipykernel_26716\\686204828.py:5: SettingWithCopyWarning: \n",
      "A value is trying to be set on a copy of a slice from a DataFrame.\n",
      "Try using .loc[row_indexer,col_indexer] = value instead\n",
      "\n",
      "See the caveats in the documentation: https://pandas.pydata.org/pandas-docs/stable/user_guide/indexing.html#returning-a-view-versus-a-copy\n",
      "  rubio['neg'] = rubio['text'].apply(lambda x:analyzer.polarity_scores(x)['neg'])\n"
     ]
    },
    {
     "name": "stdout",
     "output_type": "stream",
     "text": [
      "rubio 1/4\n"
     ]
    },
    {
     "name": "stderr",
     "output_type": "stream",
     "text": [
      "C:\\Users\\capma\\AppData\\Local\\Temp\\ipykernel_26716\\686204828.py:8: SettingWithCopyWarning: \n",
      "A value is trying to be set on a copy of a slice from a DataFrame.\n",
      "Try using .loc[row_indexer,col_indexer] = value instead\n",
      "\n",
      "See the caveats in the documentation: https://pandas.pydata.org/pandas-docs/stable/user_guide/indexing.html#returning-a-view-versus-a-copy\n",
      "  rubio['neu'] = rubio['text'].apply(lambda x:analyzer.polarity_scores(x)['neu'])\n"
     ]
    },
    {
     "name": "stdout",
     "output_type": "stream",
     "text": [
      "rubio2/4\n"
     ]
    },
    {
     "name": "stderr",
     "output_type": "stream",
     "text": [
      "C:\\Users\\capma\\AppData\\Local\\Temp\\ipykernel_26716\\686204828.py:11: SettingWithCopyWarning: \n",
      "A value is trying to be set on a copy of a slice from a DataFrame.\n",
      "Try using .loc[row_indexer,col_indexer] = value instead\n",
      "\n",
      "See the caveats in the documentation: https://pandas.pydata.org/pandas-docs/stable/user_guide/indexing.html#returning-a-view-versus-a-copy\n",
      "  rubio['pos'] = rubio['text'].apply(lambda x:analyzer.polarity_scores(x)['pos'])\n"
     ]
    },
    {
     "name": "stdout",
     "output_type": "stream",
     "text": [
      "rubio 3/4\n"
     ]
    },
    {
     "name": "stderr",
     "output_type": "stream",
     "text": [
      "C:\\Users\\capma\\AppData\\Local\\Temp\\ipykernel_26716\\686204828.py:14: SettingWithCopyWarning: \n",
      "A value is trying to be set on a copy of a slice from a DataFrame.\n",
      "Try using .loc[row_indexer,col_indexer] = value instead\n",
      "\n",
      "See the caveats in the documentation: https://pandas.pydata.org/pandas-docs/stable/user_guide/indexing.html#returning-a-view-versus-a-copy\n",
      "  rubio['compound'] =  rubio['text'].apply(lambda x:analyzer.polarity_scores(x)['compound'])\n"
     ]
    },
    {
     "name": "stdout",
     "output_type": "stream",
     "text": [
      "rubio Sentiment Analysis Completed\n"
     ]
    }
   ],
   "source": [
    "rubio=df.copy()\n",
    "rubio= df['text'].str.contains(\"marco|rubio\",case=False)\n",
    "rubio=df[rubio]\n",
    "\n",
    "rubio['neg'] = rubio['text'].apply(lambda x:analyzer.polarity_scores(x)['neg'])\n",
    "print(\"rubio 1/4\")\n",
    "\n",
    "rubio['neu'] = rubio['text'].apply(lambda x:analyzer.polarity_scores(x)['neu'])\n",
    "print(\"rubio2/4\")\n",
    "\n",
    "rubio['pos'] = rubio['text'].apply(lambda x:analyzer.polarity_scores(x)['pos'])\n",
    "print(\"rubio 3/4\")\n",
    "\n",
    "rubio['compound'] =  rubio['text'].apply(lambda x:analyzer.polarity_scores(x)['compound'])\n",
    "print(\"rubio Sentiment Analysis Completed\")\n",
    "rubio.to_csv(r'D:/Final Project Econ/rubio sentiment and tweets.csv',index=True)\n",
    "del rubio"
   ]
  },
  {
   "cell_type": "code",
   "execution_count": 25,
   "id": "950a9cf4",
   "metadata": {},
   "outputs": [
    {
     "name": "stderr",
     "output_type": "stream",
     "text": [
      "C:\\Users\\capma\\AppData\\Local\\Temp\\ipykernel_26716\\2514136008.py:5: SettingWithCopyWarning: \n",
      "A value is trying to be set on a copy of a slice from a DataFrame.\n",
      "Try using .loc[row_indexer,col_indexer] = value instead\n",
      "\n",
      "See the caveats in the documentation: https://pandas.pydata.org/pandas-docs/stable/user_guide/indexing.html#returning-a-view-versus-a-copy\n",
      "  paul['neg'] = paul['text'].apply(lambda x:analyzer.polarity_scores(x)['neg'])\n"
     ]
    },
    {
     "name": "stdout",
     "output_type": "stream",
     "text": [
      "paul 1/4\n"
     ]
    },
    {
     "name": "stderr",
     "output_type": "stream",
     "text": [
      "C:\\Users\\capma\\AppData\\Local\\Temp\\ipykernel_26716\\2514136008.py:8: SettingWithCopyWarning: \n",
      "A value is trying to be set on a copy of a slice from a DataFrame.\n",
      "Try using .loc[row_indexer,col_indexer] = value instead\n",
      "\n",
      "See the caveats in the documentation: https://pandas.pydata.org/pandas-docs/stable/user_guide/indexing.html#returning-a-view-versus-a-copy\n",
      "  paul['neu'] = paul['text'].apply(lambda x:analyzer.polarity_scores(x)['neu'])\n"
     ]
    },
    {
     "name": "stdout",
     "output_type": "stream",
     "text": [
      "paul2/4\n"
     ]
    },
    {
     "name": "stderr",
     "output_type": "stream",
     "text": [
      "C:\\Users\\capma\\AppData\\Local\\Temp\\ipykernel_26716\\2514136008.py:11: SettingWithCopyWarning: \n",
      "A value is trying to be set on a copy of a slice from a DataFrame.\n",
      "Try using .loc[row_indexer,col_indexer] = value instead\n",
      "\n",
      "See the caveats in the documentation: https://pandas.pydata.org/pandas-docs/stable/user_guide/indexing.html#returning-a-view-versus-a-copy\n",
      "  paul['pos'] = paul['text'].apply(lambda x:analyzer.polarity_scores(x)['pos'])\n"
     ]
    },
    {
     "name": "stdout",
     "output_type": "stream",
     "text": [
      "paul 3/4\n"
     ]
    },
    {
     "name": "stderr",
     "output_type": "stream",
     "text": [
      "C:\\Users\\capma\\AppData\\Local\\Temp\\ipykernel_26716\\2514136008.py:14: SettingWithCopyWarning: \n",
      "A value is trying to be set on a copy of a slice from a DataFrame.\n",
      "Try using .loc[row_indexer,col_indexer] = value instead\n",
      "\n",
      "See the caveats in the documentation: https://pandas.pydata.org/pandas-docs/stable/user_guide/indexing.html#returning-a-view-versus-a-copy\n",
      "  paul['compound'] =  paul['text'].apply(lambda x:analyzer.polarity_scores(x)['compound'])\n"
     ]
    },
    {
     "name": "stdout",
     "output_type": "stream",
     "text": [
      "paul Sentiment Analysis Completed\n"
     ]
    }
   ],
   "source": [
    "paul=df.copy()\n",
    "paul= df['text'].str.contains(\"ryan|paul\",case=False)\n",
    "paul=df[paul]\n",
    "\n",
    "paul['neg'] = paul['text'].apply(lambda x:analyzer.polarity_scores(x)['neg'])\n",
    "print(\"paul 1/4\")\n",
    "\n",
    "paul['neu'] = paul['text'].apply(lambda x:analyzer.polarity_scores(x)['neu'])\n",
    "print(\"paul2/4\")\n",
    "\n",
    "paul['pos'] = paul['text'].apply(lambda x:analyzer.polarity_scores(x)['pos'])\n",
    "print(\"paul 3/4\")\n",
    "\n",
    "paul['compound'] =  paul['text'].apply(lambda x:analyzer.polarity_scores(x)['compound'])\n",
    "print(\"paul Sentiment Analysis Completed\")\n",
    "paul.to_csv(r'D:/Final Project Econ/paul sentiment and tweets.csv',index=True)\n",
    "del paul"
   ]
  },
  {
   "cell_type": "code",
   "execution_count": 26,
   "id": "67b2f984",
   "metadata": {},
   "outputs": [
    {
     "name": "stderr",
     "output_type": "stream",
     "text": [
      "C:\\Users\\capma\\AppData\\Local\\Temp\\ipykernel_26716\\403179063.py:5: SettingWithCopyWarning: \n",
      "A value is trying to be set on a copy of a slice from a DataFrame.\n",
      "Try using .loc[row_indexer,col_indexer] = value instead\n",
      "\n",
      "See the caveats in the documentation: https://pandas.pydata.org/pandas-docs/stable/user_guide/indexing.html#returning-a-view-versus-a-copy\n",
      "  rand['neg'] = rand['text'].apply(lambda x:analyzer.polarity_scores(x)['neg'])\n"
     ]
    },
    {
     "name": "stdout",
     "output_type": "stream",
     "text": [
      "rand 1/4\n"
     ]
    },
    {
     "name": "stderr",
     "output_type": "stream",
     "text": [
      "C:\\Users\\capma\\AppData\\Local\\Temp\\ipykernel_26716\\403179063.py:8: SettingWithCopyWarning: \n",
      "A value is trying to be set on a copy of a slice from a DataFrame.\n",
      "Try using .loc[row_indexer,col_indexer] = value instead\n",
      "\n",
      "See the caveats in the documentation: https://pandas.pydata.org/pandas-docs/stable/user_guide/indexing.html#returning-a-view-versus-a-copy\n",
      "  rand['neu'] = rand['text'].apply(lambda x:analyzer.polarity_scores(x)['neu'])\n"
     ]
    },
    {
     "name": "stdout",
     "output_type": "stream",
     "text": [
      "rand2/4\n"
     ]
    },
    {
     "name": "stderr",
     "output_type": "stream",
     "text": [
      "C:\\Users\\capma\\AppData\\Local\\Temp\\ipykernel_26716\\403179063.py:11: SettingWithCopyWarning: \n",
      "A value is trying to be set on a copy of a slice from a DataFrame.\n",
      "Try using .loc[row_indexer,col_indexer] = value instead\n",
      "\n",
      "See the caveats in the documentation: https://pandas.pydata.org/pandas-docs/stable/user_guide/indexing.html#returning-a-view-versus-a-copy\n",
      "  rand['pos'] = rand['text'].apply(lambda x:analyzer.polarity_scores(x)['pos'])\n"
     ]
    },
    {
     "name": "stdout",
     "output_type": "stream",
     "text": [
      "rand 3/4\n"
     ]
    },
    {
     "name": "stderr",
     "output_type": "stream",
     "text": [
      "C:\\Users\\capma\\AppData\\Local\\Temp\\ipykernel_26716\\403179063.py:14: SettingWithCopyWarning: \n",
      "A value is trying to be set on a copy of a slice from a DataFrame.\n",
      "Try using .loc[row_indexer,col_indexer] = value instead\n",
      "\n",
      "See the caveats in the documentation: https://pandas.pydata.org/pandas-docs/stable/user_guide/indexing.html#returning-a-view-versus-a-copy\n",
      "  rand['compound'] =  rand['text'].apply(lambda x:analyzer.polarity_scores(x)['compound'])\n"
     ]
    },
    {
     "name": "stdout",
     "output_type": "stream",
     "text": [
      "rand Sentiment Analysis Completed\n"
     ]
    }
   ],
   "source": [
    "rand=df.copy()\n",
    "rand= df['text'].str.contains(\"paul|rand\",case=False)\n",
    "rand=df[rand]\n",
    "\n",
    "rand['neg'] = rand['text'].apply(lambda x:analyzer.polarity_scores(x)['neg'])\n",
    "print(\"rand 1/4\")\n",
    "\n",
    "rand['neu'] = rand['text'].apply(lambda x:analyzer.polarity_scores(x)['neu'])\n",
    "print(\"rand2/4\")\n",
    "\n",
    "rand['pos'] = rand['text'].apply(lambda x:analyzer.polarity_scores(x)['pos'])\n",
    "print(\"rand 3/4\")\n",
    "\n",
    "rand['compound'] =  rand['text'].apply(lambda x:analyzer.polarity_scores(x)['compound'])\n",
    "print(\"rand Sentiment Analysis Completed\")\n",
    "rand.to_csv(r'D:/Final Project Econ/rand sentiment and tweets.csv',index=True)\n",
    "del rand"
   ]
  },
  {
   "cell_type": "code",
   "execution_count": 27,
   "id": "3e67cde8",
   "metadata": {},
   "outputs": [],
   "source": [
    "del(df)"
   ]
  },
  {
   "cell_type": "markdown",
   "id": "677fdc40",
   "metadata": {},
   "source": [
    "<a id='sentimentanalysis'></a>\n",
    "### Running a Sentiment Analysis \n",
    "\n",
    "Sentiment Analysis is a Natural Language Processing (NLP) technique that is used to analyze whether a piece of text is positive, neutral, or negative. There are several types of Sentiment Analysis with their own methods, however, here we will use the VADER Sentiment Analysis technique. VADER (Valence Aware Dictionary and sEntiment Reasoner) is a sentiment analysis technique that uses a lexicon (dictionary) of words that have values between -4 and 4 attributed to them. Words with positive meanings will be given larger numbers than words with negative meanings. \n",
    "\n",
    "From this lexicon, an algorithm was created to assign values to text snippets. When running the Vader algorithm, 4 values will be returned: Negative, Neutral, Positive, and Compound. The Negative, Neutral, and Positive values represent the likelihood that a tweet is Negative, Neutral, or Positive, this will be represented as a number between 0-1. The Compound Value, however, is a number between -1 and 1. A highly negative compound value means that a sentence that is *most likely* negative, and a highly positive number will mean that the sentence is *most likely* positive.<br>\n",
    "<br>\n",
    "\n",
    "**For example:**\n",
    "\n",
    "| Tweet | Negative  | Neutral  | Positive| Compound Value | \n",
    "| :--- | ---    | ---    | ---    | ---    |\n",
    "| anyone else notice that trump supporters have huge patriotic motorcycle and boat rallies while biden supporters are rioting and burning down cities  | 0.000 | 0.701    | 0.299 | 0.7964    |\n",
    "\n",
    "\n",
    "<br>\n",
    "<br>\n",
    "\n",
    "If you are interested in learning more about VADER, you can read the original academic paper [here](https://ojs.aaai.org/index.php/ICWSM/article/download/14550/14399/18068), or you can check out the [VADER Github](https://github.com/cjhutto/vaderSentiment) repository.\n",
    "\n",
    "\n",
    "[[Table of Contents]](#contents)\n",
    "\n",
    "<br>\n",
    "\n",
    "___________________\n",
    "\n",
    "\n"
   ]
  },
  {
   "cell_type": "markdown",
   "id": "16c0c418",
   "metadata": {},
   "source": [
    "### Exporting the Dataframes into Files\n",
    "<a id='export'></a>\n",
    "\n",
    "We will be exporting the two DataFrames we created into .csv files. This will allow us to access the data that we sorted, cleaned, and analyzed without having to re-run any code.\n",
    "\n",
    "The following code will create two files: **trump sentiment and tweets.csv** and **biden sentiment and tweets.csv**. Do not run the following cell if you do not wish to create new files on your computer.\n"
   ]
  },
  {
   "cell_type": "code",
   "execution_count": 28,
   "id": "ab028c1b",
   "metadata": {},
   "outputs": [],
   "source": [
    "#trump.to_csv('trump sentiment and tweets.csv',index=True)\n",
    "#biden.to_csv('biden sentiment and tweets.csv',index=True)"
   ]
  },
  {
   "cell_type": "markdown",
   "id": "aa162551",
   "metadata": {},
   "source": [
    "<a href=\"#contents\">\n",
    "\n",
    "\n",
    "<div class=\"alert alert-block alert-info\"> \n",
    "<b>Click this box to return to the table of contents\n",
    "</b>    \n",
    "    \n",
    "</div>\n",
    "    </a>"
   ]
  },
  {
   "cell_type": "markdown",
   "id": "0a197340",
   "metadata": {},
   "source": [
    "<a href=\"./Final_Project_4.ipynb\">\n",
    "\n",
    "\n",
    "<div class=\"alert alert-block alert-success\"> \n",
    "<b>Click this box to continue on to the comparison between Twitter sentiment analysis and polling data\n",
    "</b>    \n",
    "    \n",
    "</div>\n",
    "\n",
    "</a>"
   ]
  },
  {
   "cell_type": "markdown",
   "id": "1ceeb9f1",
   "metadata": {},
   "source": [
    "<a href=\"./Final_Project_2.ipynb\">\n",
    "\n",
    "\n",
    "<div class=\"alert alert-block alert-danger\"> \n",
    "<b>Click this box to return to the analysis of 2020 presidential polling data\n",
    "</b>    \n",
    "    \n",
    "</div>\n",
    "\n",
    "</a>"
   ]
  }
 ],
 "metadata": {
  "kernelspec": {
   "display_name": "Python 3 (ipykernel)",
   "language": "python",
   "name": "python3"
  },
  "language_info": {
   "codemirror_mode": {
    "name": "ipython",
    "version": 3
   },
   "file_extension": ".py",
   "mimetype": "text/x-python",
   "name": "python",
   "nbconvert_exporter": "python",
   "pygments_lexer": "ipython3",
   "version": "3.9.12"
  }
 },
 "nbformat": 4,
 "nbformat_minor": 5
}
