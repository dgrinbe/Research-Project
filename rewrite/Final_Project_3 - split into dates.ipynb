{
 "cells": [
  {
   "cell_type": "markdown",
   "id": "e7697f30",
   "metadata": {},
   "source": [
    "<a id='title'></a>\n",
    "\n",
    "# Analyzing the 2020 American Presidential Election using Twitter\n",
    "## Page 3: Twitter Sentiment Analysis\n",
    "\n",
    "<i> David Grinberg</i>\n",
    "___________________"
   ]
  },
  {
   "cell_type": "markdown",
   "id": "28505be3",
   "metadata": {},
   "source": [
    "<a id='contents'> </a>\n",
    "## Table of Contents\n",
    "1. [<b>Project Introduction and 2020 Background Info](./Final_Project_1.ipynb)<br>\n",
    "1. [<b>Analyzing Polling Data](./Final_Project_2.ipynb)<br>\n",
    "1. [<b>Twitter Sentiment Analysis](#title)<br>\n",
    "    3.1 [Packages Used](#packageimports)<br>\n",
    "    3.2 [Reading Data into a DataFrame](#readcsv)<br>\n",
    "    3.3 [Sorting and Cleaning Data](#sorting)<br>\n",
    "    3.4 [Running Sentiment Analysis](#sentimentanalysis)<br>\n",
    "    3.5 [Exporting the Data](#export)<br>    \n",
    "1. [<b>Comparing Polling Data with Sentiment Analysis Data](./Final_Project_4.ipynb)<br>\n",
    "1. [<b>Project Conclusion](./Final_Project_5.ipynb)<br>\n",
    "\n",
    "\n",
    "\n",
    "\n",
    "________________________"
   ]
  },
  {
   "cell_type": "markdown",
   "id": "bfe0441c",
   "metadata": {},
   "source": [
    "<a id='packageimports'></a>\n",
    "### Packages used\n",
    "\n",
    "\n",
    "- Pandas is used to import, edit, manipulate, and create .csv files\n",
    "- NLTK is used to perform Natural Language Processing on the individual tweets used (NLP).\n",
    "\n",
    "[Table of Contents](#contents)\n",
    "________________________"
   ]
  },
  {
   "cell_type": "code",
   "execution_count": 5,
   "id": "571c020e",
   "metadata": {},
   "outputs": [],
   "source": [
    "import pandas as pd\n",
    "import nltk\n",
    "from nltk.sentiment.vader import SentimentIntensityAnalyzer\n",
    "import os"
   ]
  },
  {
   "cell_type": "markdown",
   "id": "ac7d4442",
   "metadata": {},
   "source": [
    "<div class=\"alert alert-block alert-danger\"> \n",
    "<b> WARNING: Running this notebook uses a large amount of memory and time. This code takes at least 5 hours to run, so please plan accordingly if you intend to run the code in this notebook.\n",
    "</b>    \n",
    "    \n",
    "</div>\n"
   ]
  },
  {
   "cell_type": "markdown",
   "id": "36a719a0",
   "metadata": {},
   "source": [
    "<a id='readcsv'></a>\n",
    "### Reading the data into a Pandas DataFrame\n",
    "\n",
    "In this notebook, we will be using a data set of over 6 million tweets, downloaded from Twitter by Christo Tarazi and Wei Xiao. Like the previous notebook, we will be reading the .csv file into a pandas DataFrame object. Once in a DataFrame, we can then manipulate the data.\n",
    "\n",
    "\n",
    "[[Table of Contents]](#contents)\n",
    "\n",
    "<br>\n",
    "\n",
    "___________________"
   ]
  },
  {
   "cell_type": "code",
   "execution_count": 4,
   "id": "5bcb9fac",
   "metadata": {},
   "outputs": [
    {
     "ename": "KeyboardInterrupt",
     "evalue": "",
     "output_type": "error",
     "traceback": [
      "\u001b[1;31m---------------------------------------------------------------------------\u001b[0m",
      "\u001b[1;31mKeyboardInterrupt\u001b[0m                         Traceback (most recent call last)",
      "Input \u001b[1;32mIn [4]\u001b[0m, in \u001b[0;36m<cell line: 3>\u001b[1;34m()\u001b[0m\n\u001b[0;32m      1\u001b[0m \u001b[38;5;66;03m# pd.options.display.max_colwidth=999\u001b[39;00m\n\u001b[1;32m----> 3\u001b[0m df_1\u001b[38;5;241m=\u001b[39m \u001b[43mpd\u001b[49m\u001b[38;5;241;43m.\u001b[39;49m\u001b[43mread_csv\u001b[49m\u001b[43m(\u001b[49m\u001b[38;5;124;43mr\u001b[39;49m\u001b[38;5;124;43m'\u001b[39;49m\u001b[38;5;124;43mD:/Final Project Econ/Sep1toSep16.csv\u001b[39;49m\u001b[38;5;124;43m'\u001b[39;49m\u001b[43m,\u001b[49m\u001b[43mdtype\u001b[49m\u001b[38;5;241;43m=\u001b[39;49m\u001b[43m{\u001b[49m\u001b[38;5;124;43m'\u001b[39;49m\u001b[38;5;124;43mid_str\u001b[39;49m\u001b[38;5;124;43m'\u001b[39;49m\u001b[43m:\u001b[49m\u001b[38;5;28;43mstr\u001b[39;49m\u001b[43m,\u001b[49m\u001b[43m \u001b[49m\u001b[38;5;124;43m'\u001b[39;49m\u001b[38;5;124;43mcreated_at\u001b[39;49m\u001b[38;5;124;43m'\u001b[39;49m\u001b[43m:\u001b[49m\u001b[38;5;28;43mstr\u001b[39;49m\u001b[43m,\u001b[49m\u001b[43m \u001b[49m\u001b[38;5;124;43m'\u001b[39;49m\u001b[38;5;124;43mtext\u001b[39;49m\u001b[38;5;124;43m'\u001b[39;49m\u001b[43m:\u001b[49m\u001b[38;5;28;43mstr\u001b[39;49m\u001b[43m,\u001b[49m\u001b[43m \u001b[49m\u001b[38;5;124;43m'\u001b[39;49m\u001b[38;5;124;43muser_screen_name\u001b[39;49m\u001b[38;5;124;43m'\u001b[39;49m\u001b[43m:\u001b[49m\u001b[38;5;28;43mstr\u001b[39;49m\u001b[43m,\u001b[49m\n\u001b[0;32m      4\u001b[0m \u001b[43m                                           \u001b[49m\u001b[38;5;124;43m'\u001b[39;49m\u001b[38;5;124;43muser_created_at\u001b[39;49m\u001b[38;5;124;43m'\u001b[39;49m\u001b[43m:\u001b[49m\u001b[38;5;28;43mstr\u001b[39;49m\u001b[43m,\u001b[49m\u001b[43m \u001b[49m\u001b[38;5;124;43m'\u001b[39;49m\u001b[38;5;124;43mfavorite_count\u001b[39;49m\u001b[38;5;124;43m'\u001b[39;49m\u001b[43m:\u001b[49m\u001b[38;5;28;43mstr\u001b[39;49m\u001b[43m,\u001b[49m\u001b[43m \u001b[49m\u001b[38;5;124;43m'\u001b[39;49m\u001b[38;5;124;43muser_favourites_count\u001b[39;49m\u001b[38;5;124;43m'\u001b[39;49m\u001b[43m:\u001b[49m\u001b[38;5;28;43mstr\u001b[39;49m\u001b[43m,\u001b[49m\n\u001b[0;32m      5\u001b[0m \u001b[43m                                           \u001b[49m\u001b[38;5;124;43m'\u001b[39;49m\u001b[38;5;124;43muser_followers_count\u001b[39;49m\u001b[38;5;124;43m'\u001b[39;49m\u001b[43m:\u001b[49m\u001b[38;5;28;43mstr\u001b[39;49m\u001b[43m,\u001b[49m\u001b[38;5;124;43m'\u001b[39;49m\u001b[38;5;124;43muser_friends_count\u001b[39;49m\u001b[38;5;124;43m'\u001b[39;49m\u001b[43m:\u001b[49m\u001b[38;5;28;43mstr\u001b[39;49m\u001b[43m,\u001b[49m\u001b[43m \u001b[49m\u001b[38;5;124;43m'\u001b[39;49m\u001b[38;5;124;43mis_quote\u001b[39;49m\u001b[38;5;124;43m'\u001b[39;49m\u001b[43m:\u001b[49m\u001b[38;5;28;43mstr\u001b[39;49m\u001b[43m,\u001b[49m\n\u001b[0;32m      6\u001b[0m \u001b[43m                                           \u001b[49m\u001b[38;5;124;43m'\u001b[39;49m\u001b[38;5;124;43mretweeted\u001b[39;49m\u001b[38;5;124;43m'\u001b[39;49m\u001b[43m:\u001b[49m\u001b[38;5;28;43mstr\u001b[39;49m\u001b[43m,\u001b[49m\u001b[43m \u001b[49m\u001b[38;5;124;43m'\u001b[39;49m\u001b[38;5;124;43muser_listed_count\u001b[39;49m\u001b[38;5;124;43m'\u001b[39;49m\u001b[43m:\u001b[49m\u001b[38;5;28;43mstr\u001b[39;49m\u001b[43m,\u001b[49m\u001b[38;5;124;43m'\u001b[39;49m\u001b[38;5;124;43mretweet_count\u001b[39;49m\u001b[38;5;124;43m'\u001b[39;49m\u001b[43m:\u001b[49m\u001b[38;5;28;43mstr\u001b[39;49m\u001b[43m,\u001b[49m\u001b[43m \u001b[49m\u001b[38;5;124;43m'\u001b[39;49m\u001b[38;5;124;43muser_statuses_count\u001b[39;49m\u001b[38;5;124;43m'\u001b[39;49m\u001b[43m:\u001b[49m\u001b[38;5;28;43mstr\u001b[39;49m\u001b[43m,\u001b[49m\n\u001b[0;32m      7\u001b[0m \u001b[43m                                           \u001b[49m\u001b[38;5;124;43m'\u001b[39;49m\u001b[38;5;124;43muser_id_str\u001b[39;49m\u001b[38;5;124;43m'\u001b[39;49m\u001b[43m:\u001b[49m\u001b[38;5;28;43mstr\u001b[39;49m\u001b[43m,\u001b[49m\u001b[43m \u001b[49m\u001b[38;5;124;43m'\u001b[39;49m\u001b[38;5;124;43muser_verified\u001b[39;49m\u001b[38;5;124;43m'\u001b[39;49m\u001b[43m:\u001b[49m\u001b[38;5;28;43mstr\u001b[39;49m\u001b[43m,\u001b[49m\u001b[38;5;124;43m'\u001b[39;49m\u001b[38;5;124;43muser_description\u001b[39;49m\u001b[38;5;124;43m'\u001b[39;49m\u001b[43m:\u001b[49m\u001b[38;5;28;43mstr\u001b[39;49m\u001b[43m,\u001b[49m\u001b[43m \u001b[49m\u001b[38;5;124;43m'\u001b[39;49m\u001b[38;5;124;43muser_location\u001b[39;49m\u001b[38;5;124;43m'\u001b[39;49m\u001b[43m:\u001b[49m\u001b[38;5;28;43mstr\u001b[39;49m\u001b[43m,\u001b[49m\n\u001b[0;32m      8\u001b[0m \u001b[43m                                           \u001b[49m\u001b[38;5;124;43m'\u001b[39;49m\u001b[38;5;124;43muser_name\u001b[39;49m\u001b[38;5;124;43m'\u001b[39;49m\u001b[43m:\u001b[49m\u001b[38;5;28;43mstr\u001b[39;49m\u001b[43m,\u001b[49m\u001b[43m \u001b[49m\u001b[38;5;124;43m'\u001b[39;49m\u001b[38;5;124;43mgeo\u001b[39;49m\u001b[38;5;124;43m'\u001b[39;49m\u001b[43m:\u001b[49m\u001b[38;5;28;43mstr\u001b[39;49m\u001b[43m,\u001b[49m\u001b[43m \u001b[49m\u001b[38;5;124;43m'\u001b[39;49m\u001b[38;5;124;43mlongitutde\u001b[39;49m\u001b[38;5;124;43m'\u001b[39;49m\u001b[43m:\u001b[49m\u001b[38;5;28;43mstr\u001b[39;49m\u001b[43m,\u001b[49m\u001b[38;5;124;43m'\u001b[39;49m\u001b[38;5;124;43mlatitude\u001b[39;49m\u001b[38;5;124;43m'\u001b[39;49m\u001b[43m:\u001b[49m\u001b[38;5;28;43mstr\u001b[39;49m\u001b[43m,\u001b[49m\u001b[43m \u001b[49m\u001b[38;5;124;43m'\u001b[39;49m\u001b[38;5;124;43mplace\u001b[39;49m\u001b[38;5;124;43m'\u001b[39;49m\u001b[43m:\u001b[49m\u001b[38;5;28;43mstr\u001b[39;49m\u001b[43m,\u001b[49m\u001b[43m \u001b[49m\u001b[38;5;124;43m'\u001b[39;49m\u001b[38;5;124;43mlang\u001b[39;49m\u001b[38;5;124;43m'\u001b[39;49m\u001b[43m:\u001b[49m\u001b[38;5;28;43mstr\u001b[39;49m\u001b[43m,\u001b[49m\n\u001b[0;32m      9\u001b[0m \u001b[43m                                           \u001b[49m\u001b[38;5;124;43m'\u001b[39;49m\u001b[38;5;124;43mreply_count\u001b[39;49m\u001b[38;5;124;43m'\u001b[39;49m\u001b[43m:\u001b[49m\u001b[38;5;28;43mstr\u001b[39;49m\u001b[43m,\u001b[49m\u001b[43m \u001b[49m\u001b[38;5;124;43m'\u001b[39;49m\u001b[38;5;124;43mquote_count\u001b[39;49m\u001b[38;5;124;43m'\u001b[39;49m\u001b[43m:\u001b[49m\u001b[38;5;28;43mstr\u001b[39;49m\u001b[43m,\u001b[49m\u001b[43m \u001b[49m\u001b[38;5;124;43m'\u001b[39;49m\u001b[38;5;124;43mcandidate\u001b[39;49m\u001b[38;5;124;43m'\u001b[39;49m\u001b[43m:\u001b[49m\u001b[38;5;28;43mstr\u001b[39;49m\u001b[43m,\u001b[49m\u001b[38;5;124;43m'\u001b[39;49m\u001b[38;5;124;43mpolarity\u001b[39;49m\u001b[38;5;124;43m'\u001b[39;49m\u001b[43m:\u001b[49m\u001b[38;5;28;43mstr\u001b[39;49m\u001b[43m,\u001b[49m\u001b[43m \u001b[49m\u001b[38;5;124;43m'\u001b[39;49m\u001b[38;5;124;43mpolarity_origin\u001b[39;49m\u001b[38;5;124;43m'\u001b[39;49m\u001b[43m:\u001b[49m\u001b[38;5;28;43mstr\u001b[39;49m\u001b[43m}\u001b[49m\u001b[43m)\u001b[49m\n",
      "File \u001b[1;32mC:\\ProgramData\\Anaconda3\\lib\\site-packages\\pandas\\util\\_decorators.py:311\u001b[0m, in \u001b[0;36mdeprecate_nonkeyword_arguments.<locals>.decorate.<locals>.wrapper\u001b[1;34m(*args, **kwargs)\u001b[0m\n\u001b[0;32m    305\u001b[0m \u001b[38;5;28;01mif\u001b[39;00m \u001b[38;5;28mlen\u001b[39m(args) \u001b[38;5;241m>\u001b[39m num_allow_args:\n\u001b[0;32m    306\u001b[0m     warnings\u001b[38;5;241m.\u001b[39mwarn(\n\u001b[0;32m    307\u001b[0m         msg\u001b[38;5;241m.\u001b[39mformat(arguments\u001b[38;5;241m=\u001b[39marguments),\n\u001b[0;32m    308\u001b[0m         \u001b[38;5;167;01mFutureWarning\u001b[39;00m,\n\u001b[0;32m    309\u001b[0m         stacklevel\u001b[38;5;241m=\u001b[39mstacklevel,\n\u001b[0;32m    310\u001b[0m     )\n\u001b[1;32m--> 311\u001b[0m \u001b[38;5;28;01mreturn\u001b[39;00m func(\u001b[38;5;241m*\u001b[39margs, \u001b[38;5;241m*\u001b[39m\u001b[38;5;241m*\u001b[39mkwargs)\n",
      "File \u001b[1;32mC:\\ProgramData\\Anaconda3\\lib\\site-packages\\pandas\\io\\parsers\\readers.py:680\u001b[0m, in \u001b[0;36mread_csv\u001b[1;34m(filepath_or_buffer, sep, delimiter, header, names, index_col, usecols, squeeze, prefix, mangle_dupe_cols, dtype, engine, converters, true_values, false_values, skipinitialspace, skiprows, skipfooter, nrows, na_values, keep_default_na, na_filter, verbose, skip_blank_lines, parse_dates, infer_datetime_format, keep_date_col, date_parser, dayfirst, cache_dates, iterator, chunksize, compression, thousands, decimal, lineterminator, quotechar, quoting, doublequote, escapechar, comment, encoding, encoding_errors, dialect, error_bad_lines, warn_bad_lines, on_bad_lines, delim_whitespace, low_memory, memory_map, float_precision, storage_options)\u001b[0m\n\u001b[0;32m    665\u001b[0m kwds_defaults \u001b[38;5;241m=\u001b[39m _refine_defaults_read(\n\u001b[0;32m    666\u001b[0m     dialect,\n\u001b[0;32m    667\u001b[0m     delimiter,\n\u001b[1;32m   (...)\u001b[0m\n\u001b[0;32m    676\u001b[0m     defaults\u001b[38;5;241m=\u001b[39m{\u001b[38;5;124m\"\u001b[39m\u001b[38;5;124mdelimiter\u001b[39m\u001b[38;5;124m\"\u001b[39m: \u001b[38;5;124m\"\u001b[39m\u001b[38;5;124m,\u001b[39m\u001b[38;5;124m\"\u001b[39m},\n\u001b[0;32m    677\u001b[0m )\n\u001b[0;32m    678\u001b[0m kwds\u001b[38;5;241m.\u001b[39mupdate(kwds_defaults)\n\u001b[1;32m--> 680\u001b[0m \u001b[38;5;28;01mreturn\u001b[39;00m \u001b[43m_read\u001b[49m\u001b[43m(\u001b[49m\u001b[43mfilepath_or_buffer\u001b[49m\u001b[43m,\u001b[49m\u001b[43m \u001b[49m\u001b[43mkwds\u001b[49m\u001b[43m)\u001b[49m\n",
      "File \u001b[1;32mC:\\ProgramData\\Anaconda3\\lib\\site-packages\\pandas\\io\\parsers\\readers.py:581\u001b[0m, in \u001b[0;36m_read\u001b[1;34m(filepath_or_buffer, kwds)\u001b[0m\n\u001b[0;32m    578\u001b[0m     \u001b[38;5;28;01mreturn\u001b[39;00m parser\n\u001b[0;32m    580\u001b[0m \u001b[38;5;28;01mwith\u001b[39;00m parser:\n\u001b[1;32m--> 581\u001b[0m     \u001b[38;5;28;01mreturn\u001b[39;00m \u001b[43mparser\u001b[49m\u001b[38;5;241;43m.\u001b[39;49m\u001b[43mread\u001b[49m\u001b[43m(\u001b[49m\u001b[43mnrows\u001b[49m\u001b[43m)\u001b[49m\n",
      "File \u001b[1;32mC:\\ProgramData\\Anaconda3\\lib\\site-packages\\pandas\\io\\parsers\\readers.py:1254\u001b[0m, in \u001b[0;36mTextFileReader.read\u001b[1;34m(self, nrows)\u001b[0m\n\u001b[0;32m   1252\u001b[0m nrows \u001b[38;5;241m=\u001b[39m validate_integer(\u001b[38;5;124m\"\u001b[39m\u001b[38;5;124mnrows\u001b[39m\u001b[38;5;124m\"\u001b[39m, nrows)\n\u001b[0;32m   1253\u001b[0m \u001b[38;5;28;01mtry\u001b[39;00m:\n\u001b[1;32m-> 1254\u001b[0m     index, columns, col_dict \u001b[38;5;241m=\u001b[39m \u001b[38;5;28;43mself\u001b[39;49m\u001b[38;5;241;43m.\u001b[39;49m\u001b[43m_engine\u001b[49m\u001b[38;5;241;43m.\u001b[39;49m\u001b[43mread\u001b[49m\u001b[43m(\u001b[49m\u001b[43mnrows\u001b[49m\u001b[43m)\u001b[49m\n\u001b[0;32m   1255\u001b[0m \u001b[38;5;28;01mexcept\u001b[39;00m \u001b[38;5;167;01mException\u001b[39;00m:\n\u001b[0;32m   1256\u001b[0m     \u001b[38;5;28mself\u001b[39m\u001b[38;5;241m.\u001b[39mclose()\n",
      "File \u001b[1;32mC:\\ProgramData\\Anaconda3\\lib\\site-packages\\pandas\\io\\parsers\\c_parser_wrapper.py:225\u001b[0m, in \u001b[0;36mCParserWrapper.read\u001b[1;34m(self, nrows)\u001b[0m\n\u001b[0;32m    223\u001b[0m \u001b[38;5;28;01mtry\u001b[39;00m:\n\u001b[0;32m    224\u001b[0m     \u001b[38;5;28;01mif\u001b[39;00m \u001b[38;5;28mself\u001b[39m\u001b[38;5;241m.\u001b[39mlow_memory:\n\u001b[1;32m--> 225\u001b[0m         chunks \u001b[38;5;241m=\u001b[39m \u001b[38;5;28;43mself\u001b[39;49m\u001b[38;5;241;43m.\u001b[39;49m\u001b[43m_reader\u001b[49m\u001b[38;5;241;43m.\u001b[39;49m\u001b[43mread_low_memory\u001b[49m\u001b[43m(\u001b[49m\u001b[43mnrows\u001b[49m\u001b[43m)\u001b[49m\n\u001b[0;32m    226\u001b[0m         \u001b[38;5;66;03m# destructive to chunks\u001b[39;00m\n\u001b[0;32m    227\u001b[0m         data \u001b[38;5;241m=\u001b[39m _concatenate_chunks(chunks)\n",
      "File \u001b[1;32mC:\\ProgramData\\Anaconda3\\lib\\site-packages\\pandas\\_libs\\parsers.pyx:805\u001b[0m, in \u001b[0;36mpandas._libs.parsers.TextReader.read_low_memory\u001b[1;34m()\u001b[0m\n",
      "File \u001b[1;32mC:\\ProgramData\\Anaconda3\\lib\\site-packages\\pandas\\_libs\\parsers.pyx:883\u001b[0m, in \u001b[0;36mpandas._libs.parsers.TextReader._read_rows\u001b[1;34m()\u001b[0m\n",
      "File \u001b[1;32mC:\\ProgramData\\Anaconda3\\lib\\site-packages\\pandas\\_libs\\parsers.pyx:1026\u001b[0m, in \u001b[0;36mpandas._libs.parsers.TextReader._convert_column_data\u001b[1;34m()\u001b[0m\n",
      "File \u001b[1;32mC:\\ProgramData\\Anaconda3\\lib\\site-packages\\pandas\\_libs\\parsers.pyx:1057\u001b[0m, in \u001b[0;36mpandas._libs.parsers.TextReader._convert_tokens\u001b[1;34m()\u001b[0m\n",
      "File \u001b[1;32mC:\\ProgramData\\Anaconda3\\lib\\site-packages\\pandas\\_libs\\parsers.pyx:1147\u001b[0m, in \u001b[0;36mpandas._libs.parsers.TextReader._convert_with_dtype\u001b[1;34m()\u001b[0m\n",
      "File \u001b[1;32mC:\\ProgramData\\Anaconda3\\lib\\site-packages\\pandas\\core\\dtypes\\common.py:1429\u001b[0m, in \u001b[0;36mis_extension_array_dtype\u001b[1;34m(arr_or_dtype)\u001b[0m\n\u001b[0;32m   1420\u001b[0m     \u001b[38;5;66;03m# Note: if other EA dtypes are ever held in HybridBlock, exclude those\u001b[39;00m\n\u001b[0;32m   1421\u001b[0m     \u001b[38;5;66;03m#  here too.\u001b[39;00m\n\u001b[0;32m   1422\u001b[0m     \u001b[38;5;66;03m# NB: need to check DatetimeTZDtype and not is_datetime64tz_dtype\u001b[39;00m\n\u001b[0;32m   1423\u001b[0m     \u001b[38;5;66;03m#  to exclude ArrowTimestampUSDtype\u001b[39;00m\n\u001b[0;32m   1424\u001b[0m     \u001b[38;5;28;01mreturn\u001b[39;00m \u001b[38;5;28misinstance\u001b[39m(dtype, ExtensionDtype) \u001b[38;5;129;01mand\u001b[39;00m \u001b[38;5;129;01mnot\u001b[39;00m \u001b[38;5;28misinstance\u001b[39m(\n\u001b[0;32m   1425\u001b[0m         dtype, (DatetimeTZDtype, PeriodDtype)\n\u001b[0;32m   1426\u001b[0m     )\n\u001b[1;32m-> 1429\u001b[0m \u001b[38;5;28;01mdef\u001b[39;00m \u001b[38;5;21mis_extension_array_dtype\u001b[39m(arr_or_dtype) \u001b[38;5;241m-\u001b[39m\u001b[38;5;241m>\u001b[39m \u001b[38;5;28mbool\u001b[39m:\n\u001b[0;32m   1430\u001b[0m     \u001b[38;5;124;03m\"\"\"\u001b[39;00m\n\u001b[0;32m   1431\u001b[0m \u001b[38;5;124;03m    Check if an object is a pandas extension array type.\u001b[39;00m\n\u001b[0;32m   1432\u001b[0m \n\u001b[1;32m   (...)\u001b[0m\n\u001b[0;32m   1472\u001b[0m \u001b[38;5;124;03m    False\u001b[39;00m\n\u001b[0;32m   1473\u001b[0m \u001b[38;5;124;03m    \"\"\"\u001b[39;00m\n\u001b[0;32m   1474\u001b[0m     dtype \u001b[38;5;241m=\u001b[39m \u001b[38;5;28mgetattr\u001b[39m(arr_or_dtype, \u001b[38;5;124m\"\u001b[39m\u001b[38;5;124mdtype\u001b[39m\u001b[38;5;124m\"\u001b[39m, arr_or_dtype)\n",
      "\u001b[1;31mKeyboardInterrupt\u001b[0m: "
     ]
    }
   ],
   "source": [
    "# pd.options.display.max_colwidth=999\n",
    "\n",
    "df_1= pd.read_csv(r'D:/Final Project Econ/Sep1toSep16.csv',dtype={'id_str':str, 'created_at':str, 'text':str, 'user_screen_name':str,\n",
    "                                           'user_created_at':str, 'favorite_count':str, 'user_favourites_count':str,\n",
    "                                           'user_followers_count':str,'user_friends_count':str, 'is_quote':str,\n",
    "                                           'retweeted':str, 'user_listed_count':str,'retweet_count':str, 'user_statuses_count':str,\n",
    "                                           'user_id_str':str, 'user_verified':str,'user_description':str, 'user_location':str,\n",
    "                                           'user_name':str, 'geo':str, 'longitutde':str,'latitude':str, 'place':str, 'lang':str,\n",
    "                                           'reply_count':str, 'quote_count':str, 'candidate':str,'polarity':str, 'polarity_origin':str})\n",
    "\n"
   ]
  },
  {
   "cell_type": "code",
   "execution_count": null,
   "id": "2e0b45e5",
   "metadata": {},
   "outputs": [],
   "source": [
    "df_1=df_1.loc[:,['created_at','text']]\n",
    "df_1['created_at']=pd.to_datetime(df_1['created_at']).dt.date\n"
   ]
  },
  {
   "cell_type": "code",
   "execution_count": 3,
   "id": "5eac8e2e",
   "metadata": {},
   "outputs": [
    {
     "ename": "FileNotFoundError",
     "evalue": "[Errno 2] No such file or directory: 'F:/Final Project Econ/Sep16toNov20.csv'",
     "output_type": "error",
     "traceback": [
      "\u001b[1;31m---------------------------------------------------------------------------\u001b[0m",
      "\u001b[1;31mFileNotFoundError\u001b[0m                         Traceback (most recent call last)",
      "Input \u001b[1;32mIn [3]\u001b[0m, in \u001b[0;36m<cell line: 1>\u001b[1;34m()\u001b[0m\n\u001b[1;32m----> 1\u001b[0m df_2\u001b[38;5;241m=\u001b[39m \u001b[43mpd\u001b[49m\u001b[38;5;241;43m.\u001b[39;49m\u001b[43mread_csv\u001b[49m\u001b[43m(\u001b[49m\u001b[38;5;124;43mr\u001b[39;49m\u001b[38;5;124;43m'\u001b[39;49m\u001b[38;5;124;43mF:/Final Project Econ/Sep16toNov20.csv\u001b[39;49m\u001b[38;5;124;43m'\u001b[39;49m\u001b[43m,\u001b[49m\u001b[43mdtype\u001b[49m\u001b[38;5;241;43m=\u001b[39;49m\u001b[43m{\u001b[49m\u001b[38;5;124;43m'\u001b[39;49m\u001b[38;5;124;43mid_str\u001b[39;49m\u001b[38;5;124;43m'\u001b[39;49m\u001b[43m:\u001b[49m\u001b[38;5;28;43mstr\u001b[39;49m\u001b[43m,\u001b[49m\u001b[43m \u001b[49m\u001b[38;5;124;43m'\u001b[39;49m\u001b[38;5;124;43mcreated_at\u001b[39;49m\u001b[38;5;124;43m'\u001b[39;49m\u001b[43m:\u001b[49m\u001b[38;5;28;43mstr\u001b[39;49m\u001b[43m,\u001b[49m\u001b[43m \u001b[49m\u001b[38;5;124;43m'\u001b[39;49m\u001b[38;5;124;43mtext\u001b[39;49m\u001b[38;5;124;43m'\u001b[39;49m\u001b[43m:\u001b[49m\u001b[38;5;28;43mstr\u001b[39;49m\u001b[43m,\u001b[49m\u001b[43m \u001b[49m\u001b[38;5;124;43m'\u001b[39;49m\u001b[38;5;124;43muser_screen_name\u001b[39;49m\u001b[38;5;124;43m'\u001b[39;49m\u001b[43m:\u001b[49m\u001b[38;5;28;43mstr\u001b[39;49m\u001b[43m,\u001b[49m\n\u001b[0;32m      2\u001b[0m \u001b[43m                                           \u001b[49m\u001b[38;5;124;43m'\u001b[39;49m\u001b[38;5;124;43muser_created_at\u001b[39;49m\u001b[38;5;124;43m'\u001b[39;49m\u001b[43m:\u001b[49m\u001b[38;5;28;43mstr\u001b[39;49m\u001b[43m,\u001b[49m\u001b[43m \u001b[49m\u001b[38;5;124;43m'\u001b[39;49m\u001b[38;5;124;43mfavorite_count\u001b[39;49m\u001b[38;5;124;43m'\u001b[39;49m\u001b[43m:\u001b[49m\u001b[38;5;28;43mstr\u001b[39;49m\u001b[43m,\u001b[49m\u001b[43m \u001b[49m\u001b[38;5;124;43m'\u001b[39;49m\u001b[38;5;124;43muser_favourites_count\u001b[39;49m\u001b[38;5;124;43m'\u001b[39;49m\u001b[43m:\u001b[49m\u001b[38;5;28;43mstr\u001b[39;49m\u001b[43m,\u001b[49m\n\u001b[0;32m      3\u001b[0m \u001b[43m                                           \u001b[49m\u001b[38;5;124;43m'\u001b[39;49m\u001b[38;5;124;43muser_followers_count\u001b[39;49m\u001b[38;5;124;43m'\u001b[39;49m\u001b[43m:\u001b[49m\u001b[38;5;28;43mstr\u001b[39;49m\u001b[43m,\u001b[49m\u001b[38;5;124;43m'\u001b[39;49m\u001b[38;5;124;43muser_friends_count\u001b[39;49m\u001b[38;5;124;43m'\u001b[39;49m\u001b[43m:\u001b[49m\u001b[38;5;28;43mstr\u001b[39;49m\u001b[43m,\u001b[49m\u001b[43m \u001b[49m\u001b[38;5;124;43m'\u001b[39;49m\u001b[38;5;124;43mis_quote\u001b[39;49m\u001b[38;5;124;43m'\u001b[39;49m\u001b[43m:\u001b[49m\u001b[38;5;28;43mstr\u001b[39;49m\u001b[43m,\u001b[49m\n\u001b[0;32m      4\u001b[0m \u001b[43m                                           \u001b[49m\u001b[38;5;124;43m'\u001b[39;49m\u001b[38;5;124;43mretweeted\u001b[39;49m\u001b[38;5;124;43m'\u001b[39;49m\u001b[43m:\u001b[49m\u001b[38;5;28;43mstr\u001b[39;49m\u001b[43m,\u001b[49m\u001b[43m \u001b[49m\u001b[38;5;124;43m'\u001b[39;49m\u001b[38;5;124;43muser_listed_count\u001b[39;49m\u001b[38;5;124;43m'\u001b[39;49m\u001b[43m:\u001b[49m\u001b[38;5;28;43mstr\u001b[39;49m\u001b[43m,\u001b[49m\u001b[38;5;124;43m'\u001b[39;49m\u001b[38;5;124;43mretweet_count\u001b[39;49m\u001b[38;5;124;43m'\u001b[39;49m\u001b[43m:\u001b[49m\u001b[38;5;28;43mstr\u001b[39;49m\u001b[43m,\u001b[49m\u001b[43m \u001b[49m\u001b[38;5;124;43m'\u001b[39;49m\u001b[38;5;124;43muser_statuses_count\u001b[39;49m\u001b[38;5;124;43m'\u001b[39;49m\u001b[43m:\u001b[49m\u001b[38;5;28;43mstr\u001b[39;49m\u001b[43m,\u001b[49m\n\u001b[0;32m      5\u001b[0m \u001b[43m                                           \u001b[49m\u001b[38;5;124;43m'\u001b[39;49m\u001b[38;5;124;43muser_id_str\u001b[39;49m\u001b[38;5;124;43m'\u001b[39;49m\u001b[43m:\u001b[49m\u001b[38;5;28;43mstr\u001b[39;49m\u001b[43m,\u001b[49m\u001b[43m \u001b[49m\u001b[38;5;124;43m'\u001b[39;49m\u001b[38;5;124;43muser_verified\u001b[39;49m\u001b[38;5;124;43m'\u001b[39;49m\u001b[43m:\u001b[49m\u001b[38;5;28;43mstr\u001b[39;49m\u001b[43m,\u001b[49m\u001b[38;5;124;43m'\u001b[39;49m\u001b[38;5;124;43muser_description\u001b[39;49m\u001b[38;5;124;43m'\u001b[39;49m\u001b[43m:\u001b[49m\u001b[38;5;28;43mstr\u001b[39;49m\u001b[43m,\u001b[49m\u001b[43m \u001b[49m\u001b[38;5;124;43m'\u001b[39;49m\u001b[38;5;124;43muser_location\u001b[39;49m\u001b[38;5;124;43m'\u001b[39;49m\u001b[43m:\u001b[49m\u001b[38;5;28;43mstr\u001b[39;49m\u001b[43m,\u001b[49m\n\u001b[0;32m      6\u001b[0m \u001b[43m                                           \u001b[49m\u001b[38;5;124;43m'\u001b[39;49m\u001b[38;5;124;43muser_name\u001b[39;49m\u001b[38;5;124;43m'\u001b[39;49m\u001b[43m:\u001b[49m\u001b[38;5;28;43mstr\u001b[39;49m\u001b[43m,\u001b[49m\u001b[43m \u001b[49m\u001b[38;5;124;43m'\u001b[39;49m\u001b[38;5;124;43mgeo\u001b[39;49m\u001b[38;5;124;43m'\u001b[39;49m\u001b[43m:\u001b[49m\u001b[38;5;28;43mstr\u001b[39;49m\u001b[43m,\u001b[49m\u001b[43m \u001b[49m\u001b[38;5;124;43m'\u001b[39;49m\u001b[38;5;124;43mlongitutde\u001b[39;49m\u001b[38;5;124;43m'\u001b[39;49m\u001b[43m:\u001b[49m\u001b[38;5;28;43mstr\u001b[39;49m\u001b[43m,\u001b[49m\u001b[38;5;124;43m'\u001b[39;49m\u001b[38;5;124;43mlatitude\u001b[39;49m\u001b[38;5;124;43m'\u001b[39;49m\u001b[43m:\u001b[49m\u001b[38;5;28;43mstr\u001b[39;49m\u001b[43m,\u001b[49m\u001b[43m \u001b[49m\u001b[38;5;124;43m'\u001b[39;49m\u001b[38;5;124;43mplace\u001b[39;49m\u001b[38;5;124;43m'\u001b[39;49m\u001b[43m:\u001b[49m\u001b[38;5;28;43mstr\u001b[39;49m\u001b[43m,\u001b[49m\u001b[43m \u001b[49m\u001b[38;5;124;43m'\u001b[39;49m\u001b[38;5;124;43mlang\u001b[39;49m\u001b[38;5;124;43m'\u001b[39;49m\u001b[43m:\u001b[49m\u001b[38;5;28;43mstr\u001b[39;49m\u001b[43m,\u001b[49m\n\u001b[0;32m      7\u001b[0m \u001b[43m                                           \u001b[49m\u001b[38;5;124;43m'\u001b[39;49m\u001b[38;5;124;43mreply_count\u001b[39;49m\u001b[38;5;124;43m'\u001b[39;49m\u001b[43m:\u001b[49m\u001b[38;5;28;43mstr\u001b[39;49m\u001b[43m,\u001b[49m\u001b[43m \u001b[49m\u001b[38;5;124;43m'\u001b[39;49m\u001b[38;5;124;43mquote_count\u001b[39;49m\u001b[38;5;124;43m'\u001b[39;49m\u001b[43m:\u001b[49m\u001b[38;5;28;43mstr\u001b[39;49m\u001b[43m,\u001b[49m\u001b[43m \u001b[49m\u001b[38;5;124;43m'\u001b[39;49m\u001b[38;5;124;43mcandidate\u001b[39;49m\u001b[38;5;124;43m'\u001b[39;49m\u001b[43m:\u001b[49m\u001b[38;5;28;43mstr\u001b[39;49m\u001b[43m,\u001b[49m\u001b[38;5;124;43m'\u001b[39;49m\u001b[38;5;124;43mpolarity\u001b[39;49m\u001b[38;5;124;43m'\u001b[39;49m\u001b[43m:\u001b[49m\u001b[38;5;28;43mstr\u001b[39;49m\u001b[43m,\u001b[49m\u001b[43m \u001b[49m\u001b[38;5;124;43m'\u001b[39;49m\u001b[38;5;124;43mpolarity_origin\u001b[39;49m\u001b[38;5;124;43m'\u001b[39;49m\u001b[43m:\u001b[49m\u001b[38;5;28;43mstr\u001b[39;49m\u001b[43m}\u001b[49m\u001b[43m)\u001b[49m\n\u001b[0;32m     11\u001b[0m df_2\u001b[38;5;241m=\u001b[39mdf_2\u001b[38;5;241m.\u001b[39mloc[:,[\u001b[38;5;124m'\u001b[39m\u001b[38;5;124mcreated_at\u001b[39m\u001b[38;5;124m'\u001b[39m,\u001b[38;5;124m'\u001b[39m\u001b[38;5;124mtext\u001b[39m\u001b[38;5;124m'\u001b[39m]]\n\u001b[0;32m     12\u001b[0m df_2\u001b[38;5;241m.\u001b[39msort_values(by\u001b[38;5;241m=\u001b[39m[\u001b[38;5;124m'\u001b[39m\u001b[38;5;124mcreated_at\u001b[39m\u001b[38;5;124m'\u001b[39m],ascending\u001b[38;5;241m=\u001b[39m\u001b[38;5;28;01mFalse\u001b[39;00m)\n",
      "File \u001b[1;32mC:\\ProgramData\\Anaconda3\\lib\\site-packages\\pandas\\util\\_decorators.py:311\u001b[0m, in \u001b[0;36mdeprecate_nonkeyword_arguments.<locals>.decorate.<locals>.wrapper\u001b[1;34m(*args, **kwargs)\u001b[0m\n\u001b[0;32m    305\u001b[0m \u001b[38;5;28;01mif\u001b[39;00m \u001b[38;5;28mlen\u001b[39m(args) \u001b[38;5;241m>\u001b[39m num_allow_args:\n\u001b[0;32m    306\u001b[0m     warnings\u001b[38;5;241m.\u001b[39mwarn(\n\u001b[0;32m    307\u001b[0m         msg\u001b[38;5;241m.\u001b[39mformat(arguments\u001b[38;5;241m=\u001b[39marguments),\n\u001b[0;32m    308\u001b[0m         \u001b[38;5;167;01mFutureWarning\u001b[39;00m,\n\u001b[0;32m    309\u001b[0m         stacklevel\u001b[38;5;241m=\u001b[39mstacklevel,\n\u001b[0;32m    310\u001b[0m     )\n\u001b[1;32m--> 311\u001b[0m \u001b[38;5;28;01mreturn\u001b[39;00m func(\u001b[38;5;241m*\u001b[39margs, \u001b[38;5;241m*\u001b[39m\u001b[38;5;241m*\u001b[39mkwargs)\n",
      "File \u001b[1;32mC:\\ProgramData\\Anaconda3\\lib\\site-packages\\pandas\\io\\parsers\\readers.py:680\u001b[0m, in \u001b[0;36mread_csv\u001b[1;34m(filepath_or_buffer, sep, delimiter, header, names, index_col, usecols, squeeze, prefix, mangle_dupe_cols, dtype, engine, converters, true_values, false_values, skipinitialspace, skiprows, skipfooter, nrows, na_values, keep_default_na, na_filter, verbose, skip_blank_lines, parse_dates, infer_datetime_format, keep_date_col, date_parser, dayfirst, cache_dates, iterator, chunksize, compression, thousands, decimal, lineterminator, quotechar, quoting, doublequote, escapechar, comment, encoding, encoding_errors, dialect, error_bad_lines, warn_bad_lines, on_bad_lines, delim_whitespace, low_memory, memory_map, float_precision, storage_options)\u001b[0m\n\u001b[0;32m    665\u001b[0m kwds_defaults \u001b[38;5;241m=\u001b[39m _refine_defaults_read(\n\u001b[0;32m    666\u001b[0m     dialect,\n\u001b[0;32m    667\u001b[0m     delimiter,\n\u001b[1;32m   (...)\u001b[0m\n\u001b[0;32m    676\u001b[0m     defaults\u001b[38;5;241m=\u001b[39m{\u001b[38;5;124m\"\u001b[39m\u001b[38;5;124mdelimiter\u001b[39m\u001b[38;5;124m\"\u001b[39m: \u001b[38;5;124m\"\u001b[39m\u001b[38;5;124m,\u001b[39m\u001b[38;5;124m\"\u001b[39m},\n\u001b[0;32m    677\u001b[0m )\n\u001b[0;32m    678\u001b[0m kwds\u001b[38;5;241m.\u001b[39mupdate(kwds_defaults)\n\u001b[1;32m--> 680\u001b[0m \u001b[38;5;28;01mreturn\u001b[39;00m \u001b[43m_read\u001b[49m\u001b[43m(\u001b[49m\u001b[43mfilepath_or_buffer\u001b[49m\u001b[43m,\u001b[49m\u001b[43m \u001b[49m\u001b[43mkwds\u001b[49m\u001b[43m)\u001b[49m\n",
      "File \u001b[1;32mC:\\ProgramData\\Anaconda3\\lib\\site-packages\\pandas\\io\\parsers\\readers.py:575\u001b[0m, in \u001b[0;36m_read\u001b[1;34m(filepath_or_buffer, kwds)\u001b[0m\n\u001b[0;32m    572\u001b[0m _validate_names(kwds\u001b[38;5;241m.\u001b[39mget(\u001b[38;5;124m\"\u001b[39m\u001b[38;5;124mnames\u001b[39m\u001b[38;5;124m\"\u001b[39m, \u001b[38;5;28;01mNone\u001b[39;00m))\n\u001b[0;32m    574\u001b[0m \u001b[38;5;66;03m# Create the parser.\u001b[39;00m\n\u001b[1;32m--> 575\u001b[0m parser \u001b[38;5;241m=\u001b[39m TextFileReader(filepath_or_buffer, \u001b[38;5;241m*\u001b[39m\u001b[38;5;241m*\u001b[39mkwds)\n\u001b[0;32m    577\u001b[0m \u001b[38;5;28;01mif\u001b[39;00m chunksize \u001b[38;5;129;01mor\u001b[39;00m iterator:\n\u001b[0;32m    578\u001b[0m     \u001b[38;5;28;01mreturn\u001b[39;00m parser\n",
      "File \u001b[1;32mC:\\ProgramData\\Anaconda3\\lib\\site-packages\\pandas\\io\\parsers\\readers.py:933\u001b[0m, in \u001b[0;36mTextFileReader.__init__\u001b[1;34m(self, f, engine, **kwds)\u001b[0m\n\u001b[0;32m    930\u001b[0m     \u001b[38;5;28mself\u001b[39m\u001b[38;5;241m.\u001b[39moptions[\u001b[38;5;124m\"\u001b[39m\u001b[38;5;124mhas_index_names\u001b[39m\u001b[38;5;124m\"\u001b[39m] \u001b[38;5;241m=\u001b[39m kwds[\u001b[38;5;124m\"\u001b[39m\u001b[38;5;124mhas_index_names\u001b[39m\u001b[38;5;124m\"\u001b[39m]\n\u001b[0;32m    932\u001b[0m \u001b[38;5;28mself\u001b[39m\u001b[38;5;241m.\u001b[39mhandles: IOHandles \u001b[38;5;241m|\u001b[39m \u001b[38;5;28;01mNone\u001b[39;00m \u001b[38;5;241m=\u001b[39m \u001b[38;5;28;01mNone\u001b[39;00m\n\u001b[1;32m--> 933\u001b[0m \u001b[38;5;28mself\u001b[39m\u001b[38;5;241m.\u001b[39m_engine \u001b[38;5;241m=\u001b[39m \u001b[38;5;28;43mself\u001b[39;49m\u001b[38;5;241;43m.\u001b[39;49m\u001b[43m_make_engine\u001b[49m\u001b[43m(\u001b[49m\u001b[43mf\u001b[49m\u001b[43m,\u001b[49m\u001b[43m \u001b[49m\u001b[38;5;28;43mself\u001b[39;49m\u001b[38;5;241;43m.\u001b[39;49m\u001b[43mengine\u001b[49m\u001b[43m)\u001b[49m\n",
      "File \u001b[1;32mC:\\ProgramData\\Anaconda3\\lib\\site-packages\\pandas\\io\\parsers\\readers.py:1217\u001b[0m, in \u001b[0;36mTextFileReader._make_engine\u001b[1;34m(self, f, engine)\u001b[0m\n\u001b[0;32m   1213\u001b[0m     mode \u001b[38;5;241m=\u001b[39m \u001b[38;5;124m\"\u001b[39m\u001b[38;5;124mrb\u001b[39m\u001b[38;5;124m\"\u001b[39m\n\u001b[0;32m   1214\u001b[0m \u001b[38;5;66;03m# error: No overload variant of \"get_handle\" matches argument types\u001b[39;00m\n\u001b[0;32m   1215\u001b[0m \u001b[38;5;66;03m# \"Union[str, PathLike[str], ReadCsvBuffer[bytes], ReadCsvBuffer[str]]\"\u001b[39;00m\n\u001b[0;32m   1216\u001b[0m \u001b[38;5;66;03m# , \"str\", \"bool\", \"Any\", \"Any\", \"Any\", \"Any\", \"Any\"\u001b[39;00m\n\u001b[1;32m-> 1217\u001b[0m \u001b[38;5;28mself\u001b[39m\u001b[38;5;241m.\u001b[39mhandles \u001b[38;5;241m=\u001b[39m \u001b[43mget_handle\u001b[49m\u001b[43m(\u001b[49m\u001b[43m  \u001b[49m\u001b[38;5;66;43;03m# type: ignore[call-overload]\u001b[39;49;00m\n\u001b[0;32m   1218\u001b[0m \u001b[43m    \u001b[49m\u001b[43mf\u001b[49m\u001b[43m,\u001b[49m\n\u001b[0;32m   1219\u001b[0m \u001b[43m    \u001b[49m\u001b[43mmode\u001b[49m\u001b[43m,\u001b[49m\n\u001b[0;32m   1220\u001b[0m \u001b[43m    \u001b[49m\u001b[43mencoding\u001b[49m\u001b[38;5;241;43m=\u001b[39;49m\u001b[38;5;28;43mself\u001b[39;49m\u001b[38;5;241;43m.\u001b[39;49m\u001b[43moptions\u001b[49m\u001b[38;5;241;43m.\u001b[39;49m\u001b[43mget\u001b[49m\u001b[43m(\u001b[49m\u001b[38;5;124;43m\"\u001b[39;49m\u001b[38;5;124;43mencoding\u001b[39;49m\u001b[38;5;124;43m\"\u001b[39;49m\u001b[43m,\u001b[49m\u001b[43m \u001b[49m\u001b[38;5;28;43;01mNone\u001b[39;49;00m\u001b[43m)\u001b[49m\u001b[43m,\u001b[49m\n\u001b[0;32m   1221\u001b[0m \u001b[43m    \u001b[49m\u001b[43mcompression\u001b[49m\u001b[38;5;241;43m=\u001b[39;49m\u001b[38;5;28;43mself\u001b[39;49m\u001b[38;5;241;43m.\u001b[39;49m\u001b[43moptions\u001b[49m\u001b[38;5;241;43m.\u001b[39;49m\u001b[43mget\u001b[49m\u001b[43m(\u001b[49m\u001b[38;5;124;43m\"\u001b[39;49m\u001b[38;5;124;43mcompression\u001b[39;49m\u001b[38;5;124;43m\"\u001b[39;49m\u001b[43m,\u001b[49m\u001b[43m \u001b[49m\u001b[38;5;28;43;01mNone\u001b[39;49;00m\u001b[43m)\u001b[49m\u001b[43m,\u001b[49m\n\u001b[0;32m   1222\u001b[0m \u001b[43m    \u001b[49m\u001b[43mmemory_map\u001b[49m\u001b[38;5;241;43m=\u001b[39;49m\u001b[38;5;28;43mself\u001b[39;49m\u001b[38;5;241;43m.\u001b[39;49m\u001b[43moptions\u001b[49m\u001b[38;5;241;43m.\u001b[39;49m\u001b[43mget\u001b[49m\u001b[43m(\u001b[49m\u001b[38;5;124;43m\"\u001b[39;49m\u001b[38;5;124;43mmemory_map\u001b[39;49m\u001b[38;5;124;43m\"\u001b[39;49m\u001b[43m,\u001b[49m\u001b[43m \u001b[49m\u001b[38;5;28;43;01mFalse\u001b[39;49;00m\u001b[43m)\u001b[49m\u001b[43m,\u001b[49m\n\u001b[0;32m   1223\u001b[0m \u001b[43m    \u001b[49m\u001b[43mis_text\u001b[49m\u001b[38;5;241;43m=\u001b[39;49m\u001b[43mis_text\u001b[49m\u001b[43m,\u001b[49m\n\u001b[0;32m   1224\u001b[0m \u001b[43m    \u001b[49m\u001b[43merrors\u001b[49m\u001b[38;5;241;43m=\u001b[39;49m\u001b[38;5;28;43mself\u001b[39;49m\u001b[38;5;241;43m.\u001b[39;49m\u001b[43moptions\u001b[49m\u001b[38;5;241;43m.\u001b[39;49m\u001b[43mget\u001b[49m\u001b[43m(\u001b[49m\u001b[38;5;124;43m\"\u001b[39;49m\u001b[38;5;124;43mencoding_errors\u001b[39;49m\u001b[38;5;124;43m\"\u001b[39;49m\u001b[43m,\u001b[49m\u001b[43m \u001b[49m\u001b[38;5;124;43m\"\u001b[39;49m\u001b[38;5;124;43mstrict\u001b[39;49m\u001b[38;5;124;43m\"\u001b[39;49m\u001b[43m)\u001b[49m\u001b[43m,\u001b[49m\n\u001b[0;32m   1225\u001b[0m \u001b[43m    \u001b[49m\u001b[43mstorage_options\u001b[49m\u001b[38;5;241;43m=\u001b[39;49m\u001b[38;5;28;43mself\u001b[39;49m\u001b[38;5;241;43m.\u001b[39;49m\u001b[43moptions\u001b[49m\u001b[38;5;241;43m.\u001b[39;49m\u001b[43mget\u001b[49m\u001b[43m(\u001b[49m\u001b[38;5;124;43m\"\u001b[39;49m\u001b[38;5;124;43mstorage_options\u001b[39;49m\u001b[38;5;124;43m\"\u001b[39;49m\u001b[43m,\u001b[49m\u001b[43m \u001b[49m\u001b[38;5;28;43;01mNone\u001b[39;49;00m\u001b[43m)\u001b[49m\u001b[43m,\u001b[49m\n\u001b[0;32m   1226\u001b[0m \u001b[43m\u001b[49m\u001b[43m)\u001b[49m\n\u001b[0;32m   1227\u001b[0m \u001b[38;5;28;01massert\u001b[39;00m \u001b[38;5;28mself\u001b[39m\u001b[38;5;241m.\u001b[39mhandles \u001b[38;5;129;01mis\u001b[39;00m \u001b[38;5;129;01mnot\u001b[39;00m \u001b[38;5;28;01mNone\u001b[39;00m\n\u001b[0;32m   1228\u001b[0m f \u001b[38;5;241m=\u001b[39m \u001b[38;5;28mself\u001b[39m\u001b[38;5;241m.\u001b[39mhandles\u001b[38;5;241m.\u001b[39mhandle\n",
      "File \u001b[1;32mC:\\ProgramData\\Anaconda3\\lib\\site-packages\\pandas\\io\\common.py:789\u001b[0m, in \u001b[0;36mget_handle\u001b[1;34m(path_or_buf, mode, encoding, compression, memory_map, is_text, errors, storage_options)\u001b[0m\n\u001b[0;32m    784\u001b[0m \u001b[38;5;28;01melif\u001b[39;00m \u001b[38;5;28misinstance\u001b[39m(handle, \u001b[38;5;28mstr\u001b[39m):\n\u001b[0;32m    785\u001b[0m     \u001b[38;5;66;03m# Check whether the filename is to be opened in binary mode.\u001b[39;00m\n\u001b[0;32m    786\u001b[0m     \u001b[38;5;66;03m# Binary mode does not support 'encoding' and 'newline'.\u001b[39;00m\n\u001b[0;32m    787\u001b[0m     \u001b[38;5;28;01mif\u001b[39;00m ioargs\u001b[38;5;241m.\u001b[39mencoding \u001b[38;5;129;01mand\u001b[39;00m \u001b[38;5;124m\"\u001b[39m\u001b[38;5;124mb\u001b[39m\u001b[38;5;124m\"\u001b[39m \u001b[38;5;129;01mnot\u001b[39;00m \u001b[38;5;129;01min\u001b[39;00m ioargs\u001b[38;5;241m.\u001b[39mmode:\n\u001b[0;32m    788\u001b[0m         \u001b[38;5;66;03m# Encoding\u001b[39;00m\n\u001b[1;32m--> 789\u001b[0m         handle \u001b[38;5;241m=\u001b[39m \u001b[38;5;28;43mopen\u001b[39;49m\u001b[43m(\u001b[49m\n\u001b[0;32m    790\u001b[0m \u001b[43m            \u001b[49m\u001b[43mhandle\u001b[49m\u001b[43m,\u001b[49m\n\u001b[0;32m    791\u001b[0m \u001b[43m            \u001b[49m\u001b[43mioargs\u001b[49m\u001b[38;5;241;43m.\u001b[39;49m\u001b[43mmode\u001b[49m\u001b[43m,\u001b[49m\n\u001b[0;32m    792\u001b[0m \u001b[43m            \u001b[49m\u001b[43mencoding\u001b[49m\u001b[38;5;241;43m=\u001b[39;49m\u001b[43mioargs\u001b[49m\u001b[38;5;241;43m.\u001b[39;49m\u001b[43mencoding\u001b[49m\u001b[43m,\u001b[49m\n\u001b[0;32m    793\u001b[0m \u001b[43m            \u001b[49m\u001b[43merrors\u001b[49m\u001b[38;5;241;43m=\u001b[39;49m\u001b[43merrors\u001b[49m\u001b[43m,\u001b[49m\n\u001b[0;32m    794\u001b[0m \u001b[43m            \u001b[49m\u001b[43mnewline\u001b[49m\u001b[38;5;241;43m=\u001b[39;49m\u001b[38;5;124;43m\"\u001b[39;49m\u001b[38;5;124;43m\"\u001b[39;49m\u001b[43m,\u001b[49m\n\u001b[0;32m    795\u001b[0m \u001b[43m        \u001b[49m\u001b[43m)\u001b[49m\n\u001b[0;32m    796\u001b[0m     \u001b[38;5;28;01melse\u001b[39;00m:\n\u001b[0;32m    797\u001b[0m         \u001b[38;5;66;03m# Binary mode\u001b[39;00m\n\u001b[0;32m    798\u001b[0m         handle \u001b[38;5;241m=\u001b[39m \u001b[38;5;28mopen\u001b[39m(handle, ioargs\u001b[38;5;241m.\u001b[39mmode)\n",
      "\u001b[1;31mFileNotFoundError\u001b[0m: [Errno 2] No such file or directory: 'F:/Final Project Econ/Sep16toNov20.csv'"
     ]
    }
   ],
   "source": [
    "df_2= pd.read_csv(r'F:/Final Project Econ/Sep16toNov20.csv',dtype={'id_str':str, 'created_at':str, 'text':str, 'user_screen_name':str,\n",
    "                                           'user_created_at':str, 'favorite_count':str, 'user_favourites_count':str,\n",
    "                                           'user_followers_count':str,'user_friends_count':str, 'is_quote':str,\n",
    "                                           'retweeted':str, 'user_listed_count':str,'retweet_count':str, 'user_statuses_count':str,\n",
    "                                           'user_id_str':str, 'user_verified':str,'user_description':str, 'user_location':str,\n",
    "                                           'user_name':str, 'geo':str, 'longitutde':str,'latitude':str, 'place':str, 'lang':str,\n",
    "                                           'reply_count':str, 'quote_count':str, 'candidate':str,'polarity':str, 'polarity_origin':str})\n",
    "\n",
    "\n",
    "\n",
    "df_2=df_2.loc[:,['created_at','text']]\n",
    "df_2.sort_values(by=['created_at'],ascending=False)"
   ]
  },
  {
   "cell_type": "code",
   "execution_count": 5,
   "id": "1f7c1c7a",
   "metadata": {},
   "outputs": [],
   "source": [
    "df_2['created_at']=pd.to_datetime(df_2['created_at']).dt.date\n",
    "df_2=df_2.astype(str)\n",
    "df_2=df_2[df_2['created_at']!= \"2020-09-16\"]"
   ]
  },
  {
   "cell_type": "code",
   "execution_count": 6,
   "id": "edc50220",
   "metadata": {},
   "outputs": [],
   "source": [
    "df_1=df_1.drop_duplicates(subset=['text'])\n",
    "df_2=df_2.drop_duplicates(subset=['text'])"
   ]
  },
  {
   "cell_type": "code",
   "execution_count": 7,
   "id": "ab8b4df8",
   "metadata": {},
   "outputs": [
    {
     "data": {
      "text/html": [
       "<div>\n",
       "<style scoped>\n",
       "    .dataframe tbody tr th:only-of-type {\n",
       "        vertical-align: middle;\n",
       "    }\n",
       "\n",
       "    .dataframe tbody tr th {\n",
       "        vertical-align: top;\n",
       "    }\n",
       "\n",
       "    .dataframe thead th {\n",
       "        text-align: right;\n",
       "    }\n",
       "</style>\n",
       "<table border=\"1\" class=\"dataframe\">\n",
       "  <thead>\n",
       "    <tr style=\"text-align: right;\">\n",
       "      <th></th>\n",
       "      <th>created_at</th>\n",
       "      <th>text</th>\n",
       "    </tr>\n",
       "  </thead>\n",
       "  <tbody>\n",
       "    <tr>\n",
       "      <th>0</th>\n",
       "      <td>2020-09-01</td>\n",
       "      <td>Anyone else notice that Trump supporters have ...</td>\n",
       "    </tr>\n",
       "    <tr>\n",
       "      <th>1</th>\n",
       "      <td>2020-09-01</td>\n",
       "      <td>Where in the f*ck is he?????</td>\n",
       "    </tr>\n",
       "    <tr>\n",
       "      <th>2</th>\n",
       "      <td>2020-09-01</td>\n",
       "      <td>First #TheCorruptPartyOfTrump #LootingDecency...</td>\n",
       "    </tr>\n",
       "    <tr>\n",
       "      <th>3</th>\n",
       "      <td>2020-09-01</td>\n",
       "      <td>Political and cultural elites like this rarely...</td>\n",
       "    </tr>\n",
       "    <tr>\n",
       "      <th>4</th>\n",
       "      <td>2020-09-01</td>\n",
       "      <td>Can we take the gloves off and tell the truth?...</td>\n",
       "    </tr>\n",
       "    <tr>\n",
       "      <th>...</th>\n",
       "      <td>...</td>\n",
       "      <td>...</td>\n",
       "    </tr>\n",
       "    <tr>\n",
       "      <th>11734304</th>\n",
       "      <td>2020-11-28</td>\n",
       "      <td>@KlasfeldReports why is @MikeKellyPA so hellbe...</td>\n",
       "    </tr>\n",
       "    <tr>\n",
       "      <th>11734305</th>\n",
       "      <td>2020-11-28</td>\n",
       "      <td>So he remembers his name</td>\n",
       "    </tr>\n",
       "    <tr>\n",
       "      <th>11734306</th>\n",
       "      <td>2020-11-28</td>\n",
       "      <td>@notcapnamerica They should start using the Go...</td>\n",
       "    </tr>\n",
       "    <tr>\n",
       "      <th>11734311</th>\n",
       "      <td>2020-11-28</td>\n",
       "      <td>Trump was in a frenzy to finalize his bird-kil...</td>\n",
       "    </tr>\n",
       "    <tr>\n",
       "      <th>11734319</th>\n",
       "      <td>2020-11-28</td>\n",
       "      <td>@CB618444 @realDonaldTrump If you are fully su...</td>\n",
       "    </tr>\n",
       "  </tbody>\n",
       "</table>\n",
       "<p>6143885 rows × 2 columns</p>\n",
       "</div>"
      ],
      "text/plain": [
       "          created_at                                               text\n",
       "0         2020-09-01  Anyone else notice that Trump supporters have ...\n",
       "1         2020-09-01                       Where in the f*ck is he?????\n",
       "2         2020-09-01   First #TheCorruptPartyOfTrump #LootingDecency...\n",
       "3         2020-09-01  Political and cultural elites like this rarely...\n",
       "4         2020-09-01  Can we take the gloves off and tell the truth?...\n",
       "...              ...                                                ...\n",
       "11734304  2020-11-28  @KlasfeldReports why is @MikeKellyPA so hellbe...\n",
       "11734305  2020-11-28                           So he remembers his name\n",
       "11734306  2020-11-28  @notcapnamerica They should start using the Go...\n",
       "11734311  2020-11-28  Trump was in a frenzy to finalize his bird-kil...\n",
       "11734319  2020-11-28  @CB618444 @realDonaldTrump If you are fully su...\n",
       "\n",
       "[6143885 rows x 2 columns]"
      ]
     },
     "execution_count": 7,
     "metadata": {},
     "output_type": "execute_result"
    }
   ],
   "source": [
    "frames=[df_1,df_2]\n",
    "df=pd.concat(frames)\n",
    "\n",
    "del(df_1,df_2)\n",
    "df.sort_index(ascending=True)"
   ]
  },
  {
   "cell_type": "code",
   "execution_count": 8,
   "id": "cb50f9e2",
   "metadata": {},
   "outputs": [
    {
     "data": {
      "text/html": [
       "<div>\n",
       "<style scoped>\n",
       "    .dataframe tbody tr th:only-of-type {\n",
       "        vertical-align: middle;\n",
       "    }\n",
       "\n",
       "    .dataframe tbody tr th {\n",
       "        vertical-align: top;\n",
       "    }\n",
       "\n",
       "    .dataframe thead th {\n",
       "        text-align: right;\n",
       "    }\n",
       "</style>\n",
       "<table border=\"1\" class=\"dataframe\">\n",
       "  <thead>\n",
       "    <tr style=\"text-align: right;\">\n",
       "      <th></th>\n",
       "      <th>text</th>\n",
       "    </tr>\n",
       "    <tr>\n",
       "      <th>created_at</th>\n",
       "      <th></th>\n",
       "    </tr>\n",
       "  </thead>\n",
       "  <tbody>\n",
       "    <tr>\n",
       "      <th>2020-09-01</th>\n",
       "      <td>Anyone else notice that Trump supporters have ...</td>\n",
       "    </tr>\n",
       "    <tr>\n",
       "      <th>2020-09-01</th>\n",
       "      <td>Where in the f*ck is he?????</td>\n",
       "    </tr>\n",
       "  </tbody>\n",
       "</table>\n",
       "</div>"
      ],
      "text/plain": [
       "                                                         text\n",
       "created_at                                                   \n",
       "2020-09-01  Anyone else notice that Trump supporters have ...\n",
       "2020-09-01                       Where in the f*ck is he?????"
      ]
     },
     "execution_count": 8,
     "metadata": {},
     "output_type": "execute_result"
    }
   ],
   "source": [
    "df['created_at']=pd.to_datetime(df['created_at'])\n",
    "df.set_index('created_at',inplace=True)\n",
    "df.head(2)"
   ]
  },
  {
   "cell_type": "code",
   "execution_count": 9,
   "id": "71a4ee97",
   "metadata": {},
   "outputs": [],
   "source": [
    "df.drop_duplicates(inplace=True)\n",
    "df = df.replace(r'\\n',' ', regex=True) \n",
    "df = df.replace(r'\\r',' ', regex=True) "
   ]
  },
  {
   "cell_type": "code",
   "execution_count": 10,
   "id": "93587aaa",
   "metadata": {},
   "outputs": [],
   "source": [
    "#df.to_csv(r'F:/Final Project Econ/twitter_data.csv',index=True)"
   ]
  },
  {
   "cell_type": "markdown",
   "id": "28253a00",
   "metadata": {},
   "source": [
    "<a id='sorting'></a>\n",
    "### Sorting and Cleaning the Data\n",
    "\n",
    "On Twitter, there are a lot of bots that are programmed to post the same Tweets at the same time. Before performing sentiment analysis, we will clean up the dataset by removing duplicate tweets. Once clean, we can isolate tweets based on which candidate they reference.\n",
    "\n",
    "\n",
    "\n",
    "[[Table of Contents]](#contents)\n",
    "\n",
    "\n",
    "___________________"
   ]
  },
  {
   "cell_type": "code",
   "execution_count": 6,
   "id": "f921e79f",
   "metadata": {},
   "outputs": [],
   "source": [
    "import pandas as pd\n",
    "import nltk\n",
    "from nltk.sentiment.vader import SentimentIntensityAnalyzer\n",
    "import os"
   ]
  },
  {
   "cell_type": "code",
   "execution_count": 8,
   "id": "b1008242",
   "metadata": {},
   "outputs": [
    {
     "data": {
      "text/html": [
       "<div>\n",
       "<style scoped>\n",
       "    .dataframe tbody tr th:only-of-type {\n",
       "        vertical-align: middle;\n",
       "    }\n",
       "\n",
       "    .dataframe tbody tr th {\n",
       "        vertical-align: top;\n",
       "    }\n",
       "\n",
       "    .dataframe thead th {\n",
       "        text-align: right;\n",
       "    }\n",
       "</style>\n",
       "<table border=\"1\" class=\"dataframe\">\n",
       "  <thead>\n",
       "    <tr style=\"text-align: right;\">\n",
       "      <th></th>\n",
       "      <th>created_at</th>\n",
       "      <th>text</th>\n",
       "    </tr>\n",
       "  </thead>\n",
       "  <tbody>\n",
       "    <tr>\n",
       "      <th>0</th>\n",
       "      <td>2020-09-01</td>\n",
       "      <td>Anyone else notice that Trump supporters have ...</td>\n",
       "    </tr>\n",
       "    <tr>\n",
       "      <th>1</th>\n",
       "      <td>2020-09-01</td>\n",
       "      <td>Where in the f*ck is he?????</td>\n",
       "    </tr>\n",
       "    <tr>\n",
       "      <th>2</th>\n",
       "      <td>2020-09-01</td>\n",
       "      <td>First #TheCorruptPartyOfTrump #LootingDecency...</td>\n",
       "    </tr>\n",
       "    <tr>\n",
       "      <th>3</th>\n",
       "      <td>2020-09-01</td>\n",
       "      <td>Political and cultural elites like this rarely...</td>\n",
       "    </tr>\n",
       "    <tr>\n",
       "      <th>4</th>\n",
       "      <td>2020-09-01</td>\n",
       "      <td>Can we take the gloves off and tell the truth?...</td>\n",
       "    </tr>\n",
       "    <tr>\n",
       "      <th>...</th>\n",
       "      <td>...</td>\n",
       "      <td>...</td>\n",
       "    </tr>\n",
       "    <tr>\n",
       "      <th>6130150</th>\n",
       "      <td>2020-11-28</td>\n",
       "      <td>@KlasfeldReports why is @MikeKellyPA so hellbe...</td>\n",
       "    </tr>\n",
       "    <tr>\n",
       "      <th>6130151</th>\n",
       "      <td>2020-11-28</td>\n",
       "      <td>So he remembers his name</td>\n",
       "    </tr>\n",
       "    <tr>\n",
       "      <th>6130152</th>\n",
       "      <td>2020-11-28</td>\n",
       "      <td>@notcapnamerica They should start using the Go...</td>\n",
       "    </tr>\n",
       "    <tr>\n",
       "      <th>6130153</th>\n",
       "      <td>2020-11-28</td>\n",
       "      <td>Trump was in a frenzy to finalize his bird-kil...</td>\n",
       "    </tr>\n",
       "    <tr>\n",
       "      <th>6130154</th>\n",
       "      <td>2020-11-28</td>\n",
       "      <td>@CB618444 @realDonaldTrump If you are fully su...</td>\n",
       "    </tr>\n",
       "  </tbody>\n",
       "</table>\n",
       "<p>6130155 rows × 2 columns</p>\n",
       "</div>"
      ],
      "text/plain": [
       "         created_at                                               text\n",
       "0        2020-09-01  Anyone else notice that Trump supporters have ...\n",
       "1        2020-09-01                       Where in the f*ck is he?????\n",
       "2        2020-09-01   First #TheCorruptPartyOfTrump #LootingDecency...\n",
       "3        2020-09-01  Political and cultural elites like this rarely...\n",
       "4        2020-09-01  Can we take the gloves off and tell the truth?...\n",
       "...             ...                                                ...\n",
       "6130150  2020-11-28  @KlasfeldReports why is @MikeKellyPA so hellbe...\n",
       "6130151  2020-11-28                           So he remembers his name\n",
       "6130152  2020-11-28  @notcapnamerica They should start using the Go...\n",
       "6130153  2020-11-28  Trump was in a frenzy to finalize his bird-kil...\n",
       "6130154  2020-11-28  @CB618444 @realDonaldTrump If you are fully su...\n",
       "\n",
       "[6130155 rows x 2 columns]"
      ]
     },
     "execution_count": 8,
     "metadata": {},
     "output_type": "execute_result"
    }
   ],
   "source": [
    "df=pd.read_csv(r'D:/Final Project Econ/twitter_data.csv')\n",
    "df"
   ]
  },
  {
   "cell_type": "code",
   "execution_count": 9,
   "id": "fec7b0c2",
   "metadata": {},
   "outputs": [],
   "source": [
    "df['created_at']=pd.to_datetime(df['created_at'])\n",
    "df.set_index('created_at',inplace=True)"
   ]
  },
  {
   "cell_type": "code",
   "execution_count": 10,
   "id": "6890c11e",
   "metadata": {},
   "outputs": [
    {
     "data": {
      "text/html": [
       "<div>\n",
       "<style scoped>\n",
       "    .dataframe tbody tr th:only-of-type {\n",
       "        vertical-align: middle;\n",
       "    }\n",
       "\n",
       "    .dataframe tbody tr th {\n",
       "        vertical-align: top;\n",
       "    }\n",
       "\n",
       "    .dataframe thead th {\n",
       "        text-align: right;\n",
       "    }\n",
       "</style>\n",
       "<table border=\"1\" class=\"dataframe\">\n",
       "  <thead>\n",
       "    <tr style=\"text-align: right;\">\n",
       "      <th></th>\n",
       "      <th>text</th>\n",
       "    </tr>\n",
       "    <tr>\n",
       "      <th>created_at</th>\n",
       "      <th></th>\n",
       "    </tr>\n",
       "  </thead>\n",
       "  <tbody>\n",
       "    <tr>\n",
       "      <th>2020-09-01</th>\n",
       "      <td>Anyone else notice that Trump supporters have ...</td>\n",
       "    </tr>\n",
       "    <tr>\n",
       "      <th>2020-09-01</th>\n",
       "      <td>Where in the f*ck is he?????</td>\n",
       "    </tr>\n",
       "    <tr>\n",
       "      <th>2020-09-01</th>\n",
       "      <td>First #TheCorruptPartyOfTrump #LootingDecency...</td>\n",
       "    </tr>\n",
       "    <tr>\n",
       "      <th>2020-09-01</th>\n",
       "      <td>Political and cultural elites like this rarely...</td>\n",
       "    </tr>\n",
       "    <tr>\n",
       "      <th>2020-09-01</th>\n",
       "      <td>Can we take the gloves off and tell the truth?...</td>\n",
       "    </tr>\n",
       "    <tr>\n",
       "      <th>...</th>\n",
       "      <td>...</td>\n",
       "    </tr>\n",
       "    <tr>\n",
       "      <th>2020-11-28</th>\n",
       "      <td>@KlasfeldReports why is @MikeKellyPA so hellbe...</td>\n",
       "    </tr>\n",
       "    <tr>\n",
       "      <th>2020-11-28</th>\n",
       "      <td>So he remembers his name</td>\n",
       "    </tr>\n",
       "    <tr>\n",
       "      <th>2020-11-28</th>\n",
       "      <td>@notcapnamerica They should start using the Go...</td>\n",
       "    </tr>\n",
       "    <tr>\n",
       "      <th>2020-11-28</th>\n",
       "      <td>Trump was in a frenzy to finalize his bird-kil...</td>\n",
       "    </tr>\n",
       "    <tr>\n",
       "      <th>2020-11-28</th>\n",
       "      <td>@CB618444 @realDonaldTrump If you are fully su...</td>\n",
       "    </tr>\n",
       "  </tbody>\n",
       "</table>\n",
       "<p>6130155 rows × 1 columns</p>\n",
       "</div>"
      ],
      "text/plain": [
       "                                                         text\n",
       "created_at                                                   \n",
       "2020-09-01  Anyone else notice that Trump supporters have ...\n",
       "2020-09-01                       Where in the f*ck is he?????\n",
       "2020-09-01   First #TheCorruptPartyOfTrump #LootingDecency...\n",
       "2020-09-01  Political and cultural elites like this rarely...\n",
       "2020-09-01  Can we take the gloves off and tell the truth?...\n",
       "...                                                       ...\n",
       "2020-11-28  @KlasfeldReports why is @MikeKellyPA so hellbe...\n",
       "2020-11-28                           So he remembers his name\n",
       "2020-11-28  @notcapnamerica They should start using the Go...\n",
       "2020-11-28  Trump was in a frenzy to finalize his bird-kil...\n",
       "2020-11-28  @CB618444 @realDonaldTrump If you are fully su...\n",
       "\n",
       "[6130155 rows x 1 columns]"
      ]
     },
     "execution_count": 10,
     "metadata": {},
     "output_type": "execute_result"
    }
   ],
   "source": [
    "df"
   ]
  },
  {
   "cell_type": "code",
   "execution_count": 11,
   "id": "92ef65eb",
   "metadata": {},
   "outputs": [
    {
     "name": "stderr",
     "output_type": "stream",
     "text": [
      "[nltk_data] Downloading package vader_lexicon to\n",
      "[nltk_data]     C:\\Users\\capma\\AppData\\Roaming\\nltk_data...\n",
      "[nltk_data]   Package vader_lexicon is already up-to-date!\n"
     ]
    }
   ],
   "source": [
    "nltk.download('vader_lexicon')\n",
    "analyzer = SentimentIntensityAnalyzer()\n",
    "df.dropna(inplace=True)"
   ]
  },
  {
   "cell_type": "code",
   "execution_count": 12,
   "id": "d6c1813a",
   "metadata": {},
   "outputs": [],
   "source": [
    "dates=list(pd.date_range(start='2020-09-01', end='2020-11-03'))\n"
   ]
  },
  {
   "cell_type": "code",
   "execution_count": 13,
   "id": "c20c2c64",
   "metadata": {},
   "outputs": [
    {
     "name": "stderr",
     "output_type": "stream",
     "text": [
      "C:\\Users\\BorisGrinberg\\AppData\\Local\\Temp\\ipykernel_4956\\96934621.py:5: SettingWithCopyWarning: \n",
      "A value is trying to be set on a copy of a slice from a DataFrame.\n",
      "Try using .loc[row_indexer,col_indexer] = value instead\n",
      "\n",
      "See the caveats in the documentation: https://pandas.pydata.org/pandas-docs/stable/user_guide/indexing.html#returning-a-view-versus-a-copy\n",
      "  trump['neg'] = trump['text'].apply(lambda x:analyzer.polarity_scores(x)['neg'])\n"
     ]
    },
    {
     "name": "stdout",
     "output_type": "stream",
     "text": [
      "Trump1/4\n"
     ]
    },
    {
     "name": "stderr",
     "output_type": "stream",
     "text": [
      "C:\\Users\\BorisGrinberg\\AppData\\Local\\Temp\\ipykernel_4956\\96934621.py:8: SettingWithCopyWarning: \n",
      "A value is trying to be set on a copy of a slice from a DataFrame.\n",
      "Try using .loc[row_indexer,col_indexer] = value instead\n",
      "\n",
      "See the caveats in the documentation: https://pandas.pydata.org/pandas-docs/stable/user_guide/indexing.html#returning-a-view-versus-a-copy\n",
      "  trump['neu'] = trump['text'].apply(lambda x:analyzer.polarity_scores(x)['neu'])\n"
     ]
    },
    {
     "name": "stdout",
     "output_type": "stream",
     "text": [
      "Trump2/4\n"
     ]
    },
    {
     "name": "stderr",
     "output_type": "stream",
     "text": [
      "C:\\Users\\BorisGrinberg\\AppData\\Local\\Temp\\ipykernel_4956\\96934621.py:11: SettingWithCopyWarning: \n",
      "A value is trying to be set on a copy of a slice from a DataFrame.\n",
      "Try using .loc[row_indexer,col_indexer] = value instead\n",
      "\n",
      "See the caveats in the documentation: https://pandas.pydata.org/pandas-docs/stable/user_guide/indexing.html#returning-a-view-versus-a-copy\n",
      "  trump['pos'] = trump['text'].apply(lambda x:analyzer.polarity_scores(x)['pos'])\n"
     ]
    },
    {
     "name": "stdout",
     "output_type": "stream",
     "text": [
      "Trump 3/4\n"
     ]
    },
    {
     "name": "stderr",
     "output_type": "stream",
     "text": [
      "C:\\Users\\BorisGrinberg\\AppData\\Local\\Temp\\ipykernel_4956\\96934621.py:14: SettingWithCopyWarning: \n",
      "A value is trying to be set on a copy of a slice from a DataFrame.\n",
      "Try using .loc[row_indexer,col_indexer] = value instead\n",
      "\n",
      "See the caveats in the documentation: https://pandas.pydata.org/pandas-docs/stable/user_guide/indexing.html#returning-a-view-versus-a-copy\n",
      "  trump['compound'] = trump['text'].apply(lambda x:analyzer.polarity_scores(x)['compound'])\n"
     ]
    },
    {
     "name": "stdout",
     "output_type": "stream",
     "text": [
      "Trump Sentiment Analysis Completed\n",
      "2020-09-01\n",
      "2020-09-02\n",
      "2020-09-03\n",
      "2020-09-04\n",
      "2020-09-05\n",
      "2020-09-06\n",
      "2020-09-07\n",
      "2020-09-08\n",
      "2020-09-09\n",
      "2020-09-10\n",
      "2020-09-11\n",
      "2020-09-12\n",
      "2020-09-13\n",
      "2020-09-14\n",
      "2020-09-15\n",
      "2020-09-16\n",
      "2020-09-17\n",
      "2020-09-18\n",
      "2020-09-19\n",
      "2020-09-20\n",
      "2020-09-21\n",
      "2020-09-22\n",
      "2020-09-23\n",
      "2020-09-24\n",
      "2020-09-25\n",
      "2020-09-26\n",
      "2020-09-27\n",
      "2020-09-28\n",
      "2020-09-29\n",
      "2020-09-30\n",
      "2020-10-01\n",
      "2020-10-02\n",
      "2020-10-03\n",
      "2020-10-04\n",
      "2020-10-05\n",
      "2020-10-06\n",
      "2020-10-07\n",
      "2020-10-08\n",
      "2020-10-09\n",
      "2020-10-10\n",
      "2020-10-11\n",
      "2020-10-12\n",
      "2020-10-13\n",
      "2020-10-14\n",
      "2020-10-15\n",
      "2020-10-16\n",
      "2020-10-17\n",
      "2020-10-18\n",
      "2020-10-19\n",
      "2020-10-20\n",
      "2020-10-21\n",
      "2020-10-22\n",
      "2020-10-23\n",
      "2020-10-24\n",
      "2020-10-25\n",
      "2020-10-26\n",
      "2020-10-27\n",
      "2020-10-28\n",
      "2020-10-29\n",
      "2020-10-30\n",
      "2020-10-31\n",
      "2020-11-01\n",
      "2020-11-02\n",
      "2020-11-03\n"
     ]
    }
   ],
   "source": [
    "trump=df.copy()\n",
    "trump = df['text'].str.contains(\"trump|don\",case=False)\n",
    "trump=df[trump]\n",
    "\n",
    "trump['neg'] = trump['text'].apply(lambda x:analyzer.polarity_scores(x)['neg'])\n",
    "print(\"Trump1/4\")\n",
    "\n",
    "trump['neu'] = trump['text'].apply(lambda x:analyzer.polarity_scores(x)['neu'])\n",
    "print(\"Trump2/4\")\n",
    "\n",
    "trump['pos'] = trump['text'].apply(lambda x:analyzer.polarity_scores(x)['pos'])\n",
    "print(\"Trump 3/4\")\n",
    "\n",
    "trump['compound'] = trump['text'].apply(lambda x:analyzer.polarity_scores(x)['compound'])\n",
    "print(\"Trump Sentiment Analysis Completed\")\n",
    "#trump.to_csv(r'D:/Final Project Econ/trump sentiment and tweets.csv',index=True)\n",
    "\n",
    "newpath = r'F:/Final Project Econ/trump'\n",
    "if not os.path.exists(newpath):\n",
    "        os.makedirs(newpath)\n",
    "\n",
    "for i in dates:\n",
    "    trump_day=trump.loc[i]\n",
    "        \n",
    "    trump_day.to_csv(f'F:/Final Project Econ/trump/'+str(i)[:10]+'.csv',index=True)\n",
    "    del trump_day\n",
    "    print(str(i)[:10])\n",
    "    \n",
    "del trump"
   ]
  },
  {
   "cell_type": "code",
   "execution_count": 14,
   "id": "3bdfaae8",
   "metadata": {},
   "outputs": [
    {
     "name": "stderr",
     "output_type": "stream",
     "text": [
      "C:\\Users\\BorisGrinberg\\AppData\\Local\\Temp\\ipykernel_4956\\836511255.py:5: SettingWithCopyWarning: \n",
      "A value is trying to be set on a copy of a slice from a DataFrame.\n",
      "Try using .loc[row_indexer,col_indexer] = value instead\n",
      "\n",
      "See the caveats in the documentation: https://pandas.pydata.org/pandas-docs/stable/user_guide/indexing.html#returning-a-view-versus-a-copy\n",
      "  biden['neg'] = biden['text'].apply(lambda x:analyzer.polarity_scores(x)['neg'])\n"
     ]
    },
    {
     "name": "stdout",
     "output_type": "stream",
     "text": [
      "Biden 1/4\n"
     ]
    },
    {
     "name": "stderr",
     "output_type": "stream",
     "text": [
      "C:\\Users\\BorisGrinberg\\AppData\\Local\\Temp\\ipykernel_4956\\836511255.py:8: SettingWithCopyWarning: \n",
      "A value is trying to be set on a copy of a slice from a DataFrame.\n",
      "Try using .loc[row_indexer,col_indexer] = value instead\n",
      "\n",
      "See the caveats in the documentation: https://pandas.pydata.org/pandas-docs/stable/user_guide/indexing.html#returning-a-view-versus-a-copy\n",
      "  biden['neu'] = biden['text'].apply(lambda x:analyzer.polarity_scores(x)['neu'])\n"
     ]
    },
    {
     "name": "stdout",
     "output_type": "stream",
     "text": [
      "Biden2/4\n"
     ]
    },
    {
     "name": "stderr",
     "output_type": "stream",
     "text": [
      "C:\\Users\\BorisGrinberg\\AppData\\Local\\Temp\\ipykernel_4956\\836511255.py:11: SettingWithCopyWarning: \n",
      "A value is trying to be set on a copy of a slice from a DataFrame.\n",
      "Try using .loc[row_indexer,col_indexer] = value instead\n",
      "\n",
      "See the caveats in the documentation: https://pandas.pydata.org/pandas-docs/stable/user_guide/indexing.html#returning-a-view-versus-a-copy\n",
      "  biden['pos'] = biden['text'].apply(lambda x:analyzer.polarity_scores(x)['pos'])\n"
     ]
    },
    {
     "name": "stdout",
     "output_type": "stream",
     "text": [
      "Biden 3/4\n"
     ]
    },
    {
     "name": "stderr",
     "output_type": "stream",
     "text": [
      "C:\\Users\\BorisGrinberg\\AppData\\Local\\Temp\\ipykernel_4956\\836511255.py:14: SettingWithCopyWarning: \n",
      "A value is trying to be set on a copy of a slice from a DataFrame.\n",
      "Try using .loc[row_indexer,col_indexer] = value instead\n",
      "\n",
      "See the caveats in the documentation: https://pandas.pydata.org/pandas-docs/stable/user_guide/indexing.html#returning-a-view-versus-a-copy\n",
      "  biden['compound'] =  biden['text'].apply(lambda x:analyzer.polarity_scores(x)['compound'])\n"
     ]
    },
    {
     "name": "stdout",
     "output_type": "stream",
     "text": [
      "Biden Sentiment Analysis Completed\n",
      "2020-09-01\n",
      "2020-09-02\n",
      "2020-09-03\n",
      "2020-09-04\n",
      "2020-09-05\n",
      "2020-09-06\n",
      "2020-09-07\n",
      "2020-09-08\n",
      "2020-09-09\n",
      "2020-09-10\n",
      "2020-09-11\n",
      "2020-09-12\n",
      "2020-09-13\n",
      "2020-09-14\n",
      "2020-09-15\n",
      "2020-09-16\n",
      "2020-09-17\n",
      "2020-09-18\n",
      "2020-09-19\n",
      "2020-09-20\n",
      "2020-09-21\n",
      "2020-09-22\n",
      "2020-09-23\n",
      "2020-09-24\n",
      "2020-09-25\n",
      "2020-09-26\n",
      "2020-09-27\n",
      "2020-09-28\n",
      "2020-09-29\n",
      "2020-09-30\n",
      "2020-10-01\n",
      "2020-10-02\n",
      "2020-10-03\n",
      "2020-10-04\n",
      "2020-10-05\n",
      "2020-10-06\n",
      "2020-10-07\n",
      "2020-10-08\n",
      "2020-10-09\n",
      "2020-10-10\n",
      "2020-10-11\n",
      "2020-10-12\n",
      "2020-10-13\n",
      "2020-10-14\n",
      "2020-10-15\n",
      "2020-10-16\n",
      "2020-10-17\n",
      "2020-10-18\n",
      "2020-10-19\n",
      "2020-10-20\n",
      "2020-10-21\n",
      "2020-10-22\n",
      "2020-10-23\n",
      "2020-10-24\n",
      "2020-10-25\n",
      "2020-10-26\n",
      "2020-10-27\n",
      "2020-10-28\n",
      "2020-10-29\n",
      "2020-10-30\n",
      "2020-10-31\n",
      "2020-11-01\n",
      "2020-11-02\n",
      "2020-11-03\n"
     ]
    }
   ],
   "source": [
    "biden=df.copy()\n",
    "biden = df['text'].str.contains(\"biden|joe\",case=False)\n",
    "biden=df[biden]\n",
    "\n",
    "biden['neg'] = biden['text'].apply(lambda x:analyzer.polarity_scores(x)['neg'])\n",
    "print(\"Biden 1/4\")\n",
    "\n",
    "biden['neu'] = biden['text'].apply(lambda x:analyzer.polarity_scores(x)['neu'])\n",
    "print(\"Biden2/4\")\n",
    "\n",
    "biden['pos'] = biden['text'].apply(lambda x:analyzer.polarity_scores(x)['pos'])\n",
    "print(\"Biden 3/4\")\n",
    "\n",
    "biden['compound'] =  biden['text'].apply(lambda x:analyzer.polarity_scores(x)['compound'])\n",
    "print(\"Biden Sentiment Analysis Completed\")\n",
    "#biden.to_csv(r'D:/Final Project Econ/biden sentiment and tweets.csv',index=True)\n",
    "\n",
    "newpath = r'F:/Final Project Econ/biden'\n",
    "if not os.path.exists(newpath):\n",
    "        os.makedirs(newpath)\n",
    "\n",
    "for i in dates:\n",
    "    biden_day=biden.loc[i]\n",
    "        \n",
    "    biden_day.to_csv(f'F:/Final Project Econ/biden/'+str(i)[:10]+'.csv',index=True)\n",
    "    del biden_day\n",
    "    print(str(i)[:10])\n",
    "\n",
    "del biden"
   ]
  },
  {
   "cell_type": "code",
   "execution_count": 15,
   "id": "4c15f379",
   "metadata": {},
   "outputs": [
    {
     "name": "stderr",
     "output_type": "stream",
     "text": [
      "C:\\Users\\BorisGrinberg\\AppData\\Local\\Temp\\ipykernel_4956\\526710403.py:5: SettingWithCopyWarning: \n",
      "A value is trying to be set on a copy of a slice from a DataFrame.\n",
      "Try using .loc[row_indexer,col_indexer] = value instead\n",
      "\n",
      "See the caveats in the documentation: https://pandas.pydata.org/pandas-docs/stable/user_guide/indexing.html#returning-a-view-versus-a-copy\n",
      "  pence['neg'] = pence['text'].apply(lambda x:analyzer.polarity_scores(x)['neg'])\n"
     ]
    },
    {
     "name": "stdout",
     "output_type": "stream",
     "text": [
      "pence 1/4\n"
     ]
    },
    {
     "name": "stderr",
     "output_type": "stream",
     "text": [
      "C:\\Users\\BorisGrinberg\\AppData\\Local\\Temp\\ipykernel_4956\\526710403.py:8: SettingWithCopyWarning: \n",
      "A value is trying to be set on a copy of a slice from a DataFrame.\n",
      "Try using .loc[row_indexer,col_indexer] = value instead\n",
      "\n",
      "See the caveats in the documentation: https://pandas.pydata.org/pandas-docs/stable/user_guide/indexing.html#returning-a-view-versus-a-copy\n",
      "  pence['neu'] = pence['text'].apply(lambda x:analyzer.polarity_scores(x)['neu'])\n"
     ]
    },
    {
     "name": "stdout",
     "output_type": "stream",
     "text": [
      "pence2/4\n"
     ]
    },
    {
     "name": "stderr",
     "output_type": "stream",
     "text": [
      "C:\\Users\\BorisGrinberg\\AppData\\Local\\Temp\\ipykernel_4956\\526710403.py:11: SettingWithCopyWarning: \n",
      "A value is trying to be set on a copy of a slice from a DataFrame.\n",
      "Try using .loc[row_indexer,col_indexer] = value instead\n",
      "\n",
      "See the caveats in the documentation: https://pandas.pydata.org/pandas-docs/stable/user_guide/indexing.html#returning-a-view-versus-a-copy\n",
      "  pence['pos'] = pence['text'].apply(lambda x:analyzer.polarity_scores(x)['pos'])\n"
     ]
    },
    {
     "name": "stdout",
     "output_type": "stream",
     "text": [
      "pence 3/4\n"
     ]
    },
    {
     "name": "stderr",
     "output_type": "stream",
     "text": [
      "C:\\Users\\BorisGrinberg\\AppData\\Local\\Temp\\ipykernel_4956\\526710403.py:14: SettingWithCopyWarning: \n",
      "A value is trying to be set on a copy of a slice from a DataFrame.\n",
      "Try using .loc[row_indexer,col_indexer] = value instead\n",
      "\n",
      "See the caveats in the documentation: https://pandas.pydata.org/pandas-docs/stable/user_guide/indexing.html#returning-a-view-versus-a-copy\n",
      "  pence['compound'] =  pence['text'].apply(lambda x:analyzer.polarity_scores(x)['compound'])\n"
     ]
    },
    {
     "name": "stdout",
     "output_type": "stream",
     "text": [
      "pence Sentiment Analysis Completed\n",
      "2020-09-01\n",
      "2020-09-02\n",
      "2020-09-03\n",
      "2020-09-04\n",
      "2020-09-05\n",
      "2020-09-06\n",
      "2020-09-07\n",
      "2020-09-08\n",
      "2020-09-09\n",
      "2020-09-10\n",
      "2020-09-11\n",
      "2020-09-12\n",
      "2020-09-13\n",
      "2020-09-14\n",
      "2020-09-15\n",
      "2020-09-16\n",
      "2020-09-17\n",
      "2020-09-18\n",
      "2020-09-19\n",
      "2020-09-20\n",
      "2020-09-21\n",
      "2020-09-22\n",
      "2020-09-23\n",
      "2020-09-24\n",
      "2020-09-25\n",
      "2020-09-26\n",
      "2020-09-27\n",
      "2020-09-28\n",
      "2020-09-29\n",
      "2020-09-30\n",
      "2020-10-01\n",
      "2020-10-02\n",
      "2020-10-03\n",
      "2020-10-04\n",
      "2020-10-05\n",
      "2020-10-06\n",
      "2020-10-07\n",
      "2020-10-08\n",
      "2020-10-09\n",
      "2020-10-10\n",
      "2020-10-11\n",
      "2020-10-12\n",
      "2020-10-13\n",
      "2020-10-14\n",
      "2020-10-15\n",
      "2020-10-16\n",
      "2020-10-17\n",
      "2020-10-18\n",
      "2020-10-19\n",
      "2020-10-20\n",
      "2020-10-21\n",
      "2020-10-22\n",
      "2020-10-23\n",
      "2020-10-24\n",
      "2020-10-25\n",
      "2020-10-26\n",
      "2020-10-27\n",
      "2020-10-28\n",
      "2020-10-29\n",
      "2020-10-30\n",
      "2020-10-31\n",
      "2020-11-01\n",
      "2020-11-02\n",
      "2020-11-03\n"
     ]
    }
   ],
   "source": [
    "pence=df.copy()\n",
    "pence= df['text'].str.contains(\"pence|mike\",case=False)\n",
    "pence=df[pence]\n",
    "\n",
    "pence['neg'] = pence['text'].apply(lambda x:analyzer.polarity_scores(x)['neg'])\n",
    "print(\"pence 1/4\")\n",
    "\n",
    "pence['neu'] = pence['text'].apply(lambda x:analyzer.polarity_scores(x)['neu'])\n",
    "print(\"pence2/4\")\n",
    "\n",
    "pence['pos'] = pence['text'].apply(lambda x:analyzer.polarity_scores(x)['pos'])\n",
    "print(\"pence 3/4\")\n",
    "\n",
    "pence['compound'] =  pence['text'].apply(lambda x:analyzer.polarity_scores(x)['compound'])\n",
    "print(\"pence Sentiment Analysis Completed\")\n",
    "#pence.to_csv(r'D:/Final Project Econ/pence sentiment and tweets.csv',index=True)\n",
    "\n",
    "newpath = r'F:/Final Project Econ/pence'\n",
    "if not os.path.exists(newpath):\n",
    "        os.makedirs(newpath)\n",
    "\n",
    "for i in dates:\n",
    "    pence_day=pence.loc[i]\n",
    "        \n",
    "    pence_day.to_csv(f'F:/Final Project Econ/pence/'+str(i)[:10]+'.csv',index=True)\n",
    "    del pence_day\n",
    "    print(str(i)[:10])\n",
    "\n",
    "del pence"
   ]
  },
  {
   "cell_type": "code",
   "execution_count": 16,
   "id": "eac2918d",
   "metadata": {},
   "outputs": [
    {
     "name": "stderr",
     "output_type": "stream",
     "text": [
      "C:\\Users\\BorisGrinberg\\AppData\\Local\\Temp\\ipykernel_4956\\196892550.py:5: SettingWithCopyWarning: \n",
      "A value is trying to be set on a copy of a slice from a DataFrame.\n",
      "Try using .loc[row_indexer,col_indexer] = value instead\n",
      "\n",
      "See the caveats in the documentation: https://pandas.pydata.org/pandas-docs/stable/user_guide/indexing.html#returning-a-view-versus-a-copy\n",
      "  kamala['neg'] = kamala['text'].apply(lambda x:analyzer.polarity_scores(x)['neg'])\n"
     ]
    },
    {
     "name": "stdout",
     "output_type": "stream",
     "text": [
      "kamala 1/4\n"
     ]
    },
    {
     "name": "stderr",
     "output_type": "stream",
     "text": [
      "C:\\Users\\BorisGrinberg\\AppData\\Local\\Temp\\ipykernel_4956\\196892550.py:8: SettingWithCopyWarning: \n",
      "A value is trying to be set on a copy of a slice from a DataFrame.\n",
      "Try using .loc[row_indexer,col_indexer] = value instead\n",
      "\n",
      "See the caveats in the documentation: https://pandas.pydata.org/pandas-docs/stable/user_guide/indexing.html#returning-a-view-versus-a-copy\n",
      "  kamala['neu'] = kamala['text'].apply(lambda x:analyzer.polarity_scores(x)['neu'])\n"
     ]
    },
    {
     "name": "stdout",
     "output_type": "stream",
     "text": [
      "kamala2/4\n"
     ]
    },
    {
     "name": "stderr",
     "output_type": "stream",
     "text": [
      "C:\\Users\\BorisGrinberg\\AppData\\Local\\Temp\\ipykernel_4956\\196892550.py:11: SettingWithCopyWarning: \n",
      "A value is trying to be set on a copy of a slice from a DataFrame.\n",
      "Try using .loc[row_indexer,col_indexer] = value instead\n",
      "\n",
      "See the caveats in the documentation: https://pandas.pydata.org/pandas-docs/stable/user_guide/indexing.html#returning-a-view-versus-a-copy\n",
      "  kamala['pos'] = kamala['text'].apply(lambda x:analyzer.polarity_scores(x)['pos'])\n"
     ]
    },
    {
     "name": "stdout",
     "output_type": "stream",
     "text": [
      "kamala 3/4\n"
     ]
    },
    {
     "name": "stderr",
     "output_type": "stream",
     "text": [
      "C:\\Users\\BorisGrinberg\\AppData\\Local\\Temp\\ipykernel_4956\\196892550.py:14: SettingWithCopyWarning: \n",
      "A value is trying to be set on a copy of a slice from a DataFrame.\n",
      "Try using .loc[row_indexer,col_indexer] = value instead\n",
      "\n",
      "See the caveats in the documentation: https://pandas.pydata.org/pandas-docs/stable/user_guide/indexing.html#returning-a-view-versus-a-copy\n",
      "  kamala['compound'] =  kamala['text'].apply(lambda x:analyzer.polarity_scores(x)['compound'])\n"
     ]
    },
    {
     "name": "stdout",
     "output_type": "stream",
     "text": [
      "kamala Sentiment Analysis Completed\n",
      "2020-09-01\n",
      "2020-09-02\n",
      "2020-09-03\n",
      "2020-09-04\n",
      "2020-09-05\n",
      "2020-09-06\n",
      "2020-09-07\n",
      "2020-09-08\n",
      "2020-09-09\n",
      "2020-09-10\n",
      "2020-09-11\n",
      "2020-09-12\n",
      "2020-09-13\n",
      "2020-09-14\n",
      "2020-09-15\n",
      "2020-09-16\n",
      "2020-09-17\n",
      "2020-09-18\n",
      "2020-09-19\n",
      "2020-09-20\n",
      "2020-09-21\n",
      "2020-09-22\n",
      "2020-09-23\n",
      "2020-09-24\n",
      "2020-09-25\n",
      "2020-09-26\n",
      "2020-09-27\n",
      "2020-09-28\n",
      "2020-09-29\n",
      "2020-09-30\n",
      "2020-10-01\n",
      "2020-10-02\n",
      "2020-10-03\n",
      "2020-10-04\n",
      "2020-10-05\n",
      "2020-10-06\n",
      "2020-10-07\n",
      "2020-10-08\n",
      "2020-10-09\n",
      "2020-10-10\n",
      "2020-10-11\n",
      "2020-10-12\n",
      "2020-10-13\n",
      "2020-10-14\n",
      "2020-10-15\n",
      "2020-10-16\n",
      "2020-10-17\n",
      "2020-10-18\n",
      "2020-10-19\n",
      "2020-10-20\n",
      "2020-10-21\n",
      "2020-10-22\n",
      "2020-10-23\n",
      "2020-10-24\n",
      "2020-10-25\n",
      "2020-10-26\n",
      "2020-10-27\n",
      "2020-10-28\n",
      "2020-10-29\n",
      "2020-10-30\n",
      "2020-10-31\n",
      "2020-11-01\n",
      "2020-11-02\n",
      "2020-11-03\n"
     ]
    }
   ],
   "source": [
    "kamala=df.copy()\n",
    "kamala= df['text'].str.contains(\"harris|kamala\",case=False)\n",
    "kamala=df[kamala]\n",
    "\n",
    "kamala['neg'] = kamala['text'].apply(lambda x:analyzer.polarity_scores(x)['neg'])\n",
    "print(\"kamala 1/4\")\n",
    "\n",
    "kamala['neu'] = kamala['text'].apply(lambda x:analyzer.polarity_scores(x)['neu'])\n",
    "print(\"kamala2/4\")\n",
    "\n",
    "kamala['pos'] = kamala['text'].apply(lambda x:analyzer.polarity_scores(x)['pos'])\n",
    "print(\"kamala 3/4\")\n",
    "\n",
    "kamala['compound'] =  kamala['text'].apply(lambda x:analyzer.polarity_scores(x)['compound'])\n",
    "print(\"kamala Sentiment Analysis Completed\")\n",
    "#kamala.to_csv(r'D:/Final Project Econ/kamala sentiment and tweets.csv',index=True)\n",
    "\n",
    "newpath = r'F:/Final Project Econ/kamala'\n",
    "if not os.path.exists(newpath):\n",
    "        os.makedirs(newpath)\n",
    "\n",
    "for i in dates:\n",
    "    kamala_day=kamala.loc[i]\n",
    "        \n",
    "    kamala_day.to_csv(f'F:/Final Project Econ/kamala/'+str(i)[:10]+'.csv',index=True)\n",
    "    del kamala_day\n",
    "    print(str(i)[:10])\n",
    "\n",
    "del kamala"
   ]
  },
  {
   "cell_type": "code",
   "execution_count": 17,
   "id": "1c219be9",
   "metadata": {},
   "outputs": [
    {
     "name": "stderr",
     "output_type": "stream",
     "text": [
      "C:\\Users\\BorisGrinberg\\AppData\\Local\\Temp\\ipykernel_4956\\1300448876.py:5: SettingWithCopyWarning: \n",
      "A value is trying to be set on a copy of a slice from a DataFrame.\n",
      "Try using .loc[row_indexer,col_indexer] = value instead\n",
      "\n",
      "See the caveats in the documentation: https://pandas.pydata.org/pandas-docs/stable/user_guide/indexing.html#returning-a-view-versus-a-copy\n",
      "  dem['neg'] = dem['text'].apply(lambda x:analyzer.polarity_scores(x)['neg'])\n"
     ]
    },
    {
     "name": "stdout",
     "output_type": "stream",
     "text": [
      "dem 1/4\n"
     ]
    },
    {
     "name": "stderr",
     "output_type": "stream",
     "text": [
      "C:\\Users\\BorisGrinberg\\AppData\\Local\\Temp\\ipykernel_4956\\1300448876.py:8: SettingWithCopyWarning: \n",
      "A value is trying to be set on a copy of a slice from a DataFrame.\n",
      "Try using .loc[row_indexer,col_indexer] = value instead\n",
      "\n",
      "See the caveats in the documentation: https://pandas.pydata.org/pandas-docs/stable/user_guide/indexing.html#returning-a-view-versus-a-copy\n",
      "  dem['neu'] = dem['text'].apply(lambda x:analyzer.polarity_scores(x)['neu'])\n"
     ]
    },
    {
     "name": "stdout",
     "output_type": "stream",
     "text": [
      "dem 2/4\n"
     ]
    },
    {
     "name": "stderr",
     "output_type": "stream",
     "text": [
      "C:\\Users\\BorisGrinberg\\AppData\\Local\\Temp\\ipykernel_4956\\1300448876.py:11: SettingWithCopyWarning: \n",
      "A value is trying to be set on a copy of a slice from a DataFrame.\n",
      "Try using .loc[row_indexer,col_indexer] = value instead\n",
      "\n",
      "See the caveats in the documentation: https://pandas.pydata.org/pandas-docs/stable/user_guide/indexing.html#returning-a-view-versus-a-copy\n",
      "  dem['pos'] = dem['text'].apply(lambda x:analyzer.polarity_scores(x)['pos'])\n"
     ]
    },
    {
     "name": "stdout",
     "output_type": "stream",
     "text": [
      "dem 3/4\n"
     ]
    },
    {
     "name": "stderr",
     "output_type": "stream",
     "text": [
      "C:\\Users\\BorisGrinberg\\AppData\\Local\\Temp\\ipykernel_4956\\1300448876.py:14: SettingWithCopyWarning: \n",
      "A value is trying to be set on a copy of a slice from a DataFrame.\n",
      "Try using .loc[row_indexer,col_indexer] = value instead\n",
      "\n",
      "See the caveats in the documentation: https://pandas.pydata.org/pandas-docs/stable/user_guide/indexing.html#returning-a-view-versus-a-copy\n",
      "  dem['compound'] =  dem['text'].apply(lambda x:analyzer.polarity_scores(x)['compound'])\n"
     ]
    },
    {
     "name": "stdout",
     "output_type": "stream",
     "text": [
      "dem Sentiment Analysis Completed\n",
      "2020-09-01\n",
      "2020-09-02\n",
      "2020-09-03\n",
      "2020-09-04\n",
      "2020-09-05\n",
      "2020-09-06\n",
      "2020-09-07\n",
      "2020-09-08\n",
      "2020-09-09\n",
      "2020-09-10\n",
      "2020-09-11\n",
      "2020-09-12\n",
      "2020-09-13\n",
      "2020-09-14\n",
      "2020-09-15\n",
      "2020-09-16\n",
      "2020-09-17\n",
      "2020-09-18\n",
      "2020-09-19\n",
      "2020-09-20\n",
      "2020-09-21\n",
      "2020-09-22\n",
      "2020-09-23\n",
      "2020-09-24\n",
      "2020-09-25\n",
      "2020-09-26\n",
      "2020-09-27\n",
      "2020-09-28\n",
      "2020-09-29\n",
      "2020-09-30\n",
      "2020-10-01\n",
      "2020-10-02\n",
      "2020-10-03\n",
      "2020-10-04\n",
      "2020-10-05\n",
      "2020-10-06\n",
      "2020-10-07\n",
      "2020-10-08\n",
      "2020-10-09\n",
      "2020-10-10\n",
      "2020-10-11\n",
      "2020-10-12\n",
      "2020-10-13\n",
      "2020-10-14\n",
      "2020-10-15\n",
      "2020-10-16\n",
      "2020-10-17\n",
      "2020-10-18\n",
      "2020-10-19\n",
      "2020-10-20\n",
      "2020-10-21\n",
      "2020-10-22\n",
      "2020-10-23\n",
      "2020-10-24\n",
      "2020-10-25\n",
      "2020-10-26\n",
      "2020-10-27\n",
      "2020-10-28\n",
      "2020-10-29\n",
      "2020-10-30\n",
      "2020-10-31\n",
      "2020-11-01\n",
      "2020-11-02\n",
      "2020-11-03\n"
     ]
    }
   ],
   "source": [
    "dem=df.copy()\n",
    "dem= df['text'].str.contains(\"democrat|dem |dems\",case=False)\n",
    "dem=df[dem]\n",
    "\n",
    "dem['neg'] = dem['text'].apply(lambda x:analyzer.polarity_scores(x)['neg'])\n",
    "print(\"dem 1/4\")\n",
    "\n",
    "dem['neu'] = dem['text'].apply(lambda x:analyzer.polarity_scores(x)['neu'])\n",
    "print(\"dem 2/4\")\n",
    "\n",
    "dem['pos'] = dem['text'].apply(lambda x:analyzer.polarity_scores(x)['pos'])\n",
    "print(\"dem 3/4\")\n",
    "\n",
    "dem['compound'] =  dem['text'].apply(lambda x:analyzer.polarity_scores(x)['compound'])\n",
    "print(\"dem Sentiment Analysis Completed\")\n",
    "#dem.to_csv(r'D:/Final Project Econ/dem sentiment and tweets.csv',index=True)\n",
    "\n",
    "newpath = r'F:/Final Project Econ/dem'\n",
    "if not os.path.exists(newpath):\n",
    "        os.makedirs(newpath)\n",
    "\n",
    "for i in dates:\n",
    "    dem_day=dem.loc[i]\n",
    "        \n",
    "    dem_day.to_csv(f'F:/Final Project Econ/dem/'+str(i)[:10]+'.csv',index=True)\n",
    "    del dem_day\n",
    "    print(str(i)[:10])\n",
    "\n",
    "del dem"
   ]
  },
  {
   "cell_type": "code",
   "execution_count": 18,
   "id": "f02f9d3f",
   "metadata": {},
   "outputs": [
    {
     "name": "stderr",
     "output_type": "stream",
     "text": [
      "C:\\Users\\BorisGrinberg\\AppData\\Local\\Temp\\ipykernel_4956\\380719577.py:5: SettingWithCopyWarning: \n",
      "A value is trying to be set on a copy of a slice from a DataFrame.\n",
      "Try using .loc[row_indexer,col_indexer] = value instead\n",
      "\n",
      "See the caveats in the documentation: https://pandas.pydata.org/pandas-docs/stable/user_guide/indexing.html#returning-a-view-versus-a-copy\n",
      "  gop['neg'] = gop['text'].apply(lambda x:analyzer.polarity_scores(x)['neg'])\n"
     ]
    },
    {
     "name": "stdout",
     "output_type": "stream",
     "text": [
      "gop 1/4\n"
     ]
    },
    {
     "name": "stderr",
     "output_type": "stream",
     "text": [
      "C:\\Users\\BorisGrinberg\\AppData\\Local\\Temp\\ipykernel_4956\\380719577.py:8: SettingWithCopyWarning: \n",
      "A value is trying to be set on a copy of a slice from a DataFrame.\n",
      "Try using .loc[row_indexer,col_indexer] = value instead\n",
      "\n",
      "See the caveats in the documentation: https://pandas.pydata.org/pandas-docs/stable/user_guide/indexing.html#returning-a-view-versus-a-copy\n",
      "  gop['neu'] = gop['text'].apply(lambda x:analyzer.polarity_scores(x)['neu'])\n"
     ]
    },
    {
     "name": "stdout",
     "output_type": "stream",
     "text": [
      "gop2/4\n"
     ]
    },
    {
     "name": "stderr",
     "output_type": "stream",
     "text": [
      "C:\\Users\\BorisGrinberg\\AppData\\Local\\Temp\\ipykernel_4956\\380719577.py:11: SettingWithCopyWarning: \n",
      "A value is trying to be set on a copy of a slice from a DataFrame.\n",
      "Try using .loc[row_indexer,col_indexer] = value instead\n",
      "\n",
      "See the caveats in the documentation: https://pandas.pydata.org/pandas-docs/stable/user_guide/indexing.html#returning-a-view-versus-a-copy\n",
      "  gop['pos'] = gop['text'].apply(lambda x:analyzer.polarity_scores(x)['pos'])\n"
     ]
    },
    {
     "name": "stdout",
     "output_type": "stream",
     "text": [
      "gop 3/4\n"
     ]
    },
    {
     "name": "stderr",
     "output_type": "stream",
     "text": [
      "C:\\Users\\BorisGrinberg\\AppData\\Local\\Temp\\ipykernel_4956\\380719577.py:14: SettingWithCopyWarning: \n",
      "A value is trying to be set on a copy of a slice from a DataFrame.\n",
      "Try using .loc[row_indexer,col_indexer] = value instead\n",
      "\n",
      "See the caveats in the documentation: https://pandas.pydata.org/pandas-docs/stable/user_guide/indexing.html#returning-a-view-versus-a-copy\n",
      "  gop['compound'] =  gop['text'].apply(lambda x:analyzer.polarity_scores(x)['compound'])\n"
     ]
    },
    {
     "name": "stdout",
     "output_type": "stream",
     "text": [
      "gop Sentiment Analysis Completed\n",
      "2020-09-01\n",
      "2020-09-02\n",
      "2020-09-03\n",
      "2020-09-04\n",
      "2020-09-05\n",
      "2020-09-06\n",
      "2020-09-07\n",
      "2020-09-08\n",
      "2020-09-09\n",
      "2020-09-10\n",
      "2020-09-11\n",
      "2020-09-12\n",
      "2020-09-13\n",
      "2020-09-14\n",
      "2020-09-15\n",
      "2020-09-16\n",
      "2020-09-17\n",
      "2020-09-18\n",
      "2020-09-19\n",
      "2020-09-20\n",
      "2020-09-21\n",
      "2020-09-22\n",
      "2020-09-23\n",
      "2020-09-24\n",
      "2020-09-25\n",
      "2020-09-26\n",
      "2020-09-27\n",
      "2020-09-28\n",
      "2020-09-29\n",
      "2020-09-30\n",
      "2020-10-01\n",
      "2020-10-02\n",
      "2020-10-03\n",
      "2020-10-04\n",
      "2020-10-05\n",
      "2020-10-06\n",
      "2020-10-07\n",
      "2020-10-08\n",
      "2020-10-09\n",
      "2020-10-10\n",
      "2020-10-11\n",
      "2020-10-12\n",
      "2020-10-13\n",
      "2020-10-14\n",
      "2020-10-15\n",
      "2020-10-16\n",
      "2020-10-17\n",
      "2020-10-18\n",
      "2020-10-19\n",
      "2020-10-20\n",
      "2020-10-21\n",
      "2020-10-22\n",
      "2020-10-23\n",
      "2020-10-24\n",
      "2020-10-25\n",
      "2020-10-26\n",
      "2020-10-27\n",
      "2020-10-28\n",
      "2020-10-29\n",
      "2020-10-30\n",
      "2020-10-31\n",
      "2020-11-01\n",
      "2020-11-02\n",
      "2020-11-03\n"
     ]
    }
   ],
   "source": [
    "gop=df.copy()\n",
    "gop= df['text'].str.contains(\"gop|repub|republican\",case=False)\n",
    "gop=df[gop]\n",
    "\n",
    "gop['neg'] = gop['text'].apply(lambda x:analyzer.polarity_scores(x)['neg'])\n",
    "print(\"gop 1/4\")\n",
    "\n",
    "gop['neu'] = gop['text'].apply(lambda x:analyzer.polarity_scores(x)['neu'])\n",
    "print(\"gop2/4\")\n",
    "\n",
    "gop['pos'] = gop['text'].apply(lambda x:analyzer.polarity_scores(x)['pos'])\n",
    "print(\"gop 3/4\")\n",
    "\n",
    "gop['compound'] =  gop['text'].apply(lambda x:analyzer.polarity_scores(x)['compound'])\n",
    "print(\"gop Sentiment Analysis Completed\")\n",
    "#gop.to_csv(r'D:/Final Project Econ/gop sentiment and tweets.csv',index=True)\n",
    "\n",
    "newpath = r'F:/Final Project Econ/gop'\n",
    "if not os.path.exists(newpath):\n",
    "        os.makedirs(newpath)\n",
    "\n",
    "for i in dates:\n",
    "    gop_day=gop.loc[i]\n",
    "        \n",
    "    gop_day.to_csv(f'F:/Final Project Econ/gop/'+str(i)[:10]+'.csv',index=True)\n",
    "    del gop_day\n",
    "    print(str(i)[:10])\n",
    "\n",
    "del gop"
   ]
  },
  {
   "cell_type": "code",
   "execution_count": 19,
   "id": "3d2fd252",
   "metadata": {},
   "outputs": [
    {
     "name": "stderr",
     "output_type": "stream",
     "text": [
      "C:\\Users\\BorisGrinberg\\AppData\\Local\\Temp\\ipykernel_4956\\3927697831.py:5: SettingWithCopyWarning: \n",
      "A value is trying to be set on a copy of a slice from a DataFrame.\n",
      "Try using .loc[row_indexer,col_indexer] = value instead\n",
      "\n",
      "See the caveats in the documentation: https://pandas.pydata.org/pandas-docs/stable/user_guide/indexing.html#returning-a-view-versus-a-copy\n",
      "  bernie['neg'] = bernie['text'].apply(lambda x:analyzer.polarity_scores(x)['neg'])\n"
     ]
    },
    {
     "name": "stdout",
     "output_type": "stream",
     "text": [
      "bernie 1/4\n"
     ]
    },
    {
     "name": "stderr",
     "output_type": "stream",
     "text": [
      "C:\\Users\\BorisGrinberg\\AppData\\Local\\Temp\\ipykernel_4956\\3927697831.py:8: SettingWithCopyWarning: \n",
      "A value is trying to be set on a copy of a slice from a DataFrame.\n",
      "Try using .loc[row_indexer,col_indexer] = value instead\n",
      "\n",
      "See the caveats in the documentation: https://pandas.pydata.org/pandas-docs/stable/user_guide/indexing.html#returning-a-view-versus-a-copy\n",
      "  bernie['neu'] = bernie['text'].apply(lambda x:analyzer.polarity_scores(x)['neu'])\n"
     ]
    },
    {
     "name": "stdout",
     "output_type": "stream",
     "text": [
      "bernie2/4\n"
     ]
    },
    {
     "name": "stderr",
     "output_type": "stream",
     "text": [
      "C:\\Users\\BorisGrinberg\\AppData\\Local\\Temp\\ipykernel_4956\\3927697831.py:11: SettingWithCopyWarning: \n",
      "A value is trying to be set on a copy of a slice from a DataFrame.\n",
      "Try using .loc[row_indexer,col_indexer] = value instead\n",
      "\n",
      "See the caveats in the documentation: https://pandas.pydata.org/pandas-docs/stable/user_guide/indexing.html#returning-a-view-versus-a-copy\n",
      "  bernie['pos'] = bernie['text'].apply(lambda x:analyzer.polarity_scores(x)['pos'])\n"
     ]
    },
    {
     "name": "stdout",
     "output_type": "stream",
     "text": [
      "bernie 3/4\n"
     ]
    },
    {
     "name": "stderr",
     "output_type": "stream",
     "text": [
      "C:\\Users\\BorisGrinberg\\AppData\\Local\\Temp\\ipykernel_4956\\3927697831.py:14: SettingWithCopyWarning: \n",
      "A value is trying to be set on a copy of a slice from a DataFrame.\n",
      "Try using .loc[row_indexer,col_indexer] = value instead\n",
      "\n",
      "See the caveats in the documentation: https://pandas.pydata.org/pandas-docs/stable/user_guide/indexing.html#returning-a-view-versus-a-copy\n",
      "  bernie['compound'] =  bernie['text'].apply(lambda x:analyzer.polarity_scores(x)['compound'])\n"
     ]
    },
    {
     "name": "stdout",
     "output_type": "stream",
     "text": [
      "bernie Sentiment Analysis Completed\n",
      "2020-09-01\n",
      "2020-09-02\n",
      "2020-09-03\n",
      "2020-09-04\n",
      "2020-09-05\n",
      "2020-09-06\n",
      "2020-09-07\n",
      "2020-09-08\n",
      "2020-09-09\n",
      "2020-09-10\n",
      "2020-09-11\n",
      "2020-09-12\n",
      "2020-09-13\n",
      "2020-09-14\n",
      "2020-09-15\n",
      "2020-09-16\n",
      "2020-09-17\n",
      "2020-09-18\n",
      "2020-09-19\n",
      "2020-09-20\n",
      "2020-09-21\n",
      "2020-09-22\n",
      "2020-09-23\n",
      "2020-09-24\n",
      "2020-09-25\n",
      "2020-09-26\n",
      "2020-09-27\n",
      "2020-09-28\n",
      "2020-09-29\n",
      "2020-09-30\n",
      "2020-10-01\n",
      "2020-10-02\n",
      "2020-10-03\n",
      "2020-10-04\n",
      "2020-10-05\n",
      "2020-10-06\n",
      "2020-10-07\n",
      "2020-10-08\n",
      "2020-10-09\n",
      "2020-10-10\n",
      "2020-10-11\n",
      "2020-10-12\n",
      "2020-10-13\n",
      "2020-10-14\n",
      "2020-10-15\n",
      "2020-10-16\n",
      "2020-10-17\n",
      "2020-10-18\n",
      "2020-10-19\n",
      "2020-10-20\n",
      "2020-10-21\n",
      "2020-10-22\n",
      "2020-10-23\n",
      "2020-10-24\n",
      "2020-10-25\n",
      "2020-10-26\n",
      "2020-10-27\n",
      "2020-10-28\n",
      "2020-10-29\n",
      "2020-10-30\n",
      "2020-10-31\n",
      "2020-11-01\n",
      "2020-11-02\n",
      "2020-11-03\n"
     ]
    }
   ],
   "source": [
    "bernie=df.copy()\n",
    "bernie= df['text'].str.contains(\"bernie|bern|sanders\",case=False)\n",
    "bernie=df[bernie]\n",
    "\n",
    "bernie['neg'] = bernie['text'].apply(lambda x:analyzer.polarity_scores(x)['neg'])\n",
    "print(\"bernie 1/4\")\n",
    "\n",
    "bernie['neu'] = bernie['text'].apply(lambda x:analyzer.polarity_scores(x)['neu'])\n",
    "print(\"bernie2/4\")\n",
    "\n",
    "bernie['pos'] = bernie['text'].apply(lambda x:analyzer.polarity_scores(x)['pos'])\n",
    "print(\"bernie 3/4\")\n",
    "\n",
    "bernie['compound'] =  bernie['text'].apply(lambda x:analyzer.polarity_scores(x)['compound'])\n",
    "print(\"bernie Sentiment Analysis Completed\")\n",
    "#bernie.to_csv(r'D:/Final Project Econ/bernie sentiment and tweets.csv',index=True)\n",
    "\n",
    "newpath = r'F:/Final Project Econ/bernie'\n",
    "if not os.path.exists(newpath):\n",
    "        os.makedirs(newpath)\n",
    "\n",
    "for i in dates:\n",
    "    bernie_day=bernie.loc[i]\n",
    "        \n",
    "    bernie_day.to_csv(f'F:/Final Project Econ/bernie/'+str(i)[:10]+'.csv',index=True)\n",
    "    del bernie_day\n",
    "    print(str(i)[:10])\n",
    "    \n",
    "del bernie"
   ]
  },
  {
   "cell_type": "code",
   "execution_count": 20,
   "id": "3b31aa9d",
   "metadata": {},
   "outputs": [
    {
     "name": "stderr",
     "output_type": "stream",
     "text": [
      "C:\\Users\\BorisGrinberg\\AppData\\Local\\Temp\\ipykernel_4956\\1556704263.py:5: SettingWithCopyWarning: \n",
      "A value is trying to be set on a copy of a slice from a DataFrame.\n",
      "Try using .loc[row_indexer,col_indexer] = value instead\n",
      "\n",
      "See the caveats in the documentation: https://pandas.pydata.org/pandas-docs/stable/user_guide/indexing.html#returning-a-view-versus-a-copy\n",
      "  pelosi['neg'] = pelosi['text'].apply(lambda x:analyzer.polarity_scores(x)['neg'])\n"
     ]
    },
    {
     "name": "stdout",
     "output_type": "stream",
     "text": [
      "pelosi 1/4\n"
     ]
    },
    {
     "name": "stderr",
     "output_type": "stream",
     "text": [
      "C:\\Users\\BorisGrinberg\\AppData\\Local\\Temp\\ipykernel_4956\\1556704263.py:8: SettingWithCopyWarning: \n",
      "A value is trying to be set on a copy of a slice from a DataFrame.\n",
      "Try using .loc[row_indexer,col_indexer] = value instead\n",
      "\n",
      "See the caveats in the documentation: https://pandas.pydata.org/pandas-docs/stable/user_guide/indexing.html#returning-a-view-versus-a-copy\n",
      "  pelosi['neu'] = pelosi['text'].apply(lambda x:analyzer.polarity_scores(x)['neu'])\n"
     ]
    },
    {
     "name": "stdout",
     "output_type": "stream",
     "text": [
      "pelosi2/4\n"
     ]
    },
    {
     "name": "stderr",
     "output_type": "stream",
     "text": [
      "C:\\Users\\BorisGrinberg\\AppData\\Local\\Temp\\ipykernel_4956\\1556704263.py:11: SettingWithCopyWarning: \n",
      "A value is trying to be set on a copy of a slice from a DataFrame.\n",
      "Try using .loc[row_indexer,col_indexer] = value instead\n",
      "\n",
      "See the caveats in the documentation: https://pandas.pydata.org/pandas-docs/stable/user_guide/indexing.html#returning-a-view-versus-a-copy\n",
      "  pelosi['pos'] = pelosi['text'].apply(lambda x:analyzer.polarity_scores(x)['pos'])\n"
     ]
    },
    {
     "name": "stdout",
     "output_type": "stream",
     "text": [
      "pelosi 3/4\n"
     ]
    },
    {
     "name": "stderr",
     "output_type": "stream",
     "text": [
      "C:\\Users\\BorisGrinberg\\AppData\\Local\\Temp\\ipykernel_4956\\1556704263.py:14: SettingWithCopyWarning: \n",
      "A value is trying to be set on a copy of a slice from a DataFrame.\n",
      "Try using .loc[row_indexer,col_indexer] = value instead\n",
      "\n",
      "See the caveats in the documentation: https://pandas.pydata.org/pandas-docs/stable/user_guide/indexing.html#returning-a-view-versus-a-copy\n",
      "  pelosi['compound'] =  pelosi['text'].apply(lambda x:analyzer.polarity_scores(x)['compound'])\n"
     ]
    },
    {
     "name": "stdout",
     "output_type": "stream",
     "text": [
      "pelosi Sentiment Analysis Completed\n",
      "2020-09-01\n",
      "2020-09-02\n",
      "2020-09-03\n",
      "2020-09-04\n",
      "2020-09-05\n",
      "2020-09-06\n",
      "2020-09-07\n",
      "2020-09-08\n",
      "2020-09-09\n",
      "2020-09-10\n",
      "2020-09-11\n",
      "2020-09-12\n",
      "2020-09-13\n",
      "2020-09-14\n",
      "2020-09-15\n",
      "2020-09-16\n",
      "2020-09-17\n",
      "2020-09-18\n",
      "2020-09-19\n",
      "2020-09-20\n",
      "2020-09-21\n",
      "2020-09-22\n",
      "2020-09-23\n",
      "2020-09-24\n",
      "2020-09-25\n",
      "2020-09-26\n",
      "2020-09-27\n",
      "2020-09-28\n",
      "2020-09-29\n",
      "2020-09-30\n",
      "2020-10-01\n",
      "2020-10-02\n",
      "2020-10-03\n",
      "2020-10-04\n",
      "2020-10-05\n",
      "2020-10-06\n",
      "2020-10-07\n",
      "2020-10-08\n",
      "2020-10-09\n",
      "2020-10-10\n",
      "2020-10-11\n",
      "2020-10-12\n",
      "2020-10-13\n",
      "2020-10-14\n",
      "2020-10-15\n",
      "2020-10-16\n",
      "2020-10-17\n",
      "2020-10-18\n",
      "2020-10-19\n",
      "2020-10-20\n",
      "2020-10-21\n",
      "2020-10-22\n",
      "2020-10-23\n",
      "2020-10-24\n",
      "2020-10-25\n",
      "2020-10-26\n",
      "2020-10-27\n",
      "2020-10-28\n",
      "2020-10-29\n",
      "2020-10-30\n",
      "2020-10-31\n",
      "2020-11-01\n",
      "2020-11-02\n",
      "2020-11-03\n"
     ]
    }
   ],
   "source": [
    "pelosi=df.copy()\n",
    "pelosi= df['text'].str.contains(\"pelosi|nancy|speaker of the house\",case=False)\n",
    "pelosi=df[pelosi]\n",
    "\n",
    "pelosi['neg'] = pelosi['text'].apply(lambda x:analyzer.polarity_scores(x)['neg'])\n",
    "print(\"pelosi 1/4\")\n",
    "\n",
    "pelosi['neu'] = pelosi['text'].apply(lambda x:analyzer.polarity_scores(x)['neu'])\n",
    "print(\"pelosi2/4\")\n",
    "\n",
    "pelosi['pos'] = pelosi['text'].apply(lambda x:analyzer.polarity_scores(x)['pos'])\n",
    "print(\"pelosi 3/4\")\n",
    "\n",
    "pelosi['compound'] =  pelosi['text'].apply(lambda x:analyzer.polarity_scores(x)['compound'])\n",
    "print(\"pelosi Sentiment Analysis Completed\")\n",
    "#pelosi.to_csv(r'D:/Final Project Econ/pelosi sentiment and tweets.csv',index=True)\n",
    "\n",
    "newpath = r'F:/Final Project Econ/pelosi'\n",
    "if not os.path.exists(newpath):\n",
    "        os.makedirs(newpath)\n",
    "\n",
    "for i in dates:\n",
    "    pelosi_day=pelosi.loc[i]\n",
    "        \n",
    "    pelosi_day.to_csv(f'F:/Final Project Econ/pelosi/'+str(i)[:10]+'.csv',index=True)\n",
    "    del pelosi_day\n",
    "    print(str(i)[:10])\n",
    "\n",
    "del pelosi"
   ]
  },
  {
   "cell_type": "code",
   "execution_count": 15,
   "id": "c25de0e0",
   "metadata": {},
   "outputs": [
    {
     "name": "stderr",
     "output_type": "stream",
     "text": [
      "C:\\Users\\capma\\AppData\\Local\\Temp\\ipykernel_7936\\3864359742.py:5: SettingWithCopyWarning: \n",
      "A value is trying to be set on a copy of a slice from a DataFrame.\n",
      "Try using .loc[row_indexer,col_indexer] = value instead\n",
      "\n",
      "See the caveats in the documentation: https://pandas.pydata.org/pandas-docs/stable/user_guide/indexing.html#returning-a-view-versus-a-copy\n",
      "  aoc['neg'] = aoc['text'].apply(lambda x:analyzer.polarity_scores(x)['neg'])\n"
     ]
    },
    {
     "name": "stdout",
     "output_type": "stream",
     "text": [
      "aoc 1/4\n"
     ]
    },
    {
     "name": "stderr",
     "output_type": "stream",
     "text": [
      "C:\\Users\\capma\\AppData\\Local\\Temp\\ipykernel_7936\\3864359742.py:8: SettingWithCopyWarning: \n",
      "A value is trying to be set on a copy of a slice from a DataFrame.\n",
      "Try using .loc[row_indexer,col_indexer] = value instead\n",
      "\n",
      "See the caveats in the documentation: https://pandas.pydata.org/pandas-docs/stable/user_guide/indexing.html#returning-a-view-versus-a-copy\n",
      "  aoc['neu'] = aoc['text'].apply(lambda x:analyzer.polarity_scores(x)['neu'])\n"
     ]
    },
    {
     "name": "stdout",
     "output_type": "stream",
     "text": [
      "aoc2/4\n"
     ]
    },
    {
     "name": "stderr",
     "output_type": "stream",
     "text": [
      "C:\\Users\\capma\\AppData\\Local\\Temp\\ipykernel_7936\\3864359742.py:11: SettingWithCopyWarning: \n",
      "A value is trying to be set on a copy of a slice from a DataFrame.\n",
      "Try using .loc[row_indexer,col_indexer] = value instead\n",
      "\n",
      "See the caveats in the documentation: https://pandas.pydata.org/pandas-docs/stable/user_guide/indexing.html#returning-a-view-versus-a-copy\n",
      "  aoc['pos'] = aoc['text'].apply(lambda x:analyzer.polarity_scores(x)['pos'])\n"
     ]
    },
    {
     "name": "stdout",
     "output_type": "stream",
     "text": [
      "aoc 3/4\n"
     ]
    },
    {
     "name": "stderr",
     "output_type": "stream",
     "text": [
      "C:\\Users\\capma\\AppData\\Local\\Temp\\ipykernel_7936\\3864359742.py:14: SettingWithCopyWarning: \n",
      "A value is trying to be set on a copy of a slice from a DataFrame.\n",
      "Try using .loc[row_indexer,col_indexer] = value instead\n",
      "\n",
      "See the caveats in the documentation: https://pandas.pydata.org/pandas-docs/stable/user_guide/indexing.html#returning-a-view-versus-a-copy\n",
      "  aoc['compound'] =  aoc['text'].apply(lambda x:analyzer.polarity_scores(x)['compound'])\n"
     ]
    },
    {
     "name": "stdout",
     "output_type": "stream",
     "text": [
      "aoc Sentiment Analysis Completed\n",
      "2020-09-01\n",
      "2020-09-02\n",
      "2020-09-03\n",
      "2020-09-04\n",
      "2020-09-05\n",
      "2020-09-06\n",
      "2020-09-07\n",
      "2020-09-08\n",
      "2020-09-09\n",
      "2020-09-10\n",
      "2020-09-11\n",
      "2020-09-12\n",
      "2020-09-13\n",
      "2020-09-14\n",
      "2020-09-15\n",
      "2020-09-16\n",
      "2020-09-17\n",
      "2020-09-18\n",
      "2020-09-19\n",
      "2020-09-20\n",
      "2020-09-21\n",
      "2020-09-22\n",
      "2020-09-23\n",
      "2020-09-24\n",
      "2020-09-25\n",
      "2020-09-26\n",
      "2020-09-27\n",
      "2020-09-28\n",
      "2020-09-29\n",
      "2020-09-30\n",
      "2020-10-01\n",
      "2020-10-02\n",
      "2020-10-03\n",
      "2020-10-04\n",
      "2020-10-05\n",
      "2020-10-06\n",
      "2020-10-07\n",
      "2020-10-08\n",
      "2020-10-09\n",
      "2020-10-10\n",
      "2020-10-11\n",
      "2020-10-12\n",
      "2020-10-13\n",
      "2020-10-14\n",
      "2020-10-15\n",
      "2020-10-16\n",
      "2020-10-17\n",
      "2020-10-18\n",
      "2020-10-19\n",
      "2020-10-20\n",
      "2020-10-21\n",
      "2020-10-22\n",
      "2020-10-23\n",
      "2020-10-24\n",
      "2020-10-25\n",
      "2020-10-26\n",
      "2020-10-27\n",
      "2020-10-28\n",
      "2020-10-29\n",
      "2020-10-30\n",
      "2020-10-31\n",
      "2020-11-01\n",
      "2020-11-02\n",
      "2020-11-03\n"
     ]
    }
   ],
   "source": [
    "aoc=df.copy()\n",
    "aoc= df['text'].str.contains(\"aoc|alexandria|ocasio-cortez|cortez\",case=False)\n",
    "aoc=df[aoc]\n",
    "\n",
    "aoc['neg'] = aoc['text'].apply(lambda x:analyzer.polarity_scores(x)['neg'])\n",
    "print(\"aoc 1/4\")\n",
    "\n",
    "aoc['neu'] = aoc['text'].apply(lambda x:analyzer.polarity_scores(x)['neu'])\n",
    "print(\"aoc2/4\")\n",
    "\n",
    "aoc['pos'] = aoc['text'].apply(lambda x:analyzer.polarity_scores(x)['pos'])\n",
    "print(\"aoc 3/4\")\n",
    "\n",
    "aoc['compound'] =  aoc['text'].apply(lambda x:analyzer.polarity_scores(x)['compound'])\n",
    "print(\"aoc Sentiment Analysis Completed\")\n",
    "#aoc.to_csv(r'D:/Final Project Econ/aoc sentiment and tweets.csv',index=True)\n",
    "\n",
    "newpath = r'D:/Final Project Econ/aoc'\n",
    "if not os.path.exists(newpath):\n",
    "        os.makedirs(newpath)\n",
    "\n",
    "for i in dates:\n",
    "    aoc_day=aoc.loc[i]\n",
    "        \n",
    "    aoc_day.to_csv(f'D:/Final Project Econ/aoc/'+str(i)[:10]+'.csv',index=True)\n",
    "    del aoc_day\n",
    "    print(str(i)[:10])\n",
    "    \n",
    "del aoc"
   ]
  },
  {
   "cell_type": "code",
   "execution_count": 16,
   "id": "26eed8c2",
   "metadata": {},
   "outputs": [
    {
     "name": "stderr",
     "output_type": "stream",
     "text": [
      "C:\\Users\\capma\\AppData\\Local\\Temp\\ipykernel_7936\\727401293.py:5: SettingWithCopyWarning: \n",
      "A value is trying to be set on a copy of a slice from a DataFrame.\n",
      "Try using .loc[row_indexer,col_indexer] = value instead\n",
      "\n",
      "See the caveats in the documentation: https://pandas.pydata.org/pandas-docs/stable/user_guide/indexing.html#returning-a-view-versus-a-copy\n",
      "  omar['neg'] = omar['text'].apply(lambda x:analyzer.polarity_scores(x)['neg'])\n"
     ]
    },
    {
     "name": "stdout",
     "output_type": "stream",
     "text": [
      "omar 1/4\n"
     ]
    },
    {
     "name": "stderr",
     "output_type": "stream",
     "text": [
      "C:\\Users\\capma\\AppData\\Local\\Temp\\ipykernel_7936\\727401293.py:8: SettingWithCopyWarning: \n",
      "A value is trying to be set on a copy of a slice from a DataFrame.\n",
      "Try using .loc[row_indexer,col_indexer] = value instead\n",
      "\n",
      "See the caveats in the documentation: https://pandas.pydata.org/pandas-docs/stable/user_guide/indexing.html#returning-a-view-versus-a-copy\n",
      "  omar['neu'] = omar['text'].apply(lambda x:analyzer.polarity_scores(x)['neu'])\n"
     ]
    },
    {
     "name": "stdout",
     "output_type": "stream",
     "text": [
      "omar2/4\n"
     ]
    },
    {
     "name": "stderr",
     "output_type": "stream",
     "text": [
      "C:\\Users\\capma\\AppData\\Local\\Temp\\ipykernel_7936\\727401293.py:11: SettingWithCopyWarning: \n",
      "A value is trying to be set on a copy of a slice from a DataFrame.\n",
      "Try using .loc[row_indexer,col_indexer] = value instead\n",
      "\n",
      "See the caveats in the documentation: https://pandas.pydata.org/pandas-docs/stable/user_guide/indexing.html#returning-a-view-versus-a-copy\n",
      "  omar['pos'] = omar['text'].apply(lambda x:analyzer.polarity_scores(x)['pos'])\n"
     ]
    },
    {
     "name": "stdout",
     "output_type": "stream",
     "text": [
      "omar 3/4\n"
     ]
    },
    {
     "name": "stderr",
     "output_type": "stream",
     "text": [
      "C:\\Users\\capma\\AppData\\Local\\Temp\\ipykernel_7936\\727401293.py:14: SettingWithCopyWarning: \n",
      "A value is trying to be set on a copy of a slice from a DataFrame.\n",
      "Try using .loc[row_indexer,col_indexer] = value instead\n",
      "\n",
      "See the caveats in the documentation: https://pandas.pydata.org/pandas-docs/stable/user_guide/indexing.html#returning-a-view-versus-a-copy\n",
      "  omar['compound'] =  omar['text'].apply(lambda x:analyzer.polarity_scores(x)['compound'])\n"
     ]
    },
    {
     "name": "stdout",
     "output_type": "stream",
     "text": [
      "omar Sentiment Analysis Completed\n",
      "2020-09-01\n",
      "2020-09-02\n",
      "2020-09-03\n",
      "2020-09-04\n",
      "2020-09-05\n",
      "2020-09-06\n",
      "2020-09-07\n",
      "2020-09-08\n",
      "2020-09-09\n",
      "2020-09-10\n",
      "2020-09-11\n",
      "2020-09-12\n",
      "2020-09-13\n",
      "2020-09-14\n",
      "2020-09-15\n",
      "2020-09-16\n",
      "2020-09-17\n",
      "2020-09-18\n",
      "2020-09-19\n",
      "2020-09-20\n",
      "2020-09-21\n",
      "2020-09-22\n",
      "2020-09-23\n",
      "2020-09-24\n",
      "2020-09-25\n",
      "2020-09-26\n",
      "2020-09-27\n",
      "2020-09-28\n",
      "2020-09-29\n",
      "2020-09-30\n",
      "2020-10-01\n",
      "2020-10-02\n",
      "2020-10-03\n",
      "2020-10-04\n",
      "2020-10-05\n",
      "2020-10-06\n",
      "2020-10-07\n",
      "2020-10-08\n",
      "2020-10-09\n",
      "2020-10-10\n",
      "2020-10-11\n",
      "2020-10-12\n",
      "2020-10-13\n",
      "2020-10-14\n",
      "2020-10-15\n",
      "2020-10-16\n",
      "2020-10-17\n",
      "2020-10-18\n",
      "2020-10-19\n",
      "2020-10-20\n",
      "2020-10-21\n",
      "2020-10-22\n",
      "2020-10-23\n",
      "2020-10-24\n",
      "2020-10-25\n",
      "2020-10-26\n",
      "2020-10-27\n",
      "2020-10-28\n",
      "2020-10-29\n",
      "2020-10-30\n",
      "2020-10-31\n",
      "2020-11-01\n",
      "2020-11-02\n",
      "2020-11-03\n"
     ]
    }
   ],
   "source": [
    "omar=df.copy()\n",
    "omar= df['text'].str.contains(\"omar|ilhan|ilhan abdullahi\",case=False)\n",
    "omar=df[omar]\n",
    "\n",
    "omar['neg'] = omar['text'].apply(lambda x:analyzer.polarity_scores(x)['neg'])\n",
    "print(\"omar 1/4\")\n",
    "\n",
    "omar['neu'] = omar['text'].apply(lambda x:analyzer.polarity_scores(x)['neu'])\n",
    "print(\"omar2/4\")\n",
    "\n",
    "omar['pos'] = omar['text'].apply(lambda x:analyzer.polarity_scores(x)['pos'])\n",
    "print(\"omar 3/4\")\n",
    "\n",
    "omar['compound'] =  omar['text'].apply(lambda x:analyzer.polarity_scores(x)['compound'])\n",
    "print(\"omar Sentiment Analysis Completed\")\n",
    "#omar.to_csv(r'D:/Final Project Econ/omar sentiment and tweets.csv',index=True)\n",
    "\n",
    "newpath = r'D:/Final Project Econ/omar'\n",
    "if not os.path.exists(newpath):\n",
    "        os.makedirs(newpath)\n",
    "\n",
    "for i in dates:\n",
    "    omar_day=omar.loc[i]\n",
    "        \n",
    "    omar_day.to_csv(f'D:/Final Project Econ/omar/'+str(i)[:10]+'.csv',index=True)\n",
    "    del omar_day\n",
    "    print(str(i)[:10])\n",
    "    \n",
    "del omar"
   ]
  },
  {
   "cell_type": "code",
   "execution_count": 25,
   "id": "d082be49",
   "metadata": {},
   "outputs": [
    {
     "name": "stderr",
     "output_type": "stream",
     "text": [
      "C:\\Users\\BorisGrinberg\\AppData\\Local\\Temp\\ipykernel_4956\\3225101033.py:5: SettingWithCopyWarning: \n",
      "A value is trying to be set on a copy of a slice from a DataFrame.\n",
      "Try using .loc[row_indexer,col_indexer] = value instead\n",
      "\n",
      "See the caveats in the documentation: https://pandas.pydata.org/pandas-docs/stable/user_guide/indexing.html#returning-a-view-versus-a-copy\n",
      "  newsom['neg'] = newsom['text'].apply(lambda x:analyzer.polarity_scores(x)['neg'])\n"
     ]
    },
    {
     "name": "stdout",
     "output_type": "stream",
     "text": [
      "newsom 1/4\n"
     ]
    },
    {
     "name": "stderr",
     "output_type": "stream",
     "text": [
      "C:\\Users\\BorisGrinberg\\AppData\\Local\\Temp\\ipykernel_4956\\3225101033.py:8: SettingWithCopyWarning: \n",
      "A value is trying to be set on a copy of a slice from a DataFrame.\n",
      "Try using .loc[row_indexer,col_indexer] = value instead\n",
      "\n",
      "See the caveats in the documentation: https://pandas.pydata.org/pandas-docs/stable/user_guide/indexing.html#returning-a-view-versus-a-copy\n",
      "  newsom['neu'] = newsom['text'].apply(lambda x:analyzer.polarity_scores(x)['neu'])\n"
     ]
    },
    {
     "name": "stdout",
     "output_type": "stream",
     "text": [
      "newsom2/4\n"
     ]
    },
    {
     "name": "stderr",
     "output_type": "stream",
     "text": [
      "C:\\Users\\BorisGrinberg\\AppData\\Local\\Temp\\ipykernel_4956\\3225101033.py:11: SettingWithCopyWarning: \n",
      "A value is trying to be set on a copy of a slice from a DataFrame.\n",
      "Try using .loc[row_indexer,col_indexer] = value instead\n",
      "\n",
      "See the caveats in the documentation: https://pandas.pydata.org/pandas-docs/stable/user_guide/indexing.html#returning-a-view-versus-a-copy\n",
      "  newsom['pos'] = newsom['text'].apply(lambda x:analyzer.polarity_scores(x)['pos'])\n"
     ]
    },
    {
     "name": "stdout",
     "output_type": "stream",
     "text": [
      "newsom 3/4\n"
     ]
    },
    {
     "name": "stderr",
     "output_type": "stream",
     "text": [
      "C:\\Users\\BorisGrinberg\\AppData\\Local\\Temp\\ipykernel_4956\\3225101033.py:14: SettingWithCopyWarning: \n",
      "A value is trying to be set on a copy of a slice from a DataFrame.\n",
      "Try using .loc[row_indexer,col_indexer] = value instead\n",
      "\n",
      "See the caveats in the documentation: https://pandas.pydata.org/pandas-docs/stable/user_guide/indexing.html#returning-a-view-versus-a-copy\n",
      "  newsom['compound'] =  newsom['text'].apply(lambda x:analyzer.polarity_scores(x)['compound'])\n"
     ]
    },
    {
     "name": "stdout",
     "output_type": "stream",
     "text": [
      "newsom Sentiment Analysis Completed\n",
      "2020-09-01\n",
      "2020-09-02\n",
      "2020-09-03\n",
      "2020-09-04\n",
      "2020-09-05\n",
      "2020-09-06\n",
      "2020-09-07\n",
      "2020-09-08\n",
      "2020-09-09\n",
      "2020-09-10\n",
      "2020-09-11\n",
      "2020-09-12\n",
      "2020-09-13\n",
      "2020-09-14\n",
      "2020-09-15\n",
      "2020-09-16\n",
      "2020-09-17\n",
      "2020-09-18\n",
      "2020-09-19\n",
      "2020-09-20\n",
      "2020-09-21\n",
      "2020-09-22\n",
      "2020-09-23\n",
      "2020-09-24\n",
      "2020-09-25\n",
      "2020-09-26\n",
      "2020-09-27\n",
      "2020-09-28\n",
      "2020-09-29\n",
      "2020-09-30\n",
      "2020-10-01\n",
      "2020-10-02\n",
      "2020-10-03\n",
      "2020-10-04\n",
      "2020-10-05\n",
      "2020-10-06\n",
      "2020-10-07\n",
      "2020-10-08\n",
      "2020-10-09\n",
      "2020-10-10\n",
      "2020-10-11\n",
      "2020-10-12\n",
      "2020-10-13\n",
      "2020-10-14\n",
      "2020-10-15\n",
      "2020-10-16\n",
      "2020-10-17\n",
      "2020-10-18\n",
      "2020-10-19\n",
      "2020-10-20\n",
      "2020-10-21\n",
      "2020-10-22\n",
      "2020-10-23\n",
      "2020-10-24\n",
      "2020-10-25\n",
      "2020-10-26\n",
      "2020-10-27\n",
      "2020-10-28\n",
      "2020-10-29\n",
      "2020-10-30\n",
      "2020-10-31\n",
      "2020-11-01\n",
      "2020-11-02\n",
      "2020-11-03\n"
     ]
    }
   ],
   "source": [
    "newsom=df.copy()\n",
    "newsom= df['text'].str.contains(\"gavin|newsom\",case=False)\n",
    "newsom=df[newsom]\n",
    "\n",
    "newsom['neg'] = newsom['text'].apply(lambda x:analyzer.polarity_scores(x)['neg'])\n",
    "print(\"newsom 1/4\")\n",
    "\n",
    "newsom['neu'] = newsom['text'].apply(lambda x:analyzer.polarity_scores(x)['neu'])\n",
    "print(\"newsom2/4\")\n",
    "\n",
    "newsom['pos'] = newsom['text'].apply(lambda x:analyzer.polarity_scores(x)['pos'])\n",
    "print(\"newsom 3/4\")\n",
    "\n",
    "newsom['compound'] =  newsom['text'].apply(lambda x:analyzer.polarity_scores(x)['compound'])\n",
    "print(\"newsom Sentiment Analysis Completed\")\n",
    "#newsom.to_csv(r'D:/Final Project Econ/newsom sentiment and tweets.csv',index=True)\n",
    "\n",
    "newpath = r'F:/Final Project Econ/newsom'\n",
    "if not os.path.exists(newpath):\n",
    "        os.makedirs(newpath)\n",
    "\n",
    "for i in dates:\n",
    "    newsom_day=newsom.loc[i]\n",
    "        \n",
    "    newsom_day.to_csv(f'F:/Final Project Econ/newsom/'+str(i)[:10]+'.csv',index=True)\n",
    "    del newsom_day\n",
    "    print(str(i)[:10])\n",
    "    \n",
    "del newsom"
   ]
  },
  {
   "cell_type": "code",
   "execution_count": 26,
   "id": "58d9ea04",
   "metadata": {},
   "outputs": [
    {
     "name": "stderr",
     "output_type": "stream",
     "text": [
      "C:\\Users\\BorisGrinberg\\AppData\\Local\\Temp\\ipykernel_4956\\830862877.py:5: SettingWithCopyWarning: \n",
      "A value is trying to be set on a copy of a slice from a DataFrame.\n",
      "Try using .loc[row_indexer,col_indexer] = value instead\n",
      "\n",
      "See the caveats in the documentation: https://pandas.pydata.org/pandas-docs/stable/user_guide/indexing.html#returning-a-view-versus-a-copy\n",
      "  schumer['neg'] = schumer['text'].apply(lambda x:analyzer.polarity_scores(x)['neg'])\n"
     ]
    },
    {
     "name": "stdout",
     "output_type": "stream",
     "text": [
      "schumer 1/4\n"
     ]
    },
    {
     "name": "stderr",
     "output_type": "stream",
     "text": [
      "C:\\Users\\BorisGrinberg\\AppData\\Local\\Temp\\ipykernel_4956\\830862877.py:8: SettingWithCopyWarning: \n",
      "A value is trying to be set on a copy of a slice from a DataFrame.\n",
      "Try using .loc[row_indexer,col_indexer] = value instead\n",
      "\n",
      "See the caveats in the documentation: https://pandas.pydata.org/pandas-docs/stable/user_guide/indexing.html#returning-a-view-versus-a-copy\n",
      "  schumer['neu'] = schumer['text'].apply(lambda x:analyzer.polarity_scores(x)['neu'])\n"
     ]
    },
    {
     "name": "stdout",
     "output_type": "stream",
     "text": [
      "schumer2/4\n"
     ]
    },
    {
     "name": "stderr",
     "output_type": "stream",
     "text": [
      "C:\\Users\\BorisGrinberg\\AppData\\Local\\Temp\\ipykernel_4956\\830862877.py:11: SettingWithCopyWarning: \n",
      "A value is trying to be set on a copy of a slice from a DataFrame.\n",
      "Try using .loc[row_indexer,col_indexer] = value instead\n",
      "\n",
      "See the caveats in the documentation: https://pandas.pydata.org/pandas-docs/stable/user_guide/indexing.html#returning-a-view-versus-a-copy\n",
      "  schumer['pos'] = schumer['text'].apply(lambda x:analyzer.polarity_scores(x)['pos'])\n"
     ]
    },
    {
     "name": "stdout",
     "output_type": "stream",
     "text": [
      "schumer 3/4\n"
     ]
    },
    {
     "name": "stderr",
     "output_type": "stream",
     "text": [
      "C:\\Users\\BorisGrinberg\\AppData\\Local\\Temp\\ipykernel_4956\\830862877.py:14: SettingWithCopyWarning: \n",
      "A value is trying to be set on a copy of a slice from a DataFrame.\n",
      "Try using .loc[row_indexer,col_indexer] = value instead\n",
      "\n",
      "See the caveats in the documentation: https://pandas.pydata.org/pandas-docs/stable/user_guide/indexing.html#returning-a-view-versus-a-copy\n",
      "  schumer['compound'] =  schumer['text'].apply(lambda x:analyzer.polarity_scores(x)['compound'])\n"
     ]
    },
    {
     "name": "stdout",
     "output_type": "stream",
     "text": [
      "schumer Sentiment Analysis Completed\n",
      "2020-09-01\n",
      "2020-09-02\n",
      "2020-09-03\n",
      "2020-09-04\n",
      "2020-09-05\n",
      "2020-09-06\n",
      "2020-09-07\n",
      "2020-09-08\n",
      "2020-09-09\n",
      "2020-09-10\n",
      "2020-09-11\n",
      "2020-09-12\n",
      "2020-09-13\n",
      "2020-09-14\n",
      "2020-09-15\n",
      "2020-09-16\n",
      "2020-09-17\n",
      "2020-09-18\n",
      "2020-09-19\n",
      "2020-09-20\n",
      "2020-09-21\n",
      "2020-09-22\n",
      "2020-09-23\n",
      "2020-09-24\n",
      "2020-09-25\n",
      "2020-09-26\n",
      "2020-09-27\n",
      "2020-09-28\n",
      "2020-09-29\n",
      "2020-09-30\n",
      "2020-10-01\n",
      "2020-10-02\n",
      "2020-10-03\n",
      "2020-10-04\n",
      "2020-10-05\n",
      "2020-10-06\n",
      "2020-10-07\n",
      "2020-10-08\n",
      "2020-10-09\n",
      "2020-10-10\n",
      "2020-10-11\n",
      "2020-10-12\n",
      "2020-10-13\n",
      "2020-10-14\n",
      "2020-10-15\n",
      "2020-10-16\n",
      "2020-10-17\n",
      "2020-10-18\n",
      "2020-10-19\n",
      "2020-10-20\n",
      "2020-10-21\n",
      "2020-10-22\n",
      "2020-10-23\n",
      "2020-10-24\n",
      "2020-10-25\n",
      "2020-10-26\n",
      "2020-10-27\n",
      "2020-10-28\n",
      "2020-10-29\n",
      "2020-10-30\n",
      "2020-10-31\n",
      "2020-11-01\n",
      "2020-11-02\n",
      "2020-11-03\n"
     ]
    }
   ],
   "source": [
    "schumer=df.copy()\n",
    "schumer= df['text'].str.contains(\"chuck|schumer\",case=False)\n",
    "schumer=df[schumer]\n",
    "\n",
    "schumer['neg'] = schumer['text'].apply(lambda x:analyzer.polarity_scores(x)['neg'])\n",
    "print(\"schumer 1/4\")\n",
    "\n",
    "schumer['neu'] = schumer['text'].apply(lambda x:analyzer.polarity_scores(x)['neu'])\n",
    "print(\"schumer2/4\")\n",
    "\n",
    "schumer['pos'] = schumer['text'].apply(lambda x:analyzer.polarity_scores(x)['pos'])\n",
    "print(\"schumer 3/4\")\n",
    "\n",
    "schumer['compound'] =  schumer['text'].apply(lambda x:analyzer.polarity_scores(x)['compound'])\n",
    "print(\"schumer Sentiment Analysis Completed\")\n",
    "#schumer.to_csv(r'D:/Final Project Econ/schumer sentiment and tweets.csv',index=True)\n",
    "\n",
    "newpath = r'F:/Final Project Econ/schumer'\n",
    "if not os.path.exists(newpath):\n",
    "        os.makedirs(newpath)\n",
    "\n",
    "for i in dates:\n",
    "    schumer_day=schumer.loc[i]\n",
    "        \n",
    "    schumer_day.to_csv(f'F:/Final Project Econ/schumer/'+str(i)[:10]+'.csv',index=True)\n",
    "    del schumer_day\n",
    "    print(str(i)[:10])\n",
    "    \n",
    "del schumer"
   ]
  },
  {
   "cell_type": "code",
   "execution_count": 27,
   "id": "63de8760",
   "metadata": {},
   "outputs": [
    {
     "name": "stderr",
     "output_type": "stream",
     "text": [
      "C:\\Users\\BorisGrinberg\\AppData\\Local\\Temp\\ipykernel_4956\\1700062581.py:5: SettingWithCopyWarning: \n",
      "A value is trying to be set on a copy of a slice from a DataFrame.\n",
      "Try using .loc[row_indexer,col_indexer] = value instead\n",
      "\n",
      "See the caveats in the documentation: https://pandas.pydata.org/pandas-docs/stable/user_guide/indexing.html#returning-a-view-versus-a-copy\n",
      "  warren['neg'] = warren['text'].apply(lambda x:analyzer.polarity_scores(x)['neg'])\n"
     ]
    },
    {
     "name": "stdout",
     "output_type": "stream",
     "text": [
      "warren 1/4\n"
     ]
    },
    {
     "name": "stderr",
     "output_type": "stream",
     "text": [
      "C:\\Users\\BorisGrinberg\\AppData\\Local\\Temp\\ipykernel_4956\\1700062581.py:8: SettingWithCopyWarning: \n",
      "A value is trying to be set on a copy of a slice from a DataFrame.\n",
      "Try using .loc[row_indexer,col_indexer] = value instead\n",
      "\n",
      "See the caveats in the documentation: https://pandas.pydata.org/pandas-docs/stable/user_guide/indexing.html#returning-a-view-versus-a-copy\n",
      "  warren['neu'] = warren['text'].apply(lambda x:analyzer.polarity_scores(x)['neu'])\n"
     ]
    },
    {
     "name": "stdout",
     "output_type": "stream",
     "text": [
      "warren2/4\n"
     ]
    },
    {
     "name": "stderr",
     "output_type": "stream",
     "text": [
      "C:\\Users\\BorisGrinberg\\AppData\\Local\\Temp\\ipykernel_4956\\1700062581.py:11: SettingWithCopyWarning: \n",
      "A value is trying to be set on a copy of a slice from a DataFrame.\n",
      "Try using .loc[row_indexer,col_indexer] = value instead\n",
      "\n",
      "See the caveats in the documentation: https://pandas.pydata.org/pandas-docs/stable/user_guide/indexing.html#returning-a-view-versus-a-copy\n",
      "  warren['pos'] = warren['text'].apply(lambda x:analyzer.polarity_scores(x)['pos'])\n"
     ]
    },
    {
     "name": "stdout",
     "output_type": "stream",
     "text": [
      "warren 3/4\n"
     ]
    },
    {
     "name": "stderr",
     "output_type": "stream",
     "text": [
      "C:\\Users\\BorisGrinberg\\AppData\\Local\\Temp\\ipykernel_4956\\1700062581.py:14: SettingWithCopyWarning: \n",
      "A value is trying to be set on a copy of a slice from a DataFrame.\n",
      "Try using .loc[row_indexer,col_indexer] = value instead\n",
      "\n",
      "See the caveats in the documentation: https://pandas.pydata.org/pandas-docs/stable/user_guide/indexing.html#returning-a-view-versus-a-copy\n",
      "  warren['compound'] =  warren['text'].apply(lambda x:analyzer.polarity_scores(x)['compound'])\n"
     ]
    },
    {
     "name": "stdout",
     "output_type": "stream",
     "text": [
      "warren Sentiment Analysis Completed\n",
      "2020-09-01\n",
      "2020-09-02\n",
      "2020-09-03\n",
      "2020-09-04\n",
      "2020-09-05\n",
      "2020-09-06\n",
      "2020-09-07\n",
      "2020-09-08\n",
      "2020-09-09\n",
      "2020-09-10\n",
      "2020-09-11\n",
      "2020-09-12\n",
      "2020-09-13\n",
      "2020-09-14\n",
      "2020-09-15\n",
      "2020-09-16\n",
      "2020-09-17\n",
      "2020-09-18\n",
      "2020-09-19\n",
      "2020-09-20\n",
      "2020-09-21\n",
      "2020-09-22\n",
      "2020-09-23\n",
      "2020-09-24\n",
      "2020-09-25\n",
      "2020-09-26\n",
      "2020-09-27\n",
      "2020-09-28\n",
      "2020-09-29\n",
      "2020-09-30\n",
      "2020-10-01\n",
      "2020-10-02\n",
      "2020-10-03\n",
      "2020-10-04\n",
      "2020-10-05\n",
      "2020-10-06\n",
      "2020-10-07\n",
      "2020-10-08\n",
      "2020-10-09\n",
      "2020-10-10\n",
      "2020-10-11\n",
      "2020-10-12\n",
      "2020-10-13\n",
      "2020-10-14\n",
      "2020-10-15\n",
      "2020-10-16\n",
      "2020-10-17\n",
      "2020-10-18\n",
      "2020-10-19\n",
      "2020-10-20\n",
      "2020-10-21\n",
      "2020-10-22\n",
      "2020-10-23\n",
      "2020-10-24\n",
      "2020-10-25\n",
      "2020-10-26\n",
      "2020-10-27\n",
      "2020-10-28\n",
      "2020-10-29\n",
      "2020-10-30\n",
      "2020-10-31\n",
      "2020-11-01\n",
      "2020-11-02\n",
      "2020-11-03\n"
     ]
    }
   ],
   "source": [
    "warren=df.copy()\n",
    "warren= df['text'].str.contains(\"Elizabeth|warren\",case=False)\n",
    "warren=df[warren]\n",
    "\n",
    "warren['neg'] = warren['text'].apply(lambda x:analyzer.polarity_scores(x)['neg'])\n",
    "print(\"warren 1/4\")\n",
    "\n",
    "warren['neu'] = warren['text'].apply(lambda x:analyzer.polarity_scores(x)['neu'])\n",
    "print(\"warren2/4\")\n",
    "\n",
    "warren['pos'] = warren['text'].apply(lambda x:analyzer.polarity_scores(x)['pos'])\n",
    "print(\"warren 3/4\")\n",
    "\n",
    "warren['compound'] =  warren['text'].apply(lambda x:analyzer.polarity_scores(x)['compound'])\n",
    "print(\"warren Sentiment Analysis Completed\")\n",
    "#warren.to_csv(r'D:/Final Project Econ/warren sentiment and tweets.csv',index=True)\n",
    "\n",
    "newpath = r'F:/Final Project Econ/warren'\n",
    "if not os.path.exists(newpath):\n",
    "        os.makedirs(newpath)\n",
    "\n",
    "for i in dates:\n",
    "    warren_day=warren.loc[i]\n",
    "        \n",
    "    warren_day.to_csv(f'F:/Final Project Econ/warren/'+str(i)[:10]+'.csv',index=True)\n",
    "    del warren_day\n",
    "    print(str(i)[:10])\n",
    "    \n",
    "    \n",
    "del warren"
   ]
  },
  {
   "cell_type": "code",
   "execution_count": 28,
   "id": "c1d813c1",
   "metadata": {},
   "outputs": [
    {
     "name": "stderr",
     "output_type": "stream",
     "text": [
      "C:\\Users\\BorisGrinberg\\AppData\\Local\\Temp\\ipykernel_4956\\267624700.py:5: SettingWithCopyWarning: \n",
      "A value is trying to be set on a copy of a slice from a DataFrame.\n",
      "Try using .loc[row_indexer,col_indexer] = value instead\n",
      "\n",
      "See the caveats in the documentation: https://pandas.pydata.org/pandas-docs/stable/user_guide/indexing.html#returning-a-view-versus-a-copy\n",
      "  booker['neg'] = booker['text'].apply(lambda x:analyzer.polarity_scores(x)['neg'])\n"
     ]
    },
    {
     "name": "stdout",
     "output_type": "stream",
     "text": [
      "booker 1/4\n"
     ]
    },
    {
     "name": "stderr",
     "output_type": "stream",
     "text": [
      "C:\\Users\\BorisGrinberg\\AppData\\Local\\Temp\\ipykernel_4956\\267624700.py:8: SettingWithCopyWarning: \n",
      "A value is trying to be set on a copy of a slice from a DataFrame.\n",
      "Try using .loc[row_indexer,col_indexer] = value instead\n",
      "\n",
      "See the caveats in the documentation: https://pandas.pydata.org/pandas-docs/stable/user_guide/indexing.html#returning-a-view-versus-a-copy\n",
      "  booker['neu'] = booker['text'].apply(lambda x:analyzer.polarity_scores(x)['neu'])\n"
     ]
    },
    {
     "name": "stdout",
     "output_type": "stream",
     "text": [
      "booker2/4\n"
     ]
    },
    {
     "name": "stderr",
     "output_type": "stream",
     "text": [
      "C:\\Users\\BorisGrinberg\\AppData\\Local\\Temp\\ipykernel_4956\\267624700.py:11: SettingWithCopyWarning: \n",
      "A value is trying to be set on a copy of a slice from a DataFrame.\n",
      "Try using .loc[row_indexer,col_indexer] = value instead\n",
      "\n",
      "See the caveats in the documentation: https://pandas.pydata.org/pandas-docs/stable/user_guide/indexing.html#returning-a-view-versus-a-copy\n",
      "  booker['pos'] = booker['text'].apply(lambda x:analyzer.polarity_scores(x)['pos'])\n"
     ]
    },
    {
     "name": "stdout",
     "output_type": "stream",
     "text": [
      "booker 3/4\n"
     ]
    },
    {
     "name": "stderr",
     "output_type": "stream",
     "text": [
      "C:\\Users\\BorisGrinberg\\AppData\\Local\\Temp\\ipykernel_4956\\267624700.py:14: SettingWithCopyWarning: \n",
      "A value is trying to be set on a copy of a slice from a DataFrame.\n",
      "Try using .loc[row_indexer,col_indexer] = value instead\n",
      "\n",
      "See the caveats in the documentation: https://pandas.pydata.org/pandas-docs/stable/user_guide/indexing.html#returning-a-view-versus-a-copy\n",
      "  booker['compound'] =  booker['text'].apply(lambda x:analyzer.polarity_scores(x)['compound'])\n"
     ]
    },
    {
     "name": "stdout",
     "output_type": "stream",
     "text": [
      "booker Sentiment Analysis Completed\n",
      "2020-09-01\n",
      "2020-09-02\n",
      "2020-09-03\n",
      "2020-09-04\n",
      "2020-09-05\n",
      "2020-09-06\n",
      "2020-09-07\n",
      "2020-09-08\n",
      "2020-09-09\n",
      "2020-09-10\n",
      "2020-09-11\n",
      "2020-09-12\n",
      "2020-09-13\n",
      "2020-09-14\n",
      "2020-09-15\n",
      "2020-09-16\n",
      "2020-09-17\n",
      "2020-09-18\n",
      "2020-09-19\n",
      "2020-09-20\n",
      "2020-09-21\n",
      "2020-09-22\n",
      "2020-09-23\n",
      "2020-09-24\n",
      "2020-09-25\n",
      "2020-09-26\n",
      "2020-09-27\n",
      "2020-09-28\n",
      "2020-09-29\n",
      "2020-09-30\n",
      "2020-10-01\n",
      "2020-10-02\n",
      "2020-10-03\n",
      "2020-10-04\n",
      "2020-10-05\n",
      "2020-10-06\n",
      "2020-10-07\n",
      "2020-10-08\n",
      "2020-10-09\n",
      "2020-10-10\n",
      "2020-10-11\n",
      "2020-10-12\n",
      "2020-10-13\n",
      "2020-10-14\n",
      "2020-10-15\n",
      "2020-10-16\n",
      "2020-10-17\n",
      "2020-10-18\n",
      "2020-10-19\n",
      "2020-10-20\n",
      "2020-10-21\n",
      "2020-10-22\n",
      "2020-10-23\n",
      "2020-10-24\n",
      "2020-10-25\n",
      "2020-10-26\n",
      "2020-10-27\n",
      "2020-10-28\n",
      "2020-10-29\n",
      "2020-10-30\n",
      "2020-10-31\n",
      "2020-11-01\n",
      "2020-11-02\n",
      "2020-11-03\n"
     ]
    }
   ],
   "source": [
    "booker=df.copy()\n",
    "booker= df['text'].str.contains(\"cory|booker\",case=False)\n",
    "booker=df[booker]\n",
    "\n",
    "booker['neg'] = booker['text'].apply(lambda x:analyzer.polarity_scores(x)['neg'])\n",
    "print(\"booker 1/4\")\n",
    "\n",
    "booker['neu'] = booker['text'].apply(lambda x:analyzer.polarity_scores(x)['neu'])\n",
    "print(\"booker2/4\")\n",
    "\n",
    "booker['pos'] = booker['text'].apply(lambda x:analyzer.polarity_scores(x)['pos'])\n",
    "print(\"booker 3/4\")\n",
    "\n",
    "booker['compound'] =  booker['text'].apply(lambda x:analyzer.polarity_scores(x)['compound'])\n",
    "print(\"booker Sentiment Analysis Completed\")\n",
    "#booker.to_csv(r'D:/Final Project Econ/booker sentiment and tweets.csv',index=True)\n",
    "\n",
    "newpath = r'F:/Final Project Econ/booker'\n",
    "if not os.path.exists(newpath):\n",
    "        os.makedirs(newpath)\n",
    "\n",
    "for i in dates:\n",
    "    booker_day=booker.loc[i]\n",
    "        \n",
    "    booker_day.to_csv(f'F:/Final Project Econ/booker/'+str(i)[:10]+'.csv',index=True)\n",
    "    del booker_day\n",
    "    print(str(i)[:10])\n",
    "\n",
    "del booker"
   ]
  },
  {
   "cell_type": "code",
   "execution_count": 29,
   "id": "3b151bdf",
   "metadata": {},
   "outputs": [
    {
     "name": "stderr",
     "output_type": "stream",
     "text": [
      "C:\\Users\\BorisGrinberg\\AppData\\Local\\Temp\\ipykernel_4956\\1843579765.py:5: SettingWithCopyWarning: \n",
      "A value is trying to be set on a copy of a slice from a DataFrame.\n",
      "Try using .loc[row_indexer,col_indexer] = value instead\n",
      "\n",
      "See the caveats in the documentation: https://pandas.pydata.org/pandas-docs/stable/user_guide/indexing.html#returning-a-view-versus-a-copy\n",
      "  klobuchar['neg'] = klobuchar['text'].apply(lambda x:analyzer.polarity_scores(x)['neg'])\n"
     ]
    },
    {
     "name": "stdout",
     "output_type": "stream",
     "text": [
      "klobuchar 1/4\n"
     ]
    },
    {
     "name": "stderr",
     "output_type": "stream",
     "text": [
      "C:\\Users\\BorisGrinberg\\AppData\\Local\\Temp\\ipykernel_4956\\1843579765.py:8: SettingWithCopyWarning: \n",
      "A value is trying to be set on a copy of a slice from a DataFrame.\n",
      "Try using .loc[row_indexer,col_indexer] = value instead\n",
      "\n",
      "See the caveats in the documentation: https://pandas.pydata.org/pandas-docs/stable/user_guide/indexing.html#returning-a-view-versus-a-copy\n",
      "  klobuchar['neu'] = klobuchar['text'].apply(lambda x:analyzer.polarity_scores(x)['neu'])\n"
     ]
    },
    {
     "name": "stdout",
     "output_type": "stream",
     "text": [
      "klobuchar2/4\n"
     ]
    },
    {
     "name": "stderr",
     "output_type": "stream",
     "text": [
      "C:\\Users\\BorisGrinberg\\AppData\\Local\\Temp\\ipykernel_4956\\1843579765.py:11: SettingWithCopyWarning: \n",
      "A value is trying to be set on a copy of a slice from a DataFrame.\n",
      "Try using .loc[row_indexer,col_indexer] = value instead\n",
      "\n",
      "See the caveats in the documentation: https://pandas.pydata.org/pandas-docs/stable/user_guide/indexing.html#returning-a-view-versus-a-copy\n",
      "  klobuchar['pos'] = klobuchar['text'].apply(lambda x:analyzer.polarity_scores(x)['pos'])\n"
     ]
    },
    {
     "name": "stdout",
     "output_type": "stream",
     "text": [
      "klobuchar 3/4\n"
     ]
    },
    {
     "name": "stderr",
     "output_type": "stream",
     "text": [
      "C:\\Users\\BorisGrinberg\\AppData\\Local\\Temp\\ipykernel_4956\\1843579765.py:14: SettingWithCopyWarning: \n",
      "A value is trying to be set on a copy of a slice from a DataFrame.\n",
      "Try using .loc[row_indexer,col_indexer] = value instead\n",
      "\n",
      "See the caveats in the documentation: https://pandas.pydata.org/pandas-docs/stable/user_guide/indexing.html#returning-a-view-versus-a-copy\n",
      "  klobuchar['compound'] =  klobuchar['text'].apply(lambda x:analyzer.polarity_scores(x)['compound'])\n"
     ]
    },
    {
     "name": "stdout",
     "output_type": "stream",
     "text": [
      "klobuchar Sentiment Analysis Completed\n",
      "2020-09-01\n",
      "2020-09-02\n",
      "2020-09-03\n",
      "2020-09-04\n",
      "2020-09-05\n",
      "2020-09-06\n",
      "2020-09-07\n",
      "2020-09-08\n",
      "2020-09-09\n",
      "2020-09-10\n",
      "2020-09-11\n",
      "2020-09-12\n",
      "2020-09-13\n",
      "2020-09-14\n",
      "2020-09-15\n",
      "2020-09-16\n",
      "2020-09-17\n",
      "2020-09-18\n",
      "2020-09-19\n",
      "2020-09-20\n",
      "2020-09-21\n",
      "2020-09-22\n",
      "2020-09-23\n",
      "2020-09-24\n",
      "2020-09-25\n",
      "2020-09-26\n",
      "2020-09-27\n",
      "2020-09-28\n",
      "2020-09-29\n",
      "2020-09-30\n",
      "2020-10-01\n",
      "2020-10-02\n",
      "2020-10-03\n",
      "2020-10-04\n",
      "2020-10-05\n",
      "2020-10-06\n",
      "2020-10-07\n",
      "2020-10-08\n",
      "2020-10-09\n",
      "2020-10-10\n",
      "2020-10-11\n",
      "2020-10-12\n",
      "2020-10-13\n",
      "2020-10-14\n",
      "2020-10-15\n",
      "2020-10-16\n",
      "2020-10-17\n",
      "2020-10-18\n",
      "2020-10-19\n",
      "2020-10-20\n",
      "2020-10-21\n",
      "2020-10-22\n",
      "2020-10-23\n",
      "2020-10-24\n",
      "2020-10-25\n",
      "2020-10-26\n",
      "2020-10-27\n",
      "2020-10-28\n",
      "2020-10-29\n",
      "2020-10-30\n",
      "2020-10-31\n",
      "2020-11-01\n",
      "2020-11-02\n",
      "2020-11-03\n"
     ]
    }
   ],
   "source": [
    "klobuchar=df.copy()\n",
    "klobuchar= df['text'].str.contains(\"Amy|klobuchar\",case=False)\n",
    "klobuchar=df[klobuchar]\n",
    "\n",
    "klobuchar['neg'] = klobuchar['text'].apply(lambda x:analyzer.polarity_scores(x)['neg'])\n",
    "print(\"klobuchar 1/4\")\n",
    "\n",
    "klobuchar['neu'] = klobuchar['text'].apply(lambda x:analyzer.polarity_scores(x)['neu'])\n",
    "print(\"klobuchar2/4\")\n",
    "\n",
    "klobuchar['pos'] = klobuchar['text'].apply(lambda x:analyzer.polarity_scores(x)['pos'])\n",
    "print(\"klobuchar 3/4\")\n",
    "\n",
    "klobuchar['compound'] =  klobuchar['text'].apply(lambda x:analyzer.polarity_scores(x)['compound'])\n",
    "print(\"klobuchar Sentiment Analysis Completed\")\n",
    "#klobuchar.to_csv(r'D:/Final Project Econ/klobuchar sentiment and tweets.csv',index=True)\n",
    "\n",
    "newpath = r'F:/Final Project Econ/klobuchar'\n",
    "if not os.path.exists(newpath):\n",
    "        os.makedirs(newpath)\n",
    "\n",
    "for i in dates:\n",
    "    klobuchar_day=klobuchar.loc[i]\n",
    "        \n",
    "    klobuchar_day.to_csv(f'F:/Final Project Econ/klobuchar/'+str(i)[:10]+'.csv',index=True)\n",
    "    del klobuchar_day\n",
    "    print(str(i)[:10])\n",
    "    \n",
    "del klobuchar"
   ]
  },
  {
   "cell_type": "code",
   "execution_count": 30,
   "id": "f2a44b15",
   "metadata": {},
   "outputs": [
    {
     "name": "stderr",
     "output_type": "stream",
     "text": [
      "C:\\Users\\BorisGrinberg\\AppData\\Local\\Temp\\ipykernel_4956\\3445482600.py:5: SettingWithCopyWarning: \n",
      "A value is trying to be set on a copy of a slice from a DataFrame.\n",
      "Try using .loc[row_indexer,col_indexer] = value instead\n",
      "\n",
      "See the caveats in the documentation: https://pandas.pydata.org/pandas-docs/stable/user_guide/indexing.html#returning-a-view-versus-a-copy\n",
      "  beto['neg'] = beto['text'].apply(lambda x:analyzer.polarity_scores(x)['neg'])\n"
     ]
    },
    {
     "name": "stdout",
     "output_type": "stream",
     "text": [
      "beto 1/4\n"
     ]
    },
    {
     "name": "stderr",
     "output_type": "stream",
     "text": [
      "C:\\Users\\BorisGrinberg\\AppData\\Local\\Temp\\ipykernel_4956\\3445482600.py:8: SettingWithCopyWarning: \n",
      "A value is trying to be set on a copy of a slice from a DataFrame.\n",
      "Try using .loc[row_indexer,col_indexer] = value instead\n",
      "\n",
      "See the caveats in the documentation: https://pandas.pydata.org/pandas-docs/stable/user_guide/indexing.html#returning-a-view-versus-a-copy\n",
      "  beto['neu'] = beto['text'].apply(lambda x:analyzer.polarity_scores(x)['neu'])\n"
     ]
    },
    {
     "name": "stdout",
     "output_type": "stream",
     "text": [
      "beto2/4\n"
     ]
    },
    {
     "name": "stderr",
     "output_type": "stream",
     "text": [
      "C:\\Users\\BorisGrinberg\\AppData\\Local\\Temp\\ipykernel_4956\\3445482600.py:11: SettingWithCopyWarning: \n",
      "A value is trying to be set on a copy of a slice from a DataFrame.\n",
      "Try using .loc[row_indexer,col_indexer] = value instead\n",
      "\n",
      "See the caveats in the documentation: https://pandas.pydata.org/pandas-docs/stable/user_guide/indexing.html#returning-a-view-versus-a-copy\n",
      "  beto['pos'] = beto['text'].apply(lambda x:analyzer.polarity_scores(x)['pos'])\n"
     ]
    },
    {
     "name": "stdout",
     "output_type": "stream",
     "text": [
      "beto 3/4\n"
     ]
    },
    {
     "name": "stderr",
     "output_type": "stream",
     "text": [
      "C:\\Users\\BorisGrinberg\\AppData\\Local\\Temp\\ipykernel_4956\\3445482600.py:14: SettingWithCopyWarning: \n",
      "A value is trying to be set on a copy of a slice from a DataFrame.\n",
      "Try using .loc[row_indexer,col_indexer] = value instead\n",
      "\n",
      "See the caveats in the documentation: https://pandas.pydata.org/pandas-docs/stable/user_guide/indexing.html#returning-a-view-versus-a-copy\n",
      "  beto['compound'] =  beto['text'].apply(lambda x:analyzer.polarity_scores(x)['compound'])\n"
     ]
    },
    {
     "name": "stdout",
     "output_type": "stream",
     "text": [
      "beto Sentiment Analysis Completed\n",
      "2020-09-01\n",
      "2020-09-02\n",
      "2020-09-03\n",
      "2020-09-04\n",
      "2020-09-05\n",
      "2020-09-06\n",
      "2020-09-07\n",
      "2020-09-08\n",
      "2020-09-09\n",
      "2020-09-10\n",
      "2020-09-11\n",
      "2020-09-12\n",
      "2020-09-13\n",
      "2020-09-14\n",
      "2020-09-15\n",
      "2020-09-16\n",
      "2020-09-17\n",
      "2020-09-18\n",
      "2020-09-19\n",
      "2020-09-20\n",
      "2020-09-21\n",
      "2020-09-22\n",
      "2020-09-23\n",
      "2020-09-24\n",
      "2020-09-25\n",
      "2020-09-26\n",
      "2020-09-27\n",
      "2020-09-28\n",
      "2020-09-29\n",
      "2020-09-30\n",
      "2020-10-01\n",
      "2020-10-02\n",
      "2020-10-03\n",
      "2020-10-04\n",
      "2020-10-05\n",
      "2020-10-06\n",
      "2020-10-07\n",
      "2020-10-08\n",
      "2020-10-09\n",
      "2020-10-10\n",
      "2020-10-11\n",
      "2020-10-12\n",
      "2020-10-13\n",
      "2020-10-14\n",
      "2020-10-15\n",
      "2020-10-16\n",
      "2020-10-17\n",
      "2020-10-18\n",
      "2020-10-19\n",
      "2020-10-20\n",
      "2020-10-21\n",
      "2020-10-22\n",
      "2020-10-23\n",
      "2020-10-24\n",
      "2020-10-25\n",
      "2020-10-26\n",
      "2020-10-27\n",
      "2020-10-28\n",
      "2020-10-29\n",
      "2020-10-30\n",
      "2020-10-31\n",
      "2020-11-01\n",
      "2020-11-02\n",
      "2020-11-03\n"
     ]
    }
   ],
   "source": [
    "beto=df.copy()\n",
    "beto= df['text'].str.contains(\"o'rourke|beto\",case=False)\n",
    "beto=df[beto]\n",
    "\n",
    "beto['neg'] = beto['text'].apply(lambda x:analyzer.polarity_scores(x)['neg'])\n",
    "print(\"beto 1/4\")\n",
    "\n",
    "beto['neu'] = beto['text'].apply(lambda x:analyzer.polarity_scores(x)['neu'])\n",
    "print(\"beto2/4\")\n",
    "\n",
    "beto['pos'] = beto['text'].apply(lambda x:analyzer.polarity_scores(x)['pos'])\n",
    "print(\"beto 3/4\")\n",
    "\n",
    "beto['compound'] =  beto['text'].apply(lambda x:analyzer.polarity_scores(x)['compound'])\n",
    "print(\"beto Sentiment Analysis Completed\")\n",
    "#beto.to_csv(r'D:/Final Project Econ/beto sentiment and tweets.csv',index=True)\n",
    "\n",
    "\n",
    "newpath = r'F:/Final Project Econ/beto'\n",
    "if not os.path.exists(newpath):\n",
    "        os.makedirs(newpath)\n",
    "\n",
    "for i in dates:\n",
    "    beto_day=beto.loc[i]\n",
    "        \n",
    "    beto_day.to_csv(f'F:/Final Project Econ/beto/'+str(i)[:10]+'.csv',index=True)\n",
    "    del beto_day\n",
    "    print(str(i)[:10])\n",
    "\n",
    "\n",
    "del beto"
   ]
  },
  {
   "cell_type": "code",
   "execution_count": 31,
   "id": "04d11534",
   "metadata": {},
   "outputs": [
    {
     "name": "stderr",
     "output_type": "stream",
     "text": [
      "C:\\Users\\BorisGrinberg\\AppData\\Local\\Temp\\ipykernel_4956\\2733501123.py:5: SettingWithCopyWarning: \n",
      "A value is trying to be set on a copy of a slice from a DataFrame.\n",
      "Try using .loc[row_indexer,col_indexer] = value instead\n",
      "\n",
      "See the caveats in the documentation: https://pandas.pydata.org/pandas-docs/stable/user_guide/indexing.html#returning-a-view-versus-a-copy\n",
      "  romney['neg'] = romney['text'].apply(lambda x:analyzer.polarity_scores(x)['neg'])\n"
     ]
    },
    {
     "name": "stdout",
     "output_type": "stream",
     "text": [
      "romney 1/4\n"
     ]
    },
    {
     "name": "stderr",
     "output_type": "stream",
     "text": [
      "C:\\Users\\BorisGrinberg\\AppData\\Local\\Temp\\ipykernel_4956\\2733501123.py:8: SettingWithCopyWarning: \n",
      "A value is trying to be set on a copy of a slice from a DataFrame.\n",
      "Try using .loc[row_indexer,col_indexer] = value instead\n",
      "\n",
      "See the caveats in the documentation: https://pandas.pydata.org/pandas-docs/stable/user_guide/indexing.html#returning-a-view-versus-a-copy\n",
      "  romney['neu'] = romney['text'].apply(lambda x:analyzer.polarity_scores(x)['neu'])\n"
     ]
    },
    {
     "name": "stdout",
     "output_type": "stream",
     "text": [
      "romney2/4\n"
     ]
    },
    {
     "name": "stderr",
     "output_type": "stream",
     "text": [
      "C:\\Users\\BorisGrinberg\\AppData\\Local\\Temp\\ipykernel_4956\\2733501123.py:11: SettingWithCopyWarning: \n",
      "A value is trying to be set on a copy of a slice from a DataFrame.\n",
      "Try using .loc[row_indexer,col_indexer] = value instead\n",
      "\n",
      "See the caveats in the documentation: https://pandas.pydata.org/pandas-docs/stable/user_guide/indexing.html#returning-a-view-versus-a-copy\n",
      "  romney['pos'] = romney['text'].apply(lambda x:analyzer.polarity_scores(x)['pos'])\n"
     ]
    },
    {
     "name": "stdout",
     "output_type": "stream",
     "text": [
      "romney 3/4\n"
     ]
    },
    {
     "name": "stderr",
     "output_type": "stream",
     "text": [
      "C:\\Users\\BorisGrinberg\\AppData\\Local\\Temp\\ipykernel_4956\\2733501123.py:14: SettingWithCopyWarning: \n",
      "A value is trying to be set on a copy of a slice from a DataFrame.\n",
      "Try using .loc[row_indexer,col_indexer] = value instead\n",
      "\n",
      "See the caveats in the documentation: https://pandas.pydata.org/pandas-docs/stable/user_guide/indexing.html#returning-a-view-versus-a-copy\n",
      "  romney['compound'] =  romney['text'].apply(lambda x:analyzer.polarity_scores(x)['compound'])\n"
     ]
    },
    {
     "name": "stdout",
     "output_type": "stream",
     "text": [
      "romney Sentiment Analysis Completed\n",
      "2020-09-01\n",
      "2020-09-02\n",
      "2020-09-03\n",
      "2020-09-04\n",
      "2020-09-05\n",
      "2020-09-06\n",
      "2020-09-07\n",
      "2020-09-08\n",
      "2020-09-09\n",
      "2020-09-10\n",
      "2020-09-11\n",
      "2020-09-12\n",
      "2020-09-13\n",
      "2020-09-14\n",
      "2020-09-15\n",
      "2020-09-16\n",
      "2020-09-17\n",
      "2020-09-18\n",
      "2020-09-19\n",
      "2020-09-20\n",
      "2020-09-21\n",
      "2020-09-22\n",
      "2020-09-23\n",
      "2020-09-24\n",
      "2020-09-25\n",
      "2020-09-26\n",
      "2020-09-27\n",
      "2020-09-28\n",
      "2020-09-29\n",
      "2020-09-30\n",
      "2020-10-01\n",
      "2020-10-02\n",
      "2020-10-03\n",
      "2020-10-04\n",
      "2020-10-05\n",
      "2020-10-06\n",
      "2020-10-07\n",
      "2020-10-08\n",
      "2020-10-09\n",
      "2020-10-10\n",
      "2020-10-11\n",
      "2020-10-12\n",
      "2020-10-13\n",
      "2020-10-14\n",
      "2020-10-15\n",
      "2020-10-16\n",
      "2020-10-17\n",
      "2020-10-18\n",
      "2020-10-19\n",
      "2020-10-20\n",
      "2020-10-21\n",
      "2020-10-22\n",
      "2020-10-23\n",
      "2020-10-24\n",
      "2020-10-25\n",
      "2020-10-26\n",
      "2020-10-27\n",
      "2020-10-28\n",
      "2020-10-29\n",
      "2020-10-30\n",
      "2020-10-31\n",
      "2020-11-01\n",
      "2020-11-02\n",
      "2020-11-03\n"
     ]
    }
   ],
   "source": [
    "romney=df.copy()\n",
    "romney= df['text'].str.contains(\"mitt|romney\",case=False)\n",
    "romney=df[romney]\n",
    "\n",
    "romney['neg'] = romney['text'].apply(lambda x:analyzer.polarity_scores(x)['neg'])\n",
    "print(\"romney 1/4\")\n",
    "\n",
    "romney['neu'] = romney['text'].apply(lambda x:analyzer.polarity_scores(x)['neu'])\n",
    "print(\"romney2/4\")\n",
    "\n",
    "romney['pos'] = romney['text'].apply(lambda x:analyzer.polarity_scores(x)['pos'])\n",
    "print(\"romney 3/4\")\n",
    "\n",
    "romney['compound'] =  romney['text'].apply(lambda x:analyzer.polarity_scores(x)['compound'])\n",
    "print(\"romney Sentiment Analysis Completed\")\n",
    "#romney.to_csv(r'D:/Final Project Econ/romney sentiment and tweets.csv',index=True)\n",
    "\n",
    "newpath = r'F:/Final Project Econ/romney'\n",
    "if not os.path.exists(newpath):\n",
    "        os.makedirs(newpath)\n",
    "\n",
    "for i in dates:\n",
    "    romney_day=romney.loc[i]\n",
    "        \n",
    "    romney_day.to_csv(f'F:/Final Project Econ/romney/'+str(i)[:10]+'.csv',index=True)\n",
    "    del romney_day\n",
    "    print(str(i)[:10])\n",
    "    \n",
    "del romney"
   ]
  },
  {
   "cell_type": "code",
   "execution_count": 32,
   "id": "9b58e7a5",
   "metadata": {},
   "outputs": [
    {
     "name": "stderr",
     "output_type": "stream",
     "text": [
      "C:\\Users\\BorisGrinberg\\AppData\\Local\\Temp\\ipykernel_4956\\1631412199.py:5: SettingWithCopyWarning: \n",
      "A value is trying to be set on a copy of a slice from a DataFrame.\n",
      "Try using .loc[row_indexer,col_indexer] = value instead\n",
      "\n",
      "See the caveats in the documentation: https://pandas.pydata.org/pandas-docs/stable/user_guide/indexing.html#returning-a-view-versus-a-copy\n",
      "  mcconnell['neg'] = mcconnell['text'].apply(lambda x:analyzer.polarity_scores(x)['neg'])\n"
     ]
    },
    {
     "name": "stdout",
     "output_type": "stream",
     "text": [
      "McConnell 1/4\n"
     ]
    },
    {
     "name": "stderr",
     "output_type": "stream",
     "text": [
      "C:\\Users\\BorisGrinberg\\AppData\\Local\\Temp\\ipykernel_4956\\1631412199.py:8: SettingWithCopyWarning: \n",
      "A value is trying to be set on a copy of a slice from a DataFrame.\n",
      "Try using .loc[row_indexer,col_indexer] = value instead\n",
      "\n",
      "See the caveats in the documentation: https://pandas.pydata.org/pandas-docs/stable/user_guide/indexing.html#returning-a-view-versus-a-copy\n",
      "  mcconnell['neu'] = mcconnell['text'].apply(lambda x:analyzer.polarity_scores(x)['neu'])\n"
     ]
    },
    {
     "name": "stdout",
     "output_type": "stream",
     "text": [
      "McConnell2/4\n"
     ]
    },
    {
     "name": "stderr",
     "output_type": "stream",
     "text": [
      "C:\\Users\\BorisGrinberg\\AppData\\Local\\Temp\\ipykernel_4956\\1631412199.py:11: SettingWithCopyWarning: \n",
      "A value is trying to be set on a copy of a slice from a DataFrame.\n",
      "Try using .loc[row_indexer,col_indexer] = value instead\n",
      "\n",
      "See the caveats in the documentation: https://pandas.pydata.org/pandas-docs/stable/user_guide/indexing.html#returning-a-view-versus-a-copy\n",
      "  mcconnell['pos'] = mcconnell['text'].apply(lambda x:analyzer.polarity_scores(x)['pos'])\n"
     ]
    },
    {
     "name": "stdout",
     "output_type": "stream",
     "text": [
      "McConnell 3/4\n"
     ]
    },
    {
     "name": "stderr",
     "output_type": "stream",
     "text": [
      "C:\\Users\\BorisGrinberg\\AppData\\Local\\Temp\\ipykernel_4956\\1631412199.py:14: SettingWithCopyWarning: \n",
      "A value is trying to be set on a copy of a slice from a DataFrame.\n",
      "Try using .loc[row_indexer,col_indexer] = value instead\n",
      "\n",
      "See the caveats in the documentation: https://pandas.pydata.org/pandas-docs/stable/user_guide/indexing.html#returning-a-view-versus-a-copy\n",
      "  mcconnell['compound'] =  mcconnell['text'].apply(lambda x:analyzer.polarity_scores(x)['compound'])\n"
     ]
    },
    {
     "name": "stdout",
     "output_type": "stream",
     "text": [
      "McConnell Sentiment Analysis Completed\n",
      "2020-09-01\n",
      "2020-09-02\n",
      "2020-09-03\n",
      "2020-09-04\n",
      "2020-09-05\n",
      "2020-09-06\n",
      "2020-09-07\n",
      "2020-09-08\n",
      "2020-09-09\n",
      "2020-09-10\n",
      "2020-09-11\n",
      "2020-09-12\n",
      "2020-09-13\n",
      "2020-09-14\n",
      "2020-09-15\n",
      "2020-09-16\n",
      "2020-09-17\n",
      "2020-09-18\n",
      "2020-09-19\n",
      "2020-09-20\n",
      "2020-09-21\n",
      "2020-09-22\n",
      "2020-09-23\n",
      "2020-09-24\n",
      "2020-09-25\n",
      "2020-09-26\n",
      "2020-09-27\n",
      "2020-09-28\n",
      "2020-09-29\n",
      "2020-09-30\n",
      "2020-10-01\n",
      "2020-10-02\n",
      "2020-10-03\n",
      "2020-10-04\n",
      "2020-10-05\n",
      "2020-10-06\n",
      "2020-10-07\n",
      "2020-10-08\n",
      "2020-10-09\n",
      "2020-10-10\n",
      "2020-10-11\n",
      "2020-10-12\n",
      "2020-10-13\n",
      "2020-10-14\n",
      "2020-10-15\n",
      "2020-10-16\n",
      "2020-10-17\n",
      "2020-10-18\n",
      "2020-10-19\n",
      "2020-10-20\n",
      "2020-10-21\n",
      "2020-10-22\n",
      "2020-10-23\n",
      "2020-10-24\n",
      "2020-10-25\n",
      "2020-10-26\n",
      "2020-10-27\n",
      "2020-10-28\n",
      "2020-10-29\n",
      "2020-10-30\n",
      "2020-10-31\n",
      "2020-11-01\n",
      "2020-11-02\n",
      "2020-11-03\n"
     ]
    }
   ],
   "source": [
    "mcconnell=df.copy()\n",
    "mcconnell= df['text'].str.contains(\"mitch|Mcconnell\",case=False)\n",
    "mcconnell=df[mcconnell]\n",
    "\n",
    "mcconnell['neg'] = mcconnell['text'].apply(lambda x:analyzer.polarity_scores(x)['neg'])\n",
    "print(\"McConnell 1/4\")\n",
    "\n",
    "mcconnell['neu'] = mcconnell['text'].apply(lambda x:analyzer.polarity_scores(x)['neu'])\n",
    "print(\"McConnell2/4\")\n",
    "\n",
    "mcconnell['pos'] = mcconnell['text'].apply(lambda x:analyzer.polarity_scores(x)['pos'])\n",
    "print(\"McConnell 3/4\")\n",
    "\n",
    "mcconnell['compound'] =  mcconnell['text'].apply(lambda x:analyzer.polarity_scores(x)['compound'])\n",
    "print(\"McConnell Sentiment Analysis Completed\")\n",
    "#mcconnell.to_csv(r'D:/Final Project Econ/mcconnell sentiment and tweets.csv',index=True)\n",
    "\n",
    "newpath = r'F:/Final Project Econ/mcconnell'\n",
    "if not os.path.exists(newpath):\n",
    "        os.makedirs(newpath)\n",
    "\n",
    "for i in dates:\n",
    "    mcconnell_day=mcconnell.loc[i]\n",
    "        \n",
    "    mcconnell_day.to_csv(f'F:/Final Project Econ/mcconnell/'+str(i)[:10]+'.csv',index=True)\n",
    "    del mcconnell_day\n",
    "    print(str(i)[:10])\n",
    "    \n",
    "del mcconnell"
   ]
  },
  {
   "cell_type": "code",
   "execution_count": 33,
   "id": "6f94eaef",
   "metadata": {},
   "outputs": [
    {
     "name": "stderr",
     "output_type": "stream",
     "text": [
      "C:\\Users\\BorisGrinberg\\AppData\\Local\\Temp\\ipykernel_4956\\826411149.py:5: SettingWithCopyWarning: \n",
      "A value is trying to be set on a copy of a slice from a DataFrame.\n",
      "Try using .loc[row_indexer,col_indexer] = value instead\n",
      "\n",
      "See the caveats in the documentation: https://pandas.pydata.org/pandas-docs/stable/user_guide/indexing.html#returning-a-view-versus-a-copy\n",
      "  desantis['neg'] = desantis['text'].apply(lambda x:analyzer.polarity_scores(x)['neg'])\n"
     ]
    },
    {
     "name": "stdout",
     "output_type": "stream",
     "text": [
      "desantis 1/4\n"
     ]
    },
    {
     "name": "stderr",
     "output_type": "stream",
     "text": [
      "C:\\Users\\BorisGrinberg\\AppData\\Local\\Temp\\ipykernel_4956\\826411149.py:8: SettingWithCopyWarning: \n",
      "A value is trying to be set on a copy of a slice from a DataFrame.\n",
      "Try using .loc[row_indexer,col_indexer] = value instead\n",
      "\n",
      "See the caveats in the documentation: https://pandas.pydata.org/pandas-docs/stable/user_guide/indexing.html#returning-a-view-versus-a-copy\n",
      "  desantis['neu'] = desantis['text'].apply(lambda x:analyzer.polarity_scores(x)['neu'])\n"
     ]
    },
    {
     "name": "stdout",
     "output_type": "stream",
     "text": [
      "desantis2/4\n"
     ]
    },
    {
     "name": "stderr",
     "output_type": "stream",
     "text": [
      "C:\\Users\\BorisGrinberg\\AppData\\Local\\Temp\\ipykernel_4956\\826411149.py:11: SettingWithCopyWarning: \n",
      "A value is trying to be set on a copy of a slice from a DataFrame.\n",
      "Try using .loc[row_indexer,col_indexer] = value instead\n",
      "\n",
      "See the caveats in the documentation: https://pandas.pydata.org/pandas-docs/stable/user_guide/indexing.html#returning-a-view-versus-a-copy\n",
      "  desantis['pos'] = desantis['text'].apply(lambda x:analyzer.polarity_scores(x)['pos'])\n"
     ]
    },
    {
     "name": "stdout",
     "output_type": "stream",
     "text": [
      "desantis 3/4\n"
     ]
    },
    {
     "name": "stderr",
     "output_type": "stream",
     "text": [
      "C:\\Users\\BorisGrinberg\\AppData\\Local\\Temp\\ipykernel_4956\\826411149.py:14: SettingWithCopyWarning: \n",
      "A value is trying to be set on a copy of a slice from a DataFrame.\n",
      "Try using .loc[row_indexer,col_indexer] = value instead\n",
      "\n",
      "See the caveats in the documentation: https://pandas.pydata.org/pandas-docs/stable/user_guide/indexing.html#returning-a-view-versus-a-copy\n",
      "  desantis['compound'] =  desantis['text'].apply(lambda x:analyzer.polarity_scores(x)['compound'])\n"
     ]
    },
    {
     "name": "stdout",
     "output_type": "stream",
     "text": [
      "desantis Sentiment Analysis Completed\n",
      "2020-09-01\n",
      "2020-09-02\n",
      "2020-09-03\n",
      "2020-09-04\n",
      "2020-09-05\n",
      "2020-09-06\n",
      "2020-09-07\n",
      "2020-09-08\n",
      "2020-09-09\n",
      "2020-09-10\n",
      "2020-09-11\n",
      "2020-09-12\n",
      "2020-09-13\n",
      "2020-09-14\n",
      "2020-09-15\n",
      "2020-09-16\n",
      "2020-09-17\n",
      "2020-09-18\n",
      "2020-09-19\n",
      "2020-09-20\n",
      "2020-09-21\n",
      "2020-09-22\n",
      "2020-09-23\n",
      "2020-09-24\n",
      "2020-09-25\n",
      "2020-09-26\n",
      "2020-09-27\n",
      "2020-09-28\n",
      "2020-09-29\n",
      "2020-09-30\n",
      "2020-10-01\n",
      "2020-10-02\n",
      "2020-10-03\n",
      "2020-10-04\n",
      "2020-10-05\n",
      "2020-10-06\n",
      "2020-10-07\n",
      "2020-10-08\n",
      "2020-10-09\n",
      "2020-10-10\n",
      "2020-10-11\n",
      "2020-10-12\n",
      "2020-10-13\n",
      "2020-10-14\n",
      "2020-10-15\n",
      "2020-10-16\n",
      "2020-10-17\n",
      "2020-10-18\n",
      "2020-10-19\n",
      "2020-10-20\n",
      "2020-10-21\n",
      "2020-10-22\n",
      "2020-10-23\n",
      "2020-10-24\n",
      "2020-10-25\n",
      "2020-10-26\n",
      "2020-10-27\n",
      "2020-10-28\n",
      "2020-10-29\n",
      "2020-10-30\n",
      "2020-10-31\n",
      "2020-11-01\n",
      "2020-11-02\n",
      "2020-11-03\n"
     ]
    }
   ],
   "source": [
    "desantis=df.copy()\n",
    "desantis= df['text'].str.contains(\"ron|desantis\",case=False)\n",
    "desantis=df[desantis]\n",
    "\n",
    "desantis['neg'] = desantis['text'].apply(lambda x:analyzer.polarity_scores(x)['neg'])\n",
    "print(\"desantis 1/4\")\n",
    "\n",
    "desantis['neu'] = desantis['text'].apply(lambda x:analyzer.polarity_scores(x)['neu'])\n",
    "print(\"desantis2/4\")\n",
    "\n",
    "desantis['pos'] = desantis['text'].apply(lambda x:analyzer.polarity_scores(x)['pos'])\n",
    "print(\"desantis 3/4\")\n",
    "\n",
    "desantis['compound'] =  desantis['text'].apply(lambda x:analyzer.polarity_scores(x)['compound'])\n",
    "print(\"desantis Sentiment Analysis Completed\")\n",
    "#desantis.to_csv(r'D:/Final Project Econ/desantis sentiment and tweets.csv',index=True)\n",
    "\n",
    "newpath = r'F:/Final Project Econ/desantis'\n",
    "if not os.path.exists(newpath):\n",
    "        os.makedirs(newpath)\n",
    "\n",
    "for i in dates:\n",
    "    desantis_day=desantis.loc[i]\n",
    "        \n",
    "    desantis_day.to_csv(f'F:/Final Project Econ/desantis/'+str(i)[:10]+'.csv',index=True)\n",
    "    del desantis_day\n",
    "    print(str(i)[:10])\n",
    "    \n",
    "del desantis"
   ]
  },
  {
   "cell_type": "code",
   "execution_count": 34,
   "id": "5f881b33",
   "metadata": {},
   "outputs": [
    {
     "name": "stderr",
     "output_type": "stream",
     "text": [
      "C:\\Users\\BorisGrinberg\\AppData\\Local\\Temp\\ipykernel_4956\\146564399.py:5: SettingWithCopyWarning: \n",
      "A value is trying to be set on a copy of a slice from a DataFrame.\n",
      "Try using .loc[row_indexer,col_indexer] = value instead\n",
      "\n",
      "See the caveats in the documentation: https://pandas.pydata.org/pandas-docs/stable/user_guide/indexing.html#returning-a-view-versus-a-copy\n",
      "  cruz['neg'] = cruz['text'].apply(lambda x:analyzer.polarity_scores(x)['neg'])\n"
     ]
    },
    {
     "name": "stdout",
     "output_type": "stream",
     "text": [
      "cruz 1/4\n"
     ]
    },
    {
     "name": "stderr",
     "output_type": "stream",
     "text": [
      "C:\\Users\\BorisGrinberg\\AppData\\Local\\Temp\\ipykernel_4956\\146564399.py:8: SettingWithCopyWarning: \n",
      "A value is trying to be set on a copy of a slice from a DataFrame.\n",
      "Try using .loc[row_indexer,col_indexer] = value instead\n",
      "\n",
      "See the caveats in the documentation: https://pandas.pydata.org/pandas-docs/stable/user_guide/indexing.html#returning-a-view-versus-a-copy\n",
      "  cruz['neu'] = cruz['text'].apply(lambda x:analyzer.polarity_scores(x)['neu'])\n"
     ]
    },
    {
     "name": "stdout",
     "output_type": "stream",
     "text": [
      "cruz2/4\n"
     ]
    },
    {
     "name": "stderr",
     "output_type": "stream",
     "text": [
      "C:\\Users\\BorisGrinberg\\AppData\\Local\\Temp\\ipykernel_4956\\146564399.py:11: SettingWithCopyWarning: \n",
      "A value is trying to be set on a copy of a slice from a DataFrame.\n",
      "Try using .loc[row_indexer,col_indexer] = value instead\n",
      "\n",
      "See the caveats in the documentation: https://pandas.pydata.org/pandas-docs/stable/user_guide/indexing.html#returning-a-view-versus-a-copy\n",
      "  cruz['pos'] = cruz['text'].apply(lambda x:analyzer.polarity_scores(x)['pos'])\n"
     ]
    },
    {
     "name": "stdout",
     "output_type": "stream",
     "text": [
      "cruz 3/4\n"
     ]
    },
    {
     "name": "stderr",
     "output_type": "stream",
     "text": [
      "C:\\Users\\BorisGrinberg\\AppData\\Local\\Temp\\ipykernel_4956\\146564399.py:14: SettingWithCopyWarning: \n",
      "A value is trying to be set on a copy of a slice from a DataFrame.\n",
      "Try using .loc[row_indexer,col_indexer] = value instead\n",
      "\n",
      "See the caveats in the documentation: https://pandas.pydata.org/pandas-docs/stable/user_guide/indexing.html#returning-a-view-versus-a-copy\n",
      "  cruz['compound'] =  cruz['text'].apply(lambda x:analyzer.polarity_scores(x)['compound'])\n"
     ]
    },
    {
     "name": "stdout",
     "output_type": "stream",
     "text": [
      "cruz Sentiment Analysis Completed\n",
      "2020-09-01\n",
      "2020-09-02\n",
      "2020-09-03\n",
      "2020-09-04\n",
      "2020-09-05\n",
      "2020-09-06\n",
      "2020-09-07\n",
      "2020-09-08\n",
      "2020-09-09\n",
      "2020-09-10\n",
      "2020-09-11\n",
      "2020-09-12\n",
      "2020-09-13\n",
      "2020-09-14\n",
      "2020-09-15\n",
      "2020-09-16\n",
      "2020-09-17\n",
      "2020-09-18\n",
      "2020-09-19\n",
      "2020-09-20\n",
      "2020-09-21\n",
      "2020-09-22\n",
      "2020-09-23\n",
      "2020-09-24\n",
      "2020-09-25\n",
      "2020-09-26\n",
      "2020-09-27\n",
      "2020-09-28\n",
      "2020-09-29\n",
      "2020-09-30\n",
      "2020-10-01\n",
      "2020-10-02\n",
      "2020-10-03\n",
      "2020-10-04\n",
      "2020-10-05\n",
      "2020-10-06\n",
      "2020-10-07\n",
      "2020-10-08\n",
      "2020-10-09\n",
      "2020-10-10\n",
      "2020-10-11\n",
      "2020-10-12\n",
      "2020-10-13\n",
      "2020-10-14\n",
      "2020-10-15\n",
      "2020-10-16\n",
      "2020-10-17\n",
      "2020-10-18\n",
      "2020-10-19\n",
      "2020-10-20\n",
      "2020-10-21\n",
      "2020-10-22\n",
      "2020-10-23\n",
      "2020-10-24\n",
      "2020-10-25\n",
      "2020-10-26\n",
      "2020-10-27\n",
      "2020-10-28\n",
      "2020-10-29\n",
      "2020-10-30\n",
      "2020-10-31\n",
      "2020-11-01\n",
      "2020-11-02\n",
      "2020-11-03\n"
     ]
    }
   ],
   "source": [
    "cruz=df.copy()\n",
    "cruz= df['text'].str.contains(\"ted|cruz\",case=False)\n",
    "cruz=df[cruz]\n",
    "\n",
    "cruz['neg'] = cruz['text'].apply(lambda x:analyzer.polarity_scores(x)['neg'])\n",
    "print(\"cruz 1/4\")\n",
    "\n",
    "cruz['neu'] = cruz['text'].apply(lambda x:analyzer.polarity_scores(x)['neu'])\n",
    "print(\"cruz2/4\")\n",
    "\n",
    "cruz['pos'] = cruz['text'].apply(lambda x:analyzer.polarity_scores(x)['pos'])\n",
    "print(\"cruz 3/4\")\n",
    "\n",
    "cruz['compound'] =  cruz['text'].apply(lambda x:analyzer.polarity_scores(x)['compound'])\n",
    "print(\"cruz Sentiment Analysis Completed\")\n",
    "#cruz.to_csv(r'D:/Final Project Econ/cruz sentiment and tweets.csv',index=True)\n",
    "\n",
    "newpath = r'F:/Final Project Econ/cruz'\n",
    "if not os.path.exists(newpath):\n",
    "        os.makedirs(newpath)\n",
    "\n",
    "for i in dates:\n",
    "    cruz_day=cruz.loc[i]\n",
    "        \n",
    "    cruz_day.to_csv(f'F:/Final Project Econ/cruz/'+str(i)[:10]+'.csv',index=True)\n",
    "    del cruz_day\n",
    "    print(str(i)[:10])\n",
    "    \n",
    "del cruz"
   ]
  },
  {
   "cell_type": "code",
   "execution_count": 35,
   "id": "4ed658bb",
   "metadata": {},
   "outputs": [
    {
     "name": "stderr",
     "output_type": "stream",
     "text": [
      "C:\\Users\\BorisGrinberg\\AppData\\Local\\Temp\\ipykernel_4956\\625907089.py:5: SettingWithCopyWarning: \n",
      "A value is trying to be set on a copy of a slice from a DataFrame.\n",
      "Try using .loc[row_indexer,col_indexer] = value instead\n",
      "\n",
      "See the caveats in the documentation: https://pandas.pydata.org/pandas-docs/stable/user_guide/indexing.html#returning-a-view-versus-a-copy\n",
      "  graham['neg'] = graham['text'].apply(lambda x:analyzer.polarity_scores(x)['neg'])\n"
     ]
    },
    {
     "name": "stdout",
     "output_type": "stream",
     "text": [
      "graham 1/4\n"
     ]
    },
    {
     "name": "stderr",
     "output_type": "stream",
     "text": [
      "C:\\Users\\BorisGrinberg\\AppData\\Local\\Temp\\ipykernel_4956\\625907089.py:8: SettingWithCopyWarning: \n",
      "A value is trying to be set on a copy of a slice from a DataFrame.\n",
      "Try using .loc[row_indexer,col_indexer] = value instead\n",
      "\n",
      "See the caveats in the documentation: https://pandas.pydata.org/pandas-docs/stable/user_guide/indexing.html#returning-a-view-versus-a-copy\n",
      "  graham['neu'] = graham['text'].apply(lambda x:analyzer.polarity_scores(x)['neu'])\n"
     ]
    },
    {
     "name": "stdout",
     "output_type": "stream",
     "text": [
      "graham2/4\n"
     ]
    },
    {
     "name": "stderr",
     "output_type": "stream",
     "text": [
      "C:\\Users\\BorisGrinberg\\AppData\\Local\\Temp\\ipykernel_4956\\625907089.py:11: SettingWithCopyWarning: \n",
      "A value is trying to be set on a copy of a slice from a DataFrame.\n",
      "Try using .loc[row_indexer,col_indexer] = value instead\n",
      "\n",
      "See the caveats in the documentation: https://pandas.pydata.org/pandas-docs/stable/user_guide/indexing.html#returning-a-view-versus-a-copy\n",
      "  graham['pos'] = graham['text'].apply(lambda x:analyzer.polarity_scores(x)['pos'])\n"
     ]
    },
    {
     "name": "stdout",
     "output_type": "stream",
     "text": [
      "graham 3/4\n"
     ]
    },
    {
     "name": "stderr",
     "output_type": "stream",
     "text": [
      "C:\\Users\\BorisGrinberg\\AppData\\Local\\Temp\\ipykernel_4956\\625907089.py:14: SettingWithCopyWarning: \n",
      "A value is trying to be set on a copy of a slice from a DataFrame.\n",
      "Try using .loc[row_indexer,col_indexer] = value instead\n",
      "\n",
      "See the caveats in the documentation: https://pandas.pydata.org/pandas-docs/stable/user_guide/indexing.html#returning-a-view-versus-a-copy\n",
      "  graham['compound'] =  graham['text'].apply(lambda x:analyzer.polarity_scores(x)['compound'])\n"
     ]
    },
    {
     "name": "stdout",
     "output_type": "stream",
     "text": [
      "graham Sentiment Analysis Completed\n",
      "2020-09-01\n",
      "2020-09-02\n",
      "2020-09-03\n",
      "2020-09-04\n",
      "2020-09-05\n",
      "2020-09-06\n",
      "2020-09-07\n",
      "2020-09-08\n",
      "2020-09-09\n",
      "2020-09-10\n",
      "2020-09-11\n",
      "2020-09-12\n",
      "2020-09-13\n",
      "2020-09-14\n",
      "2020-09-15\n",
      "2020-09-16\n",
      "2020-09-17\n",
      "2020-09-18\n",
      "2020-09-19\n",
      "2020-09-20\n",
      "2020-09-21\n",
      "2020-09-22\n",
      "2020-09-23\n",
      "2020-09-24\n",
      "2020-09-25\n",
      "2020-09-26\n",
      "2020-09-27\n",
      "2020-09-28\n",
      "2020-09-29\n",
      "2020-09-30\n",
      "2020-10-01\n",
      "2020-10-02\n",
      "2020-10-03\n",
      "2020-10-04\n",
      "2020-10-05\n",
      "2020-10-06\n",
      "2020-10-07\n",
      "2020-10-08\n",
      "2020-10-09\n",
      "2020-10-10\n",
      "2020-10-11\n",
      "2020-10-12\n",
      "2020-10-13\n",
      "2020-10-14\n",
      "2020-10-15\n",
      "2020-10-16\n",
      "2020-10-17\n",
      "2020-10-18\n",
      "2020-10-19\n",
      "2020-10-20\n",
      "2020-10-21\n",
      "2020-10-22\n",
      "2020-10-23\n",
      "2020-10-24\n",
      "2020-10-25\n",
      "2020-10-26\n",
      "2020-10-27\n",
      "2020-10-28\n",
      "2020-10-29\n",
      "2020-10-30\n",
      "2020-10-31\n",
      "2020-11-01\n",
      "2020-11-02\n",
      "2020-11-03\n"
     ]
    }
   ],
   "source": [
    "graham=df.copy()\n",
    "graham= df['text'].str.contains(\"lindsay|graham\",case=False)\n",
    "graham=df[graham]\n",
    "\n",
    "graham['neg'] = graham['text'].apply(lambda x:analyzer.polarity_scores(x)['neg'])\n",
    "print(\"graham 1/4\")\n",
    "\n",
    "graham['neu'] = graham['text'].apply(lambda x:analyzer.polarity_scores(x)['neu'])\n",
    "print(\"graham2/4\")\n",
    "\n",
    "graham['pos'] = graham['text'].apply(lambda x:analyzer.polarity_scores(x)['pos'])\n",
    "print(\"graham 3/4\")\n",
    "\n",
    "graham['compound'] =  graham['text'].apply(lambda x:analyzer.polarity_scores(x)['compound'])\n",
    "print(\"graham Sentiment Analysis Completed\")\n",
    "#graham.to_csv(r'D:/Final Project Econ/graham sentiment and tweets.csv',index=True)\n",
    "\n",
    "newpath = r'F:/Final Project Econ/graham'\n",
    "if not os.path.exists(newpath):\n",
    "        os.makedirs(newpath)\n",
    "\n",
    "for i in dates:\n",
    "    graham_day=graham.loc[i]\n",
    "        \n",
    "    graham_day.to_csv(f'F:/Final Project Econ/graham/'+str(i)[:10]+'.csv',index=True)\n",
    "    del graham_day\n",
    "    print(str(i)[:10])\n",
    "    \n",
    "    \n",
    "del graham"
   ]
  },
  {
   "cell_type": "code",
   "execution_count": 36,
   "id": "a766c59c",
   "metadata": {},
   "outputs": [
    {
     "name": "stderr",
     "output_type": "stream",
     "text": [
      "C:\\Users\\BorisGrinberg\\AppData\\Local\\Temp\\ipykernel_4956\\317074040.py:5: SettingWithCopyWarning: \n",
      "A value is trying to be set on a copy of a slice from a DataFrame.\n",
      "Try using .loc[row_indexer,col_indexer] = value instead\n",
      "\n",
      "See the caveats in the documentation: https://pandas.pydata.org/pandas-docs/stable/user_guide/indexing.html#returning-a-view-versus-a-copy\n",
      "  rubio['neg'] = rubio['text'].apply(lambda x:analyzer.polarity_scores(x)['neg'])\n"
     ]
    },
    {
     "name": "stdout",
     "output_type": "stream",
     "text": [
      "rubio 1/4\n"
     ]
    },
    {
     "name": "stderr",
     "output_type": "stream",
     "text": [
      "C:\\Users\\BorisGrinberg\\AppData\\Local\\Temp\\ipykernel_4956\\317074040.py:8: SettingWithCopyWarning: \n",
      "A value is trying to be set on a copy of a slice from a DataFrame.\n",
      "Try using .loc[row_indexer,col_indexer] = value instead\n",
      "\n",
      "See the caveats in the documentation: https://pandas.pydata.org/pandas-docs/stable/user_guide/indexing.html#returning-a-view-versus-a-copy\n",
      "  rubio['neu'] = rubio['text'].apply(lambda x:analyzer.polarity_scores(x)['neu'])\n"
     ]
    },
    {
     "name": "stdout",
     "output_type": "stream",
     "text": [
      "rubio2/4\n"
     ]
    },
    {
     "name": "stderr",
     "output_type": "stream",
     "text": [
      "C:\\Users\\BorisGrinberg\\AppData\\Local\\Temp\\ipykernel_4956\\317074040.py:11: SettingWithCopyWarning: \n",
      "A value is trying to be set on a copy of a slice from a DataFrame.\n",
      "Try using .loc[row_indexer,col_indexer] = value instead\n",
      "\n",
      "See the caveats in the documentation: https://pandas.pydata.org/pandas-docs/stable/user_guide/indexing.html#returning-a-view-versus-a-copy\n",
      "  rubio['pos'] = rubio['text'].apply(lambda x:analyzer.polarity_scores(x)['pos'])\n"
     ]
    },
    {
     "name": "stdout",
     "output_type": "stream",
     "text": [
      "rubio 3/4\n"
     ]
    },
    {
     "name": "stderr",
     "output_type": "stream",
     "text": [
      "C:\\Users\\BorisGrinberg\\AppData\\Local\\Temp\\ipykernel_4956\\317074040.py:14: SettingWithCopyWarning: \n",
      "A value is trying to be set on a copy of a slice from a DataFrame.\n",
      "Try using .loc[row_indexer,col_indexer] = value instead\n",
      "\n",
      "See the caveats in the documentation: https://pandas.pydata.org/pandas-docs/stable/user_guide/indexing.html#returning-a-view-versus-a-copy\n",
      "  rubio['compound'] =  rubio['text'].apply(lambda x:analyzer.polarity_scores(x)['compound'])\n"
     ]
    },
    {
     "name": "stdout",
     "output_type": "stream",
     "text": [
      "rubio Sentiment Analysis Completed\n",
      "2020-09-01\n",
      "2020-09-02\n",
      "2020-09-03\n",
      "2020-09-04\n",
      "2020-09-05\n",
      "2020-09-06\n",
      "2020-09-07\n",
      "2020-09-08\n",
      "2020-09-09\n",
      "2020-09-10\n",
      "2020-09-11\n",
      "2020-09-12\n",
      "2020-09-13\n",
      "2020-09-14\n",
      "2020-09-15\n",
      "2020-09-16\n",
      "2020-09-17\n",
      "2020-09-18\n",
      "2020-09-19\n",
      "2020-09-20\n",
      "2020-09-21\n",
      "2020-09-22\n",
      "2020-09-23\n",
      "2020-09-24\n",
      "2020-09-25\n",
      "2020-09-26\n",
      "2020-09-27\n",
      "2020-09-28\n",
      "2020-09-29\n",
      "2020-09-30\n",
      "2020-10-01\n",
      "2020-10-02\n",
      "2020-10-03\n",
      "2020-10-04\n",
      "2020-10-05\n",
      "2020-10-06\n",
      "2020-10-07\n",
      "2020-10-08\n",
      "2020-10-09\n",
      "2020-10-10\n",
      "2020-10-11\n",
      "2020-10-12\n",
      "2020-10-13\n",
      "2020-10-14\n",
      "2020-10-15\n",
      "2020-10-16\n",
      "2020-10-17\n",
      "2020-10-18\n",
      "2020-10-19\n",
      "2020-10-20\n",
      "2020-10-21\n",
      "2020-10-22\n",
      "2020-10-23\n",
      "2020-10-24\n",
      "2020-10-25\n",
      "2020-10-26\n",
      "2020-10-27\n",
      "2020-10-28\n",
      "2020-10-29\n",
      "2020-10-30\n",
      "2020-10-31\n",
      "2020-11-01\n",
      "2020-11-02\n",
      "2020-11-03\n"
     ]
    }
   ],
   "source": [
    "rubio=df.copy()\n",
    "rubio= df['text'].str.contains(\"marco|rubio\",case=False)\n",
    "rubio=df[rubio]\n",
    "\n",
    "rubio['neg'] = rubio['text'].apply(lambda x:analyzer.polarity_scores(x)['neg'])\n",
    "print(\"rubio 1/4\")\n",
    "\n",
    "rubio['neu'] = rubio['text'].apply(lambda x:analyzer.polarity_scores(x)['neu'])\n",
    "print(\"rubio2/4\")\n",
    "\n",
    "rubio['pos'] = rubio['text'].apply(lambda x:analyzer.polarity_scores(x)['pos'])\n",
    "print(\"rubio 3/4\")\n",
    "\n",
    "rubio['compound'] =  rubio['text'].apply(lambda x:analyzer.polarity_scores(x)['compound'])\n",
    "print(\"rubio Sentiment Analysis Completed\")\n",
    "#rubio.to_csv(r'D:/Final Project Econ/rubio sentiment and tweets.csv',index=True)\n",
    "\n",
    "newpath = r'F:/Final Project Econ/rubio'\n",
    "if not os.path.exists(newpath):\n",
    "        os.makedirs(newpath)\n",
    "\n",
    "for i in dates:\n",
    "    rubio_day=rubio.loc[i]\n",
    "        \n",
    "    rubio_day.to_csv(f'F:/Final Project Econ/rubio/'+str(i)[:10]+'.csv',index=True)\n",
    "    del rubio_day\n",
    "    print(str(i)[:10])\n",
    "    \n",
    "del rubio"
   ]
  },
  {
   "cell_type": "code",
   "execution_count": 37,
   "id": "950a9cf4",
   "metadata": {},
   "outputs": [
    {
     "name": "stderr",
     "output_type": "stream",
     "text": [
      "C:\\Users\\BorisGrinberg\\AppData\\Local\\Temp\\ipykernel_4956\\446989871.py:5: SettingWithCopyWarning: \n",
      "A value is trying to be set on a copy of a slice from a DataFrame.\n",
      "Try using .loc[row_indexer,col_indexer] = value instead\n",
      "\n",
      "See the caveats in the documentation: https://pandas.pydata.org/pandas-docs/stable/user_guide/indexing.html#returning-a-view-versus-a-copy\n",
      "  paul['neg'] = paul['text'].apply(lambda x:analyzer.polarity_scores(x)['neg'])\n"
     ]
    },
    {
     "name": "stdout",
     "output_type": "stream",
     "text": [
      "paul 1/4\n"
     ]
    },
    {
     "name": "stderr",
     "output_type": "stream",
     "text": [
      "C:\\Users\\BorisGrinberg\\AppData\\Local\\Temp\\ipykernel_4956\\446989871.py:8: SettingWithCopyWarning: \n",
      "A value is trying to be set on a copy of a slice from a DataFrame.\n",
      "Try using .loc[row_indexer,col_indexer] = value instead\n",
      "\n",
      "See the caveats in the documentation: https://pandas.pydata.org/pandas-docs/stable/user_guide/indexing.html#returning-a-view-versus-a-copy\n",
      "  paul['neu'] = paul['text'].apply(lambda x:analyzer.polarity_scores(x)['neu'])\n"
     ]
    },
    {
     "name": "stdout",
     "output_type": "stream",
     "text": [
      "paul2/4\n"
     ]
    },
    {
     "name": "stderr",
     "output_type": "stream",
     "text": [
      "C:\\Users\\BorisGrinberg\\AppData\\Local\\Temp\\ipykernel_4956\\446989871.py:11: SettingWithCopyWarning: \n",
      "A value is trying to be set on a copy of a slice from a DataFrame.\n",
      "Try using .loc[row_indexer,col_indexer] = value instead\n",
      "\n",
      "See the caveats in the documentation: https://pandas.pydata.org/pandas-docs/stable/user_guide/indexing.html#returning-a-view-versus-a-copy\n",
      "  paul['pos'] = paul['text'].apply(lambda x:analyzer.polarity_scores(x)['pos'])\n"
     ]
    },
    {
     "name": "stdout",
     "output_type": "stream",
     "text": [
      "paul 3/4\n"
     ]
    },
    {
     "name": "stderr",
     "output_type": "stream",
     "text": [
      "C:\\Users\\BorisGrinberg\\AppData\\Local\\Temp\\ipykernel_4956\\446989871.py:14: SettingWithCopyWarning: \n",
      "A value is trying to be set on a copy of a slice from a DataFrame.\n",
      "Try using .loc[row_indexer,col_indexer] = value instead\n",
      "\n",
      "See the caveats in the documentation: https://pandas.pydata.org/pandas-docs/stable/user_guide/indexing.html#returning-a-view-versus-a-copy\n",
      "  paul['compound'] =  paul['text'].apply(lambda x:analyzer.polarity_scores(x)['compound'])\n"
     ]
    },
    {
     "name": "stdout",
     "output_type": "stream",
     "text": [
      "paul Sentiment Analysis Completed\n",
      "2020-09-01\n",
      "2020-09-02\n",
      "2020-09-03\n",
      "2020-09-04\n",
      "2020-09-05\n",
      "2020-09-06\n",
      "2020-09-07\n",
      "2020-09-08\n",
      "2020-09-09\n",
      "2020-09-10\n",
      "2020-09-11\n",
      "2020-09-12\n",
      "2020-09-13\n",
      "2020-09-14\n",
      "2020-09-15\n",
      "2020-09-16\n",
      "2020-09-17\n",
      "2020-09-18\n",
      "2020-09-19\n",
      "2020-09-20\n",
      "2020-09-21\n",
      "2020-09-22\n",
      "2020-09-23\n",
      "2020-09-24\n",
      "2020-09-25\n",
      "2020-09-26\n",
      "2020-09-27\n",
      "2020-09-28\n",
      "2020-09-29\n",
      "2020-09-30\n",
      "2020-10-01\n",
      "2020-10-02\n",
      "2020-10-03\n",
      "2020-10-04\n",
      "2020-10-05\n",
      "2020-10-06\n",
      "2020-10-07\n",
      "2020-10-08\n",
      "2020-10-09\n",
      "2020-10-10\n",
      "2020-10-11\n",
      "2020-10-12\n",
      "2020-10-13\n",
      "2020-10-14\n",
      "2020-10-15\n",
      "2020-10-16\n",
      "2020-10-17\n",
      "2020-10-18\n",
      "2020-10-19\n",
      "2020-10-20\n",
      "2020-10-21\n",
      "2020-10-22\n",
      "2020-10-23\n",
      "2020-10-24\n",
      "2020-10-25\n",
      "2020-10-26\n",
      "2020-10-27\n",
      "2020-10-28\n",
      "2020-10-29\n",
      "2020-10-30\n",
      "2020-10-31\n",
      "2020-11-01\n",
      "2020-11-02\n",
      "2020-11-03\n"
     ]
    }
   ],
   "source": [
    "paul=df.copy()\n",
    "paul= df['text'].str.contains(\"ryan|paul\",case=False)\n",
    "paul=df[paul]\n",
    "\n",
    "paul['neg'] = paul['text'].apply(lambda x:analyzer.polarity_scores(x)['neg'])\n",
    "print(\"paul 1/4\")\n",
    "\n",
    "paul['neu'] = paul['text'].apply(lambda x:analyzer.polarity_scores(x)['neu'])\n",
    "print(\"paul2/4\")\n",
    "\n",
    "paul['pos'] = paul['text'].apply(lambda x:analyzer.polarity_scores(x)['pos'])\n",
    "print(\"paul 3/4\")\n",
    "\n",
    "paul['compound'] =  paul['text'].apply(lambda x:analyzer.polarity_scores(x)['compound'])\n",
    "print(\"paul Sentiment Analysis Completed\")\n",
    "#paul.to_csv(r'D:/Final Project Econ/paul sentiment and tweets.csv',index=True)\n",
    "\n",
    "newpath = r'F:/Final Project Econ/paul'\n",
    "if not os.path.exists(newpath):\n",
    "        os.makedirs(newpath)\n",
    "\n",
    "for i in dates:\n",
    "    paul_day=paul.loc[i]\n",
    "        \n",
    "    paul_day.to_csv(f'F:/Final Project Econ/paul/'+str(i)[:10]+'.csv',index=True)\n",
    "    del paul_day\n",
    "    print(str(i)[:10])\n",
    "    \n",
    "    \n",
    "del paul"
   ]
  },
  {
   "cell_type": "code",
   "execution_count": 38,
   "id": "67b2f984",
   "metadata": {},
   "outputs": [
    {
     "name": "stderr",
     "output_type": "stream",
     "text": [
      "C:\\Users\\BorisGrinberg\\AppData\\Local\\Temp\\ipykernel_4956\\4028954176.py:5: SettingWithCopyWarning: \n",
      "A value is trying to be set on a copy of a slice from a DataFrame.\n",
      "Try using .loc[row_indexer,col_indexer] = value instead\n",
      "\n",
      "See the caveats in the documentation: https://pandas.pydata.org/pandas-docs/stable/user_guide/indexing.html#returning-a-view-versus-a-copy\n",
      "  rand['neg'] = rand['text'].apply(lambda x:analyzer.polarity_scores(x)['neg'])\n"
     ]
    },
    {
     "name": "stdout",
     "output_type": "stream",
     "text": [
      "rand 1/4\n"
     ]
    },
    {
     "name": "stderr",
     "output_type": "stream",
     "text": [
      "C:\\Users\\BorisGrinberg\\AppData\\Local\\Temp\\ipykernel_4956\\4028954176.py:8: SettingWithCopyWarning: \n",
      "A value is trying to be set on a copy of a slice from a DataFrame.\n",
      "Try using .loc[row_indexer,col_indexer] = value instead\n",
      "\n",
      "See the caveats in the documentation: https://pandas.pydata.org/pandas-docs/stable/user_guide/indexing.html#returning-a-view-versus-a-copy\n",
      "  rand['neu'] = rand['text'].apply(lambda x:analyzer.polarity_scores(x)['neu'])\n"
     ]
    },
    {
     "name": "stdout",
     "output_type": "stream",
     "text": [
      "rand2/4\n"
     ]
    },
    {
     "name": "stderr",
     "output_type": "stream",
     "text": [
      "C:\\Users\\BorisGrinberg\\AppData\\Local\\Temp\\ipykernel_4956\\4028954176.py:11: SettingWithCopyWarning: \n",
      "A value is trying to be set on a copy of a slice from a DataFrame.\n",
      "Try using .loc[row_indexer,col_indexer] = value instead\n",
      "\n",
      "See the caveats in the documentation: https://pandas.pydata.org/pandas-docs/stable/user_guide/indexing.html#returning-a-view-versus-a-copy\n",
      "  rand['pos'] = rand['text'].apply(lambda x:analyzer.polarity_scores(x)['pos'])\n"
     ]
    },
    {
     "name": "stdout",
     "output_type": "stream",
     "text": [
      "rand 3/4\n"
     ]
    },
    {
     "name": "stderr",
     "output_type": "stream",
     "text": [
      "C:\\Users\\BorisGrinberg\\AppData\\Local\\Temp\\ipykernel_4956\\4028954176.py:14: SettingWithCopyWarning: \n",
      "A value is trying to be set on a copy of a slice from a DataFrame.\n",
      "Try using .loc[row_indexer,col_indexer] = value instead\n",
      "\n",
      "See the caveats in the documentation: https://pandas.pydata.org/pandas-docs/stable/user_guide/indexing.html#returning-a-view-versus-a-copy\n",
      "  rand['compound'] =  rand['text'].apply(lambda x:analyzer.polarity_scores(x)['compound'])\n"
     ]
    },
    {
     "name": "stdout",
     "output_type": "stream",
     "text": [
      "rand Sentiment Analysis Completed\n",
      "2020-09-01\n",
      "2020-09-02\n",
      "2020-09-03\n",
      "2020-09-04\n",
      "2020-09-05\n",
      "2020-09-06\n",
      "2020-09-07\n",
      "2020-09-08\n",
      "2020-09-09\n",
      "2020-09-10\n",
      "2020-09-11\n",
      "2020-09-12\n",
      "2020-09-13\n",
      "2020-09-14\n",
      "2020-09-15\n",
      "2020-09-16\n",
      "2020-09-17\n",
      "2020-09-18\n",
      "2020-09-19\n",
      "2020-09-20\n",
      "2020-09-21\n",
      "2020-09-22\n",
      "2020-09-23\n",
      "2020-09-24\n",
      "2020-09-25\n",
      "2020-09-26\n",
      "2020-09-27\n",
      "2020-09-28\n",
      "2020-09-29\n",
      "2020-09-30\n",
      "2020-10-01\n",
      "2020-10-02\n",
      "2020-10-03\n",
      "2020-10-04\n",
      "2020-10-05\n",
      "2020-10-06\n",
      "2020-10-07\n",
      "2020-10-08\n",
      "2020-10-09\n",
      "2020-10-10\n",
      "2020-10-11\n",
      "2020-10-12\n",
      "2020-10-13\n",
      "2020-10-14\n",
      "2020-10-15\n",
      "2020-10-16\n",
      "2020-10-17\n",
      "2020-10-18\n",
      "2020-10-19\n",
      "2020-10-20\n",
      "2020-10-21\n",
      "2020-10-22\n",
      "2020-10-23\n",
      "2020-10-24\n",
      "2020-10-25\n",
      "2020-10-26\n",
      "2020-10-27\n",
      "2020-10-28\n",
      "2020-10-29\n",
      "2020-10-30\n",
      "2020-10-31\n",
      "2020-11-01\n",
      "2020-11-02\n",
      "2020-11-03\n"
     ]
    }
   ],
   "source": [
    "rand=df.copy()\n",
    "rand= df['text'].str.contains(\"paul|rand\",case=False)\n",
    "rand=df[rand]\n",
    "\n",
    "rand['neg'] = rand['text'].apply(lambda x:analyzer.polarity_scores(x)['neg'])\n",
    "print(\"rand 1/4\")\n",
    "\n",
    "rand['neu'] = rand['text'].apply(lambda x:analyzer.polarity_scores(x)['neu'])\n",
    "print(\"rand2/4\")\n",
    "\n",
    "rand['pos'] = rand['text'].apply(lambda x:analyzer.polarity_scores(x)['pos'])\n",
    "print(\"rand 3/4\")\n",
    "\n",
    "rand['compound'] =  rand['text'].apply(lambda x:analyzer.polarity_scores(x)['compound'])\n",
    "print(\"rand Sentiment Analysis Completed\")\n",
    "#rand.to_csv(r'D:/Final Project Econ/rand sentiment and tweets.csv',index=True)\n",
    "\n",
    "newpath = r'F:/Final Project Econ/rand'\n",
    "if not os.path.exists(newpath):\n",
    "        os.makedirs(newpath)\n",
    "\n",
    "for i in dates:\n",
    "    rand_day=rand.loc[i]\n",
    "        \n",
    "    rand_day.to_csv(f'F:/Final Project Econ/rand/'+str(i)[:10]+'.csv',index=True)\n",
    "    del rand_day\n",
    "    print(str(i)[:10])\n",
    "    \n",
    "    \n",
    "del rand"
   ]
  },
  {
   "cell_type": "code",
   "execution_count": 39,
   "id": "3e67cde8",
   "metadata": {},
   "outputs": [],
   "source": [
    "del(df)"
   ]
  },
  {
   "cell_type": "markdown",
   "id": "677fdc40",
   "metadata": {},
   "source": [
    "<a id='sentimentanalysis'></a>\n",
    "### Running a Sentiment Analysis \n",
    "\n",
    "Sentiment Analysis is a Natural Language Processing (NLP) technique that is used to analyze whether a piece of text is positive, neutral, or negative. There are several types of Sentiment Analysis with their own methods, however, here we will use the VADER Sentiment Analysis technique. VADER (Valence Aware Dictionary and sEntiment Reasoner) is a sentiment analysis technique that uses a lexicon (dictionary) of words that have values between -4 and 4 attributed to them. Words with positive meanings will be given larger numbers than words with negative meanings. \n",
    "\n",
    "From this lexicon, an algorithm was created to assign values to text snippets. When running the Vader algorithm, 4 values will be returned: Negative, Neutral, Positive, and Compound. The Negative, Neutral, and Positive values represent the likelihood that a tweet is Negative, Neutral, or Positive, this will be represented as a number between 0-1. The Compound Value, however, is a number between -1 and 1. A highly negative compound value means that a sentence that is *most likely* negative, and a highly positive number will mean that the sentence is *most likely* positive.<br>\n",
    "<br>\n",
    "\n",
    "**For example:**\n",
    "\n",
    "| Tweet | Negative  | Neutral  | Positive| Compound Value | \n",
    "| :--- | ---    | ---    | ---    | ---    |\n",
    "| anyone else notice that trump supporters have huge patriotic motorcycle and boat rallies while biden supporters are rioting and burning down cities  | 0.000 | 0.701    | 0.299 | 0.7964    |\n",
    "\n",
    "\n",
    "<br>\n",
    "<br>\n",
    "\n",
    "If you are interested in learning more about VADER, you can read the original academic paper [here](https://ojs.aaai.org/index.php/ICWSM/article/download/14550/14399/18068), or you can check out the [VADER Github](https://github.com/cjhutto/vaderSentiment) repository.\n",
    "\n",
    "\n",
    "[[Table of Contents]](#contents)\n",
    "\n",
    "<br>\n",
    "\n",
    "___________________\n",
    "\n",
    "\n"
   ]
  },
  {
   "cell_type": "markdown",
   "id": "16c0c418",
   "metadata": {},
   "source": [
    "### Exporting the Dataframes into Files\n",
    "<a id='export'></a>\n",
    "\n",
    "We will be exporting the two DataFrames we created into .csv files. This will allow us to access the data that we sorted, cleaned, and analyzed without having to re-run any code.\n",
    "\n",
    "The following code will create two files: **trump sentiment and tweets.csv** and **biden sentiment and tweets.csv**. Do not run the following cell if you do not wish to create new files on your computer.\n"
   ]
  },
  {
   "cell_type": "code",
   "execution_count": null,
   "id": "ab028c1b",
   "metadata": {},
   "outputs": [],
   "source": [
    "#trump.to_csv('trump sentiment and tweets.csv',index=True)\n",
    "#biden.to_csv('biden sentiment and tweets.csv',index=True)"
   ]
  },
  {
   "cell_type": "markdown",
   "id": "aa162551",
   "metadata": {},
   "source": [
    "<a href=\"#contents\">\n",
    "\n",
    "\n",
    "<div class=\"alert alert-block alert-info\"> \n",
    "<b>Click this box to return to the table of contents\n",
    "</b>    \n",
    "    \n",
    "</div>\n",
    "    </a>"
   ]
  },
  {
   "cell_type": "markdown",
   "id": "0a197340",
   "metadata": {},
   "source": [
    "<a href=\"./Final_Project_4.ipynb\">\n",
    "\n",
    "\n",
    "<div class=\"alert alert-block alert-success\"> \n",
    "<b>Click this box to continue on to the comparison between Twitter sentiment analysis and polling data\n",
    "</b>    \n",
    "    \n",
    "</div>\n",
    "\n",
    "</a>"
   ]
  },
  {
   "cell_type": "markdown",
   "id": "1ceeb9f1",
   "metadata": {},
   "source": [
    "<a href=\"./Final_Project_2.ipynb\">\n",
    "\n",
    "\n",
    "<div class=\"alert alert-block alert-danger\"> \n",
    "<b>Click this box to return to the analysis of 2020 presidential polling data\n",
    "</b>    \n",
    "    \n",
    "</div>\n",
    "\n",
    "</a>"
   ]
  }
 ],
 "metadata": {
  "kernelspec": {
   "display_name": "Python 3 (ipykernel)",
   "language": "python",
   "name": "python3"
  },
  "language_info": {
   "codemirror_mode": {
    "name": "ipython",
    "version": 3
   },
   "file_extension": ".py",
   "mimetype": "text/x-python",
   "name": "python",
   "nbconvert_exporter": "python",
   "pygments_lexer": "ipython3",
   "version": "3.9.12"
  }
 },
 "nbformat": 4,
 "nbformat_minor": 5
}
