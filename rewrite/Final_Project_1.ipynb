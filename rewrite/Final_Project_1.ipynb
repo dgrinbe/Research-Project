{
 "cells": [
  {
   "cell_type": "markdown",
   "id": "e65eb8da",
   "metadata": {},
   "source": [
    "<a id='title'></a>\n",
    "\n",
    "# Analyzing the 2020 American Presidential Election using Twitter\n",
    "## Page 1: Background Information\n",
    "\n",
    "<i> David Grinberg</i>\n",
    "___________________"
   ]
  },
  {
   "cell_type": "markdown",
   "id": "be64a4e1",
   "metadata": {},
   "source": [
    "<a id='contents'></a>\n",
    "## Table of Contents\n",
    "1. [<b>Project Introduction and 2020 Background Info](#title) <br>\n",
    "    1.1 [Project Abstract](#abstract) <br>\n",
    "    1.2 [2020 Background](#background) <br>\n",
    "    1.3 [2020 Election](#election) <br>\n",
    "    1.4 [Why Study Twitter Data?](#whybother) <br>\n",
    "1. [<b>Analyzing Polling Data](./Final_Project_2.ipynb)<br>\n",
    "1. [<b>Twitter Sentiment Analysis](./Final_Project_3.ipynb)\n",
    "1. [<b>Comparing Polling Data with Sentiment Analysis Data](./Final_Project_4.ipynb)<br>\n",
    "1. [<b>Project Conclusion](./Final_Project_5.ipynb)<br>\n",
    "\n",
    "<br>\n",
    "<br>\n",
    "    \n",
    "________________________"
   ]
  },
  {
   "cell_type": "markdown",
   "id": "95f5e26c",
   "metadata": {},
   "source": [
    "<a id='abstract'></a>\n",
    "## Introduction\n",
    "\n",
    "\n",
    "**Original Hypothesis:**<br>\n",
    "Twitter sentiment data is a useful tool for predicting polling averages in the 2020 presidential election.\n",
    "\n",
    "**Abstract:**<br>\n",
    "Twitter is a social media network where individuals/organizations write posts to their followers. Each \"Tweet\" can contain up to 280 characters, and can include links, photos, and video. While Twitter is not the most popular social media platform, it has carved out a niche for itself as being an important space for political discussion and news coverage. This perception has been fueled by the many political movements which have been organized through Twitter such as Arab Spring, Occupy Wall Street, and Black Lives Matter. As a result, one could argue that Twitter could be used as a powerful predictive tool for political sentiment. \n",
    "\n",
    "To test Twitter's political predictive power, I created sentiment indexes for the 2020 presidential candidates using the VADER Sentiment Analysis method; these indexes were compared with the 2020 presidential polling data compiled by Nate Silver's FiveThirtyEight. The data from the period from September 1st to November 3rd indicated that there was a positive correlation between Donald Trump's polling average and the two sentiment indexes. Joe Biden's polling average did not appear to have any correlation with the sentiment indexes. Since both the Twitter and polling data have dates associated with them, it is possible to use time-series analysis techniques to study the relationships between them. Granger-causality analyses of the data demonstrated that the reverse of the hypothesis was  true, in that the changes in the Twitter sentiment indexes were actually being caused by changes in the polls. \n",
    "\n",
    "\n",
    "[[Table of Contents]](#contents)\n",
    "\n",
    "<br>\n",
    "\n",
    "________________________\n"
   ]
  },
  {
   "cell_type": "markdown",
   "id": "20a5b59f",
   "metadata": {},
   "source": [
    "<a id='background'></a>\n",
    "## 2020 Background\n",
    "2020 was one of the most tumultuous years in American history. The Covid-19 pandemic completely disrupted the lives of the American people, forcing them to hunker down in their own homes for several months. The Covid restrictions put forward by the government helped to reduce the spread of the pandemic, however, there were massive economic and social repercussions as a result of the lockdowns. With people in their homes unable to go to work, unemployment skyrocketed and the economy experienced a severe recession. \n",
    "<br>\n",
    "<br>\n",
    "\n",
    "\n",
    "<figure>\n",
    "<img src=\"https://i.insider.com/5eb5534bfc593d52c449336a?width=800&format=jpeg&auto=webp\" alt=\"Unemployment\" style=\"width:100%\">\n",
    "</figure>\n",
    "\n",
    "[[Image Source]](https://www.businessinsider.com/april-jobs-report-unemployment-rate-payrolls-record-us-economy-coronavirus-2020-5)"
   ]
  },
  {
   "cell_type": "markdown",
   "id": "42e6601e",
   "metadata": {},
   "source": [
    "Another side-effect of the lockdown was a mental health crisis driven by the isolation of quarantining. Pandemic concerns, economic/financial uncertainty, and a lack of interpersonal contact drove a rise in depression, substance abuse, and suicide. \n",
    "<br>\n",
    "\n",
    "<figure>\n",
    "<img src=\"https://fox17.com/resources/media/d1eda7fa-a1ba-4994-9c5b-a0e7a16f79b7-medium16x9_1mckinleyreport.JPG?1586889022916\" alt=\"mental Health\" style=\"width:100%\">\n",
    "</figure>\n",
    "\n",
    "[[Image Source]](https://fox17.com/news/local/feeling-the-pressures-of-the-pandemic-suicide-hotlines-see-800-percent-spike-in-calls)\n",
    "\n"
   ]
  },
  {
   "cell_type": "markdown",
   "id": "556bb0cd",
   "metadata": {},
   "source": [
    "Unrelated to the pandemic was the wave of civil unrest that was triggered by the murder of George Floyd during an arrest by Minneapolis Police officers in late May. Protests caused by Floyd’s death would eventually lead to broader movements advocating for the demilitarization of American Police Departments, the removal of flags/statues/monuments that were/are perceived to be racist, and a general confrontation of America’s problematic past.\n",
    "<br>\n",
    "<br>\n",
    "<figure>\n",
    "<img src=\"https://upload.wikimedia.org/wikipedia/commons/2/21/George_Floyd_protests_in_Seattle_-_June_3%2C_2020_-_James_Street_from_4th_Avenue.jpg\" alt=\"Protest\" style=\"width:100%\">\n",
    "</figure>\n",
    "\n",
    "[[Image Source]](https://upload.wikimedia.org/wikipedia/commons/2/21/George_Floyd_protests_in_Seattle_-_June_3%2C_2020_-_James_Street_from_4th_Avenue.jpg)\n",
    "<br>\n",
    "<br>\n",
    "All of these events and issues that were affecting the American people, would be heightened and scrutinized in the 2020 Election\n",
    "___________"
   ]
  },
  {
   "cell_type": "markdown",
   "id": "227a263c",
   "metadata": {},
   "source": [
    "<a id='election'></a>\n",
    "## The 2020 Election"
   ]
  },
  {
   "cell_type": "markdown",
   "id": "722e4df0",
   "metadata": {},
   "source": [
    "The 2020 Election was a race between Incumbent Donald J. Trump (Republican)  and the former Vice President. Joe Biden (Democrat). Despite the pandemic, record numbers of voters participated in this election, leading to Democratic control of the Presidency, House, and Senate. \n",
    "<br>\n",
    "<br>\n",
    "<figure>\n",
    "<img src=\"https://www.270towin.com/historical_maps/2020_large.png\" alt=\"Election Results\" style=\"width:100%\">\n",
    "</figure>\n",
    "\n",
    "\n",
    "[[Image Source]](https://www.270towin.com/2020_Election/)\n",
    "\n",
    "<br>\n",
    "<br>\n",
    "\n",
    "___________________"
   ]
  },
  {
   "cell_type": "markdown",
   "id": "b8dfb657",
   "metadata": {},
   "source": [
    "<a id='whybother'></a>\n",
    "### Why Study Twitter Data?\n",
    "\n",
    "At its core, conducting a poll is simply just asking people questions to figure out what people think or feel. Thousands of academic papers have been written about election polling methods, techniques, and shortfalls, and still, there are no perfect polls or polling methods.\n",
    "Given the wealth of data that social media users willingly provide, natural language processing techniques (NLP), and the raw processing power of modern computers, it could soon be possible to predict an election ahead of time. While this capability does not exist today, through research, we may be able to vastly improve election polling by incorporating social media data into their predictive models.\n",
    "\n",
    "[[Table of Contents]](#contents)\n",
    "________________________\n",
    "\n",
    "\n"
   ]
  },
  {
   "cell_type": "markdown",
   "id": "e80511ae",
   "metadata": {},
   "source": [
    "<a href=\"#contents\">\n",
    "\n",
    "\n",
    "<div class=\"alert alert-block alert-info\"> \n",
    "<b>Click this box to return to the table of contents\n",
    "</b>    \n",
    "    \n",
    "</div>\n",
    "    </a>"
   ]
  },
  {
   "cell_type": "markdown",
   "id": "3a310cb8",
   "metadata": {},
   "source": [
    "<a href=\"./Final_Project_2.ipynb\">\n",
    "\n",
    "\n",
    "<div class=\"alert alert-block alert-success\"> \n",
    "<b>Click this box to continue on to the analysis of 2020 Polling Data\n",
    "</b>    \n",
    "    \n",
    "</div>\n",
    "\n",
    "</a>"
   ]
  }
 ],
 "metadata": {
  "kernelspec": {
   "display_name": "Python 3 (ipykernel)",
   "language": "python",
   "name": "python3"
  },
  "language_info": {
   "codemirror_mode": {
    "name": "ipython",
    "version": 3
   },
   "file_extension": ".py",
   "mimetype": "text/x-python",
   "name": "python",
   "nbconvert_exporter": "python",
   "pygments_lexer": "ipython3",
   "version": "3.9.7"
  }
 },
 "nbformat": 4,
 "nbformat_minor": 5
}
