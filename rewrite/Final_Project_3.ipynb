{
 "cells": [
  {
   "cell_type": "markdown",
   "id": "e7697f30",
   "metadata": {},
   "source": [
    "<a id='title'></a>\n",
    "\n",
    "# Analyzing the 2020 American Presidential Election using Twitter\n",
    "## Page 3: Twitter Sentiment Analysis\n",
    "\n",
    "<i> David Grinberg</i>\n",
    "___________________"
   ]
  },
  {
   "cell_type": "markdown",
   "id": "28505be3",
   "metadata": {},
   "source": [
    "<a id='contents'> </a>\n",
    "## Table of Contents\n",
    "1. [<b>Project Introduction and 2020 Background Info](./Final_Project_1.ipynb)<br>\n",
    "1. [<b>Analyzing Polling Data](./Final_Project_2.ipynb)<br>\n",
    "1. [<b>Twitter Sentiment Analysis](#title)<br>\n",
    "    3.1 [Packages Used](#packageimports)<br>\n",
    "    3.2 [Reading Data into a DataFrame](#readcsv)<br>\n",
    "    3.3 [Sorting and Cleaning Data](#sorting)<br>\n",
    "    3.4 [Running Sentiment Analysis](#sentimentanalysis)<br>\n",
    "    3.5 [Exporting the Data](#export)<br>    \n",
    "1. [<b>Comparing Polling Data with Sentiment Analysis Data](./Final_Project_4.ipynb)<br>\n",
    "1. [<b>Project Conclusion](./Final_Project_5.ipynb)<br>\n",
    "\n",
    "\n",
    "\n",
    "\n",
    "________________________"
   ]
  },
  {
   "cell_type": "markdown",
   "id": "bfe0441c",
   "metadata": {},
   "source": [
    "<a id='packageimports'></a>\n",
    "### Packages used\n",
    "\n",
    "\n",
    "- Pandas is used to import, edit, manipulate, and create .csv files\n",
    "- NLTK is used to perform Natural Language Processing on the individual tweets used (NLP).\n",
    "\n",
    "[Table of Contents](#contents)\n",
    "________________________"
   ]
  },
  {
   "cell_type": "code",
   "execution_count": 1,
   "id": "571c020e",
   "metadata": {},
   "outputs": [],
   "source": [
    "import pandas as pd\n",
    "import nltk\n",
    "from nltk.sentiment.vader import SentimentIntensityAnalyzer"
   ]
  },
  {
   "cell_type": "markdown",
   "id": "ac7d4442",
   "metadata": {},
   "source": [
    "<div class=\"alert alert-block alert-danger\"> \n",
    "<b> WARNING: Running this notebook uses a large amount of memory and time. This code takes at least 5 hours to run, so please plan accordingly if you intend to run the code in this notebook.\n",
    "</b>    \n",
    "    \n",
    "</div>\n"
   ]
  },
  {
   "cell_type": "markdown",
   "id": "36a719a0",
   "metadata": {},
   "source": [
    "<a id='readcsv'></a>\n",
    "### Reading the data into a Pandas DataFrame\n",
    "\n",
    "In this notebook, we will be using a data set of over 6 million tweets, downloaded from Twitter by Christo Tarazi and Wei Xiao. Like the previous notebook, we will be reading the .csv file into a pandas DataFrame object. Once in a DataFrame, we can then manipulate the data.\n",
    "\n",
    "\n",
    "[[Table of Contents]](#contents)\n",
    "\n",
    "<br>\n",
    "\n",
    "___________________"
   ]
  },
  {
   "cell_type": "code",
   "execution_count": 2,
   "id": "aba2cc6f",
   "metadata": {},
   "outputs": [],
   "source": [
    "pd.options.display.max_colwidth=999\n",
    "\n",
    "df_1= pd.read_csv(r'D:/Final Project Econ/Sep1toSep16.csv',dtype={'id_str':str, 'created_at':str, 'text':str, 'user_screen_name':str,\n",
    "                                           'user_created_at':str, 'favorite_count':str, 'user_favourites_count':str,\n",
    "                                           'user_followers_count':str,'user_friends_count':str, 'is_quote':str,\n",
    "                                           'retweeted':str, 'user_listed_count':str,'retweet_count':str, 'user_statuses_count':str,\n",
    "                                           'user_id_str':str, 'user_verified':str,'user_description':str, 'user_location':str,\n",
    "                                           'user_name':str, 'geo':str, 'longitutde':str,'latitude':str, 'place':str, 'lang':str,\n",
    "                                           'reply_count':str, 'quote_count':str, 'candidate':str,'polarity':str, 'polarity_origin':str})\n",
    "\n"
   ]
  },
  {
   "cell_type": "code",
   "execution_count": 3,
   "id": "f20d5d00",
   "metadata": {},
   "outputs": [],
   "source": [
    "df_1=df_1.loc[:,['created_at','text']]\n",
    "df_1['created_at']=pd.to_datetime(df_1['created_at']).dt.date\n"
   ]
  },
  {
   "cell_type": "code",
   "execution_count": 4,
   "id": "df1730b7",
   "metadata": {},
   "outputs": [
    {
     "data": {
      "text/html": [
       "<div>\n",
       "<style scoped>\n",
       "    .dataframe tbody tr th:only-of-type {\n",
       "        vertical-align: middle;\n",
       "    }\n",
       "\n",
       "    .dataframe tbody tr th {\n",
       "        vertical-align: top;\n",
       "    }\n",
       "\n",
       "    .dataframe thead th {\n",
       "        text-align: right;\n",
       "    }\n",
       "</style>\n",
       "<table border=\"1\" class=\"dataframe\">\n",
       "  <thead>\n",
       "    <tr style=\"text-align: right;\">\n",
       "      <th></th>\n",
       "      <th>created_at</th>\n",
       "      <th>text</th>\n",
       "    </tr>\n",
       "  </thead>\n",
       "  <tbody>\n",
       "    <tr>\n",
       "      <th>11734319</th>\n",
       "      <td>2020-11-28 22:06:12</td>\n",
       "      <td>@CB618444 @realDonaldTrump If you are fully supporting President Trump that question should not cross your lips\\r\\nThank you for saying what needed to be said</td>\n",
       "    </tr>\n",
       "    <tr>\n",
       "      <th>11734318</th>\n",
       "      <td>2020-11-28 22:06:12</td>\n",
       "      <td>Im starting to think Donald Trumps lawyers arent very good at this.</td>\n",
       "    </tr>\n",
       "    <tr>\n",
       "      <th>11734317</th>\n",
       "      <td>2020-11-28 22:06:12</td>\n",
       "      <td>President Trump @realDonaldTrump in disguise.</td>\n",
       "    </tr>\n",
       "    <tr>\n",
       "      <th>11734316</th>\n",
       "      <td>2020-11-28 22:06:12</td>\n",
       "      <td>Those in the GOP who arent supporting President Trump.... \\r\\n\\r\\nYou better get in step ......or get the hell out of our way.</td>\n",
       "    </tr>\n",
       "    <tr>\n",
       "      <th>11734315</th>\n",
       "      <td>2020-11-28 22:06:12</td>\n",
       "      <td>So let me get this straight. Trump is asking state legislatures to overturn the will of the people.\\r\\n\\r\\nQuestion: Do you believe State Legislators will go against the will of the people who ELECTED THEM and appoint Electors who will place Trump in Office?</td>\n",
       "    </tr>\n",
       "    <tr>\n",
       "      <th>...</th>\n",
       "      <td>...</td>\n",
       "      <td>...</td>\n",
       "    </tr>\n",
       "    <tr>\n",
       "      <th>12</th>\n",
       "      <td>2020-09-16 19:00:01</td>\n",
       "      <td>Trump last night A lot of people think that masks are not good Trump s CDC Director today This face mask is more guaranteed to protect me against COVID than when I take a COVID vaccine Trump s cavalier irresponsibility about masks will cause the death of more Americans</td>\n",
       "    </tr>\n",
       "    <tr>\n",
       "      <th>13</th>\n",
       "      <td>2020-09-16 19:00:01</td>\n",
       "      <td>Regina is a LincolnVoter from Arizona She s a Navy veteran who will be voting against Trump because of his devastating response to covid https t co TdlKwkePsD</td>\n",
       "    </tr>\n",
       "    <tr>\n",
       "      <th>14</th>\n",
       "      <td>2020-09-16 19:00:01</td>\n",
       "      <td>Why does Joe Biden only call on a pre approved list of reporters Because it s all a CHARADE</td>\n",
       "    </tr>\n",
       "    <tr>\n",
       "      <th>15</th>\n",
       "      <td>2020-09-16 19:00:01</td>\n",
       "      <td>Line up the donkey dicks because they can suck all of them</td>\n",
       "    </tr>\n",
       "    <tr>\n",
       "      <th>0</th>\n",
       "      <td>2020-09-16 19:00:01</td>\n",
       "      <td>If this is a Car Parade then I m a fkn googillionaire The enthusiasm for Biden is just off the charts https t co PS5ntFrU27</td>\n",
       "    </tr>\n",
       "  </tbody>\n",
       "</table>\n",
       "<p>11734320 rows × 2 columns</p>\n",
       "</div>"
      ],
      "text/plain": [
       "                   created_at  \\\n",
       "11734319  2020-11-28 22:06:12   \n",
       "11734318  2020-11-28 22:06:12   \n",
       "11734317  2020-11-28 22:06:12   \n",
       "11734316  2020-11-28 22:06:12   \n",
       "11734315  2020-11-28 22:06:12   \n",
       "...                       ...   \n",
       "12        2020-09-16 19:00:01   \n",
       "13        2020-09-16 19:00:01   \n",
       "14        2020-09-16 19:00:01   \n",
       "15        2020-09-16 19:00:01   \n",
       "0         2020-09-16 19:00:01   \n",
       "\n",
       "                                                                                                                                                                                                                                                                                   text  \n",
       "11734319                                                                                                                 @CB618444 @realDonaldTrump If you are fully supporting President Trump that question should not cross your lips\\r\\nThank you for saying what needed to be said  \n",
       "11734318                                                                                                                                                                                                            Im starting to think Donald Trumps lawyers arent very good at this.  \n",
       "11734317                                                                                                                                                                                                                                  President Trump @realDonaldTrump in disguise.  \n",
       "11734316                                                                                                                                                 Those in the GOP who arent supporting President Trump.... \\r\\n\\r\\nYou better get in step ......or get the hell out of our way.  \n",
       "11734315             So let me get this straight. Trump is asking state legislatures to overturn the will of the people.\\r\\n\\r\\nQuestion: Do you believe State Legislators will go against the will of the people who ELECTED THEM and appoint Electors who will place Trump in Office?  \n",
       "...                                                                                                                                                                                                                                                                                 ...  \n",
       "12        Trump last night A lot of people think that masks are not good Trump s CDC Director today This face mask is more guaranteed to protect me against COVID than when I take a COVID vaccine Trump s cavalier irresponsibility about masks will cause the death of more Americans  \n",
       "13                                                                                                                       Regina is a LincolnVoter from Arizona She s a Navy veteran who will be voting against Trump because of his devastating response to covid https t co TdlKwkePsD  \n",
       "14                                                                                                                                                                                          Why does Joe Biden only call on a pre approved list of reporters Because it s all a CHARADE  \n",
       "15                                                                                                                                                                                                                           Line up the donkey dicks because they can suck all of them  \n",
       "0                                                                                                                                                           If this is a Car Parade then I m a fkn googillionaire The enthusiasm for Biden is just off the charts https t co PS5ntFrU27  \n",
       "\n",
       "[11734320 rows x 2 columns]"
      ]
     },
     "execution_count": 4,
     "metadata": {},
     "output_type": "execute_result"
    }
   ],
   "source": [
    "df_2= pd.read_csv(r'D:/Final Project Econ/Sep16toNov20.csv',dtype={'id_str':str, 'created_at':str, 'text':str, 'user_screen_name':str,\n",
    "                                           'user_created_at':str, 'favorite_count':str, 'user_favourites_count':str,\n",
    "                                           'user_followers_count':str,'user_friends_count':str, 'is_quote':str,\n",
    "                                           'retweeted':str, 'user_listed_count':str,'retweet_count':str, 'user_statuses_count':str,\n",
    "                                           'user_id_str':str, 'user_verified':str,'user_description':str, 'user_location':str,\n",
    "                                           'user_name':str, 'geo':str, 'longitutde':str,'latitude':str, 'place':str, 'lang':str,\n",
    "                                           'reply_count':str, 'quote_count':str, 'candidate':str,'polarity':str, 'polarity_origin':str})\n",
    "\n",
    "\n",
    "\n",
    "df_2=df_2.loc[:,['created_at','text']]\n",
    "df_2.sort_values(by=['created_at'],ascending=False)"
   ]
  },
  {
   "cell_type": "code",
   "execution_count": 5,
   "id": "70859012",
   "metadata": {},
   "outputs": [],
   "source": [
    "df_2['created_at']=pd.to_datetime(df_2['created_at']).dt.date\n",
    "df_2=df_2.astype(str)\n",
    "df_2=df_2[df_2['created_at']!= \"2020-09-16\"]"
   ]
  },
  {
   "cell_type": "code",
   "execution_count": 6,
   "id": "dbcec56e",
   "metadata": {},
   "outputs": [],
   "source": [
    "df_1=df_1.drop_duplicates(subset=['text'])\n",
    "df_2=df_2.drop_duplicates(subset=['text'])"
   ]
  },
  {
   "cell_type": "code",
   "execution_count": 7,
   "id": "57a1a95b",
   "metadata": {},
   "outputs": [
    {
     "data": {
      "text/html": [
       "<div>\n",
       "<style scoped>\n",
       "    .dataframe tbody tr th:only-of-type {\n",
       "        vertical-align: middle;\n",
       "    }\n",
       "\n",
       "    .dataframe tbody tr th {\n",
       "        vertical-align: top;\n",
       "    }\n",
       "\n",
       "    .dataframe thead th {\n",
       "        text-align: right;\n",
       "    }\n",
       "</style>\n",
       "<table border=\"1\" class=\"dataframe\">\n",
       "  <thead>\n",
       "    <tr style=\"text-align: right;\">\n",
       "      <th></th>\n",
       "      <th>created_at</th>\n",
       "      <th>text</th>\n",
       "    </tr>\n",
       "  </thead>\n",
       "  <tbody>\n",
       "    <tr>\n",
       "      <th>0</th>\n",
       "      <td>2020-09-01</td>\n",
       "      <td>Anyone else notice that Trump supporters have huge patriotic motorcycle and boat rallies while Biden supporters are rioting and burning down cities?</td>\n",
       "    </tr>\n",
       "    <tr>\n",
       "      <th>1</th>\n",
       "      <td>2020-09-01</td>\n",
       "      <td>Where in the f*ck is he?????</td>\n",
       "    </tr>\n",
       "    <tr>\n",
       "      <th>2</th>\n",
       "      <td>2020-09-01</td>\n",
       "      <td>First #TheCorruptPartyOfTrump #LootingDecency grabbed Nazi suburban housewives by their real estate values #IMpotus science fiction theater presents: The Alien Invasion of Nazi Suburbs \\__/</td>\n",
       "    </tr>\n",
       "    <tr>\n",
       "      <th>3</th>\n",
       "      <td>2020-09-01</td>\n",
       "      <td>Political and cultural elites like this rarely have to suffer the consequences of their call to violence.  It's always the ordinary men and women. Disgusting.</td>\n",
       "    </tr>\n",
       "    <tr>\n",
       "      <th>4</th>\n",
       "      <td>2020-09-01</td>\n",
       "      <td>Can we take the gloves off and tell the truth?  Trump is deliberately killing people.   He holds rallies where people get infected. On Thursday, no social distancing or masks, sending a clear message that the CDC should be ignored.  His plan is to kill people. Let's just say it.</td>\n",
       "    </tr>\n",
       "    <tr>\n",
       "      <th>...</th>\n",
       "      <td>...</td>\n",
       "      <td>...</td>\n",
       "    </tr>\n",
       "    <tr>\n",
       "      <th>11734304</th>\n",
       "      <td>2020-11-28</td>\n",
       "      <td>@KlasfeldReports why is @MikeKellyPA so hellbent on subverting the will of the people? This would be the time to DISTANCE one's self from this shitshow -- not Mike.   Remember this sycophant -- He chose Trump over all else.  He doesn't deserve the office he currently resides in.</td>\n",
       "    </tr>\n",
       "    <tr>\n",
       "      <th>11734305</th>\n",
       "      <td>2020-11-28</td>\n",
       "      <td>So he remembers his name</td>\n",
       "    </tr>\n",
       "    <tr>\n",
       "      <th>11734306</th>\n",
       "      <td>2020-11-28</td>\n",
       "      <td>@notcapnamerica They should start using the Governors Mansion for storage. \\r\\n\\r\\nThis couldve been avoided if @GregAbbott_TX acted in time. Followed the #CovidIdiots Trump and his AG @KenPaxtonTX, and now Texans are dying at an alarming rate. Incompetent bastards.</td>\n",
       "    </tr>\n",
       "    <tr>\n",
       "      <th>11734311</th>\n",
       "      <td>2020-11-28</td>\n",
       "      <td>Trump was in a frenzy to finalize his bird-killer policy, David Yarnold, pres of the National Audubon Society, said in a statement Friday. \\r\\n\\r\\nWhy! \\r\\n\\r\\nReinstating this 100-year-old bedrock law must be a top conservation priority for the Biden-Harris Administration &amp;amp; Congress.</td>\n",
       "    </tr>\n",
       "    <tr>\n",
       "      <th>11734319</th>\n",
       "      <td>2020-11-28</td>\n",
       "      <td>@CB618444 @realDonaldTrump If you are fully supporting President Trump that question should not cross your lips\\r\\nThank you for saying what needed to be said</td>\n",
       "    </tr>\n",
       "  </tbody>\n",
       "</table>\n",
       "<p>6143885 rows × 2 columns</p>\n",
       "</div>"
      ],
      "text/plain": [
       "          created_at  \\\n",
       "0         2020-09-01   \n",
       "1         2020-09-01   \n",
       "2         2020-09-01   \n",
       "3         2020-09-01   \n",
       "4         2020-09-01   \n",
       "...              ...   \n",
       "11734304  2020-11-28   \n",
       "11734305  2020-11-28   \n",
       "11734306  2020-11-28   \n",
       "11734311  2020-11-28   \n",
       "11734319  2020-11-28   \n",
       "\n",
       "                                                                                                                                                                                                                                                                                                       text  \n",
       "0                                                                                                                                                      Anyone else notice that Trump supporters have huge patriotic motorcycle and boat rallies while Biden supporters are rioting and burning down cities?  \n",
       "1                                                                                                                                                                                                                                                                              Where in the f*ck is he?????  \n",
       "2                                                                                                             First #TheCorruptPartyOfTrump #LootingDecency grabbed Nazi suburban housewives by their real estate values #IMpotus science fiction theater presents: The Alien Invasion of Nazi Suburbs \\__/  \n",
       "3                                                                                                                                            Political and cultural elites like this rarely have to suffer the consequences of their call to violence.  It's always the ordinary men and women. Disgusting.  \n",
       "4                   Can we take the gloves off and tell the truth?  Trump is deliberately killing people.   He holds rallies where people get infected. On Thursday, no social distancing or masks, sending a clear message that the CDC should be ignored.  His plan is to kill people. Let's just say it.  \n",
       "...                                                                                                                                                                                                                                                                                                     ...  \n",
       "11734304            @KlasfeldReports why is @MikeKellyPA so hellbent on subverting the will of the people? This would be the time to DISTANCE one's self from this shitshow -- not Mike.   Remember this sycophant -- He chose Trump over all else.  He doesn't deserve the office he currently resides in.  \n",
       "11734305                                                                                                                                                                                                                                                                           So he remembers his name  \n",
       "11734306                         @notcapnamerica They should start using the Governors Mansion for storage. \\r\\n\\r\\nThis couldve been avoided if @GregAbbott_TX acted in time. Followed the #CovidIdiots Trump and his AG @KenPaxtonTX, and now Texans are dying at an alarming rate. Incompetent bastards.  \n",
       "11734311  Trump was in a frenzy to finalize his bird-killer policy, David Yarnold, pres of the National Audubon Society, said in a statement Friday. \\r\\n\\r\\nWhy! \\r\\n\\r\\nReinstating this 100-year-old bedrock law must be a top conservation priority for the Biden-Harris Administration &amp; Congress.  \n",
       "11734319                                                                                                                                     @CB618444 @realDonaldTrump If you are fully supporting President Trump that question should not cross your lips\\r\\nThank you for saying what needed to be said  \n",
       "\n",
       "[6143885 rows x 2 columns]"
      ]
     },
     "execution_count": 7,
     "metadata": {},
     "output_type": "execute_result"
    }
   ],
   "source": [
    "frames=[df_1,df_2]\n",
    "df=pd.concat(frames)\n",
    "\n",
    "del(df_1,df_2)\n",
    "df.sort_index(ascending=True)"
   ]
  },
  {
   "cell_type": "code",
   "execution_count": 8,
   "id": "2fa878a0",
   "metadata": {},
   "outputs": [
    {
     "data": {
      "text/html": [
       "<div>\n",
       "<style scoped>\n",
       "    .dataframe tbody tr th:only-of-type {\n",
       "        vertical-align: middle;\n",
       "    }\n",
       "\n",
       "    .dataframe tbody tr th {\n",
       "        vertical-align: top;\n",
       "    }\n",
       "\n",
       "    .dataframe thead th {\n",
       "        text-align: right;\n",
       "    }\n",
       "</style>\n",
       "<table border=\"1\" class=\"dataframe\">\n",
       "  <thead>\n",
       "    <tr style=\"text-align: right;\">\n",
       "      <th></th>\n",
       "      <th>text</th>\n",
       "    </tr>\n",
       "    <tr>\n",
       "      <th>created_at</th>\n",
       "      <th></th>\n",
       "    </tr>\n",
       "  </thead>\n",
       "  <tbody>\n",
       "    <tr>\n",
       "      <th>2020-09-01</th>\n",
       "      <td>Anyone else notice that Trump supporters have huge patriotic motorcycle and boat rallies while Biden supporters are rioting and burning down cities?</td>\n",
       "    </tr>\n",
       "    <tr>\n",
       "      <th>2020-09-01</th>\n",
       "      <td>Where in the f*ck is he?????</td>\n",
       "    </tr>\n",
       "  </tbody>\n",
       "</table>\n",
       "</div>"
      ],
      "text/plain": [
       "                                                                                                                                                            text\n",
       "created_at                                                                                                                                                      \n",
       "2020-09-01  Anyone else notice that Trump supporters have huge patriotic motorcycle and boat rallies while Biden supporters are rioting and burning down cities?\n",
       "2020-09-01                                                                                                                          Where in the f*ck is he?????"
      ]
     },
     "execution_count": 8,
     "metadata": {},
     "output_type": "execute_result"
    }
   ],
   "source": [
    "df['created_at']=pd.to_datetime(df['created_at'])\n",
    "df.set_index('created_at',inplace=True)\n",
    "df.head(2)"
   ]
  },
  {
   "cell_type": "code",
   "execution_count": 9,
   "id": "ecb20a03",
   "metadata": {},
   "outputs": [],
   "source": [
    "df.drop_duplicates(inplace=True)\n",
    "df = df.replace(r'\\n',' ', regex=True) \n",
    "df = df.replace(r'\\r',' ', regex=True) "
   ]
  },
  {
   "cell_type": "markdown",
   "id": "28253a00",
   "metadata": {},
   "source": [
    "<a id='sorting'></a>\n",
    "### Sorting and Cleaning the Data\n",
    "\n",
    "On Twitter, there are a lot of bots that are programmed to post the same Tweets at the same time. Before performing sentiment analysis, we will clean up the dataset by removing duplicate tweets. Once clean, we can isolate tweets based on which candidate they reference.\n",
    "\n",
    "\n",
    "\n",
    "[[Table of Contents]](#contents)\n",
    "\n",
    "\n",
    "___________________"
   ]
  },
  {
   "cell_type": "code",
   "execution_count": 10,
   "id": "c7181924",
   "metadata": {},
   "outputs": [],
   "source": [
    "df.dropna(inplace=True)\n",
    "trump=df.copy()\n",
    "biden=df.copy()\n",
    "kamala=df.copy()\n",
    "pence=df.copy()\n",
    "dem=df.copy()\n",
    "gop=df.copy()"
   ]
  },
  {
   "cell_type": "code",
   "execution_count": 11,
   "id": "894c80d4",
   "metadata": {},
   "outputs": [],
   "source": [
    "trump = df['text'].str.contains(\"trump|don\",case=False)\n",
    "trump=df[trump]"
   ]
  },
  {
   "cell_type": "code",
   "execution_count": 12,
   "id": "a472e8f2",
   "metadata": {},
   "outputs": [],
   "source": [
    "biden = df['text'].str.contains(\"biden|joe\",case=False)\n",
    "biden=df[biden]"
   ]
  },
  {
   "cell_type": "code",
   "execution_count": 13,
   "id": "536b87e6",
   "metadata": {},
   "outputs": [],
   "source": [
    "pence= df['text'].str.contains(\"pence|mike\",case=False)\n",
    "pence=df[pence]"
   ]
  },
  {
   "cell_type": "code",
   "execution_count": 15,
   "id": "7a4d7590",
   "metadata": {},
   "outputs": [],
   "source": [
    "kamala= df['text'].str.contains(\"harris|kamala\",case=False)\n",
    "kamala=df[kamala]"
   ]
  },
  {
   "cell_type": "code",
   "execution_count": 11,
   "id": "e62871db",
   "metadata": {},
   "outputs": [],
   "source": [
    "dem= df['text'].str.contains(\"democrat|dem |dems\",case=False)\n",
    "dem=df[dem]"
   ]
  },
  {
   "cell_type": "code",
   "execution_count": 17,
   "id": "20c7d70c",
   "metadata": {},
   "outputs": [],
   "source": [
    "gop= df['text'].str.contains(\"gop|repub|republican\",case=False)\n",
    "gop=df[gop]"
   ]
  },
  {
   "cell_type": "code",
   "execution_count": 12,
   "id": "3e67cde8",
   "metadata": {},
   "outputs": [],
   "source": [
    "del(df)"
   ]
  },
  {
   "cell_type": "markdown",
   "id": "677fdc40",
   "metadata": {},
   "source": [
    "<a id='sentimentanalysis'></a>\n",
    "### Running a Sentiment Analysis \n",
    "\n",
    "Sentiment Analysis is a Natural Language Processing (NLP) technique that is used to analyze whether a piece of text is positive, neutral, or negative. There are several types of Sentiment Analysis with their own methods, however, here we will use the VADER Sentiment Analysis technique. VADER (Valence Aware Dictionary and sEntiment Reasoner) is a sentiment analysis technique that uses a lexicon (dictionary) of words that have values between -4 and 4 attributed to them. Words with positive meanings will be given larger numbers than words with negative meanings. \n",
    "\n",
    "From this lexicon, an algorithm was created to assign values to text snippets. When running the Vader algorithm, 4 values will be returned: Negative, Neutral, Positive, and Compound. The Negative, Neutral, and Positive values represent the likelihood that a tweet is Negative, Neutral, or Positive, this will be represented as a number between 0-1. The Compound Value, however, is a number between -1 and 1. A highly negative compound value means that a sentence that is *most likely* negative, and a highly positive number will mean that the sentence is *most likely* positive.<br>\n",
    "<br>\n",
    "\n",
    "**For example:**\n",
    "\n",
    "| Tweet | Negative  | Neutral  | Positive| Compound Value | \n",
    "| :--- | ---    | ---    | ---    | ---    |\n",
    "| anyone else notice that trump supporters have huge patriotic motorcycle and boat rallies while biden supporters are rioting and burning down cities  | 0.000 | 0.701    | 0.299 | 0.7964    |\n",
    "\n",
    "\n",
    "<br>\n",
    "<br>\n",
    "\n",
    "If you are interested in learning more about VADER, you can read the original academic paper [here](https://ojs.aaai.org/index.php/ICWSM/article/download/14550/14399/18068), or you can check out the [VADER Github](https://github.com/cjhutto/vaderSentiment) repository.\n",
    "\n",
    "\n",
    "[[Table of Contents]](#contents)\n",
    "\n",
    "<br>\n",
    "\n",
    "___________________\n",
    "\n",
    "\n"
   ]
  },
  {
   "cell_type": "code",
   "execution_count": null,
   "id": "ffcc50ce",
   "metadata": {},
   "outputs": [],
   "source": []
  },
  {
   "cell_type": "code",
   "execution_count": 14,
   "id": "b5b7ddd7",
   "metadata": {},
   "outputs": [
    {
     "name": "stderr",
     "output_type": "stream",
     "text": [
      "[nltk_data] Downloading package vader_lexicon to\n",
      "[nltk_data]     C:\\Users\\capma\\AppData\\Roaming\\nltk_data...\n",
      "[nltk_data]   Package vader_lexicon is already up-to-date!\n"
     ]
    }
   ],
   "source": [
    "nltk.download('vader_lexicon')\n",
    "analyzer = SentimentIntensityAnalyzer()"
   ]
  },
  {
   "cell_type": "code",
   "execution_count": null,
   "id": "21d20786",
   "metadata": {},
   "outputs": [],
   "source": [
    "trump['neg'] = trump['text'].apply(lambda x:analyzer.polarity_scores(x)['neg'])\n",
    "print(\"Trump1/4\")\n",
    "\n",
    "trump['neu'] = trump['text'].apply(lambda x:analyzer.polarity_scores(x)['neu'])\n",
    "print(\"Trump2/4\")\n",
    "\n",
    "trump['pos'] = trump['text'].apply(lambda x:analyzer.polarity_scores(x)['pos'])\n",
    "print(\"Trump 3/4\")\n",
    "\n",
    "trump['compound'] = trump['text'].apply(lambda x:analyzer.polarity_scores(x)['compound'])\n",
    "print(\"Trump Sentiment Analysis Completed\")\n",
    "trump.to_csv(r'D:/Final Project Econ/trump sentiment and tweets.csv',index=True)\n",
    "del trump"
   ]
  },
  {
   "cell_type": "code",
   "execution_count": null,
   "id": "0f22a9e7",
   "metadata": {},
   "outputs": [],
   "source": [
    "biden['neg'] = biden['text'].apply(lambda x:analyzer.polarity_scores(x)['neg'])\n",
    "print(\"Biden 1/4\")\n",
    "\n",
    "biden['neu'] = biden['text'].apply(lambda x:analyzer.polarity_scores(x)['neu'])\n",
    "print(\"Biden2/4\")\n",
    "\n",
    "biden['pos'] = biden['text'].apply(lambda x:analyzer.polarity_scores(x)['pos'])\n",
    "print(\"Biden 3/4\")\n",
    "\n",
    "biden['compound'] =  biden['text'].apply(lambda x:analyzer.polarity_scores(x)['compound'])\n",
    "print(\"Biden Sentiment Analysis Completed\")\n",
    "biden.to_csv(r'D:/Final Project Econ/biden sentiment and tweets.csv',index=True)\n",
    "\n",
    "del biden"
   ]
  },
  {
   "cell_type": "code",
   "execution_count": 20,
   "id": "de60be6d",
   "metadata": {},
   "outputs": [
    {
     "name": "stderr",
     "output_type": "stream",
     "text": [
      "C:\\Users\\capma\\AppData\\Local\\Temp\\ipykernel_6384\\703599174.py:1: SettingWithCopyWarning: \n",
      "A value is trying to be set on a copy of a slice from a DataFrame.\n",
      "Try using .loc[row_indexer,col_indexer] = value instead\n",
      "\n",
      "See the caveats in the documentation: https://pandas.pydata.org/pandas-docs/stable/user_guide/indexing.html#returning-a-view-versus-a-copy\n",
      "  kamala['neg'] = kamala['text'].apply(lambda x:analyzer.polarity_scores(x)['neg'])\n"
     ]
    },
    {
     "name": "stdout",
     "output_type": "stream",
     "text": [
      "kamala 1/4\n"
     ]
    },
    {
     "name": "stderr",
     "output_type": "stream",
     "text": [
      "C:\\Users\\capma\\AppData\\Local\\Temp\\ipykernel_6384\\703599174.py:4: SettingWithCopyWarning: \n",
      "A value is trying to be set on a copy of a slice from a DataFrame.\n",
      "Try using .loc[row_indexer,col_indexer] = value instead\n",
      "\n",
      "See the caveats in the documentation: https://pandas.pydata.org/pandas-docs/stable/user_guide/indexing.html#returning-a-view-versus-a-copy\n",
      "  kamala['neu'] = kamala['text'].apply(lambda x:analyzer.polarity_scores(x)['neu'])\n"
     ]
    },
    {
     "name": "stdout",
     "output_type": "stream",
     "text": [
      "kamala2/4\n"
     ]
    },
    {
     "name": "stderr",
     "output_type": "stream",
     "text": [
      "C:\\Users\\capma\\AppData\\Local\\Temp\\ipykernel_6384\\703599174.py:7: SettingWithCopyWarning: \n",
      "A value is trying to be set on a copy of a slice from a DataFrame.\n",
      "Try using .loc[row_indexer,col_indexer] = value instead\n",
      "\n",
      "See the caveats in the documentation: https://pandas.pydata.org/pandas-docs/stable/user_guide/indexing.html#returning-a-view-versus-a-copy\n",
      "  kamala['pos'] = kamala['text'].apply(lambda x:analyzer.polarity_scores(x)['pos'])\n"
     ]
    },
    {
     "name": "stdout",
     "output_type": "stream",
     "text": [
      "kamala 3/4\n"
     ]
    },
    {
     "name": "stderr",
     "output_type": "stream",
     "text": [
      "C:\\Users\\capma\\AppData\\Local\\Temp\\ipykernel_6384\\703599174.py:10: SettingWithCopyWarning: \n",
      "A value is trying to be set on a copy of a slice from a DataFrame.\n",
      "Try using .loc[row_indexer,col_indexer] = value instead\n",
      "\n",
      "See the caveats in the documentation: https://pandas.pydata.org/pandas-docs/stable/user_guide/indexing.html#returning-a-view-versus-a-copy\n",
      "  kamala['compound'] =  kamala['text'].apply(lambda x:analyzer.polarity_scores(x)['compound'])\n"
     ]
    },
    {
     "name": "stdout",
     "output_type": "stream",
     "text": [
      "kamala Sentiment Analysis Completed\n"
     ]
    }
   ],
   "source": [
    "kamala['neg'] = kamala['text'].apply(lambda x:analyzer.polarity_scores(x)['neg'])\n",
    "print(\"kamala 1/4\")\n",
    "\n",
    "kamala['neu'] = kamala['text'].apply(lambda x:analyzer.polarity_scores(x)['neu'])\n",
    "print(\"kamala2/4\")\n",
    "\n",
    "kamala['pos'] = kamala['text'].apply(lambda x:analyzer.polarity_scores(x)['pos'])\n",
    "print(\"kamala 3/4\")\n",
    "\n",
    "kamala['compound'] =  kamala['text'].apply(lambda x:analyzer.polarity_scores(x)['compound'])\n",
    "print(\"kamala Sentiment Analysis Completed\")\n",
    "kamala.to_csv(r'D:/Final Project Econ/kamala sentiment and tweets.csv',index=True)\n",
    "\n",
    "del kamala"
   ]
  },
  {
   "cell_type": "code",
   "execution_count": 21,
   "id": "7afa9661",
   "metadata": {},
   "outputs": [
    {
     "name": "stderr",
     "output_type": "stream",
     "text": [
      "C:\\Users\\capma\\AppData\\Local\\Temp\\ipykernel_6384\\1250085675.py:1: SettingWithCopyWarning: \n",
      "A value is trying to be set on a copy of a slice from a DataFrame.\n",
      "Try using .loc[row_indexer,col_indexer] = value instead\n",
      "\n",
      "See the caveats in the documentation: https://pandas.pydata.org/pandas-docs/stable/user_guide/indexing.html#returning-a-view-versus-a-copy\n",
      "  pence['neg'] = pence['text'].apply(lambda x:analyzer.polarity_scores(x)['neg'])\n"
     ]
    },
    {
     "name": "stdout",
     "output_type": "stream",
     "text": [
      "pence 1/4\n"
     ]
    },
    {
     "name": "stderr",
     "output_type": "stream",
     "text": [
      "C:\\Users\\capma\\AppData\\Local\\Temp\\ipykernel_6384\\1250085675.py:4: SettingWithCopyWarning: \n",
      "A value is trying to be set on a copy of a slice from a DataFrame.\n",
      "Try using .loc[row_indexer,col_indexer] = value instead\n",
      "\n",
      "See the caveats in the documentation: https://pandas.pydata.org/pandas-docs/stable/user_guide/indexing.html#returning-a-view-versus-a-copy\n",
      "  pence['neu'] = pence['text'].apply(lambda x:analyzer.polarity_scores(x)['neu'])\n"
     ]
    },
    {
     "name": "stdout",
     "output_type": "stream",
     "text": [
      "pence2/4\n"
     ]
    },
    {
     "name": "stderr",
     "output_type": "stream",
     "text": [
      "C:\\Users\\capma\\AppData\\Local\\Temp\\ipykernel_6384\\1250085675.py:7: SettingWithCopyWarning: \n",
      "A value is trying to be set on a copy of a slice from a DataFrame.\n",
      "Try using .loc[row_indexer,col_indexer] = value instead\n",
      "\n",
      "See the caveats in the documentation: https://pandas.pydata.org/pandas-docs/stable/user_guide/indexing.html#returning-a-view-versus-a-copy\n",
      "  pence['pos'] = pence['text'].apply(lambda x:analyzer.polarity_scores(x)['pos'])\n"
     ]
    },
    {
     "name": "stdout",
     "output_type": "stream",
     "text": [
      "pence 3/4\n"
     ]
    },
    {
     "name": "stderr",
     "output_type": "stream",
     "text": [
      "C:\\Users\\capma\\AppData\\Local\\Temp\\ipykernel_6384\\1250085675.py:10: SettingWithCopyWarning: \n",
      "A value is trying to be set on a copy of a slice from a DataFrame.\n",
      "Try using .loc[row_indexer,col_indexer] = value instead\n",
      "\n",
      "See the caveats in the documentation: https://pandas.pydata.org/pandas-docs/stable/user_guide/indexing.html#returning-a-view-versus-a-copy\n",
      "  pence['compound'] =  pence['text'].apply(lambda x:analyzer.polarity_scores(x)['compound'])\n"
     ]
    },
    {
     "name": "stdout",
     "output_type": "stream",
     "text": [
      "pence Sentiment Analysis Completed\n"
     ]
    }
   ],
   "source": [
    "pence['neg'] = pence['text'].apply(lambda x:analyzer.polarity_scores(x)['neg'])\n",
    "print(\"pence 1/4\")\n",
    "\n",
    "pence['neu'] = pence['text'].apply(lambda x:analyzer.polarity_scores(x)['neu'])\n",
    "print(\"pence2/4\")\n",
    "\n",
    "pence['pos'] = pence['text'].apply(lambda x:analyzer.polarity_scores(x)['pos'])\n",
    "print(\"pence 3/4\")\n",
    "\n",
    "pence['compound'] =  pence['text'].apply(lambda x:analyzer.polarity_scores(x)['compound'])\n",
    "print(\"pence Sentiment Analysis Completed\")\n",
    "pence.to_csv(r'D:/Final Project Econ/pence sentiment and tweets.csv',index=True)\n",
    "\n",
    "del pence"
   ]
  },
  {
   "cell_type": "code",
   "execution_count": 15,
   "id": "6cedc3eb",
   "metadata": {},
   "outputs": [
    {
     "name": "stdout",
     "output_type": "stream",
     "text": [
      "dem 1/4\n",
      "dem2/4\n",
      "dem 3/4\n",
      "dem Sentiment Analysis Completed\n"
     ]
    }
   ],
   "source": [
    "dem['neg'] = dem['text'].apply(lambda x:analyzer.polarity_scores(x)['neg'])\n",
    "print(\"dem 1/4\")\n",
    "\n",
    "dem['neu'] = dem['text'].apply(lambda x:analyzer.polarity_scores(x)['neu'])\n",
    "print(\"dem 2/4\")\n",
    "\n",
    "dem['pos'] = dem['text'].apply(lambda x:analyzer.polarity_scores(x)['pos'])\n",
    "print(\"dem 3/4\")\n",
    "\n",
    "dem['compound'] =  dem['text'].apply(lambda x:analyzer.polarity_scores(x)['compound'])\n",
    "print(\"dem Sentiment Analysis Completed\")\n",
    "dem.to_csv(r'D:/Final Project Econ/dem sentiment and tweets.csv',index=True)\n",
    "\n",
    "del dem"
   ]
  },
  {
   "cell_type": "code",
   "execution_count": 23,
   "id": "33f65160",
   "metadata": {},
   "outputs": [
    {
     "name": "stderr",
     "output_type": "stream",
     "text": [
      "C:\\Users\\capma\\AppData\\Local\\Temp\\ipykernel_6384\\926946568.py:1: SettingWithCopyWarning: \n",
      "A value is trying to be set on a copy of a slice from a DataFrame.\n",
      "Try using .loc[row_indexer,col_indexer] = value instead\n",
      "\n",
      "See the caveats in the documentation: https://pandas.pydata.org/pandas-docs/stable/user_guide/indexing.html#returning-a-view-versus-a-copy\n",
      "  gop['neg'] = gop['text'].apply(lambda x:analyzer.polarity_scores(x)['neg'])\n"
     ]
    },
    {
     "name": "stdout",
     "output_type": "stream",
     "text": [
      "gop 1/4\n"
     ]
    },
    {
     "name": "stderr",
     "output_type": "stream",
     "text": [
      "C:\\Users\\capma\\AppData\\Local\\Temp\\ipykernel_6384\\926946568.py:4: SettingWithCopyWarning: \n",
      "A value is trying to be set on a copy of a slice from a DataFrame.\n",
      "Try using .loc[row_indexer,col_indexer] = value instead\n",
      "\n",
      "See the caveats in the documentation: https://pandas.pydata.org/pandas-docs/stable/user_guide/indexing.html#returning-a-view-versus-a-copy\n",
      "  gop['neu'] = gop['text'].apply(lambda x:analyzer.polarity_scores(x)['neu'])\n"
     ]
    },
    {
     "name": "stdout",
     "output_type": "stream",
     "text": [
      "gop2/4\n"
     ]
    },
    {
     "name": "stderr",
     "output_type": "stream",
     "text": [
      "C:\\Users\\capma\\AppData\\Local\\Temp\\ipykernel_6384\\926946568.py:7: SettingWithCopyWarning: \n",
      "A value is trying to be set on a copy of a slice from a DataFrame.\n",
      "Try using .loc[row_indexer,col_indexer] = value instead\n",
      "\n",
      "See the caveats in the documentation: https://pandas.pydata.org/pandas-docs/stable/user_guide/indexing.html#returning-a-view-versus-a-copy\n",
      "  gop['pos'] = gop['text'].apply(lambda x:analyzer.polarity_scores(x)['pos'])\n"
     ]
    },
    {
     "name": "stdout",
     "output_type": "stream",
     "text": [
      "gop 3/4\n"
     ]
    },
    {
     "name": "stderr",
     "output_type": "stream",
     "text": [
      "C:\\Users\\capma\\AppData\\Local\\Temp\\ipykernel_6384\\926946568.py:10: SettingWithCopyWarning: \n",
      "A value is trying to be set on a copy of a slice from a DataFrame.\n",
      "Try using .loc[row_indexer,col_indexer] = value instead\n",
      "\n",
      "See the caveats in the documentation: https://pandas.pydata.org/pandas-docs/stable/user_guide/indexing.html#returning-a-view-versus-a-copy\n",
      "  gop['compound'] =  gop['text'].apply(lambda x:analyzer.polarity_scores(x)['compound'])\n"
     ]
    },
    {
     "name": "stdout",
     "output_type": "stream",
     "text": [
      "gop Sentiment Analysis Completed\n"
     ]
    }
   ],
   "source": [
    "gop['neg'] = gop['text'].apply(lambda x:analyzer.polarity_scores(x)['neg'])\n",
    "print(\"gop 1/4\")\n",
    "\n",
    "gop['neu'] = gop['text'].apply(lambda x:analyzer.polarity_scores(x)['neu'])\n",
    "print(\"gop2/4\")\n",
    "\n",
    "gop['pos'] = gop['text'].apply(lambda x:analyzer.polarity_scores(x)['pos'])\n",
    "print(\"gop 3/4\")\n",
    "\n",
    "gop['compound'] =  gop['text'].apply(lambda x:analyzer.polarity_scores(x)['compound'])\n",
    "print(\"gop Sentiment Analysis Completed\")\n",
    "gop.to_csv(r'D:/Final Project Econ/gop sentiment and tweets.csv',index=True)\n",
    "\n",
    "del gop"
   ]
  },
  {
   "cell_type": "markdown",
   "id": "16c0c418",
   "metadata": {},
   "source": [
    "### Exporting the Dataframes into Files\n",
    "<a id='export'></a>\n",
    "\n",
    "We will be exporting the two DataFrames we created into .csv files. This will allow us to access the data that we sorted, cleaned, and analyzed without having to re-run any code.\n",
    "\n",
    "The following code will create two files: **trump sentiment and tweets.csv** and **biden sentiment and tweets.csv**. Do not run the following cell if you do not wish to create new files on your computer.\n"
   ]
  },
  {
   "cell_type": "code",
   "execution_count": null,
   "id": "ab028c1b",
   "metadata": {},
   "outputs": [],
   "source": [
    "#trump.to_csv('trump sentiment and tweets.csv',index=True)\n",
    "#biden.to_csv('biden sentiment and tweets.csv',index=True)"
   ]
  },
  {
   "cell_type": "markdown",
   "id": "aa162551",
   "metadata": {},
   "source": [
    "<a href=\"#contents\">\n",
    "\n",
    "\n",
    "<div class=\"alert alert-block alert-info\"> \n",
    "<b>Click this box to return to the table of contents\n",
    "</b>    \n",
    "    \n",
    "</div>\n",
    "    </a>"
   ]
  },
  {
   "cell_type": "markdown",
   "id": "0a197340",
   "metadata": {},
   "source": [
    "<a href=\"./Final_Project_4.ipynb\">\n",
    "\n",
    "\n",
    "<div class=\"alert alert-block alert-success\"> \n",
    "<b>Click this box to continue on to the comparison between Twitter sentiment analysis and polling data\n",
    "</b>    \n",
    "    \n",
    "</div>\n",
    "\n",
    "</a>"
   ]
  },
  {
   "cell_type": "markdown",
   "id": "1ceeb9f1",
   "metadata": {},
   "source": [
    "<a href=\"./Final_Project_2.ipynb\">\n",
    "\n",
    "\n",
    "<div class=\"alert alert-block alert-danger\"> \n",
    "<b>Click this box to return to the analysis of 2020 presidential polling data\n",
    "</b>    \n",
    "    \n",
    "</div>\n",
    "\n",
    "</a>"
   ]
  }
 ],
 "metadata": {
  "kernelspec": {
   "display_name": "Python 3 (ipykernel)",
   "language": "python",
   "name": "python3"
  },
  "language_info": {
   "codemirror_mode": {
    "name": "ipython",
    "version": 3
   },
   "file_extension": ".py",
   "mimetype": "text/x-python",
   "name": "python",
   "nbconvert_exporter": "python",
   "pygments_lexer": "ipython3",
   "version": "3.9.12"
  }
 },
 "nbformat": 4,
 "nbformat_minor": 5
}
