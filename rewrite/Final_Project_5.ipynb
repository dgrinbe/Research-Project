{
 "cells": [
  {
   "cell_type": "markdown",
   "id": "a03036f6",
   "metadata": {},
   "source": [
    "<a id='contents'> </a>\n",
    "## Table of Contents\n",
    "1. [<b>Project Introduction and 2020 Background Info](./Final_Project_1.ipynb)<br>\n",
    "1. [<b>Analyzing Polling Data](./Final_Project_2.ipynb)<br>\n",
    "1. [<b>Twitter Sentiment Analysis](./Final_Project_3.ipynb)<br>\n",
    "1. [<b>Comparing Polling Data with Sentiment Analysis Data](./Final_Project_4.ipynb)<br>\n",
    "1. [<b>Project Conclusion](#title)<br>\n",
    "    5.1 [Report Findings](#finding)<br>\n",
    "    5.2 [Discussion](#discussion)<br>\n",
    "    5.3 [Bibliography/Sources](#sources)<br>\n",
    "\n",
    "\n",
    "\n",
    "\n",
    "\n",
    "\n",
    "________________________"
   ]
  },
  {
   "cell_type": "markdown",
   "id": "01a40ea5",
   "metadata": {},
   "source": [
    "<a id='finding'> </a>\n",
    "## Report Findings:\n",
    "\n",
    "\n",
    "**Relationships between weighted polling averages and the sentiment indexes:**<br>\n",
    "By creating weighted averages and sentiment indexes, it has been possible to analyze how polling and Twitter sentiment data relate and can affect one another. The data used in this study creates the impression that Donald Trump was the more \"active\" figure in the 2020 Election. Changes in Biden's polling averages had little to no effect on either candidate's sentiment index, while Trump's polling average had a positive correlation with both sentiment indexes. Furthermore, there is a very strong correlation between the two sentiment indexes (0.786).\n",
    "\n",
    "\n",
    "|          Variables  | Un-Adjusted Sentiment Index Correlation Coefficient   | Relationship                         |\n",
    "|          :---:                              |          :---:            |  :---:                   |\n",
    "| Biden Polling and Biden Sentiment           |     -0.091572             |  none                    |  \n",
    "| Biden Polling and Trump Sentiment           |     0.056363              |  none                            |\n",
    "| <b>Trump Polling and Biden Sentiment</b>    |     <b>0.433502</b>       |  <b>positive</b>         |\n",
    "| <b>Trump Polling and Trump Sentiment</b>    |     <b>0.573365</b>       |  <b>positive</b>         | \n",
    "| <b>Biden Sentiment and Trump Sentiment</b>    |     <b>0.786400</b>     |  <b>Strongly Positive</b>      | \n",
    "| <b>Biden Polling and Trump Polling</b>    |     <b>0.245844</b>         |  <b>Weakly Positive</b>      | \n",
    "\n",
    "<br>\n",
    "<br>\n",
    "\n",
    "______________\n",
    "\n",
    "\n",
    "**Adjusted and Un-adjusted Sentiment Indexes:**<br>\n",
    "An adjusted sentiment index was created by filtering out the very neutral data (-0.15 - 0.15) from the Twitter dataset. The original intent was to remove any ambiguity from the sentiment indexes, that may have been caused by gaps in the VADER lexicon. This decision ultimately removed a lot of data from the data set and did not provide a statistically significant result (<0.006 change to the correlation coefficient). Therefore, I do not believe that this method is useful in this case for fixing these gaps in the VADER lexicon.\n",
    "\n",
    "| Variables | Absolute Difference between Un/Adjusted Index Correlation Coefficients|\n",
    "| :---:    | :---:    |\n",
    "|Biden Polling and Biden Sentiment    |0.002199  |\n",
    "|Biden Polling and Trump Sentiment    |0.006082 |\n",
    "|Trump Polling and Biden Sentiment    |0.005910 |\n",
    "|Trump Polling and Trump Sentiment    |0.001491 |\n",
    "| Biden Sentiment and Trump Sentiment |0.000554|\n",
    "\n",
    "\n",
    "<br>\n",
    "<br>\n",
    "\n",
    "______________\n",
    "\n",
    "\n",
    "**Granger Analysis:**<br>\n",
    "The original hypothesis, under which this research was conducted, was that changes in Twitter sentiment could be used as a predictive tool for election polling. Through a Granger-causality analysis of the data collected from the months before the 2020 election, we can find:\n",
    "\n",
    "1. Trump's polling averages \"Granger-causes\" changes in Trump's sentiment index, and can be used as a predictive tool for 3 days in the future.\n",
    "2. Trump's polling averages \"Granger-causes\" changes in Biden's sentiment index, and can be used as a predictive tool for over 6 days in the future.\n",
    "3. Changes in one candidate's sentiment index, do not cause changes in the other candidate's index.\n",
    "\n",
    "The Granger-causality analysis disproves the original hypothesis, however, it simultaneously proves that the opposite is true: **polling data is a useful predictive tool for Twitter sentiment data**. \n",
    "\n",
    "| Time Lag | Trump Poll & Trump Sentiment|Trump Poll & Biden Sentiment|Biden Sentiment & Trump Sentiment\n",
    "|    :---: |               :---:         |          :---:             | :---:             |\n",
    "|      1   |          **p=0.0020**      |      **p=0.0035**         |p=0.1748 |\n",
    "|      2   |          **p=0.0067**      |      **p=0.0001**         |p=0.4170 |\n",
    "|      3   |          **p=0.0458**      |      **p=0.0006**         |p=0.5566 |\n",
    "|      4   |            p=0.0828        |      **p=0.0016**         |p=0.6405 |\n",
    "|      5   |            p=0.0628        |      **p=0.0021**         |p=0.7615 |\n",
    "|      6   |            p=0.1027        |      **p=0.0025**         |p=0.7615 |\n",
    "|      7   |            p=0.1464        |      **p=0.0081**         |p=0.7747 |\n",
    "\n"
   ]
  },
  {
   "cell_type": "markdown",
   "id": "1263cf3b",
   "metadata": {},
   "source": [
    "<a id='discussion'> </a>\n",
    "\n",
    "## Discussion\n",
    "\n",
    "**Conjecture**<br>\n",
    "The findings in this report support the commonly espoused theory, that a president's second election is a referendum on their presidency. While this theory is far from empirically proven, the data collected reflects this line of thinking, as Biden's polling did not have a statistically significant effect on Twitter sentiment.\n",
    "\n",
    "However, there are other possible explanations for the observed data:\n",
    "1. Prior to the 2020 Election, Donald Trump had already established himself as an incredibly active Twitter user. It is possible that people looking to engage (positively or negatively) with the political process and/or the former President, would write on Twitter with the hopes of catching the eye of Donald Trump.\n",
    "1. Many Democrats who are further \"left\" politically than Joe Biden and Kamala Harris, voiced criticisms of Biden's former policies during the 2020 election cycle.  It is possible that these left-wing Democrats may have felt less inclined to criticize Joe Biden when Trump was doing better in the polls.\n",
    "\n",
    "\n",
    "**Areas for further study**<br>\n",
    "1. Study the 6 month period prior to the election to get a larger dataset. There is a possibility that the 2 months before the 2020 election were atypical, so it would be worthwhile to analyze the 4 months prior to September 1st. \n",
    "1. Analyze the 2024 election using the same methods.\n",
    "1. Compare Twitter sentiment analysis with sentiment analysis of news articles/reports over the same two-month period.\n",
    "1. include analysis of Vice Presidential Candidates\n",
    "1. isolate political \"influencer\" accounts to see if the Twitter accounts of specific famous political figures are better predictors than the mean (Jordan Peterson, Hassan Piker, etc.)\n",
    "\n"
   ]
  },
  {
   "cell_type": "markdown",
   "id": "7e3cf62d",
   "metadata": {},
   "source": [
    "<a id='sources'> </a>\n",
    "\n",
    "## Bibliography/Sources:\n",
    "\n",
    "1. [VADER: A Parsimonious Rule-based Model for\n",
    "Sentiment Analysis of Social Media Text\n",
    "](http://eegilbert.org/papers/icwsm14.vader.hutto.pdf) - C.J. Hutto Eric Gilbert<br>\n",
    "1. [FiveThirtyEight.com](https://projects.fivethirtyeight.com/polls/)<br> \n",
    "1. [Creating a Voter Sentiment Index By Reading Tweets](https://drive.google.com/file/d/12LeA8OYXaGwYIG5jRxSewNiYNQdhH_Ft/view) - Christo Tarazi & Wei Xiao<br>\n",
    "1. [Twitter mood predicts the stock market](https://www.sciencedirect.com/science/article/abs/pii/S187775031100007X) - Johan Bollen, Huina Mao, and Xiao-Jun Zeng<br>"
   ]
  },
  {
   "cell_type": "markdown",
   "id": "62d60221",
   "metadata": {},
   "source": [
    "_______"
   ]
  },
  {
   "cell_type": "markdown",
   "id": "b041162d",
   "metadata": {},
   "source": [
    "<a href=\"#contents\">\n",
    "\n",
    "\n",
    "<div class=\"alert alert-block alert-info\"> \n",
    "<b>Click this box to return to the table of contents\n",
    "</b>    \n",
    "    \n",
    "</div>\n",
    "    </a>"
   ]
  },
  {
   "cell_type": "markdown",
   "id": "d274c9b0",
   "metadata": {},
   "source": [
    "<a href=\"./Final_Project_2.ipynb\">\n",
    "<div class=\"alert alert-block alert-danger\"> \n",
    "<b>Click this box to return to the comparison between Polling and Sentiment Analysis Data. </b>\n",
    "    \n",
    "</div> \n",
    "</a>"
   ]
  }
 ],
 "metadata": {
  "kernelspec": {
   "display_name": "Python 3 (ipykernel)",
   "language": "python",
   "name": "python3"
  },
  "language_info": {
   "codemirror_mode": {
    "name": "ipython",
    "version": 3
   },
   "file_extension": ".py",
   "mimetype": "text/x-python",
   "name": "python",
   "nbconvert_exporter": "python",
   "pygments_lexer": "ipython3",
   "version": "3.9.12"
  }
 },
 "nbformat": 4,
 "nbformat_minor": 5
}
