{
 "cells": [
  {
   "cell_type": "code",
   "execution_count": 1,
   "id": "7e624ebb",
   "metadata": {},
   "outputs": [],
   "source": [
    "import pandas as pd"
   ]
  },
  {
   "cell_type": "code",
   "execution_count": null,
   "id": "0389c3c7",
   "metadata": {},
   "outputs": [],
   "source": [
    "df=pd.read_csv(r'C:\\Users\\BorisGrinberg\\Dropbox\\PC (2)\\Desktop\\David\\Tweet Engagement.csv')"
   ]
  },
  {
   "cell_type": "code",
   "execution_count": null,
   "id": "8dccbeda",
   "metadata": {},
   "outputs": [],
   "source": [
    "df"
   ]
  },
  {
   "cell_type": "code",
   "execution_count": null,
   "id": "9eff8d83",
   "metadata": {},
   "outputs": [],
   "source": [
    "df.dropna(inplace=True)"
   ]
  },
  {
   "cell_type": "code",
   "execution_count": null,
   "id": "258e487f",
   "metadata": {},
   "outputs": [],
   "source": [
    "df['created_at']=pd.to_datetime(df['created_at'])\n",
    "df.set_index('created_at',inplace=True)\n",
    "df.head(2)"
   ]
  },
  {
   "cell_type": "code",
   "execution_count": null,
   "id": "9a8ab07b",
   "metadata": {},
   "outputs": [],
   "source": [
    "trump = df['text'].str.contains(\"trump|don\",case=False)\n",
    "trump=df[trump]"
   ]
  },
  {
   "cell_type": "code",
   "execution_count": null,
   "id": "9357693a",
   "metadata": {},
   "outputs": [],
   "source": [
    "biden = df['text'].str.contains(\"biden|joe\",case=False)\n",
    "biden=df[biden]"
   ]
  },
  {
   "cell_type": "code",
   "execution_count": null,
   "id": "cbbf3092",
   "metadata": {},
   "outputs": [],
   "source": [
    "del(df)\n",
    "import nltk\n",
    "from nltk.sentiment.vader import SentimentIntensityAnalyzer"
   ]
  },
  {
   "cell_type": "code",
   "execution_count": null,
   "id": "64c11827",
   "metadata": {},
   "outputs": [],
   "source": [
    "nltk.download('vader_lexicon')\n",
    "analyzer = SentimentIntensityAnalyzer()"
   ]
  },
  {
   "cell_type": "code",
   "execution_count": null,
   "id": "5bdf8c70",
   "metadata": {},
   "outputs": [],
   "source": [
    "trump['neg'] = trump['text'].apply(lambda x:analyzer.polarity_scores(x)['neg'])\n",
    "print(\"Trump1/4\")"
   ]
  },
  {
   "cell_type": "code",
   "execution_count": null,
   "id": "86d0dcf9",
   "metadata": {},
   "outputs": [],
   "source": [
    "trump['neu'] = trump['text'].apply(lambda x:analyzer.polarity_scores(x)['neu'])\n",
    "print(\"Trump2/4\")"
   ]
  },
  {
   "cell_type": "code",
   "execution_count": null,
   "id": "a44a6e89",
   "metadata": {},
   "outputs": [],
   "source": [
    "trump['pos'] = trump['text'].apply(lambda x:analyzer.polarity_scores(x)['pos'])\n",
    "print(\"Trump 3/4\")"
   ]
  },
  {
   "cell_type": "code",
   "execution_count": null,
   "id": "d7c751d3",
   "metadata": {},
   "outputs": [],
   "source": [
    "trump['compound'] = trump['text'].apply(lambda x:analyzer.polarity_scores(x)['compound'])\n",
    "print(\"Trump Sentiment Analysis Completed\")"
   ]
  },
  {
   "cell_type": "code",
   "execution_count": null,
   "id": "f9fac115",
   "metadata": {},
   "outputs": [],
   "source": [
    "biden['neg'] = biden['text'].apply(lambda x:analyzer.polarity_scores(x)['neg'])\n",
    "print(\"Biden 1/4\")"
   ]
  },
  {
   "cell_type": "code",
   "execution_count": null,
   "id": "ceb8b525",
   "metadata": {},
   "outputs": [],
   "source": [
    "biden['neu'] = biden['text'].apply(lambda x:analyzer.polarity_scores(x)['neu'])\n",
    "print(\"Biden2/4\")"
   ]
  },
  {
   "cell_type": "code",
   "execution_count": null,
   "id": "6a23002e",
   "metadata": {},
   "outputs": [],
   "source": [
    "biden['pos'] = biden['text'].apply(lambda x:analyzer.polarity_scores(x)['pos'])\n",
    "print(\"Biden 3/4\")"
   ]
  },
  {
   "cell_type": "code",
   "execution_count": null,
   "id": "539ee193",
   "metadata": {
    "scrolled": true
   },
   "outputs": [],
   "source": [
    "biden['compound'] =  biden['text'].apply(lambda x:analyzer.polarity_scores(x)['compound'])\n",
    "print(\"Biden Sentiment Analysis Completed\")"
   ]
  },
  {
   "cell_type": "code",
   "execution_count": null,
   "id": "4ae3a944",
   "metadata": {},
   "outputs": [],
   "source": [
    "trump.to_csv('trump engagement',index=True)\n",
    "biden.to_csv('biden engagement.csv',index=True)"
   ]
  },
  {
   "cell_type": "code",
   "execution_count": null,
   "id": "2d54046f",
   "metadata": {},
   "outputs": [],
   "source": []
  },
  {
   "cell_type": "code",
   "execution_count": null,
   "id": "536ed9bf",
   "metadata": {},
   "outputs": [],
   "source": []
  }
 ],
 "metadata": {
  "kernelspec": {
   "display_name": "Python 3 (ipykernel)",
   "language": "python",
   "name": "python3"
  },
  "language_info": {
   "codemirror_mode": {
    "name": "ipython",
    "version": 3
   },
   "file_extension": ".py",
   "mimetype": "text/x-python",
   "name": "python",
   "nbconvert_exporter": "python",
   "pygments_lexer": "ipython3",
   "version": "3.9.12"
  }
 },
 "nbformat": 4,
 "nbformat_minor": 5
}
